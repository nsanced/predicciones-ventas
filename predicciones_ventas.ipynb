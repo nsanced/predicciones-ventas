{
  "nbformat": 4,
  "nbformat_minor": 0,
  "metadata": {
    "colab": {
      "provenance": [],
      "authorship_tag": "ABX9TyMQk4JOX5rE1ngAA3fIycXd",
      "include_colab_link": true
    },
    "kernelspec": {
      "name": "python3",
      "display_name": "Python 3"
    },
    "language_info": {
      "name": "python"
    }
  },
  "cells": [
    {
      "cell_type": "markdown",
      "metadata": {
        "id": "view-in-github",
        "colab_type": "text"
      },
      "source": [
        "<a href=\"https://colab.research.google.com/github/nsanced/predicciones-ventas/blob/main/predicciones_ventas.ipynb\" target=\"_parent\"><img src=\"https://colab.research.google.com/assets/colab-badge.svg\" alt=\"Open In Colab\"/></a>"
      ]
    },
    {
      "cell_type": "markdown",
      "source": [
        "# Montar Google Drive y cargar datos\n",
        "Se monta Google Drive utilizando la biblioteca google.colab y se carga un conjunto de datos de ventas desde un archivo CSV."
      ],
      "metadata": {
        "id": "XI7ju1PmySj4"
      }
    },
    {
      "cell_type": "code",
      "execution_count": 472,
      "metadata": {
        "id": "DtMmQJQNUsTK",
        "colab": {
          "base_uri": "https://localhost:8080/"
        },
        "outputId": "50ba1e3e-7f09-402d-feb3-68956c214906"
      },
      "outputs": [
        {
          "output_type": "stream",
          "name": "stdout",
          "text": [
            "Drive already mounted at /content/drive; to attempt to forcibly remount, call drive.mount(\"/content/drive\", force_remount=True).\n"
          ]
        }
      ],
      "source": [
        "from google.colab import drive\n",
        "drive.mount(\"/content/drive\")\n",
        "\n",
        "import pandas as pd\n",
        "filename = \"/content/drive/MyDrive/Fondo Talento Digital - Es Hoy/Proyeto 1 - Predicción de ventas/sales_predictions.csv\"\n",
        "df = pd.read_csv(filename)"
      ]
    },
    {
      "cell_type": "markdown",
      "source": [
        "# Exploración inicial de datos\n",
        "Se realizan 3 operaciones para obtener un visión inicial de los datos.\n",
        "1. Se utiliza **'df.head(10)'** para mostrar las primeras 10 filas del DataFrame.\n",
        "2. **'df.info()'** ofrece información sobre el DataFrame, incluyendo el tipo de datos de cada columna y la cantidad de valores no nulos.\n",
        "3. **'df.describe()'** genera estadísticas descriptivas como la media y los valores máximos y mínimos para cada columna numérica en el DataFrame."
      ],
      "metadata": {
        "id": "Zi2KzgcW0vrV"
      }
    },
    {
      "cell_type": "code",
      "source": [
        "df.head(10)"
      ],
      "metadata": {
        "colab": {
          "base_uri": "https://localhost:8080/",
          "height": 556
        },
        "id": "RAGy89O7yi4W",
        "outputId": "ab421f04-0aaa-4083-9406-b2e70b34536d"
      },
      "execution_count": 473,
      "outputs": [
        {
          "output_type": "execute_result",
          "data": {
            "text/plain": [
              "  Item_Identifier  Item_Weight Item_Fat_Content  Item_Visibility  \\\n",
              "0           FDA15        9.300          Low Fat         0.016047   \n",
              "1           DRC01        5.920          Regular         0.019278   \n",
              "2           FDN15       17.500          Low Fat         0.016760   \n",
              "3           FDX07       19.200          Regular         0.000000   \n",
              "4           NCD19        8.930          Low Fat         0.000000   \n",
              "5           FDP36       10.395          Regular         0.000000   \n",
              "6           FDO10       13.650          Regular         0.012741   \n",
              "7           FDP10          NaN          Low Fat         0.127470   \n",
              "8           FDH17       16.200          Regular         0.016687   \n",
              "9           FDU28       19.200          Regular         0.094450   \n",
              "\n",
              "               Item_Type  Item_MRP Outlet_Identifier  \\\n",
              "0                  Dairy  249.8092            OUT049   \n",
              "1            Soft Drinks   48.2692            OUT018   \n",
              "2                   Meat  141.6180            OUT049   \n",
              "3  Fruits and Vegetables  182.0950            OUT010   \n",
              "4              Household   53.8614            OUT013   \n",
              "5           Baking Goods   51.4008            OUT018   \n",
              "6            Snack Foods   57.6588            OUT013   \n",
              "7            Snack Foods  107.7622            OUT027   \n",
              "8           Frozen Foods   96.9726            OUT045   \n",
              "9           Frozen Foods  187.8214            OUT017   \n",
              "\n",
              "   Outlet_Establishment_Year Outlet_Size Outlet_Location_Type  \\\n",
              "0                       1999      Medium               Tier 1   \n",
              "1                       2009      Medium               Tier 3   \n",
              "2                       1999      Medium               Tier 1   \n",
              "3                       1998         NaN               Tier 3   \n",
              "4                       1987        High               Tier 3   \n",
              "5                       2009      Medium               Tier 3   \n",
              "6                       1987        High               Tier 3   \n",
              "7                       1985      Medium               Tier 3   \n",
              "8                       2002         NaN               Tier 2   \n",
              "9                       2007         NaN               Tier 2   \n",
              "\n",
              "         Outlet_Type  Item_Outlet_Sales  \n",
              "0  Supermarket Type1          3735.1380  \n",
              "1  Supermarket Type2           443.4228  \n",
              "2  Supermarket Type1          2097.2700  \n",
              "3      Grocery Store           732.3800  \n",
              "4  Supermarket Type1           994.7052  \n",
              "5  Supermarket Type2           556.6088  \n",
              "6  Supermarket Type1           343.5528  \n",
              "7  Supermarket Type3          4022.7636  \n",
              "8  Supermarket Type1          1076.5986  \n",
              "9  Supermarket Type1          4710.5350  "
            ],
            "text/html": [
              "\n",
              "  <div id=\"df-8bb9d71a-308d-4cb5-a69a-0a0dca04ea69\" class=\"colab-df-container\">\n",
              "    <div>\n",
              "<style scoped>\n",
              "    .dataframe tbody tr th:only-of-type {\n",
              "        vertical-align: middle;\n",
              "    }\n",
              "\n",
              "    .dataframe tbody tr th {\n",
              "        vertical-align: top;\n",
              "    }\n",
              "\n",
              "    .dataframe thead th {\n",
              "        text-align: right;\n",
              "    }\n",
              "</style>\n",
              "<table border=\"1\" class=\"dataframe\">\n",
              "  <thead>\n",
              "    <tr style=\"text-align: right;\">\n",
              "      <th></th>\n",
              "      <th>Item_Identifier</th>\n",
              "      <th>Item_Weight</th>\n",
              "      <th>Item_Fat_Content</th>\n",
              "      <th>Item_Visibility</th>\n",
              "      <th>Item_Type</th>\n",
              "      <th>Item_MRP</th>\n",
              "      <th>Outlet_Identifier</th>\n",
              "      <th>Outlet_Establishment_Year</th>\n",
              "      <th>Outlet_Size</th>\n",
              "      <th>Outlet_Location_Type</th>\n",
              "      <th>Outlet_Type</th>\n",
              "      <th>Item_Outlet_Sales</th>\n",
              "    </tr>\n",
              "  </thead>\n",
              "  <tbody>\n",
              "    <tr>\n",
              "      <th>0</th>\n",
              "      <td>FDA15</td>\n",
              "      <td>9.300</td>\n",
              "      <td>Low Fat</td>\n",
              "      <td>0.016047</td>\n",
              "      <td>Dairy</td>\n",
              "      <td>249.8092</td>\n",
              "      <td>OUT049</td>\n",
              "      <td>1999</td>\n",
              "      <td>Medium</td>\n",
              "      <td>Tier 1</td>\n",
              "      <td>Supermarket Type1</td>\n",
              "      <td>3735.1380</td>\n",
              "    </tr>\n",
              "    <tr>\n",
              "      <th>1</th>\n",
              "      <td>DRC01</td>\n",
              "      <td>5.920</td>\n",
              "      <td>Regular</td>\n",
              "      <td>0.019278</td>\n",
              "      <td>Soft Drinks</td>\n",
              "      <td>48.2692</td>\n",
              "      <td>OUT018</td>\n",
              "      <td>2009</td>\n",
              "      <td>Medium</td>\n",
              "      <td>Tier 3</td>\n",
              "      <td>Supermarket Type2</td>\n",
              "      <td>443.4228</td>\n",
              "    </tr>\n",
              "    <tr>\n",
              "      <th>2</th>\n",
              "      <td>FDN15</td>\n",
              "      <td>17.500</td>\n",
              "      <td>Low Fat</td>\n",
              "      <td>0.016760</td>\n",
              "      <td>Meat</td>\n",
              "      <td>141.6180</td>\n",
              "      <td>OUT049</td>\n",
              "      <td>1999</td>\n",
              "      <td>Medium</td>\n",
              "      <td>Tier 1</td>\n",
              "      <td>Supermarket Type1</td>\n",
              "      <td>2097.2700</td>\n",
              "    </tr>\n",
              "    <tr>\n",
              "      <th>3</th>\n",
              "      <td>FDX07</td>\n",
              "      <td>19.200</td>\n",
              "      <td>Regular</td>\n",
              "      <td>0.000000</td>\n",
              "      <td>Fruits and Vegetables</td>\n",
              "      <td>182.0950</td>\n",
              "      <td>OUT010</td>\n",
              "      <td>1998</td>\n",
              "      <td>NaN</td>\n",
              "      <td>Tier 3</td>\n",
              "      <td>Grocery Store</td>\n",
              "      <td>732.3800</td>\n",
              "    </tr>\n",
              "    <tr>\n",
              "      <th>4</th>\n",
              "      <td>NCD19</td>\n",
              "      <td>8.930</td>\n",
              "      <td>Low Fat</td>\n",
              "      <td>0.000000</td>\n",
              "      <td>Household</td>\n",
              "      <td>53.8614</td>\n",
              "      <td>OUT013</td>\n",
              "      <td>1987</td>\n",
              "      <td>High</td>\n",
              "      <td>Tier 3</td>\n",
              "      <td>Supermarket Type1</td>\n",
              "      <td>994.7052</td>\n",
              "    </tr>\n",
              "    <tr>\n",
              "      <th>5</th>\n",
              "      <td>FDP36</td>\n",
              "      <td>10.395</td>\n",
              "      <td>Regular</td>\n",
              "      <td>0.000000</td>\n",
              "      <td>Baking Goods</td>\n",
              "      <td>51.4008</td>\n",
              "      <td>OUT018</td>\n",
              "      <td>2009</td>\n",
              "      <td>Medium</td>\n",
              "      <td>Tier 3</td>\n",
              "      <td>Supermarket Type2</td>\n",
              "      <td>556.6088</td>\n",
              "    </tr>\n",
              "    <tr>\n",
              "      <th>6</th>\n",
              "      <td>FDO10</td>\n",
              "      <td>13.650</td>\n",
              "      <td>Regular</td>\n",
              "      <td>0.012741</td>\n",
              "      <td>Snack Foods</td>\n",
              "      <td>57.6588</td>\n",
              "      <td>OUT013</td>\n",
              "      <td>1987</td>\n",
              "      <td>High</td>\n",
              "      <td>Tier 3</td>\n",
              "      <td>Supermarket Type1</td>\n",
              "      <td>343.5528</td>\n",
              "    </tr>\n",
              "    <tr>\n",
              "      <th>7</th>\n",
              "      <td>FDP10</td>\n",
              "      <td>NaN</td>\n",
              "      <td>Low Fat</td>\n",
              "      <td>0.127470</td>\n",
              "      <td>Snack Foods</td>\n",
              "      <td>107.7622</td>\n",
              "      <td>OUT027</td>\n",
              "      <td>1985</td>\n",
              "      <td>Medium</td>\n",
              "      <td>Tier 3</td>\n",
              "      <td>Supermarket Type3</td>\n",
              "      <td>4022.7636</td>\n",
              "    </tr>\n",
              "    <tr>\n",
              "      <th>8</th>\n",
              "      <td>FDH17</td>\n",
              "      <td>16.200</td>\n",
              "      <td>Regular</td>\n",
              "      <td>0.016687</td>\n",
              "      <td>Frozen Foods</td>\n",
              "      <td>96.9726</td>\n",
              "      <td>OUT045</td>\n",
              "      <td>2002</td>\n",
              "      <td>NaN</td>\n",
              "      <td>Tier 2</td>\n",
              "      <td>Supermarket Type1</td>\n",
              "      <td>1076.5986</td>\n",
              "    </tr>\n",
              "    <tr>\n",
              "      <th>9</th>\n",
              "      <td>FDU28</td>\n",
              "      <td>19.200</td>\n",
              "      <td>Regular</td>\n",
              "      <td>0.094450</td>\n",
              "      <td>Frozen Foods</td>\n",
              "      <td>187.8214</td>\n",
              "      <td>OUT017</td>\n",
              "      <td>2007</td>\n",
              "      <td>NaN</td>\n",
              "      <td>Tier 2</td>\n",
              "      <td>Supermarket Type1</td>\n",
              "      <td>4710.5350</td>\n",
              "    </tr>\n",
              "  </tbody>\n",
              "</table>\n",
              "</div>\n",
              "    <div class=\"colab-df-buttons\">\n",
              "\n",
              "  <div class=\"colab-df-container\">\n",
              "    <button class=\"colab-df-convert\" onclick=\"convertToInteractive('df-8bb9d71a-308d-4cb5-a69a-0a0dca04ea69')\"\n",
              "            title=\"Convert this dataframe to an interactive table.\"\n",
              "            style=\"display:none;\">\n",
              "\n",
              "  <svg xmlns=\"http://www.w3.org/2000/svg\" height=\"24px\" viewBox=\"0 -960 960 960\">\n",
              "    <path d=\"M120-120v-720h720v720H120Zm60-500h600v-160H180v160Zm220 220h160v-160H400v160Zm0 220h160v-160H400v160ZM180-400h160v-160H180v160Zm440 0h160v-160H620v160ZM180-180h160v-160H180v160Zm440 0h160v-160H620v160Z\"/>\n",
              "  </svg>\n",
              "    </button>\n",
              "\n",
              "  <style>\n",
              "    .colab-df-container {\n",
              "      display:flex;\n",
              "      gap: 12px;\n",
              "    }\n",
              "\n",
              "    .colab-df-convert {\n",
              "      background-color: #E8F0FE;\n",
              "      border: none;\n",
              "      border-radius: 50%;\n",
              "      cursor: pointer;\n",
              "      display: none;\n",
              "      fill: #1967D2;\n",
              "      height: 32px;\n",
              "      padding: 0 0 0 0;\n",
              "      width: 32px;\n",
              "    }\n",
              "\n",
              "    .colab-df-convert:hover {\n",
              "      background-color: #E2EBFA;\n",
              "      box-shadow: 0px 1px 2px rgba(60, 64, 67, 0.3), 0px 1px 3px 1px rgba(60, 64, 67, 0.15);\n",
              "      fill: #174EA6;\n",
              "    }\n",
              "\n",
              "    .colab-df-buttons div {\n",
              "      margin-bottom: 4px;\n",
              "    }\n",
              "\n",
              "    [theme=dark] .colab-df-convert {\n",
              "      background-color: #3B4455;\n",
              "      fill: #D2E3FC;\n",
              "    }\n",
              "\n",
              "    [theme=dark] .colab-df-convert:hover {\n",
              "      background-color: #434B5C;\n",
              "      box-shadow: 0px 1px 3px 1px rgba(0, 0, 0, 0.15);\n",
              "      filter: drop-shadow(0px 1px 2px rgba(0, 0, 0, 0.3));\n",
              "      fill: #FFFFFF;\n",
              "    }\n",
              "  </style>\n",
              "\n",
              "    <script>\n",
              "      const buttonEl =\n",
              "        document.querySelector('#df-8bb9d71a-308d-4cb5-a69a-0a0dca04ea69 button.colab-df-convert');\n",
              "      buttonEl.style.display =\n",
              "        google.colab.kernel.accessAllowed ? 'block' : 'none';\n",
              "\n",
              "      async function convertToInteractive(key) {\n",
              "        const element = document.querySelector('#df-8bb9d71a-308d-4cb5-a69a-0a0dca04ea69');\n",
              "        const dataTable =\n",
              "          await google.colab.kernel.invokeFunction('convertToInteractive',\n",
              "                                                    [key], {});\n",
              "        if (!dataTable) return;\n",
              "\n",
              "        const docLinkHtml = 'Like what you see? Visit the ' +\n",
              "          '<a target=\"_blank\" href=https://colab.research.google.com/notebooks/data_table.ipynb>data table notebook</a>'\n",
              "          + ' to learn more about interactive tables.';\n",
              "        element.innerHTML = '';\n",
              "        dataTable['output_type'] = 'display_data';\n",
              "        await google.colab.output.renderOutput(dataTable, element);\n",
              "        const docLink = document.createElement('div');\n",
              "        docLink.innerHTML = docLinkHtml;\n",
              "        element.appendChild(docLink);\n",
              "      }\n",
              "    </script>\n",
              "  </div>\n",
              "\n",
              "\n",
              "<div id=\"df-a58aed67-ada5-4316-b8e0-fa06098243f3\">\n",
              "  <button class=\"colab-df-quickchart\" onclick=\"quickchart('df-a58aed67-ada5-4316-b8e0-fa06098243f3')\"\n",
              "            title=\"Suggest charts\"\n",
              "            style=\"display:none;\">\n",
              "\n",
              "<svg xmlns=\"http://www.w3.org/2000/svg\" height=\"24px\"viewBox=\"0 0 24 24\"\n",
              "     width=\"24px\">\n",
              "    <g>\n",
              "        <path d=\"M19 3H5c-1.1 0-2 .9-2 2v14c0 1.1.9 2 2 2h14c1.1 0 2-.9 2-2V5c0-1.1-.9-2-2-2zM9 17H7v-7h2v7zm4 0h-2V7h2v10zm4 0h-2v-4h2v4z\"/>\n",
              "    </g>\n",
              "</svg>\n",
              "  </button>\n",
              "\n",
              "<style>\n",
              "  .colab-df-quickchart {\n",
              "      --bg-color: #E8F0FE;\n",
              "      --fill-color: #1967D2;\n",
              "      --hover-bg-color: #E2EBFA;\n",
              "      --hover-fill-color: #174EA6;\n",
              "      --disabled-fill-color: #AAA;\n",
              "      --disabled-bg-color: #DDD;\n",
              "  }\n",
              "\n",
              "  [theme=dark] .colab-df-quickchart {\n",
              "      --bg-color: #3B4455;\n",
              "      --fill-color: #D2E3FC;\n",
              "      --hover-bg-color: #434B5C;\n",
              "      --hover-fill-color: #FFFFFF;\n",
              "      --disabled-bg-color: #3B4455;\n",
              "      --disabled-fill-color: #666;\n",
              "  }\n",
              "\n",
              "  .colab-df-quickchart {\n",
              "    background-color: var(--bg-color);\n",
              "    border: none;\n",
              "    border-radius: 50%;\n",
              "    cursor: pointer;\n",
              "    display: none;\n",
              "    fill: var(--fill-color);\n",
              "    height: 32px;\n",
              "    padding: 0;\n",
              "    width: 32px;\n",
              "  }\n",
              "\n",
              "  .colab-df-quickchart:hover {\n",
              "    background-color: var(--hover-bg-color);\n",
              "    box-shadow: 0 1px 2px rgba(60, 64, 67, 0.3), 0 1px 3px 1px rgba(60, 64, 67, 0.15);\n",
              "    fill: var(--button-hover-fill-color);\n",
              "  }\n",
              "\n",
              "  .colab-df-quickchart-complete:disabled,\n",
              "  .colab-df-quickchart-complete:disabled:hover {\n",
              "    background-color: var(--disabled-bg-color);\n",
              "    fill: var(--disabled-fill-color);\n",
              "    box-shadow: none;\n",
              "  }\n",
              "\n",
              "  .colab-df-spinner {\n",
              "    border: 2px solid var(--fill-color);\n",
              "    border-color: transparent;\n",
              "    border-bottom-color: var(--fill-color);\n",
              "    animation:\n",
              "      spin 1s steps(1) infinite;\n",
              "  }\n",
              "\n",
              "  @keyframes spin {\n",
              "    0% {\n",
              "      border-color: transparent;\n",
              "      border-bottom-color: var(--fill-color);\n",
              "      border-left-color: var(--fill-color);\n",
              "    }\n",
              "    20% {\n",
              "      border-color: transparent;\n",
              "      border-left-color: var(--fill-color);\n",
              "      border-top-color: var(--fill-color);\n",
              "    }\n",
              "    30% {\n",
              "      border-color: transparent;\n",
              "      border-left-color: var(--fill-color);\n",
              "      border-top-color: var(--fill-color);\n",
              "      border-right-color: var(--fill-color);\n",
              "    }\n",
              "    40% {\n",
              "      border-color: transparent;\n",
              "      border-right-color: var(--fill-color);\n",
              "      border-top-color: var(--fill-color);\n",
              "    }\n",
              "    60% {\n",
              "      border-color: transparent;\n",
              "      border-right-color: var(--fill-color);\n",
              "    }\n",
              "    80% {\n",
              "      border-color: transparent;\n",
              "      border-right-color: var(--fill-color);\n",
              "      border-bottom-color: var(--fill-color);\n",
              "    }\n",
              "    90% {\n",
              "      border-color: transparent;\n",
              "      border-bottom-color: var(--fill-color);\n",
              "    }\n",
              "  }\n",
              "</style>\n",
              "\n",
              "  <script>\n",
              "    async function quickchart(key) {\n",
              "      const quickchartButtonEl =\n",
              "        document.querySelector('#' + key + ' button');\n",
              "      quickchartButtonEl.disabled = true;  // To prevent multiple clicks.\n",
              "      quickchartButtonEl.classList.add('colab-df-spinner');\n",
              "      try {\n",
              "        const charts = await google.colab.kernel.invokeFunction(\n",
              "            'suggestCharts', [key], {});\n",
              "      } catch (error) {\n",
              "        console.error('Error during call to suggestCharts:', error);\n",
              "      }\n",
              "      quickchartButtonEl.classList.remove('colab-df-spinner');\n",
              "      quickchartButtonEl.classList.add('colab-df-quickchart-complete');\n",
              "    }\n",
              "    (() => {\n",
              "      let quickchartButtonEl =\n",
              "        document.querySelector('#df-a58aed67-ada5-4316-b8e0-fa06098243f3 button');\n",
              "      quickchartButtonEl.style.display =\n",
              "        google.colab.kernel.accessAllowed ? 'block' : 'none';\n",
              "    })();\n",
              "  </script>\n",
              "</div>\n",
              "\n",
              "    </div>\n",
              "  </div>\n"
            ],
            "application/vnd.google.colaboratory.intrinsic+json": {
              "type": "dataframe",
              "variable_name": "df",
              "summary": "{\n  \"name\": \"df\",\n  \"rows\": 8523,\n  \"fields\": [\n    {\n      \"column\": \"Item_Identifier\",\n      \"properties\": {\n        \"dtype\": \"category\",\n        \"num_unique_values\": 1559,\n        \"samples\": [\n          \"FDY01\",\n          \"FDG05\",\n          \"NCJ29\"\n        ],\n        \"semantic_type\": \"\",\n        \"description\": \"\"\n      }\n    },\n    {\n      \"column\": \"Item_Weight\",\n      \"properties\": {\n        \"dtype\": \"number\",\n        \"std\": 4.643456499186415,\n        \"min\": 4.555,\n        \"max\": 21.35,\n        \"num_unique_values\": 415,\n        \"samples\": [\n          16.75,\n          8.695,\n          7.605\n        ],\n        \"semantic_type\": \"\",\n        \"description\": \"\"\n      }\n    },\n    {\n      \"column\": \"Item_Fat_Content\",\n      \"properties\": {\n        \"dtype\": \"category\",\n        \"num_unique_values\": 5,\n        \"samples\": [\n          \"Regular\",\n          \"reg\",\n          \"low fat\"\n        ],\n        \"semantic_type\": \"\",\n        \"description\": \"\"\n      }\n    },\n    {\n      \"column\": \"Item_Visibility\",\n      \"properties\": {\n        \"dtype\": \"number\",\n        \"std\": 0.05159782232113512,\n        \"min\": 0.0,\n        \"max\": 0.328390948,\n        \"num_unique_values\": 7880,\n        \"samples\": [\n          0.224837308,\n          0.046088273,\n          0.0204702\n        ],\n        \"semantic_type\": \"\",\n        \"description\": \"\"\n      }\n    },\n    {\n      \"column\": \"Item_Type\",\n      \"properties\": {\n        \"dtype\": \"category\",\n        \"num_unique_values\": 16,\n        \"samples\": [\n          \"Dairy\",\n          \"Soft Drinks\",\n          \"Baking Goods\"\n        ],\n        \"semantic_type\": \"\",\n        \"description\": \"\"\n      }\n    },\n    {\n      \"column\": \"Item_MRP\",\n      \"properties\": {\n        \"dtype\": \"number\",\n        \"std\": 62.27506651219046,\n        \"min\": 31.29,\n        \"max\": 266.8884,\n        \"num_unique_values\": 5938,\n        \"samples\": [\n          255.9672,\n          93.512,\n          208.3954\n        ],\n        \"semantic_type\": \"\",\n        \"description\": \"\"\n      }\n    },\n    {\n      \"column\": \"Outlet_Identifier\",\n      \"properties\": {\n        \"dtype\": \"category\",\n        \"num_unique_values\": 10,\n        \"samples\": [\n          \"OUT035\",\n          \"OUT018\",\n          \"OUT045\"\n        ],\n        \"semantic_type\": \"\",\n        \"description\": \"\"\n      }\n    },\n    {\n      \"column\": \"Outlet_Establishment_Year\",\n      \"properties\": {\n        \"dtype\": \"number\",\n        \"std\": 8,\n        \"min\": 1985,\n        \"max\": 2009,\n        \"num_unique_values\": 9,\n        \"samples\": [\n          1997,\n          2009,\n          2002\n        ],\n        \"semantic_type\": \"\",\n        \"description\": \"\"\n      }\n    },\n    {\n      \"column\": \"Outlet_Size\",\n      \"properties\": {\n        \"dtype\": \"category\",\n        \"num_unique_values\": 3,\n        \"samples\": [\n          \"Medium\",\n          \"High\",\n          \"Small\"\n        ],\n        \"semantic_type\": \"\",\n        \"description\": \"\"\n      }\n    },\n    {\n      \"column\": \"Outlet_Location_Type\",\n      \"properties\": {\n        \"dtype\": \"category\",\n        \"num_unique_values\": 3,\n        \"samples\": [\n          \"Tier 1\",\n          \"Tier 3\",\n          \"Tier 2\"\n        ],\n        \"semantic_type\": \"\",\n        \"description\": \"\"\n      }\n    },\n    {\n      \"column\": \"Outlet_Type\",\n      \"properties\": {\n        \"dtype\": \"category\",\n        \"num_unique_values\": 4,\n        \"samples\": [\n          \"Supermarket Type2\",\n          \"Supermarket Type3\",\n          \"Supermarket Type1\"\n        ],\n        \"semantic_type\": \"\",\n        \"description\": \"\"\n      }\n    },\n    {\n      \"column\": \"Item_Outlet_Sales\",\n      \"properties\": {\n        \"dtype\": \"number\",\n        \"std\": 1706.499615733833,\n        \"min\": 33.29,\n        \"max\": 13086.9648,\n        \"num_unique_values\": 3493,\n        \"samples\": [\n          5466.8838,\n          8417.7094,\n          5888.3352\n        ],\n        \"semantic_type\": \"\",\n        \"description\": \"\"\n      }\n    }\n  ]\n}"
            }
          },
          "metadata": {},
          "execution_count": 473
        }
      ]
    },
    {
      "cell_type": "markdown",
      "source": [
        "Basándonos en la salida de **'df.info()'**, podemos resaltar lo siguiente:\n",
        "\n",
        "\n",
        "1.   El DataFrame tiene 8523 registros y 12 columnas.\n",
        "2.   Las columnas \"Item_Weight\" y \"Outlet_Size\" contienen valores faltantes que pueden requerir tratamiento.\n",
        "3. Existen vatriables categóricas y numéricas. Puede necesitarse hacer transformaciones en los tipos de datos.\n",
        "4. Puede ser útil verificar los valores únicos en cada columna para comprender la diversidad de categorías en cada una."
      ],
      "metadata": {
        "id": "m4YZ4Qzx_HSl"
      }
    },
    {
      "cell_type": "code",
      "source": [
        "df.info()"
      ],
      "metadata": {
        "colab": {
          "base_uri": "https://localhost:8080/"
        },
        "id": "DYjngUckzSGr",
        "outputId": "c445f690-8665-4fe9-b36b-165e5fc6a1e2"
      },
      "execution_count": 474,
      "outputs": [
        {
          "output_type": "stream",
          "name": "stdout",
          "text": [
            "<class 'pandas.core.frame.DataFrame'>\n",
            "RangeIndex: 8523 entries, 0 to 8522\n",
            "Data columns (total 12 columns):\n",
            " #   Column                     Non-Null Count  Dtype  \n",
            "---  ------                     --------------  -----  \n",
            " 0   Item_Identifier            8523 non-null   object \n",
            " 1   Item_Weight                7060 non-null   float64\n",
            " 2   Item_Fat_Content           8523 non-null   object \n",
            " 3   Item_Visibility            8523 non-null   float64\n",
            " 4   Item_Type                  8523 non-null   object \n",
            " 5   Item_MRP                   8523 non-null   float64\n",
            " 6   Outlet_Identifier          8523 non-null   object \n",
            " 7   Outlet_Establishment_Year  8523 non-null   int64  \n",
            " 8   Outlet_Size                6113 non-null   object \n",
            " 9   Outlet_Location_Type       8523 non-null   object \n",
            " 10  Outlet_Type                8523 non-null   object \n",
            " 11  Item_Outlet_Sales          8523 non-null   float64\n",
            "dtypes: float64(4), int64(1), object(7)\n",
            "memory usage: 799.2+ KB\n"
          ]
        }
      ]
    },
    {
      "cell_type": "code",
      "source": [
        "df.describe()"
      ],
      "metadata": {
        "colab": {
          "base_uri": "https://localhost:8080/",
          "height": 300
        },
        "id": "-QALPZwnzuRs",
        "outputId": "33b77274-60e2-497d-e0a9-2605fdd30ee8"
      },
      "execution_count": 475,
      "outputs": [
        {
          "output_type": "execute_result",
          "data": {
            "text/plain": [
              "       Item_Weight  Item_Visibility     Item_MRP  Outlet_Establishment_Year  \\\n",
              "count  7060.000000      8523.000000  8523.000000                8523.000000   \n",
              "mean     12.857645         0.066132   140.992782                1997.831867   \n",
              "std       4.643456         0.051598    62.275067                   8.371760   \n",
              "min       4.555000         0.000000    31.290000                1985.000000   \n",
              "25%       8.773750         0.026989    93.826500                1987.000000   \n",
              "50%      12.600000         0.053931   143.012800                1999.000000   \n",
              "75%      16.850000         0.094585   185.643700                2004.000000   \n",
              "max      21.350000         0.328391   266.888400                2009.000000   \n",
              "\n",
              "       Item_Outlet_Sales  \n",
              "count        8523.000000  \n",
              "mean         2181.288914  \n",
              "std          1706.499616  \n",
              "min            33.290000  \n",
              "25%           834.247400  \n",
              "50%          1794.331000  \n",
              "75%          3101.296400  \n",
              "max         13086.964800  "
            ],
            "text/html": [
              "\n",
              "  <div id=\"df-b80ab070-c1c1-4e4f-9467-40c39269711e\" class=\"colab-df-container\">\n",
              "    <div>\n",
              "<style scoped>\n",
              "    .dataframe tbody tr th:only-of-type {\n",
              "        vertical-align: middle;\n",
              "    }\n",
              "\n",
              "    .dataframe tbody tr th {\n",
              "        vertical-align: top;\n",
              "    }\n",
              "\n",
              "    .dataframe thead th {\n",
              "        text-align: right;\n",
              "    }\n",
              "</style>\n",
              "<table border=\"1\" class=\"dataframe\">\n",
              "  <thead>\n",
              "    <tr style=\"text-align: right;\">\n",
              "      <th></th>\n",
              "      <th>Item_Weight</th>\n",
              "      <th>Item_Visibility</th>\n",
              "      <th>Item_MRP</th>\n",
              "      <th>Outlet_Establishment_Year</th>\n",
              "      <th>Item_Outlet_Sales</th>\n",
              "    </tr>\n",
              "  </thead>\n",
              "  <tbody>\n",
              "    <tr>\n",
              "      <th>count</th>\n",
              "      <td>7060.000000</td>\n",
              "      <td>8523.000000</td>\n",
              "      <td>8523.000000</td>\n",
              "      <td>8523.000000</td>\n",
              "      <td>8523.000000</td>\n",
              "    </tr>\n",
              "    <tr>\n",
              "      <th>mean</th>\n",
              "      <td>12.857645</td>\n",
              "      <td>0.066132</td>\n",
              "      <td>140.992782</td>\n",
              "      <td>1997.831867</td>\n",
              "      <td>2181.288914</td>\n",
              "    </tr>\n",
              "    <tr>\n",
              "      <th>std</th>\n",
              "      <td>4.643456</td>\n",
              "      <td>0.051598</td>\n",
              "      <td>62.275067</td>\n",
              "      <td>8.371760</td>\n",
              "      <td>1706.499616</td>\n",
              "    </tr>\n",
              "    <tr>\n",
              "      <th>min</th>\n",
              "      <td>4.555000</td>\n",
              "      <td>0.000000</td>\n",
              "      <td>31.290000</td>\n",
              "      <td>1985.000000</td>\n",
              "      <td>33.290000</td>\n",
              "    </tr>\n",
              "    <tr>\n",
              "      <th>25%</th>\n",
              "      <td>8.773750</td>\n",
              "      <td>0.026989</td>\n",
              "      <td>93.826500</td>\n",
              "      <td>1987.000000</td>\n",
              "      <td>834.247400</td>\n",
              "    </tr>\n",
              "    <tr>\n",
              "      <th>50%</th>\n",
              "      <td>12.600000</td>\n",
              "      <td>0.053931</td>\n",
              "      <td>143.012800</td>\n",
              "      <td>1999.000000</td>\n",
              "      <td>1794.331000</td>\n",
              "    </tr>\n",
              "    <tr>\n",
              "      <th>75%</th>\n",
              "      <td>16.850000</td>\n",
              "      <td>0.094585</td>\n",
              "      <td>185.643700</td>\n",
              "      <td>2004.000000</td>\n",
              "      <td>3101.296400</td>\n",
              "    </tr>\n",
              "    <tr>\n",
              "      <th>max</th>\n",
              "      <td>21.350000</td>\n",
              "      <td>0.328391</td>\n",
              "      <td>266.888400</td>\n",
              "      <td>2009.000000</td>\n",
              "      <td>13086.964800</td>\n",
              "    </tr>\n",
              "  </tbody>\n",
              "</table>\n",
              "</div>\n",
              "    <div class=\"colab-df-buttons\">\n",
              "\n",
              "  <div class=\"colab-df-container\">\n",
              "    <button class=\"colab-df-convert\" onclick=\"convertToInteractive('df-b80ab070-c1c1-4e4f-9467-40c39269711e')\"\n",
              "            title=\"Convert this dataframe to an interactive table.\"\n",
              "            style=\"display:none;\">\n",
              "\n",
              "  <svg xmlns=\"http://www.w3.org/2000/svg\" height=\"24px\" viewBox=\"0 -960 960 960\">\n",
              "    <path d=\"M120-120v-720h720v720H120Zm60-500h600v-160H180v160Zm220 220h160v-160H400v160Zm0 220h160v-160H400v160ZM180-400h160v-160H180v160Zm440 0h160v-160H620v160ZM180-180h160v-160H180v160Zm440 0h160v-160H620v160Z\"/>\n",
              "  </svg>\n",
              "    </button>\n",
              "\n",
              "  <style>\n",
              "    .colab-df-container {\n",
              "      display:flex;\n",
              "      gap: 12px;\n",
              "    }\n",
              "\n",
              "    .colab-df-convert {\n",
              "      background-color: #E8F0FE;\n",
              "      border: none;\n",
              "      border-radius: 50%;\n",
              "      cursor: pointer;\n",
              "      display: none;\n",
              "      fill: #1967D2;\n",
              "      height: 32px;\n",
              "      padding: 0 0 0 0;\n",
              "      width: 32px;\n",
              "    }\n",
              "\n",
              "    .colab-df-convert:hover {\n",
              "      background-color: #E2EBFA;\n",
              "      box-shadow: 0px 1px 2px rgba(60, 64, 67, 0.3), 0px 1px 3px 1px rgba(60, 64, 67, 0.15);\n",
              "      fill: #174EA6;\n",
              "    }\n",
              "\n",
              "    .colab-df-buttons div {\n",
              "      margin-bottom: 4px;\n",
              "    }\n",
              "\n",
              "    [theme=dark] .colab-df-convert {\n",
              "      background-color: #3B4455;\n",
              "      fill: #D2E3FC;\n",
              "    }\n",
              "\n",
              "    [theme=dark] .colab-df-convert:hover {\n",
              "      background-color: #434B5C;\n",
              "      box-shadow: 0px 1px 3px 1px rgba(0, 0, 0, 0.15);\n",
              "      filter: drop-shadow(0px 1px 2px rgba(0, 0, 0, 0.3));\n",
              "      fill: #FFFFFF;\n",
              "    }\n",
              "  </style>\n",
              "\n",
              "    <script>\n",
              "      const buttonEl =\n",
              "        document.querySelector('#df-b80ab070-c1c1-4e4f-9467-40c39269711e button.colab-df-convert');\n",
              "      buttonEl.style.display =\n",
              "        google.colab.kernel.accessAllowed ? 'block' : 'none';\n",
              "\n",
              "      async function convertToInteractive(key) {\n",
              "        const element = document.querySelector('#df-b80ab070-c1c1-4e4f-9467-40c39269711e');\n",
              "        const dataTable =\n",
              "          await google.colab.kernel.invokeFunction('convertToInteractive',\n",
              "                                                    [key], {});\n",
              "        if (!dataTable) return;\n",
              "\n",
              "        const docLinkHtml = 'Like what you see? Visit the ' +\n",
              "          '<a target=\"_blank\" href=https://colab.research.google.com/notebooks/data_table.ipynb>data table notebook</a>'\n",
              "          + ' to learn more about interactive tables.';\n",
              "        element.innerHTML = '';\n",
              "        dataTable['output_type'] = 'display_data';\n",
              "        await google.colab.output.renderOutput(dataTable, element);\n",
              "        const docLink = document.createElement('div');\n",
              "        docLink.innerHTML = docLinkHtml;\n",
              "        element.appendChild(docLink);\n",
              "      }\n",
              "    </script>\n",
              "  </div>\n",
              "\n",
              "\n",
              "<div id=\"df-ce21c2c2-48d6-4f93-b085-eb20b7eb15b4\">\n",
              "  <button class=\"colab-df-quickchart\" onclick=\"quickchart('df-ce21c2c2-48d6-4f93-b085-eb20b7eb15b4')\"\n",
              "            title=\"Suggest charts\"\n",
              "            style=\"display:none;\">\n",
              "\n",
              "<svg xmlns=\"http://www.w3.org/2000/svg\" height=\"24px\"viewBox=\"0 0 24 24\"\n",
              "     width=\"24px\">\n",
              "    <g>\n",
              "        <path d=\"M19 3H5c-1.1 0-2 .9-2 2v14c0 1.1.9 2 2 2h14c1.1 0 2-.9 2-2V5c0-1.1-.9-2-2-2zM9 17H7v-7h2v7zm4 0h-2V7h2v10zm4 0h-2v-4h2v4z\"/>\n",
              "    </g>\n",
              "</svg>\n",
              "  </button>\n",
              "\n",
              "<style>\n",
              "  .colab-df-quickchart {\n",
              "      --bg-color: #E8F0FE;\n",
              "      --fill-color: #1967D2;\n",
              "      --hover-bg-color: #E2EBFA;\n",
              "      --hover-fill-color: #174EA6;\n",
              "      --disabled-fill-color: #AAA;\n",
              "      --disabled-bg-color: #DDD;\n",
              "  }\n",
              "\n",
              "  [theme=dark] .colab-df-quickchart {\n",
              "      --bg-color: #3B4455;\n",
              "      --fill-color: #D2E3FC;\n",
              "      --hover-bg-color: #434B5C;\n",
              "      --hover-fill-color: #FFFFFF;\n",
              "      --disabled-bg-color: #3B4455;\n",
              "      --disabled-fill-color: #666;\n",
              "  }\n",
              "\n",
              "  .colab-df-quickchart {\n",
              "    background-color: var(--bg-color);\n",
              "    border: none;\n",
              "    border-radius: 50%;\n",
              "    cursor: pointer;\n",
              "    display: none;\n",
              "    fill: var(--fill-color);\n",
              "    height: 32px;\n",
              "    padding: 0;\n",
              "    width: 32px;\n",
              "  }\n",
              "\n",
              "  .colab-df-quickchart:hover {\n",
              "    background-color: var(--hover-bg-color);\n",
              "    box-shadow: 0 1px 2px rgba(60, 64, 67, 0.3), 0 1px 3px 1px rgba(60, 64, 67, 0.15);\n",
              "    fill: var(--button-hover-fill-color);\n",
              "  }\n",
              "\n",
              "  .colab-df-quickchart-complete:disabled,\n",
              "  .colab-df-quickchart-complete:disabled:hover {\n",
              "    background-color: var(--disabled-bg-color);\n",
              "    fill: var(--disabled-fill-color);\n",
              "    box-shadow: none;\n",
              "  }\n",
              "\n",
              "  .colab-df-spinner {\n",
              "    border: 2px solid var(--fill-color);\n",
              "    border-color: transparent;\n",
              "    border-bottom-color: var(--fill-color);\n",
              "    animation:\n",
              "      spin 1s steps(1) infinite;\n",
              "  }\n",
              "\n",
              "  @keyframes spin {\n",
              "    0% {\n",
              "      border-color: transparent;\n",
              "      border-bottom-color: var(--fill-color);\n",
              "      border-left-color: var(--fill-color);\n",
              "    }\n",
              "    20% {\n",
              "      border-color: transparent;\n",
              "      border-left-color: var(--fill-color);\n",
              "      border-top-color: var(--fill-color);\n",
              "    }\n",
              "    30% {\n",
              "      border-color: transparent;\n",
              "      border-left-color: var(--fill-color);\n",
              "      border-top-color: var(--fill-color);\n",
              "      border-right-color: var(--fill-color);\n",
              "    }\n",
              "    40% {\n",
              "      border-color: transparent;\n",
              "      border-right-color: var(--fill-color);\n",
              "      border-top-color: var(--fill-color);\n",
              "    }\n",
              "    60% {\n",
              "      border-color: transparent;\n",
              "      border-right-color: var(--fill-color);\n",
              "    }\n",
              "    80% {\n",
              "      border-color: transparent;\n",
              "      border-right-color: var(--fill-color);\n",
              "      border-bottom-color: var(--fill-color);\n",
              "    }\n",
              "    90% {\n",
              "      border-color: transparent;\n",
              "      border-bottom-color: var(--fill-color);\n",
              "    }\n",
              "  }\n",
              "</style>\n",
              "\n",
              "  <script>\n",
              "    async function quickchart(key) {\n",
              "      const quickchartButtonEl =\n",
              "        document.querySelector('#' + key + ' button');\n",
              "      quickchartButtonEl.disabled = true;  // To prevent multiple clicks.\n",
              "      quickchartButtonEl.classList.add('colab-df-spinner');\n",
              "      try {\n",
              "        const charts = await google.colab.kernel.invokeFunction(\n",
              "            'suggestCharts', [key], {});\n",
              "      } catch (error) {\n",
              "        console.error('Error during call to suggestCharts:', error);\n",
              "      }\n",
              "      quickchartButtonEl.classList.remove('colab-df-spinner');\n",
              "      quickchartButtonEl.classList.add('colab-df-quickchart-complete');\n",
              "    }\n",
              "    (() => {\n",
              "      let quickchartButtonEl =\n",
              "        document.querySelector('#df-ce21c2c2-48d6-4f93-b085-eb20b7eb15b4 button');\n",
              "      quickchartButtonEl.style.display =\n",
              "        google.colab.kernel.accessAllowed ? 'block' : 'none';\n",
              "    })();\n",
              "  </script>\n",
              "</div>\n",
              "\n",
              "    </div>\n",
              "  </div>\n"
            ],
            "application/vnd.google.colaboratory.intrinsic+json": {
              "type": "dataframe",
              "summary": "{\n  \"name\": \"df\",\n  \"rows\": 8,\n  \"fields\": [\n    {\n      \"column\": \"Item_Weight\",\n      \"properties\": {\n        \"dtype\": \"number\",\n        \"std\": 2491.9706342896925,\n        \"min\": 4.555,\n        \"max\": 7060.0,\n        \"num_unique_values\": 8,\n        \"samples\": [\n          12.857645184135976,\n          12.6,\n          7060.0\n        ],\n        \"semantic_type\": \"\",\n        \"description\": \"\"\n      }\n    },\n    {\n      \"column\": \"Item_Visibility\",\n      \"properties\": {\n        \"dtype\": \"number\",\n        \"std\": 3013.304152859587,\n        \"min\": 0.0,\n        \"max\": 8523.0,\n        \"num_unique_values\": 8,\n        \"samples\": [\n          0.06613202877895108,\n          0.053930934,\n          8523.0\n        ],\n        \"semantic_type\": \"\",\n        \"description\": \"\"\n      }\n    },\n    {\n      \"column\": \"Item_MRP\",\n      \"properties\": {\n        \"dtype\": \"number\",\n        \"std\": 2967.5785044087356,\n        \"min\": 31.29,\n        \"max\": 8523.0,\n        \"num_unique_values\": 8,\n        \"samples\": [\n          140.9927819781767,\n          143.0128,\n          8523.0\n        ],\n        \"semantic_type\": \"\",\n        \"description\": \"\"\n      }\n    },\n    {\n      \"column\": \"Outlet_Establishment_Year\",\n      \"properties\": {\n        \"dtype\": \"number\",\n        \"std\": 2506.291593828245,\n        \"min\": 8.371760408092655,\n        \"max\": 8523.0,\n        \"num_unique_values\": 8,\n        \"samples\": [\n          1997.8318667135984,\n          1999.0,\n          8523.0\n        ],\n        \"semantic_type\": \"\",\n        \"description\": \"\"\n      }\n    },\n    {\n      \"column\": \"Item_Outlet_Sales\",\n      \"properties\": {\n        \"dtype\": \"number\",\n        \"std\": 4519.156901462071,\n        \"min\": 33.29,\n        \"max\": 13086.9648,\n        \"num_unique_values\": 8,\n        \"samples\": [\n          2181.288913575032,\n          1794.331,\n          8523.0\n        ],\n        \"semantic_type\": \"\",\n        \"description\": \"\"\n      }\n    }\n  ]\n}"
            }
          },
          "metadata": {},
          "execution_count": 475
        }
      ]
    },
    {
      "cell_type": "markdown",
      "source": [
        "# Tratamiento de datos faltantes de la columna \"Outlet_Size\""
      ],
      "metadata": {
        "id": "-xvGwRUCaLv6"
      }
    },
    {
      "cell_type": "markdown",
      "source": [
        "**Opción 1: Imputación con el valor más común**\n",
        "\n",
        "Rellenar los valores faltantes con el valor más común de esa columna.\n",
        "Esta opción no es tan buena porque las cantidades de las categorías \"Medium\" y \"Small\" no son tan distintas."
      ],
      "metadata": {
        "id": "cAVdBizIahB_"
      }
    },
    {
      "cell_type": "code",
      "source": [
        "df[\"Outlet_Size\"].value_counts()"
      ],
      "metadata": {
        "colab": {
          "base_uri": "https://localhost:8080/"
        },
        "id": "2sB-0Qkna23Y",
        "outputId": "e53c8471-a28d-4daf-bde4-366ecb6430c8"
      },
      "execution_count": 476,
      "outputs": [
        {
          "output_type": "execute_result",
          "data": {
            "text/plain": [
              "Outlet_Size\n",
              "Medium    2793\n",
              "Small     2388\n",
              "High       932\n",
              "Name: count, dtype: int64"
            ]
          },
          "metadata": {},
          "execution_count": 476
        }
      ]
    },
    {
      "cell_type": "markdown",
      "source": [
        "**Opción 2: Utilizar información de otras columnas relacionadas a la tienda**\n",
        "\n",
        "Utilizaremos el tipo de tienda para relacionarlo con el su tamaño."
      ],
      "metadata": {
        "id": "bkYQ8m3Hbvyb"
      }
    },
    {
      "cell_type": "code",
      "source": [
        "df[\"Outlet_Type\"].value_counts()"
      ],
      "metadata": {
        "colab": {
          "base_uri": "https://localhost:8080/"
        },
        "id": "jnvsuyjI4NA8",
        "outputId": "d0089de2-8f0f-4478-8e10-394da3cf9dcb"
      },
      "execution_count": 477,
      "outputs": [
        {
          "output_type": "execute_result",
          "data": {
            "text/plain": [
              "Outlet_Type\n",
              "Supermarket Type1    5577\n",
              "Grocery Store        1083\n",
              "Supermarket Type3     935\n",
              "Supermarket Type2     928\n",
              "Name: count, dtype: int64"
            ]
          },
          "metadata": {},
          "execution_count": 477
        }
      ]
    },
    {
      "cell_type": "code",
      "source": [
        "df.groupby(\"Outlet_Type\")[\"Outlet_Size\"].value_counts()"
      ],
      "metadata": {
        "colab": {
          "base_uri": "https://localhost:8080/"
        },
        "id": "87obPmdG4YN4",
        "outputId": "ece51f7e-4fb4-46f7-d9e6-f73f9a043b78"
      },
      "execution_count": 478,
      "outputs": [
        {
          "output_type": "execute_result",
          "data": {
            "text/plain": [
              "Outlet_Type        Outlet_Size\n",
              "Grocery Store      Small           528\n",
              "Supermarket Type1  Small          1860\n",
              "                   High            932\n",
              "                   Medium          930\n",
              "Supermarket Type2  Medium          928\n",
              "Supermarket Type3  Medium          935\n",
              "Name: count, dtype: int64"
            ]
          },
          "metadata": {},
          "execution_count": 478
        }
      ]
    },
    {
      "cell_type": "markdown",
      "source": [
        "Podemos recuperar 555 datos al indicar que todos los Grocery Stores son de tamaño Small."
      ],
      "metadata": {
        "id": "C3wa7cBD6g_4"
      }
    },
    {
      "cell_type": "code",
      "source": [
        "df1 = df\n",
        "null_filter = df1[\"Outlet_Size\"].isna()\n",
        "grocery_filter = df1[\"Outlet_Type\"] == \"Grocery Store\"\n",
        "df1.loc[null_filter & grocery_filter, \"Outlet_Size\"] = \"Small\""
      ],
      "metadata": {
        "id": "n-yFerCg5Blm"
      },
      "execution_count": 479,
      "outputs": []
    },
    {
      "cell_type": "markdown",
      "source": [
        "Utilizaremos el tipo de ubicación para relacionarlo con el tamaño de una tienda."
      ],
      "metadata": {
        "id": "if7oIZfu-VNf"
      }
    },
    {
      "cell_type": "code",
      "source": [
        "df[\"Outlet_Location_Type\"].value_counts()"
      ],
      "metadata": {
        "colab": {
          "base_uri": "https://localhost:8080/"
        },
        "id": "9YsQRzMr8MI6",
        "outputId": "036d7a3b-c636-4da0-f572-e8b3cbd526c9"
      },
      "execution_count": 480,
      "outputs": [
        {
          "output_type": "execute_result",
          "data": {
            "text/plain": [
              "Outlet_Location_Type\n",
              "Tier 3    3350\n",
              "Tier 2    2785\n",
              "Tier 1    2388\n",
              "Name: count, dtype: int64"
            ]
          },
          "metadata": {},
          "execution_count": 480
        }
      ]
    },
    {
      "cell_type": "code",
      "source": [
        "df1.groupby(\"Outlet_Location_Type\")[\"Outlet_Size\"].value_counts()"
      ],
      "metadata": {
        "colab": {
          "base_uri": "https://localhost:8080/"
        },
        "id": "5UR4pIEL8dKI",
        "outputId": "32f264b1-f097-44de-c775-a5109c9e46c4"
      },
      "execution_count": 481,
      "outputs": [
        {
          "output_type": "execute_result",
          "data": {
            "text/plain": [
              "Outlet_Location_Type  Outlet_Size\n",
              "Tier 1                Small          1458\n",
              "                      Medium          930\n",
              "Tier 2                Small           930\n",
              "Tier 3                Medium         1863\n",
              "                      High            932\n",
              "                      Small           555\n",
              "Name: count, dtype: int64"
            ]
          },
          "metadata": {},
          "execution_count": 481
        }
      ]
    },
    {
      "cell_type": "markdown",
      "source": [
        "Recuperamos los datos faltantes en la columna \"Outlet_Size\". Así, hemos completado toda la columna."
      ],
      "metadata": {
        "id": "27fXT46t-RvD"
      }
    },
    {
      "cell_type": "code",
      "source": [
        "tier2_filter = df1[\"Outlet_Location_Type\"] == \"Tier 2\"\n",
        "df1.loc[null_filter & tier2_filter, \"Outlet_Size\"] = \"Small\""
      ],
      "metadata": {
        "id": "vpPD88Wa9HAf"
      },
      "execution_count": 482,
      "outputs": []
    },
    {
      "cell_type": "markdown",
      "source": [
        "# Tratamiento de datos faltantes de la columna \"Item_Weight\""
      ],
      "metadata": {
        "id": "p8hN8Jhy_X-X"
      }
    },
    {
      "cell_type": "markdown",
      "source": [
        "Creamos un diccionario con los 1559 items únicos que existen y sus respectivos pesos. Luego asignaremos esos pesos en donde falte."
      ],
      "metadata": {
        "id": "Wzj6qbdXp2NR"
      }
    },
    {
      "cell_type": "code",
      "source": [
        "item_peso = df1.groupby([\"Item_Identifier\"])[[\"Item_Weight\"]].mean().round(3)\n",
        "item_peso = item_peso.to_dict()['Item_Weight']\n",
        "print(item_peso)"
      ],
      "metadata": {
        "colab": {
          "base_uri": "https://localhost:8080/"
        },
        "id": "cEsrswVf_fzJ",
        "outputId": "96dcd40b-52a6-494f-ae41-b6b78343b142"
      },
      "execution_count": 483,
      "outputs": [
        {
          "output_type": "stream",
          "name": "stdout",
          "text": [
            "{'DRA12': 11.6, 'DRA24': 19.35, 'DRA59': 8.27, 'DRB01': 7.39, 'DRB13': 6.115, 'DRB24': 8.785, 'DRB25': 12.3, 'DRB48': 16.75, 'DRC01': 5.92, 'DRC12': 17.85, 'DRC13': 8.26, 'DRC24': 17.85, 'DRC25': 5.73, 'DRC27': 13.8, 'DRC36': 13.0, 'DRC49': 8.67, 'DRD01': 12.1, 'DRD12': 6.96, 'DRD13': 15.0, 'DRD15': 10.6, 'DRD24': 13.85, 'DRD25': 6.135, 'DRD27': 18.75, 'DRD37': 9.8, 'DRD49': 9.895, 'DRD60': 15.7, 'DRE01': 10.1, 'DRE03': 19.6, 'DRE12': 4.59, 'DRE13': 6.28, 'DRE15': 13.35, 'DRE25': 15.35, 'DRE27': 11.85, 'DRE37': 13.5, 'DRE48': 8.43, 'DRE49': 20.75, 'DRE60': 9.395, 'DRF01': 5.655, 'DRF03': 19.1, 'DRF13': 12.1, 'DRF15': 18.35, 'DRF23': 4.61, 'DRF25': 9.0, 'DRF27': 8.93, 'DRF36': 16.1, 'DRF37': 17.25, 'DRF48': 5.73, 'DRF49': 7.27, 'DRF51': 15.75, 'DRF60': 10.8, 'DRG01': 14.8, 'DRG03': 14.5, 'DRG11': 6.385, 'DRG13': 17.25, 'DRG15': 6.13, 'DRG23': 8.88, 'DRG25': 10.5, 'DRG27': 8.895, 'DRG36': 14.15, 'DRG37': 16.2, 'DRG39': 14.15, 'DRG48': 5.78, 'DRG49': 7.81, 'DRG51': 12.1, 'DRH01': 17.5, 'DRH03': 17.25, 'DRH11': 5.98, 'DRH13': 8.575, 'DRH15': 8.775, 'DRH23': 14.65, 'DRH25': 18.7, 'DRH36': 16.2, 'DRH37': 17.6, 'DRH39': 20.7, 'DRH49': 19.7, 'DRH51': 17.6, 'DRH59': 10.8, 'DRI01': 7.97, 'DRI03': 6.03, 'DRI11': 8.26, 'DRI13': 15.35, 'DRI23': 18.85, 'DRI25': 19.6, 'DRI37': 15.85, 'DRI39': 13.8, 'DRI47': 14.7, 'DRI49': 14.15, 'DRI51': 17.25, 'DRI59': 9.5, 'DRJ01': 6.135, 'DRJ11': 9.5, 'DRJ13': 12.65, 'DRJ23': 18.35, 'DRJ24': 11.8, 'DRJ25': 14.6, 'DRJ35': 10.1, 'DRJ37': 10.8, 'DRJ39': 20.25, 'DRJ47': 18.25, 'DRJ49': 6.865, 'DRJ51': 14.1, 'DRJ59': 11.65, 'DRK01': 7.63, 'DRK11': 8.21, 'DRK12': 9.5, 'DRK13': 11.8, 'DRK23': 8.395, 'DRK35': 8.365, 'DRK37': 5.0, 'DRK39': 7.02, 'DRK47': 7.905, 'DRK49': 14.15, 'DRK59': 8.895, 'DRL01': 19.5, 'DRL11': 10.5, 'DRL23': 18.35, 'DRL35': 15.7, 'DRL37': 15.5, 'DRL47': 19.7, 'DRL49': 13.15, 'DRL59': 16.75, 'DRL60': 8.52, 'DRM11': 6.57, 'DRM23': 16.6, 'DRM35': 9.695, 'DRM37': 15.35, 'DRM47': 9.3, 'DRM48': 15.2, 'DRM49': 6.11, 'DRM59': 5.88, 'DRN11': 7.85, 'DRN35': 8.01, 'DRN36': 15.2, 'DRN37': 9.6, 'DRN47': 12.1, 'DRN59': 15.0, 'DRO35': 13.85, 'DRO47': 10.195, 'DRO59': 11.8, 'DRP35': 18.85, 'DRP47': 15.75, 'DRQ35': 9.3, 'DRY23': 9.395, 'DRZ11': 8.85, 'DRZ24': 7.535, 'FDA01': 15.0, 'FDA02': 14.0, 'FDA03': 18.5, 'FDA04': 11.3, 'FDA07': 7.55, 'FDA08': 11.85, 'FDA09': 13.35, 'FDA10': 20.35, 'FDA11': 7.75, 'FDA13': 15.85, 'FDA14': 16.1, 'FDA15': 9.3, 'FDA16': 6.695, 'FDA19': 7.52, 'FDA20': 6.78, 'FDA21': 13.65, 'FDA22': 7.435, 'FDA23': 9.8, 'FDA25': 16.5, 'FDA26': 7.855, 'FDA27': 20.35, 'FDA28': 16.1, 'FDA31': 7.1, 'FDA32': 14.0, 'FDA33': 6.48, 'FDA34': 11.5, 'FDA35': 14.85, 'FDA36': 5.985, 'FDA37': 7.81, 'FDA38': 5.44, 'FDA39': 6.32, 'FDA40': 16.0, 'FDA43': 10.895, 'FDA44': 19.7, 'FDA45': 21.25, 'FDA46': 13.6, 'FDA47': 10.5, 'FDA48': 12.1, 'FDA49': 19.7, 'FDA50': 16.25, 'FDA51': 8.05, 'FDA52': 16.2, 'FDA55': 17.2, 'FDA56': 9.21, 'FDA57': 18.85, 'FDA58': 9.395, 'FDB02': 9.695, 'FDB03': 17.75, 'FDB04': 11.35, 'FDB05': 5.155, 'FDB08': 6.055, 'FDB09': 16.25, 'FDB10': 10.0, 'FDB11': 16.0, 'FDB12': 11.15, 'FDB14': 20.25, 'FDB15': 10.895, 'FDB16': 8.21, 'FDB17': 13.15, 'FDB20': 7.72, 'FDB21': 7.475, 'FDB22': 8.02, 'FDB23': 19.2, 'FDB26': 14.0, 'FDB27': 7.575, 'FDB28': 6.615, 'FDB29': 16.7, 'FDB32': 20.6, 'FDB33': 17.75, 'FDB34': 15.25, 'FDB35': 12.3, 'FDB36': 5.465, 'FDB37': 20.25, 'FDB38': 19.5, 'FDB39': 11.6, 'FDB40': 17.5, 'FDB41': 19.0, 'FDB44': 6.655, 'FDB45': 20.85, 'FDB46': 10.5, 'FDB47': 8.8, 'FDB49': 8.3, 'FDB50': 13.0, 'FDB51': 6.92, 'FDB52': 17.75, 'FDB53': 13.35, 'FDB56': 8.75, 'FDB57': 20.25, 'FDB58': 10.5, 'FDB59': 18.25, 'FDB60': 9.3, 'FDC02': 21.35, 'FDC03': 8.575, 'FDC04': 15.6, 'FDC05': 13.1, 'FDC08': 19.0, 'FDC09': 15.5, 'FDC10': 9.8, 'FDC11': 20.5, 'FDC14': 14.5, 'FDC15': 18.1, 'FDC16': 11.5, 'FDC17': 12.15, 'FDC20': 10.65, 'FDC21': 14.6, 'FDC22': 6.89, 'FDC23': 18.0, 'FDC26': 10.195, 'FDC28': 7.905, 'FDC29': 8.39, 'FDC32': 18.35, 'FDC33': 8.96, 'FDC34': 16.0, 'FDC35': 7.435, 'FDC37': 15.5, 'FDC38': 15.7, 'FDC39': 7.405, 'FDC40': 16.0, 'FDC41': 15.6, 'FDC44': 15.6, 'FDC45': 17.0, 'FDC46': 17.7, 'FDC47': 15.0, 'FDC48': 9.195, 'FDC50': 15.85, 'FDC51': 10.895, 'FDC52': 11.15, 'FDC53': 8.68, 'FDC56': 7.72, 'FDC57': 20.1, 'FDC58': 10.195, 'FDC59': 16.7, 'FDC60': 5.425, 'FDD02': 16.6, 'FDD03': 13.3, 'FDD04': 16.0, 'FDD05': 19.35, 'FDD08': 8.3, 'FDD09': 13.5, 'FDD10': 20.6, 'FDD11': 12.85, 'FDD14': 20.7, 'FDD16': 20.5, 'FDD17': 7.5, 'FDD20': 14.15, 'FDD21': 10.3, 'FDD22': 10.0, 'FDD23': 9.5, 'FDD26': 8.71, 'FDD28': 10.695, 'FDD29': 12.15, 'FDD32': 17.7, 'FDD33': 12.85, 'FDD34': 7.945, 'FDD35': 12.15, 'FDD36': 13.3, 'FDD38': 16.75, 'FDD39': 16.7, 'FDD40': 20.25, 'FDD41': 6.765, 'FDD44': 8.05, 'FDD45': 8.615, 'FDD46': 6.035, 'FDD47': 7.6, 'FDD48': 10.395, 'FDD50': 18.85, 'FDD51': 11.15, 'FDD52': 18.25, 'FDD53': 16.2, 'FDD56': 15.2, 'FDD57': 18.1, 'FDD58': 7.76, 'FDD59': 10.5, 'FDE02': 8.71, 'FDE04': 19.75, 'FDE05': 10.895, 'FDE08': 18.2, 'FDE09': 8.775, 'FDE10': 6.67, 'FDE11': 17.7, 'FDE14': 13.65, 'FDE16': 8.895, 'FDE17': 20.1, 'FDE20': 11.35, 'FDE21': 12.8, 'FDE22': 9.695, 'FDE23': 17.6, 'FDE24': 14.85, 'FDE26': 9.3, 'FDE28': 9.5, 'FDE29': 8.905, 'FDE32': 20.7, 'FDE33': 19.35, 'FDE34': 9.195, 'FDE35': 7.06, 'FDE36': 5.26, 'FDE38': 6.52, 'FDE39': 7.89, 'FDE40': 15.6, 'FDE41': 9.195, 'FDE44': 14.65, 'FDE45': 12.1, 'FDE46': 18.6, 'FDE47': 14.15, 'FDE50': 19.7, 'FDE51': 5.925, 'FDE52': nan, 'FDE53': 10.895, 'FDE56': 17.25, 'FDE57': 9.6, 'FDE58': 18.5, 'FDE59': 12.15, 'FDF02': 16.2, 'FDF04': 17.5, 'FDF05': 17.5, 'FDF08': 14.3, 'FDF09': 6.215, 'FDF10': 15.5, 'FDF11': 10.195, 'FDF12': 8.235, 'FDF14': 7.55, 'FDF16': 7.3, 'FDF17': 5.19, 'FDF20': 12.85, 'FDF21': 10.3, 'FDF22': 6.865, 'FDF24': 15.5, 'FDF26': 6.825, 'FDF28': 15.7, 'FDF29': 15.1, 'FDF32': 16.35, 'FDF33': 7.97, 'FDF34': 9.3, 'FDF35': 15.0, 'FDF38': 11.8, 'FDF39': 14.85, 'FDF40': 20.25, 'FDF41': 12.15, 'FDF44': 7.17, 'FDF45': 18.2, 'FDF46': 7.07, 'FDF47': 20.85, 'FDF50': 4.905, 'FDF52': 9.3, 'FDF53': 20.75, 'FDF56': 16.7, 'FDF57': 14.5, 'FDF58': 13.3, 'FDF59': 12.5, 'FDG02': 7.855, 'FDG04': 13.1, 'FDG05': 11.0, 'FDG08': 13.15, 'FDG09': 20.6, 'FDG10': 6.63, 'FDG12': 6.635, 'FDG14': 9.0, 'FDG16': 15.25, 'FDG17': 6.865, 'FDG20': 15.5, 'FDG21': 17.35, 'FDG22': 17.6, 'FDG24': 7.975, 'FDG26': 18.85, 'FDG28': 9.285, 'FDG29': 17.6, 'FDG31': 12.15, 'FDG32': 19.85, 'FDG33': 5.365, 'FDG34': 11.5, 'FDG35': 21.2, 'FDG38': 8.975, 'FDG40': 13.65, 'FDG41': 8.84, 'FDG44': 6.13, 'FDG45': 8.1, 'FDG46': 8.63, 'FDG47': 12.8, 'FDG50': 7.405, 'FDG52': 13.65, 'FDG53': 10.0, 'FDG56': 13.3, 'FDG57': 14.7, 'FDG58': 10.695, 'FDG59': 15.85, 'FDG60': 20.35, 'FDH02': 7.27, 'FDH04': 6.115, 'FDH05': 14.35, 'FDH08': 7.51, 'FDH09': 12.6, 'FDH10': 21.0, 'FDH12': 9.6, 'FDH14': 17.1, 'FDH16': 10.5, 'FDH17': 16.2, 'FDH19': 19.35, 'FDH20': 16.1, 'FDH21': 10.395, 'FDH22': 6.405, 'FDH24': 20.7, 'FDH26': 19.25, 'FDH27': 7.075, 'FDH28': 15.85, 'FDH31': 12.0, 'FDH32': 12.8, 'FDH33': 12.85, 'FDH34': 8.63, 'FDH35': 18.25, 'FDH38': 6.425, 'FDH40': 11.6, 'FDH41': 9.0, 'FDH44': 19.1, 'FDH45': 15.1, 'FDH46': 6.935, 'FDH47': 13.5, 'FDH48': 13.5, 'FDH50': 15.0, 'FDH52': 9.42, 'FDH53': 20.5, 'FDH56': 9.8, 'FDH57': 10.895, 'FDH58': 12.3, 'FDH60': 19.7, 'FDI02': 15.7, 'FDI04': 13.65, 'FDI05': 8.35, 'FDI07': 12.35, 'FDI08': 18.2, 'FDI09': 20.75, 'FDI10': 8.51, 'FDI12': 9.395, 'FDI14': 14.1, 'FDI15': 13.8, 'FDI16': 14.0, 'FDI19': 15.1, 'FDI20': 19.1, 'FDI21': 5.59, 'FDI22': 12.6, 'FDI24': 10.3, 'FDI26': 5.94, 'FDI27': 8.71, 'FDI28': 14.3, 'FDI32': 17.7, 'FDI33': 16.5, 'FDI34': 10.65, 'FDI35': 14.0, 'FDI36': 12.5, 'FDI38': 13.35, 'FDI40': 11.5, 'FDI41': 18.5, 'FDI44': 16.1, 'FDI45': 13.1, 'FDI46': 9.5, 'FDI48': 11.85, 'FDI50': 8.42, 'FDI52': 18.7, 'FDI53': 8.895, 'FDI56': 7.325, 'FDI57': 19.85, 'FDI58': 7.64, 'FDI60': 7.22, 'FDJ02': 17.2, 'FDJ03': 12.35, 'FDJ04': 18.0, 'FDJ07': 7.26, 'FDJ08': 11.1, 'FDJ09': 15.0, 'FDJ10': 5.095, 'FDJ12': 8.895, 'FDJ14': 10.3, 'FDJ15': 11.35, 'FDJ16': 9.195, 'FDJ20': 20.7, 'FDJ21': 16.7, 'FDJ22': 18.75, 'FDJ26': 15.3, 'FDJ27': 17.7, 'FDJ28': 12.3, 'FDJ32': 10.695, 'FDJ33': 8.895, 'FDJ34': 11.8, 'FDJ36': 14.5, 'FDJ38': 8.6, 'FDJ40': 13.6, 'FDJ41': 6.85, 'FDJ44': 12.3, 'FDJ45': 17.75, 'FDJ46': 11.1, 'FDJ48': 11.3, 'FDJ50': 8.645, 'FDJ52': 7.145, 'FDJ53': 10.5, 'FDJ55': 12.8, 'FDJ56': 8.985, 'FDJ57': 7.42, 'FDJ58': 15.6, 'FDJ60': 19.35, 'FDK02': 12.5, 'FDK03': 12.6, 'FDK04': 7.36, 'FDK08': 9.195, 'FDK09': 15.2, 'FDK10': 5.785, 'FDK14': 6.98, 'FDK15': 10.8, 'FDK16': 9.065, 'FDK20': 12.6, 'FDK21': 7.905, 'FDK22': 9.8, 'FDK24': 9.195, 'FDK25': 11.6, 'FDK26': 5.46, 'FDK27': 11.0, 'FDK28': 5.695, 'FDK32': 16.25, 'FDK33': 17.85, 'FDK34': 13.35, 'FDK36': 7.09, 'FDK38': 6.65, 'FDK40': 7.035, 'FDK41': 14.3, 'FDK43': 9.8, 'FDK44': 16.6, 'FDK45': 11.65, 'FDK46': 9.6, 'FDK48': 7.445, 'FDK50': 7.96, 'FDK51': 19.85, 'FDK52': 18.25, 'FDK55': 18.5, 'FDK56': 9.695, 'FDK57': nan, 'FDK58': 11.35, 'FDK60': 16.5, 'FDL02': 20.0, 'FDL03': 19.25, 'FDL04': 19.0, 'FDL08': 10.8, 'FDL09': 19.6, 'FDL10': 8.395, 'FDL12': 15.85, 'FDL13': 13.85, 'FDL14': 8.115, 'FDL15': 17.85, 'FDL16': 12.85, 'FDL20': 17.1, 'FDL21': 15.85, 'FDL22': 16.85, 'FDL24': 10.3, 'FDL25': 6.92, 'FDL26': 18.0, 'FDL27': 6.17, 'FDL28': 10.0, 'FDL32': 15.7, 'FDL33': 7.235, 'FDL34': 16.0, 'FDL36': 15.1, 'FDL38': 13.8, 'FDL39': 16.1, 'FDL40': 17.7, 'FDL43': 10.1, 'FDL44': 18.25, 'FDL45': 15.6, 'FDL46': 20.35, 'FDL48': 19.35, 'FDL50': 12.15, 'FDL51': 20.7, 'FDL52': 6.635, 'FDL56': 14.1, 'FDL57': 15.1, 'FDL58': 5.78, 'FDM01': 7.895, 'FDM02': 12.5, 'FDM03': 12.65, 'FDM04': 9.195, 'FDM08': 10.1, 'FDM09': 11.15, 'FDM10': 18.25, 'FDM12': 16.7, 'FDM13': 6.425, 'FDM14': 13.8, 'FDM15': 11.8, 'FDM16': 8.155, 'FDM20': 10.0, 'FDM21': 20.2, 'FDM22': 14.0, 'FDM24': 6.135, 'FDM25': 10.695, 'FDM27': 12.35, 'FDM28': 15.7, 'FDM32': 20.5, 'FDM33': 15.6, 'FDM34': 19.0, 'FDM36': 11.65, 'FDM38': 5.885, 'FDM39': 6.42, 'FDM40': 10.195, 'FDM44': 12.5, 'FDM45': 8.655, 'FDM46': 7.365, 'FDM50': 13.0, 'FDM51': 11.8, 'FDM52': 15.1, 'FDM56': 16.7, 'FDM57': 11.65, 'FDM58': 16.85, 'FDM60': 10.8, 'FDN01': 8.895, 'FDN02': 16.5, 'FDN03': 9.8, 'FDN04': 11.8, 'FDN08': 7.72, 'FDN09': 14.15, 'FDN10': 11.5, 'FDN12': 15.6, 'FDN13': 18.6, 'FDN15': 17.5, 'FDN16': 12.6, 'FDN20': 19.35, 'FDN21': 18.6, 'FDN22': 18.85, 'FDN23': 6.575, 'FDN24': 14.1, 'FDN25': 7.895, 'FDN27': 20.85, 'FDN28': 5.88, 'FDN31': 11.5, 'FDN32': 17.5, 'FDN33': 6.305, 'FDN34': 15.6, 'FDN38': 6.615, 'FDN39': 19.35, 'FDN40': 5.88, 'FDN44': 13.15, 'FDN45': 19.35, 'FDN46': 7.21, 'FDN48': 13.35, 'FDN49': 17.25, 'FDN50': 16.85, 'FDN51': 17.85, 'FDN52': nan, 'FDN56': 5.46, 'FDN57': 18.25, 'FDN58': 13.8, 'FDN60': 15.1, 'FDO01': 21.1, 'FDO03': 10.395, 'FDO04': 16.6, 'FDO08': 11.1, 'FDO09': 13.5, 'FDO10': 13.65, 'FDO11': 8.0, 'FDO12': 15.75, 'FDO13': 7.865, 'FDO15': 16.75, 'FDO16': 5.48, 'FDO19': 17.7, 'FDO20': 12.85, 'FDO21': 11.6, 'FDO22': 13.5, 'FDO23': 17.85, 'FDO24': 11.1, 'FDO25': 6.3, 'FDO27': 6.175, 'FDO28': 5.765, 'FDO31': 6.76, 'FDO32': 6.36, 'FDO33': 14.75, 'FDO34': 17.7, 'FDO36': 19.7, 'FDO37': 8.06, 'FDO38': 17.25, 'FDO39': 6.985, 'FDO40': 17.1, 'FDO44': 12.6, 'FDO45': 13.15, 'FDO46': 9.6, 'FDO48': 15.0, 'FDO49': 10.6, 'FDO50': 16.25, 'FDO51': 6.785, 'FDO52': 11.6, 'FDO56': 10.195, 'FDO57': 20.75, 'FDO58': 19.6, 'FDO60': 20.0, 'FDP01': 20.75, 'FDP03': 5.15, 'FDP04': 15.35, 'FDP07': 18.2, 'FDP08': 20.5, 'FDP09': 19.75, 'FDP10': 19.0, 'FDP11': 15.85, 'FDP12': 9.8, 'FDP13': 8.1, 'FDP15': 15.2, 'FDP16': 18.6, 'FDP19': 11.5, 'FDP20': 19.85, 'FDP21': 7.42, 'FDP22': 14.65, 'FDP23': 6.71, 'FDP24': 20.6, 'FDP25': 15.2, 'FDP26': 7.785, 'FDP27': 8.155, 'FDP28': 13.65, 'FDP31': 21.1, 'FDP32': 6.65, 'FDP33': 18.7, 'FDP34': 12.85, 'FDP36': 10.395, 'FDP37': 15.6, 'FDP38': 10.1, 'FDP39': 12.65, 'FDP40': 4.555, 'FDP44': 16.5, 'FDP45': 15.7, 'FDP46': 15.35, 'FDP48': 7.52, 'FDP49': 9.0, 'FDP51': 13.85, 'FDP52': 18.7, 'FDP56': 8.185, 'FDP57': 17.5, 'FDP58': 11.1, 'FDP59': 20.85, 'FDP60': 17.35, 'FDQ01': 19.7, 'FDQ03': 15.0, 'FDQ04': 6.4, 'FDQ07': 15.1, 'FDQ08': 15.7, 'FDQ09': 7.235, 'FDQ10': 12.85, 'FDQ11': 5.695, 'FDQ12': 12.65, 'FDQ13': 11.1, 'FDQ14': 9.27, 'FDQ15': 20.35, 'FDQ16': 19.7, 'FDQ19': 7.35, 'FDQ20': 8.325, 'FDQ21': 21.25, 'FDQ22': 16.75, 'FDQ23': 6.55, 'FDQ24': 15.7, 'FDQ25': 8.63, 'FDQ26': 13.5, 'FDQ27': 5.19, 'FDQ28': 14.0, 'FDQ31': 5.785, 'FDQ32': 17.85, 'FDQ33': 13.35, 'FDQ34': 10.85, 'FDQ36': 7.855, 'FDQ37': 20.75, 'FDQ39': 14.8, 'FDQ40': 11.1, 'FDQ44': 20.5, 'FDQ45': 9.5, 'FDQ46': 7.51, 'FDQ47': 7.155, 'FDQ48': 14.3, 'FDQ49': 20.2, 'FDQ51': 16.0, 'FDQ52': 17.0, 'FDQ55': 13.65, 'FDQ56': 6.59, 'FDQ57': 7.275, 'FDQ58': 7.315, 'FDQ59': 9.8, 'FDQ60': nan, 'FDR01': 5.405, 'FDR02': 16.7, 'FDR03': 15.7, 'FDR04': 7.075, 'FDR07': 21.35, 'FDR08': 18.7, 'FDR09': 18.25, 'FDR10': 17.6, 'FDR11': 10.5, 'FDR12': 12.6, 'FDR13': 9.895, 'FDR14': 11.65, 'FDR15': 9.3, 'FDR16': 5.845, 'FDR19': 13.5, 'FDR20': 20.0, 'FDR21': 19.7, 'FDR22': 19.35, 'FDR23': 15.85, 'FDR24': 17.35, 'FDR25': 17.0, 'FDR26': 20.7, 'FDR27': 15.1, 'FDR28': 13.85, 'FDR31': 6.46, 'FDR32': 6.78, 'FDR33': 7.31, 'FDR34': 17.0, 'FDR35': 12.5, 'FDR36': 6.715, 'FDR37': 16.5, 'FDR39': 20.35, 'FDR40': 9.1, 'FDR43': 18.2, 'FDR44': 6.11, 'FDR45': 10.8, 'FDR46': 16.85, 'FDR47': 17.85, 'FDR48': 11.65, 'FDR49': 8.71, 'FDR51': 9.035, 'FDR52': 12.65, 'FDR55': 12.15, 'FDR56': 15.5, 'FDR57': 5.675, 'FDR58': 6.675, 'FDR59': 14.5, 'FDR60': 14.3, 'FDS01': 11.6, 'FDS02': 10.195, 'FDS03': 7.825, 'FDS04': 10.195, 'FDS07': 12.35, 'FDS08': 5.735, 'FDS09': 8.895, 'FDS10': 19.2, 'FDS11': 7.05, 'FDS12': 9.1, 'FDS13': 6.465, 'FDS14': 7.285, 'FDS15': 9.195, 'FDS16': 15.15, 'FDS19': 13.8, 'FDS20': 8.85, 'FDS21': 19.85, 'FDS22': 16.85, 'FDS23': 4.635, 'FDS24': 20.85, 'FDS25': 6.885, 'FDS26': 20.35, 'FDS27': 10.195, 'FDS28': 8.18, 'FDS31': 13.1, 'FDS32': 17.75, 'FDS33': 6.67, 'FDS34': 19.35, 'FDS35': 9.3, 'FDS36': 8.38, 'FDS37': 7.655, 'FDS39': 6.895, 'FDS40': 15.35, 'FDS43': 11.65, 'FDS44': 12.65, 'FDS45': 5.175, 'FDS46': 17.6, 'FDS47': 16.75, 'FDS48': 15.15, 'FDS49': 9.0, 'FDS50': 17.0, 'FDS51': 13.35, 'FDS52': 8.89, 'FDS55': 7.02, 'FDS56': 5.785, 'FDS57': 15.5, 'FDS58': 9.285, 'FDS59': 14.8, 'FDS60': 20.85, 'FDT01': 13.65, 'FDT02': 12.6, 'FDT03': 21.25, 'FDT04': 17.25, 'FDT07': 5.82, 'FDT08': 13.65, 'FDT09': 15.15, 'FDT10': 16.7, 'FDT11': 5.94, 'FDT12': 6.215, 'FDT13': 14.85, 'FDT14': 10.695, 'FDT15': 12.15, 'FDT16': 9.895, 'FDT19': 7.59, 'FDT20': 10.5, 'FDT21': 7.42, 'FDT22': 10.395, 'FDT23': 7.72, 'FDT24': 12.35, 'FDT25': 7.5, 'FDT26': 18.85, 'FDT27': 11.395, 'FDT28': 13.3, 'FDT31': 19.75, 'FDT32': 19.0, 'FDT33': 7.81, 'FDT34': 9.3, 'FDT35': 19.85, 'FDT36': 12.3, 'FDT37': 14.15, 'FDT38': 18.7, 'FDT39': 6.26, 'FDT40': 5.985, 'FDT43': 16.35, 'FDT44': 16.6, 'FDT45': 15.85, 'FDT46': 11.35, 'FDT47': 5.26, 'FDT48': 4.92, 'FDT49': 7.0, 'FDT50': 6.75, 'FDT51': 11.65, 'FDT52': 9.695, 'FDT55': 13.6, 'FDT56': 16.0, 'FDT57': 15.2, 'FDT58': 9.0, 'FDT59': 13.65, 'FDT60': 12.0, 'FDU01': 20.25, 'FDU02': 13.35, 'FDU03': 18.7, 'FDU04': 7.93, 'FDU07': 11.1, 'FDU08': 10.3, 'FDU09': 7.71, 'FDU10': 10.1, 'FDU11': 4.785, 'FDU12': 15.5, 'FDU13': 8.355, 'FDU14': 17.75, 'FDU15': 13.65, 'FDU16': 19.25, 'FDU19': 8.77, 'FDU20': 19.35, 'FDU21': 11.8, 'FDU22': 12.35, 'FDU23': 12.15, 'FDU24': 6.78, 'FDU25': 12.35, 'FDU26': 16.7, 'FDU27': 18.6, 'FDU28': 19.2, 'FDU31': 10.5, 'FDU32': 8.785, 'FDU33': 7.63, 'FDU34': 18.25, 'FDU35': 6.44, 'FDU36': 6.15, 'FDU37': 9.5, 'FDU38': 10.8, 'FDU39': 18.85, 'FDU40': 20.85, 'FDU43': 19.35, 'FDU44': 12.15, 'FDU45': 15.6, 'FDU46': 10.3, 'FDU47': 12.8, 'FDU48': 18.85, 'FDU49': 19.5, 'FDU50': 5.75, 'FDU51': 20.2, 'FDU52': 7.56, 'FDU55': 16.2, 'FDU56': 16.85, 'FDU57': 8.27, 'FDU58': 6.61, 'FDU59': 5.78, 'FDU60': 20.0, 'FDV01': 19.2, 'FDV02': 16.75, 'FDV03': 17.6, 'FDV04': 7.825, 'FDV07': 9.5, 'FDV08': 7.35, 'FDV09': 12.1, 'FDV10': 7.645, 'FDV11': 9.1, 'FDV12': 16.7, 'FDV13': 17.35, 'FDV14': 19.85, 'FDV15': 10.3, 'FDV16': 7.75, 'FDV19': 14.85, 'FDV20': 20.2, 'FDV21': 11.5, 'FDV22': 14.85, 'FDV23': 11.0, 'FDV24': 5.635, 'FDV25': 5.905, 'FDV26': 20.25, 'FDV27': 7.97, 'FDV28': 16.1, 'FDV31': 9.8, 'FDV32': 7.785, 'FDV33': 9.6, 'FDV34': 10.695, 'FDV35': 19.5, 'FDV36': 18.7, 'FDV37': 13.0, 'FDV38': 19.25, 'FDV39': 11.3, 'FDV40': 17.35, 'FDV43': 16.0, 'FDV44': 8.365, 'FDV45': 16.75, 'FDV46': 18.2, 'FDV47': 17.1, 'FDV48': 9.195, 'FDV49': 10.0, 'FDV50': 14.3, 'FDV51': 16.35, 'FDV52': 20.7, 'FDV55': 17.75, 'FDV56': 16.1, 'FDV57': 15.25, 'FDV58': 20.85, 'FDV59': 13.35, 'FDV60': 20.2, 'FDW01': 14.5, 'FDW02': 4.805, 'FDW03': 5.63, 'FDW04': 8.985, 'FDW07': 18.0, 'FDW08': 12.1, 'FDW09': 13.65, 'FDW10': 21.2, 'FDW11': 12.6, 'FDW12': 8.315, 'FDW13': 8.5, 'FDW14': 8.3, 'FDW15': 15.35, 'FDW16': 17.35, 'FDW19': 12.35, 'FDW20': 20.75, 'FDW21': 5.34, 'FDW22': 9.695, 'FDW23': 5.765, 'FDW24': 6.8, 'FDW25': 5.175, 'FDW26': 11.8, 'FDW27': 5.86, 'FDW28': 18.25, 'FDW31': 11.35, 'FDW32': 18.35, 'FDW33': 9.395, 'FDW34': 9.6, 'FDW35': 10.6, 'FDW36': 11.15, 'FDW37': 19.2, 'FDW38': 5.325, 'FDW39': 6.69, 'FDW40': 14.0, 'FDW43': 20.1, 'FDW44': 9.5, 'FDW45': 18.0, 'FDW46': 13.0, 'FDW47': 15.0, 'FDW48': 18.0, 'FDW49': 19.5, 'FDW50': 13.1, 'FDW51': 6.155, 'FDW52': 14.0, 'FDW55': 12.6, 'FDW56': 7.68, 'FDW57': 8.31, 'FDW58': 20.75, 'FDW59': 13.15, 'FDW60': 5.44, 'FDX01': 10.1, 'FDX02': 16.0, 'FDX03': 15.85, 'FDX04': 19.6, 'FDX07': 19.2, 'FDX08': 12.85, 'FDX09': 9.0, 'FDX10': 6.385, 'FDX11': 16.0, 'FDX12': 18.2, 'FDX13': 7.725, 'FDX14': 13.1, 'FDX15': 17.2, 'FDX16': 17.85, 'FDX19': 19.1, 'FDX20': 7.365, 'FDX21': 7.05, 'FDX22': 6.785, 'FDX23': 6.445, 'FDX24': 8.355, 'FDX25': 16.7, 'FDX26': 17.7, 'FDX27': 20.7, 'FDX28': 6.325, 'FDX31': 20.35, 'FDX32': 15.1, 'FDX33': 9.195, 'FDX34': 6.195, 'FDX35': 5.035, 'FDX36': 9.695, 'FDX37': 16.2, 'FDX38': 10.5, 'FDX39': 14.3, 'FDX40': 12.85, 'FDX43': 5.655, 'FDX44': 9.3, 'FDX45': 16.75, 'FDX46': 12.3, 'FDX47': 6.55, 'FDX48': 17.75, 'FDX49': 4.615, 'FDX50': 20.1, 'FDX51': 9.5, 'FDX52': 11.5, 'FDX55': 15.1, 'FDX56': 17.1, 'FDX57': 17.25, 'FDX58': 13.15, 'FDX59': 10.195, 'FDX60': 14.35, 'FDY01': 11.8, 'FDY02': 8.945, 'FDY03': 17.6, 'FDY04': 17.7, 'FDY07': 11.8, 'FDY08': 9.395, 'FDY09': 15.6, 'FDY10': 17.6, 'FDY11': 6.71, 'FDY12': 9.8, 'FDY13': 12.1, 'FDY14': 10.3, 'FDY15': 18.25, 'FDY16': 18.35, 'FDY19': 19.75, 'FDY20': 12.5, 'FDY21': 15.1, 'FDY22': 16.5, 'FDY24': 4.88, 'FDY25': 12.0, 'FDY26': 20.6, 'FDY27': 6.38, 'FDY28': 7.47, 'FDY31': 5.98, 'FDY32': 7.605, 'FDY33': 14.5, 'FDY34': 10.5, 'FDY35': 17.6, 'FDY36': 12.3, 'FDY37': 17.0, 'FDY38': 13.6, 'FDY39': 5.305, 'FDY40': 15.5, 'FDY43': 14.85, 'FDY44': 14.15, 'FDY45': 17.5, 'FDY46': 18.6, 'FDY47': 8.6, 'FDY48': 14.0, 'FDY49': 17.2, 'FDY50': 5.8, 'FDY51': 12.5, 'FDY52': 6.365, 'FDY55': 16.75, 'FDY56': 16.35, 'FDY57': 20.2, 'FDY58': 11.65, 'FDY59': 8.195, 'FDY60': 10.5, 'FDZ01': 8.975, 'FDZ02': 6.905, 'FDZ03': 13.65, 'FDZ04': 9.31, 'FDZ07': 15.1, 'FDZ08': 12.5, 'FDZ09': 17.6, 'FDZ10': 17.85, 'FDZ12': 9.17, 'FDZ13': 7.84, 'FDZ14': 7.71, 'FDZ15': 13.1, 'FDZ16': 16.85, 'FDZ19': 6.425, 'FDZ20': 16.1, 'FDZ21': 17.6, 'FDZ22': 9.395, 'FDZ23': 17.75, 'FDZ25': 15.7, 'FDZ26': 11.6, 'FDZ27': 7.935, 'FDZ28': 20.0, 'FDZ31': 15.35, 'FDZ32': 7.785, 'FDZ33': 10.195, 'FDZ34': 6.695, 'FDZ35': 9.6, 'FDZ36': 6.035, 'FDZ37': 8.1, 'FDZ38': 17.6, 'FDZ39': 19.7, 'FDZ40': 8.935, 'FDZ43': 11.0, 'FDZ44': 8.185, 'FDZ45': 14.1, 'FDZ46': 7.485, 'FDZ47': 20.7, 'FDZ48': 17.75, 'FDZ49': 11.0, 'FDZ50': 12.8, 'FDZ51': 11.3, 'FDZ52': 19.2, 'FDZ55': 6.055, 'FDZ56': 16.25, 'FDZ57': 10.0, 'FDZ58': 17.85, 'FDZ59': 6.63, 'FDZ60': 20.5, 'NCA05': 20.75, 'NCA06': 20.5, 'NCA17': 20.6, 'NCA18': 10.1, 'NCA29': 10.5, 'NCA30': 19.0, 'NCA41': 16.75, 'NCA42': 6.965, 'NCA53': 11.395, 'NCA54': 16.5, 'NCB06': 17.6, 'NCB07': 19.2, 'NCB18': 19.6, 'NCB19': 6.525, 'NCB30': 14.6, 'NCB31': 6.235, 'NCB42': 11.8, 'NCB43': 20.2, 'NCB54': 8.76, 'NCB55': 15.7, 'NCC06': 19.0, 'NCC07': 19.6, 'NCC18': 19.1, 'NCC19': 6.57, 'NCC30': 16.6, 'NCC31': 8.02, 'NCC42': 15.0, 'NCC43': 7.39, 'NCC54': 17.75, 'NCC55': 10.695, 'NCD06': 13.0, 'NCD07': 9.1, 'NCD18': 16.0, 'NCD19': 8.93, 'NCD30': 19.7, 'NCD31': 12.1, 'NCD42': 16.5, 'NCD43': 8.85, 'NCD54': 21.1, 'NCD55': 14.0, 'NCE06': 5.825, 'NCE07': 8.18, 'NCE18': 10.0, 'NCE19': 8.97, 'NCE30': 16.0, 'NCE31': 7.67, 'NCE42': 21.1, 'NCE43': 12.5, 'NCE54': 20.7, 'NCE55': 8.92, 'NCF06': 6.235, 'NCF07': 9.0, 'NCF18': 18.35, 'NCF19': 13.0, 'NCF30': 17.0, 'NCF31': 9.13, 'NCF42': 17.35, 'NCF43': 8.51, 'NCF54': 18.0, 'NCF55': 6.675, 'NCG06': 16.35, 'NCG07': 12.3, 'NCG18': 15.3, 'NCG19': 20.25, 'NCG30': 20.2, 'NCG42': 19.2, 'NCG43': 20.2, 'NCG54': 12.1, 'NCG55': 16.25, 'NCH06': 12.3, 'NCH07': 13.15, 'NCH18': 9.3, 'NCH29': 5.51, 'NCH30': 17.1, 'NCH42': 6.86, 'NCH43': 8.42, 'NCH54': 13.5, 'NCH55': 16.35, 'NCI06': 11.3, 'NCI17': 8.645, 'NCI18': 18.35, 'NCI29': 8.6, 'NCI30': 20.25, 'NCI31': 20.0, 'NCI42': 18.75, 'NCI43': 19.85, 'NCI54': 15.2, 'NCI55': 18.6, 'NCJ05': 18.7, 'NCJ06': 20.1, 'NCJ17': 7.68, 'NCJ18': 12.35, 'NCJ19': 18.6, 'NCJ29': 10.6, 'NCJ30': 5.82, 'NCJ31': 19.2, 'NCJ42': 19.75, 'NCJ43': 6.635, 'NCJ54': 9.895, 'NCK05': 20.1, 'NCK06': 5.03, 'NCK07': 10.65, 'NCK17': 11.0, 'NCK18': 9.6, 'NCK19': 9.8, 'NCK29': 5.615, 'NCK30': 14.85, 'NCK31': 10.895, 'NCK42': 7.475, 'NCK53': 11.6, 'NCK54': 12.15, 'NCL05': 19.6, 'NCL06': 14.65, 'NCL07': 13.85, 'NCL17': 7.39, 'NCL18': 18.85, 'NCL19': 15.35, 'NCL29': 9.695, 'NCL30': 18.1, 'NCL31': 7.39, 'NCL41': 12.35, 'NCL42': 18.85, 'NCL53': 7.5, 'NCL54': 12.6, 'NCL55': 12.15, 'NCM05': 6.825, 'NCM06': 7.475, 'NCM07': 9.395, 'NCM17': 7.93, 'NCM18': 13.0, 'NCM19': 12.65, 'NCM26': 20.5, 'NCM29': 11.5, 'NCM30': 19.1, 'NCM31': 6.095, 'NCM41': 16.5, 'NCM42': 6.13, 'NCM43': 14.5, 'NCM53': 18.75, 'NCM54': 17.7, 'NCM55': 15.6, 'NCN05': 8.235, 'NCN06': 8.39, 'NCN07': 18.5, 'NCN14': 19.1, 'NCN17': 11.0, 'NCN18': 8.895, 'NCN19': 13.1, 'NCN26': 10.85, 'NCN29': 15.2, 'NCN30': 16.35, 'NCN41': 17.0, 'NCN42': 20.25, 'NCN43': 12.15, 'NCN53': 5.175, 'NCN54': 20.35, 'NCN55': 14.6, 'NCO02': 11.15, 'NCO05': 7.27, 'NCO06': 19.25, 'NCO07': 9.06, 'NCO14': 9.6, 'NCO17': 10.0, 'NCO18': 13.15, 'NCO26': 7.235, 'NCO29': 11.15, 'NCO30': 19.5, 'NCO41': 12.5, 'NCO42': 21.25, 'NCO43': 5.5, 'NCO53': 16.2, 'NCO54': 19.5, 'NCO55': 12.8, 'NCP02': 7.105, 'NCP05': 19.6, 'NCP06': 20.7, 'NCP14': 8.275, 'NCP17': 19.35, 'NCP18': 12.15, 'NCP29': 8.42, 'NCP30': 20.5, 'NCP41': 16.6, 'NCP42': 8.51, 'NCP43': 17.75, 'NCP50': 17.35, 'NCP53': 14.75, 'NCP54': 15.35, 'NCP55': 14.65, 'NCQ02': 12.6, 'NCQ05': 11.395, 'NCQ06': 13.0, 'NCQ17': 10.3, 'NCQ18': 15.75, 'NCQ29': 12.0, 'NCQ30': 7.725, 'NCQ38': 16.35, 'NCQ41': 14.8, 'NCQ42': 20.35, 'NCQ43': 17.75, 'NCQ50': 18.75, 'NCQ53': 17.6, 'NCQ54': 17.7, 'NCR05': 10.1, 'NCR06': 12.5, 'NCR17': 9.8, 'NCR18': 15.85, 'NCR29': 7.565, 'NCR30': 20.6, 'NCR38': 17.25, 'NCR41': 17.85, 'NCR42': 9.105, 'NCR50': 20.2, 'NCR53': 12.15, 'NCR54': 16.35, 'NCS05': 11.5, 'NCS06': 7.935, 'NCS17': 18.6, 'NCS18': 12.65, 'NCS29': 9.0, 'NCS30': 5.945, 'NCS38': 8.6, 'NCS41': 12.85, 'NCS42': 8.6, 'NCS53': 14.5, 'NCS54': 13.6, 'NCT05': 10.895, 'NCT06': 17.1, 'NCT17': 10.8, 'NCT18': 14.6, 'NCT29': 12.6, 'NCT30': 9.1, 'NCT41': 15.7, 'NCT42': 5.88, 'NCT53': 5.4, 'NCT54': 8.695, 'NCU05': 11.8, 'NCU06': 17.6, 'NCU17': 5.32, 'NCU18': 15.1, 'NCU29': 7.685, 'NCU30': 5.11, 'NCU41': 18.85, 'NCU42': 9.0, 'NCU53': 5.485, 'NCU54': 8.88, 'NCV05': 10.1, 'NCV06': 11.3, 'NCV17': 18.85, 'NCV18': 6.775, 'NCV29': 11.8, 'NCV30': 20.2, 'NCV41': 14.35, 'NCV42': 6.26, 'NCV53': 8.27, 'NCV54': 11.1, 'NCW05': 20.25, 'NCW06': 16.2, 'NCW17': 18.0, 'NCW18': 15.1, 'NCW29': 14.0, 'NCW30': 5.21, 'NCW41': 18.0, 'NCW42': 18.2, 'NCW53': 18.35, 'NCW54': 7.5, 'NCX05': 15.2, 'NCX06': 17.6, 'NCX17': 21.25, 'NCX18': 14.15, 'NCX29': 10.0, 'NCX30': 16.7, 'NCX41': 19.0, 'NCX42': 6.36, 'NCX53': 20.1, 'NCX54': 9.195, 'NCY05': 13.5, 'NCY06': 15.25, 'NCY17': 18.2, 'NCY18': 7.285, 'NCY29': 13.65, 'NCY30': 20.25, 'NCY41': 16.75, 'NCY42': 6.38, 'NCY53': 20.0, 'NCY54': 8.43, 'NCZ05': 8.485, 'NCZ06': 19.6, 'NCZ17': 12.15, 'NCZ18': 7.825, 'NCZ29': 15.0, 'NCZ30': 6.59, 'NCZ41': 19.85, 'NCZ42': 10.5, 'NCZ53': 9.6, 'NCZ54': 14.65}\n"
          ]
        }
      ]
    },
    {
      "cell_type": "markdown",
      "source": [
        "Con el Item_Identifier se logra recuperar casi todos los pesos. No hay manera de recuperar esos 4 pesos faltantes de una manera confiable, así que se proece a borrar esas 4 filas."
      ],
      "metadata": {
        "id": "Q-d_jKPIv2aA"
      }
    },
    {
      "cell_type": "code",
      "source": [
        "def fill_weight(row):\n",
        "  return item_peso[row[\"Item_Identifier\"]]\n",
        "\n",
        "df2 = df1\n",
        "df2[\"Item_Weight\"] = df2.apply(fill_weight, axis=1)\n",
        "df2.info()"
      ],
      "metadata": {
        "colab": {
          "base_uri": "https://localhost:8080/"
        },
        "id": "QLEdcAsErEXI",
        "outputId": "fb3fe48c-4f6b-4837-8ea5-7b5df18d9ea7"
      },
      "execution_count": 484,
      "outputs": [
        {
          "output_type": "stream",
          "name": "stdout",
          "text": [
            "<class 'pandas.core.frame.DataFrame'>\n",
            "RangeIndex: 8523 entries, 0 to 8522\n",
            "Data columns (total 12 columns):\n",
            " #   Column                     Non-Null Count  Dtype  \n",
            "---  ------                     --------------  -----  \n",
            " 0   Item_Identifier            8523 non-null   object \n",
            " 1   Item_Weight                8519 non-null   float64\n",
            " 2   Item_Fat_Content           8523 non-null   object \n",
            " 3   Item_Visibility            8523 non-null   float64\n",
            " 4   Item_Type                  8523 non-null   object \n",
            " 5   Item_MRP                   8523 non-null   float64\n",
            " 6   Outlet_Identifier          8523 non-null   object \n",
            " 7   Outlet_Establishment_Year  8523 non-null   int64  \n",
            " 8   Outlet_Size                8523 non-null   object \n",
            " 9   Outlet_Location_Type       8523 non-null   object \n",
            " 10  Outlet_Type                8523 non-null   object \n",
            " 11  Item_Outlet_Sales          8523 non-null   float64\n",
            "dtypes: float64(4), int64(1), object(7)\n",
            "memory usage: 799.2+ KB\n"
          ]
        }
      ]
    },
    {
      "cell_type": "markdown",
      "source": [
        "Finalmente nos quedamos con 8519 registros."
      ],
      "metadata": {
        "id": "ANsAtwsh1d8V"
      }
    },
    {
      "cell_type": "code",
      "source": [
        "df2.dropna(how = 'any', inplace=True)\n",
        "df2.info()"
      ],
      "metadata": {
        "colab": {
          "base_uri": "https://localhost:8080/"
        },
        "id": "XkPLc2lzw7Vj",
        "outputId": "e2fe3b5b-a279-484b-e1c9-8196c4801043"
      },
      "execution_count": 485,
      "outputs": [
        {
          "output_type": "stream",
          "name": "stdout",
          "text": [
            "<class 'pandas.core.frame.DataFrame'>\n",
            "Index: 8519 entries, 0 to 8522\n",
            "Data columns (total 12 columns):\n",
            " #   Column                     Non-Null Count  Dtype  \n",
            "---  ------                     --------------  -----  \n",
            " 0   Item_Identifier            8519 non-null   object \n",
            " 1   Item_Weight                8519 non-null   float64\n",
            " 2   Item_Fat_Content           8519 non-null   object \n",
            " 3   Item_Visibility            8519 non-null   float64\n",
            " 4   Item_Type                  8519 non-null   object \n",
            " 5   Item_MRP                   8519 non-null   float64\n",
            " 6   Outlet_Identifier          8519 non-null   object \n",
            " 7   Outlet_Establishment_Year  8519 non-null   int64  \n",
            " 8   Outlet_Size                8519 non-null   object \n",
            " 9   Outlet_Location_Type       8519 non-null   object \n",
            " 10  Outlet_Type                8519 non-null   object \n",
            " 11  Item_Outlet_Sales          8519 non-null   float64\n",
            "dtypes: float64(4), int64(1), object(7)\n",
            "memory usage: 865.2+ KB\n"
          ]
        }
      ]
    },
    {
      "cell_type": "markdown",
      "source": [
        "# Verificamos que las columnas que son categóricas tengan valores coherentes"
      ],
      "metadata": {
        "id": "UVjPkbut1xlR"
      }
    },
    {
      "cell_type": "markdown",
      "source": [
        "Nos podemos dar cuenta de que podemos estandarizar los valores de la columna \"Item_Fat_Content\""
      ],
      "metadata": {
        "id": "AdYbPhlK_U8p"
      }
    },
    {
      "cell_type": "code",
      "source": [
        "df2[\"Item_Fat_Content\"].value_counts()"
      ],
      "metadata": {
        "colab": {
          "base_uri": "https://localhost:8080/"
        },
        "id": "JNYd97aj2l2Z",
        "outputId": "c9e38370-ef89-4be2-833b-62e7094feb3c"
      },
      "execution_count": 486,
      "outputs": [
        {
          "output_type": "execute_result",
          "data": {
            "text/plain": [
              "Item_Fat_Content\n",
              "Low Fat    5088\n",
              "Regular    2886\n",
              "LF          316\n",
              "reg         117\n",
              "low fat     112\n",
              "Name: count, dtype: int64"
            ]
          },
          "metadata": {},
          "execution_count": 486
        }
      ]
    },
    {
      "cell_type": "code",
      "source": [
        "lowfat_filter1 = df2[\"Item_Fat_Content\"] == \"LF\"\n",
        "lowfat_filter2 = df2[\"Item_Fat_Content\"] == \"low fat\"\n",
        "regular_filter = df2[\"Item_Fat_Content\"] == \"reg\"\n",
        "df2.loc[lowfat_filter1 | lowfat_filter2, \"Item_Fat_Content\"] = \"Low Fat\"\n",
        "df2.loc[regular_filter, \"Item_Fat_Content\"] = \"Regular\"\n",
        "df2[\"Item_Fat_Content\"].value_counts()"
      ],
      "metadata": {
        "colab": {
          "base_uri": "https://localhost:8080/"
        },
        "id": "t9iRDANh_eU_",
        "outputId": "842adb1d-e951-4710-b984-c81ff09f61ab"
      },
      "execution_count": 487,
      "outputs": [
        {
          "output_type": "execute_result",
          "data": {
            "text/plain": [
              "Item_Fat_Content\n",
              "Low Fat    5516\n",
              "Regular    3003\n",
              "Name: count, dtype: int64"
            ]
          },
          "metadata": {},
          "execution_count": 487
        }
      ]
    },
    {
      "cell_type": "markdown",
      "source": [
        "En la columna \"Item_Type\" todo se ve bien."
      ],
      "metadata": {
        "id": "KZZTX_gjA9pT"
      }
    },
    {
      "cell_type": "code",
      "source": [
        "df2[\"Item_Type\"].value_counts()"
      ],
      "metadata": {
        "colab": {
          "base_uri": "https://localhost:8080/"
        },
        "id": "LY19yIRG2vw5",
        "outputId": "71cc2b73-4669-4247-a14c-375b7687d672"
      },
      "execution_count": 488,
      "outputs": [
        {
          "output_type": "execute_result",
          "data": {
            "text/plain": [
              "Item_Type\n",
              "Fruits and Vegetables    1232\n",
              "Snack Foods              1199\n",
              "Household                 910\n",
              "Frozen Foods              855\n",
              "Dairy                     681\n",
              "Canned                    649\n",
              "Baking Goods              647\n",
              "Health and Hygiene        520\n",
              "Soft Drinks               445\n",
              "Meat                      425\n",
              "Breads                    251\n",
              "Hard Drinks               214\n",
              "Others                    169\n",
              "Starchy Foods             148\n",
              "Breakfast                 110\n",
              "Seafood                    64\n",
              "Name: count, dtype: int64"
            ]
          },
          "metadata": {},
          "execution_count": 488
        }
      ]
    },
    {
      "cell_type": "markdown",
      "source": [
        "# Buscaremos duplicados"
      ],
      "metadata": {
        "id": "F95KAhjcB05A"
      }
    },
    {
      "cell_type": "markdown",
      "source": [
        "No hay filas duplicadas."
      ],
      "metadata": {
        "id": "vmJYBKDsDH_f"
      }
    },
    {
      "cell_type": "code",
      "source": [
        "df2.duplicated().value_counts()"
      ],
      "metadata": {
        "colab": {
          "base_uri": "https://localhost:8080/"
        },
        "id": "mCZTus9OC7FC",
        "outputId": "8647f3e7-b2d8-4bd6-a78e-821b3da1711e"
      },
      "execution_count": 489,
      "outputs": [
        {
          "output_type": "execute_result",
          "data": {
            "text/plain": [
              "False    8519\n",
              "Name: count, dtype: int64"
            ]
          },
          "metadata": {},
          "execution_count": 489
        }
      ]
    },
    {
      "cell_type": "markdown",
      "source": [
        "# Resumen estadístico y tendencias"
      ],
      "metadata": {
        "id": "3qEMRhIVEqtH"
      }
    },
    {
      "cell_type": "markdown",
      "source": [
        "Estadística básica"
      ],
      "metadata": {
        "id": "kxp6wp9zE8w0"
      }
    },
    {
      "cell_type": "code",
      "source": [
        "df2.describe()"
      ],
      "metadata": {
        "colab": {
          "base_uri": "https://localhost:8080/",
          "height": 300
        },
        "id": "Qi2CXGX2EOQT",
        "outputId": "9de56be9-0df6-41eb-964f-068643b547e7"
      },
      "execution_count": 490,
      "outputs": [
        {
          "output_type": "execute_result",
          "data": {
            "text/plain": [
              "       Item_Weight  Item_Visibility     Item_MRP  Outlet_Establishment_Year  \\\n",
              "count  8519.000000      8519.000000  8519.000000                8519.000000   \n",
              "mean     12.875420         0.066112   141.010019                1997.837892   \n",
              "std       4.646098         0.051586    62.283594                   8.369105   \n",
              "min       4.555000         0.000000    31.290000                1985.000000   \n",
              "25%       8.785000         0.026983    93.844900                1987.000000   \n",
              "50%      12.650000         0.053925   143.047000                1999.000000   \n",
              "75%      16.850000         0.094558   185.676600                2004.000000   \n",
              "max      21.350000         0.328391   266.888400                2009.000000   \n",
              "\n",
              "       Item_Outlet_Sales  \n",
              "count        8519.000000  \n",
              "mean         2181.188779  \n",
              "std          1706.511093  \n",
              "min            33.290000  \n",
              "25%           834.247400  \n",
              "50%          1794.331000  \n",
              "75%          3100.630600  \n",
              "max         13086.964800  "
            ],
            "text/html": [
              "\n",
              "  <div id=\"df-21dd741d-ed4f-407f-ac32-6db064ed65f2\" class=\"colab-df-container\">\n",
              "    <div>\n",
              "<style scoped>\n",
              "    .dataframe tbody tr th:only-of-type {\n",
              "        vertical-align: middle;\n",
              "    }\n",
              "\n",
              "    .dataframe tbody tr th {\n",
              "        vertical-align: top;\n",
              "    }\n",
              "\n",
              "    .dataframe thead th {\n",
              "        text-align: right;\n",
              "    }\n",
              "</style>\n",
              "<table border=\"1\" class=\"dataframe\">\n",
              "  <thead>\n",
              "    <tr style=\"text-align: right;\">\n",
              "      <th></th>\n",
              "      <th>Item_Weight</th>\n",
              "      <th>Item_Visibility</th>\n",
              "      <th>Item_MRP</th>\n",
              "      <th>Outlet_Establishment_Year</th>\n",
              "      <th>Item_Outlet_Sales</th>\n",
              "    </tr>\n",
              "  </thead>\n",
              "  <tbody>\n",
              "    <tr>\n",
              "      <th>count</th>\n",
              "      <td>8519.000000</td>\n",
              "      <td>8519.000000</td>\n",
              "      <td>8519.000000</td>\n",
              "      <td>8519.000000</td>\n",
              "      <td>8519.000000</td>\n",
              "    </tr>\n",
              "    <tr>\n",
              "      <th>mean</th>\n",
              "      <td>12.875420</td>\n",
              "      <td>0.066112</td>\n",
              "      <td>141.010019</td>\n",
              "      <td>1997.837892</td>\n",
              "      <td>2181.188779</td>\n",
              "    </tr>\n",
              "    <tr>\n",
              "      <th>std</th>\n",
              "      <td>4.646098</td>\n",
              "      <td>0.051586</td>\n",
              "      <td>62.283594</td>\n",
              "      <td>8.369105</td>\n",
              "      <td>1706.511093</td>\n",
              "    </tr>\n",
              "    <tr>\n",
              "      <th>min</th>\n",
              "      <td>4.555000</td>\n",
              "      <td>0.000000</td>\n",
              "      <td>31.290000</td>\n",
              "      <td>1985.000000</td>\n",
              "      <td>33.290000</td>\n",
              "    </tr>\n",
              "    <tr>\n",
              "      <th>25%</th>\n",
              "      <td>8.785000</td>\n",
              "      <td>0.026983</td>\n",
              "      <td>93.844900</td>\n",
              "      <td>1987.000000</td>\n",
              "      <td>834.247400</td>\n",
              "    </tr>\n",
              "    <tr>\n",
              "      <th>50%</th>\n",
              "      <td>12.650000</td>\n",
              "      <td>0.053925</td>\n",
              "      <td>143.047000</td>\n",
              "      <td>1999.000000</td>\n",
              "      <td>1794.331000</td>\n",
              "    </tr>\n",
              "    <tr>\n",
              "      <th>75%</th>\n",
              "      <td>16.850000</td>\n",
              "      <td>0.094558</td>\n",
              "      <td>185.676600</td>\n",
              "      <td>2004.000000</td>\n",
              "      <td>3100.630600</td>\n",
              "    </tr>\n",
              "    <tr>\n",
              "      <th>max</th>\n",
              "      <td>21.350000</td>\n",
              "      <td>0.328391</td>\n",
              "      <td>266.888400</td>\n",
              "      <td>2009.000000</td>\n",
              "      <td>13086.964800</td>\n",
              "    </tr>\n",
              "  </tbody>\n",
              "</table>\n",
              "</div>\n",
              "    <div class=\"colab-df-buttons\">\n",
              "\n",
              "  <div class=\"colab-df-container\">\n",
              "    <button class=\"colab-df-convert\" onclick=\"convertToInteractive('df-21dd741d-ed4f-407f-ac32-6db064ed65f2')\"\n",
              "            title=\"Convert this dataframe to an interactive table.\"\n",
              "            style=\"display:none;\">\n",
              "\n",
              "  <svg xmlns=\"http://www.w3.org/2000/svg\" height=\"24px\" viewBox=\"0 -960 960 960\">\n",
              "    <path d=\"M120-120v-720h720v720H120Zm60-500h600v-160H180v160Zm220 220h160v-160H400v160Zm0 220h160v-160H400v160ZM180-400h160v-160H180v160Zm440 0h160v-160H620v160ZM180-180h160v-160H180v160Zm440 0h160v-160H620v160Z\"/>\n",
              "  </svg>\n",
              "    </button>\n",
              "\n",
              "  <style>\n",
              "    .colab-df-container {\n",
              "      display:flex;\n",
              "      gap: 12px;\n",
              "    }\n",
              "\n",
              "    .colab-df-convert {\n",
              "      background-color: #E8F0FE;\n",
              "      border: none;\n",
              "      border-radius: 50%;\n",
              "      cursor: pointer;\n",
              "      display: none;\n",
              "      fill: #1967D2;\n",
              "      height: 32px;\n",
              "      padding: 0 0 0 0;\n",
              "      width: 32px;\n",
              "    }\n",
              "\n",
              "    .colab-df-convert:hover {\n",
              "      background-color: #E2EBFA;\n",
              "      box-shadow: 0px 1px 2px rgba(60, 64, 67, 0.3), 0px 1px 3px 1px rgba(60, 64, 67, 0.15);\n",
              "      fill: #174EA6;\n",
              "    }\n",
              "\n",
              "    .colab-df-buttons div {\n",
              "      margin-bottom: 4px;\n",
              "    }\n",
              "\n",
              "    [theme=dark] .colab-df-convert {\n",
              "      background-color: #3B4455;\n",
              "      fill: #D2E3FC;\n",
              "    }\n",
              "\n",
              "    [theme=dark] .colab-df-convert:hover {\n",
              "      background-color: #434B5C;\n",
              "      box-shadow: 0px 1px 3px 1px rgba(0, 0, 0, 0.15);\n",
              "      filter: drop-shadow(0px 1px 2px rgba(0, 0, 0, 0.3));\n",
              "      fill: #FFFFFF;\n",
              "    }\n",
              "  </style>\n",
              "\n",
              "    <script>\n",
              "      const buttonEl =\n",
              "        document.querySelector('#df-21dd741d-ed4f-407f-ac32-6db064ed65f2 button.colab-df-convert');\n",
              "      buttonEl.style.display =\n",
              "        google.colab.kernel.accessAllowed ? 'block' : 'none';\n",
              "\n",
              "      async function convertToInteractive(key) {\n",
              "        const element = document.querySelector('#df-21dd741d-ed4f-407f-ac32-6db064ed65f2');\n",
              "        const dataTable =\n",
              "          await google.colab.kernel.invokeFunction('convertToInteractive',\n",
              "                                                    [key], {});\n",
              "        if (!dataTable) return;\n",
              "\n",
              "        const docLinkHtml = 'Like what you see? Visit the ' +\n",
              "          '<a target=\"_blank\" href=https://colab.research.google.com/notebooks/data_table.ipynb>data table notebook</a>'\n",
              "          + ' to learn more about interactive tables.';\n",
              "        element.innerHTML = '';\n",
              "        dataTable['output_type'] = 'display_data';\n",
              "        await google.colab.output.renderOutput(dataTable, element);\n",
              "        const docLink = document.createElement('div');\n",
              "        docLink.innerHTML = docLinkHtml;\n",
              "        element.appendChild(docLink);\n",
              "      }\n",
              "    </script>\n",
              "  </div>\n",
              "\n",
              "\n",
              "<div id=\"df-501f28d0-a12b-4845-9a83-aae141c8811a\">\n",
              "  <button class=\"colab-df-quickchart\" onclick=\"quickchart('df-501f28d0-a12b-4845-9a83-aae141c8811a')\"\n",
              "            title=\"Suggest charts\"\n",
              "            style=\"display:none;\">\n",
              "\n",
              "<svg xmlns=\"http://www.w3.org/2000/svg\" height=\"24px\"viewBox=\"0 0 24 24\"\n",
              "     width=\"24px\">\n",
              "    <g>\n",
              "        <path d=\"M19 3H5c-1.1 0-2 .9-2 2v14c0 1.1.9 2 2 2h14c1.1 0 2-.9 2-2V5c0-1.1-.9-2-2-2zM9 17H7v-7h2v7zm4 0h-2V7h2v10zm4 0h-2v-4h2v4z\"/>\n",
              "    </g>\n",
              "</svg>\n",
              "  </button>\n",
              "\n",
              "<style>\n",
              "  .colab-df-quickchart {\n",
              "      --bg-color: #E8F0FE;\n",
              "      --fill-color: #1967D2;\n",
              "      --hover-bg-color: #E2EBFA;\n",
              "      --hover-fill-color: #174EA6;\n",
              "      --disabled-fill-color: #AAA;\n",
              "      --disabled-bg-color: #DDD;\n",
              "  }\n",
              "\n",
              "  [theme=dark] .colab-df-quickchart {\n",
              "      --bg-color: #3B4455;\n",
              "      --fill-color: #D2E3FC;\n",
              "      --hover-bg-color: #434B5C;\n",
              "      --hover-fill-color: #FFFFFF;\n",
              "      --disabled-bg-color: #3B4455;\n",
              "      --disabled-fill-color: #666;\n",
              "  }\n",
              "\n",
              "  .colab-df-quickchart {\n",
              "    background-color: var(--bg-color);\n",
              "    border: none;\n",
              "    border-radius: 50%;\n",
              "    cursor: pointer;\n",
              "    display: none;\n",
              "    fill: var(--fill-color);\n",
              "    height: 32px;\n",
              "    padding: 0;\n",
              "    width: 32px;\n",
              "  }\n",
              "\n",
              "  .colab-df-quickchart:hover {\n",
              "    background-color: var(--hover-bg-color);\n",
              "    box-shadow: 0 1px 2px rgba(60, 64, 67, 0.3), 0 1px 3px 1px rgba(60, 64, 67, 0.15);\n",
              "    fill: var(--button-hover-fill-color);\n",
              "  }\n",
              "\n",
              "  .colab-df-quickchart-complete:disabled,\n",
              "  .colab-df-quickchart-complete:disabled:hover {\n",
              "    background-color: var(--disabled-bg-color);\n",
              "    fill: var(--disabled-fill-color);\n",
              "    box-shadow: none;\n",
              "  }\n",
              "\n",
              "  .colab-df-spinner {\n",
              "    border: 2px solid var(--fill-color);\n",
              "    border-color: transparent;\n",
              "    border-bottom-color: var(--fill-color);\n",
              "    animation:\n",
              "      spin 1s steps(1) infinite;\n",
              "  }\n",
              "\n",
              "  @keyframes spin {\n",
              "    0% {\n",
              "      border-color: transparent;\n",
              "      border-bottom-color: var(--fill-color);\n",
              "      border-left-color: var(--fill-color);\n",
              "    }\n",
              "    20% {\n",
              "      border-color: transparent;\n",
              "      border-left-color: var(--fill-color);\n",
              "      border-top-color: var(--fill-color);\n",
              "    }\n",
              "    30% {\n",
              "      border-color: transparent;\n",
              "      border-left-color: var(--fill-color);\n",
              "      border-top-color: var(--fill-color);\n",
              "      border-right-color: var(--fill-color);\n",
              "    }\n",
              "    40% {\n",
              "      border-color: transparent;\n",
              "      border-right-color: var(--fill-color);\n",
              "      border-top-color: var(--fill-color);\n",
              "    }\n",
              "    60% {\n",
              "      border-color: transparent;\n",
              "      border-right-color: var(--fill-color);\n",
              "    }\n",
              "    80% {\n",
              "      border-color: transparent;\n",
              "      border-right-color: var(--fill-color);\n",
              "      border-bottom-color: var(--fill-color);\n",
              "    }\n",
              "    90% {\n",
              "      border-color: transparent;\n",
              "      border-bottom-color: var(--fill-color);\n",
              "    }\n",
              "  }\n",
              "</style>\n",
              "\n",
              "  <script>\n",
              "    async function quickchart(key) {\n",
              "      const quickchartButtonEl =\n",
              "        document.querySelector('#' + key + ' button');\n",
              "      quickchartButtonEl.disabled = true;  // To prevent multiple clicks.\n",
              "      quickchartButtonEl.classList.add('colab-df-spinner');\n",
              "      try {\n",
              "        const charts = await google.colab.kernel.invokeFunction(\n",
              "            'suggestCharts', [key], {});\n",
              "      } catch (error) {\n",
              "        console.error('Error during call to suggestCharts:', error);\n",
              "      }\n",
              "      quickchartButtonEl.classList.remove('colab-df-spinner');\n",
              "      quickchartButtonEl.classList.add('colab-df-quickchart-complete');\n",
              "    }\n",
              "    (() => {\n",
              "      let quickchartButtonEl =\n",
              "        document.querySelector('#df-501f28d0-a12b-4845-9a83-aae141c8811a button');\n",
              "      quickchartButtonEl.style.display =\n",
              "        google.colab.kernel.accessAllowed ? 'block' : 'none';\n",
              "    })();\n",
              "  </script>\n",
              "</div>\n",
              "\n",
              "    </div>\n",
              "  </div>\n"
            ],
            "application/vnd.google.colaboratory.intrinsic+json": {
              "type": "dataframe",
              "summary": "{\n  \"name\": \"df2\",\n  \"rows\": 8,\n  \"fields\": [\n    {\n      \"column\": \"Item_Weight\",\n      \"properties\": {\n        \"dtype\": \"number\",\n        \"std\": 3007.7997707408636,\n        \"min\": 4.555,\n        \"max\": 8519.0,\n        \"num_unique_values\": 8,\n        \"samples\": [\n          12.875420237117032,\n          12.65,\n          8519.0\n        ],\n        \"semantic_type\": \"\",\n        \"description\": \"\"\n      }\n    },\n    {\n      \"column\": \"Item_Visibility\",\n      \"properties\": {\n        \"dtype\": \"number\",\n        \"std\": 3011.8899429071244,\n        \"min\": 0.0,\n        \"max\": 8519.0,\n        \"num_unique_values\": 8,\n        \"samples\": [\n          0.06611236082486209,\n          0.053924587,\n          8519.0\n        ],\n        \"semantic_type\": \"\",\n        \"description\": \"\"\n      }\n    },\n    {\n      \"column\": \"Item_MRP\",\n      \"properties\": {\n        \"dtype\": \"number\",\n        \"std\": 2966.1591541750736,\n        \"min\": 31.29,\n        \"max\": 8519.0,\n        \"num_unique_values\": 8,\n        \"samples\": [\n          141.0100194623782,\n          143.047,\n          8519.0\n        ],\n        \"semantic_type\": \"\",\n        \"description\": \"\"\n      }\n    },\n    {\n      \"column\": \"Outlet_Establishment_Year\",\n      \"properties\": {\n        \"dtype\": \"number\",\n        \"std\": 2504.9332134459232,\n        \"min\": 8.369105468132409,\n        \"max\": 8519.0,\n        \"num_unique_values\": 8,\n        \"samples\": [\n          1997.8378917713346,\n          1999.0,\n          8519.0\n        ],\n        \"semantic_type\": \"\",\n        \"description\": \"\"\n      }\n    },\n    {\n      \"column\": \"Item_Outlet_Sales\",\n      \"properties\": {\n        \"dtype\": \"number\",\n        \"std\": 4518.595122092337,\n        \"min\": 33.29,\n        \"max\": 13086.9648,\n        \"num_unique_values\": 8,\n        \"samples\": [\n          2181.188779387252,\n          1794.331,\n          8519.0\n        ],\n        \"semantic_type\": \"\",\n        \"description\": \"\"\n      }\n    }\n  ]\n}"
            }
          },
          "metadata": {},
          "execution_count": 490
        }
      ]
    },
    {
      "cell_type": "markdown",
      "source": [
        "Distribución de categorías"
      ],
      "metadata": {
        "id": "q37hYrdqFAbS"
      }
    },
    {
      "cell_type": "code",
      "source": [
        "df2[\"Item_Fat_Content\"].value_counts()"
      ],
      "metadata": {
        "colab": {
          "base_uri": "https://localhost:8080/"
        },
        "id": "ppsCg4BoFDls",
        "outputId": "26ab2150-5e6e-4b9c-8647-df3bcc6e146b"
      },
      "execution_count": 491,
      "outputs": [
        {
          "output_type": "execute_result",
          "data": {
            "text/plain": [
              "Item_Fat_Content\n",
              "Low Fat    5516\n",
              "Regular    3003\n",
              "Name: count, dtype: int64"
            ]
          },
          "metadata": {},
          "execution_count": 491
        }
      ]
    },
    {
      "cell_type": "code",
      "source": [
        "data = df2[\"Item_Type\"].value_counts()\n",
        "data"
      ],
      "metadata": {
        "colab": {
          "base_uri": "https://localhost:8080/"
        },
        "id": "Iwx0HrcpFUwo",
        "outputId": "f9347363-13c6-41f0-b417-4dfb21ec4385"
      },
      "execution_count": 492,
      "outputs": [
        {
          "output_type": "execute_result",
          "data": {
            "text/plain": [
              "Item_Type\n",
              "Fruits and Vegetables    1232\n",
              "Snack Foods              1199\n",
              "Household                 910\n",
              "Frozen Foods              855\n",
              "Dairy                     681\n",
              "Canned                    649\n",
              "Baking Goods              647\n",
              "Health and Hygiene        520\n",
              "Soft Drinks               445\n",
              "Meat                      425\n",
              "Breads                    251\n",
              "Hard Drinks               214\n",
              "Others                    169\n",
              "Starchy Foods             148\n",
              "Breakfast                 110\n",
              "Seafood                    64\n",
              "Name: count, dtype: int64"
            ]
          },
          "metadata": {},
          "execution_count": 492
        }
      ]
    },
    {
      "cell_type": "code",
      "source": [
        "df2[\"Outlet_Size\"].value_counts()"
      ],
      "metadata": {
        "colab": {
          "base_uri": "https://localhost:8080/"
        },
        "id": "RY9R_R6pFb08",
        "outputId": "550fd2c5-d938-4d9b-a64f-c0aba53d887d"
      },
      "execution_count": 493,
      "outputs": [
        {
          "output_type": "execute_result",
          "data": {
            "text/plain": [
              "Outlet_Size\n",
              "Small     4797\n",
              "Medium    2790\n",
              "High       932\n",
              "Name: count, dtype: int64"
            ]
          },
          "metadata": {},
          "execution_count": 493
        }
      ]
    },
    {
      "cell_type": "markdown",
      "source": [
        "Frecuencia de establecimiento de tiendas en diferentes años"
      ],
      "metadata": {
        "id": "i_RmnQLCFpFN"
      }
    },
    {
      "cell_type": "code",
      "source": [
        "df2[\"Outlet_Establishment_Year\"].value_counts()"
      ],
      "metadata": {
        "colab": {
          "base_uri": "https://localhost:8080/"
        },
        "id": "mpjjyN_5FxYE",
        "outputId": "cd50a21f-4337-4294-b106-6ace949d054a"
      },
      "execution_count": 494,
      "outputs": [
        {
          "output_type": "execute_result",
          "data": {
            "text/plain": [
              "Outlet_Establishment_Year\n",
              "1985    1459\n",
              "1987     932\n",
              "1999     930\n",
              "1997     930\n",
              "2004     930\n",
              "2002     929\n",
              "2009     928\n",
              "2007     926\n",
              "1998     555\n",
              "Name: count, dtype: int64"
            ]
          },
          "metadata": {},
          "execution_count": 494
        }
      ]
    },
    {
      "cell_type": "markdown",
      "source": [
        "#Visualizaciones que ayuden a entender mejor los datos (Análisis exploratorio)"
      ],
      "metadata": {
        "id": "pdX3FBQBa5TQ"
      }
    },
    {
      "cell_type": "code",
      "source": [
        "import matplotlib.pyplot as plt\n",
        "import seaborn as sns\n",
        "import plotly.express as px\n",
        "import numpy as np"
      ],
      "metadata": {
        "id": "TkijlZA_b82P"
      },
      "execution_count": 495,
      "outputs": []
    },
    {
      "cell_type": "markdown",
      "source": [
        "##Histograma para comprender la distribución del peso de los productos"
      ],
      "metadata": {
        "id": "6BVJ7aUibRnf"
      }
    },
    {
      "cell_type": "code",
      "source": [
        "plt.subplots(figsize=(8, 5))\n",
        "plt.hist(df2['Item_Weight'], bins=9, range=(4, 22), color=\"rosybrown\", edgecolor=\"black\");\n",
        "plt.xticks(np.arange(4, 24, 4))\n",
        "plt.yticks(np.arange(200, 1400, 200))\n",
        "plt.xlabel(\"Peso\");\n",
        "plt.ylabel(\"Frecuencia\");\n",
        "plt.title(\"Distribución del peso de los productos\");"
      ],
      "metadata": {
        "colab": {
          "base_uri": "https://localhost:8080/",
          "height": 488
        },
        "id": "jhiDQKyHcyGh",
        "outputId": "d9122f4a-c9fd-4149-e6d2-1348a97268b5"
      },
      "execution_count": 496,
      "outputs": [
        {
          "output_type": "display_data",
          "data": {
            "text/plain": [
              "<Figure size 800x500 with 1 Axes>"
            ],
            "image/png": "[encoded data removed]"
          },
          "metadata": {}
        }
      ]
    },
    {
      "cell_type": "markdown",
      "source": [
        "##Gráfico de barras para comprender la distribución de los tipos de artículos"
      ],
      "metadata": {
        "id": "OeYvtYXnEBSD"
      }
    },
    {
      "cell_type": "code",
      "source": [
        "plt.subplots(figsize=(8, 5))\n",
        "ax = sns.barplot(data, orient=\"h\", color=\"lightcoral\");\n",
        "plt.xlabel(\"Cantidad\");\n",
        "plt.ylabel(\"Tipo\");\n",
        "plt.xticks(np.arange(0, 1600, 200));\n",
        "for i in ax.containers:\n",
        "    plt.bar_label(container=i, padding=5)\n",
        "plt.title(\"Distribución de los tipos de artículos\");"
      ],
      "metadata": {
        "colab": {
          "base_uri": "https://localhost:8080/",
          "height": 488
        },
        "id": "PMY0Eod0GalI",
        "outputId": "6325204b-9481-4887-b157-e2f061230acd"
      },
      "execution_count": 497,
      "outputs": [
        {
          "output_type": "display_data",
          "data": {
            "text/plain": [
              "<Figure size 800x500 with 1 Axes>"
            ],
            "image/png": "[encoded data removed]"
          },
          "metadata": {}
        }
      ]
    },
    {
      "cell_type": "markdown",
      "source": [
        "##Diagrama de dispersión para analizar la relación entre el peso de los productos y sus ventas"
      ],
      "metadata": {
        "id": "bbWNXWhrjOVK"
      }
    },
    {
      "cell_type": "code",
      "source": [
        "px.scatter(x=df2['Item_Weight'], y=df2['Item_Outlet_Sales'], color=df2['Outlet_Type'],\n",
        "           title=\"Realación entre el peso de los productos y sus ventas\",\n",
        "           labels={\n",
        "                     \"x\": \"Peso\",\n",
        "                     \"y\": \"Ventas\",\n",
        "                     \"color\": \"Tipo de tienda\"\n",
        "                 },)"
      ],
      "metadata": {
        "colab": {
          "base_uri": "https://localhost:8080/",
          "height": 542
        },
        "id": "oSB12K6sj0Ao",
        "outputId": "31001cc6-c9af-4d9a-ca15-395b226531ba"
      },
      "execution_count": 498,
      "outputs": [
        {
          "output_type": "display_data",
          "data": {
            "text/html": [
              "<html>\n",
              "<head><meta charset=\"utf-8\" /></head>\n",
              "<body>\n",
              "    <div>            <script src=\"https://cdnjs.cloudflare.com/ajax/libs/mathjax/2.7.5/MathJax.js?config=TeX-AMS-MML_SVG\"></script><script type=\"text/javascript\">if (window.MathJax && window.MathJax.Hub && window.MathJax.Hub.Config) {window.MathJax.Hub.Config({SVG: {font: \"STIX-Web\"}});}</script>                <script type=\"text/javascript\">window.PlotlyConfig = {MathJaxConfig: 'local'};</script>\n",
              "        <script charset=\"utf-8\" src=\"https://cdn.plot.ly/plotly-2.24.1.min.js\"></script>                <div id=\"8a97fbee-07ec-4aa6-ba28-9d51b41a9650\" class=\"plotly-graph-div\" style=\"height:525px; width:100%;\"></div>            <script type=\"text/javascript\">                                    window.PLOTLYENV=window.PLOTLYENV || {};                                    if (document.getElementById(\"8a97fbee-07ec-4aa6-ba28-9d51b41a9650\")) {                    Plotly.newPlot(                        \"8a97fbee-07ec-4aa6-ba28-9d51b41a9650\",                        [{\"hovertemplate\":\"Tipo de tienda=Supermarket Type1\\u003cbr\\u003ePeso=%{x}\\u003cbr\\u003eVentas=%{y}\\u003cextra\\u003e\\u003c\\u002fextra\\u003e\",\"legendgroup\":\"Supermarket Type1\",\"marker\":{\"color\":\"#636efa\",\"symbol\":\"circle\"},\"mode\":\"markers\",\"name\":\"Supermarket Type1\",\"showlegend\":true,\"x\":[9.3,17.5,8.93,13.65,16.2,19.2,11.8,18.5,15.1,17.6,16.35,9.0,9.0,13.35,18.85,14.6,13.85,13.0,7.645,11.65,17.85,17.5,10.0,13.35,9.8,13.6,12.15,19.6,10.0,15.85,7.39,10.195,9.895,10.895,12.15,9.195,8.365,15.1,7.97,19.35,13.65,17.6,8.645,15.6,15.85,18.25,7.855,7.825,8.39,12.85,19.0,5.905,7.76,11.8,15.5,6.055,6.305,20.85,8.895,19.6,19.7,9.8,12.15,8.75,8.75,13.3,8.31,16.75,17.1,10.5,6.635,14.15,13.3,8.89,9.1,7.5,16.85,7.485,11.6,13.0,12.65,8.6,12.6,17.7,14.15,19.25,8.88,20.5,13.5,7.235,6.92,9.3,8.02,9.195,12.8,16.6,14.0,18.6,16.0,17.6,21.25,7.235,14.6,7.365,18.6,13.85,14.0,14.0,7.27,6.155,19.5,15.2,14.5,16.6,11.8,13.1,12.3,11.1,11.3,5.75,14.0,19.75,6.525,10.3,5.78,11.85,10.5,19.0,14.6,18.75,5.26,18.25,15.1,13.65,16.1,9.5,13.8,5.78,19.7,17.2,6.32,4.88,5.425,15.85,7.5,12.65,20.75,9.0,14.1,7.55,13.0,12.3,17.25,15.85,18.85,16.35,14.1,7.905,12.0,12.15,10.1,17.5,7.785,11.8,13.15,8.5,8.645,17.6,9.1,12.8,7.63,9.285,13.6,8.895,16.35,17.6,7.975,15.85,15.7,8.985,20.35,6.59,19.85,16.85,16.75,17.6,7.825,20.75,6.26,20.25,8.695,7.27,12.85,8.195,7.09,6.095,19.35,6.15,17.7,9.395,15.75,7.475,6.445,19.1,20.25,15.0,6.67,16.7,7.07,6.48,13.35,9.695,15.0,11.15,20.85,16.35,9.6,13.35,20.7,16.2,5.5,15.1,15.7,7.895,17.35,7.285,20.25,15.85,6.17,19.5,19.2,14.5,11.395,7.97,7.71,19.25,7.075,11.6,10.0,14.35,10.395,8.1,8.05,9.195,15.7,16.5,9.0,6.785,7.575,18.2,16.75,7.47,6.635,6.11,15.25,15.85,20.75,10.195,7.605,18.0,18.35,6.59,13.8,21.2,8.97,10.6,13.65,19.0,6.865,10.8,16.7,15.15,19.35,15.7,18.1,10.195,6.655,19.0,13.15,20.1,18.85,16.35,18.0,7.935,20.25,15.5,15.35,10.1,16.7,20.7,16.0,14.0,12.85,20.85,12.35,10.3,8.775,18.85,14.85,20.5,18.25,10.3,12.5,20.25,15.0,8.325,15.85,13.1,6.26,5.765,13.6,10.5,7.975,12.3,5.985,15.15,12.35,14.3,8.695,6.135,19.5,9.5,8.895,18.25,19.7,16.6,10.895,8.51,6.65,15.25,18.25,16.0,19.2,12.15,8.895,16.0,10.0,9.395,9.8,18.2,19.35,18.35,6.36,6.635,8.3,8.895,16.35,19.0,7.56,12.6,18.1,13.35,16.6,6.695,16.6,15.35,14.3,10.0,14.8,8.71,17.85,9.5,11.8,14.1,19.35,19.75,10.3,10.8,17.75,20.7,6.785,6.57,5.78,6.92,20.25,13.65,13.5,16.7,16.75,15.35,10.8,6.26,5.63,6.92,16.6,9.195,19.0,9.395,9.8,18.85,9.13,9.0,17.1,6.715,5.82,18.7,18.75,5.0,7.445,20.85,19.2,17.35,14.3,19.5,6.675,8.18,6.98,16.85,14.8,12.3,7.435,15.1,9.195,10.1,16.0,17.7,8.1,20.6,17.75,7.475,12.6,7.895,17.1,18.5,10.1,9.285,11.6,16.0,13.65,17.25,5.655,20.75,5.175,20.0,16.75,12.8,19.75,18.85,9.695,20.7,11.1,8.975,7.67,13.8,4.785,20.0,8.21,19.7,7.5,11.395,5.75,7.76,13.65,10.8,11.1,12.8,20.6,7.89,16.85,16.35,17.35,12.6,5.32,13.0,19.85,17.6,14.6,7.55,13.8,10.1,14.3,9.8,11.3,7.67,10.395,20.7,19.35,15.2,20.0,10.1,8.18,19.5,18.7,12.35,16.0,8.395,4.785,5.03,15.6,7.285,20.35,17.7,20.25,8.945,18.25,20.35,16.75,18.5,15.0,19.5,13.65,13.15,20.6,6.28,5.925,17.7,18.85,17.7,16.1,7.565,17.6,12.15,9.31,19.25,9.5,15.35,17.85,7.02,12.3,5.46,15.1,11.8,13.65,13.35,13.15,14.3,12.3,19.1,8.71,19.6,19.5,15.85,17.6,19.1,6.55,16.5,17.0,10.5,8.93,16.1,16.25,13.35,5.15,7.865,9.895,17.35,8.365,6.675,17.35,16.75,18.85,6.575,12.65,7.07,11.8,9.3,13.6,19.5,13.1,16.7,5.785,6.13,16.7,9.0,6.36,16.5,11.85,10.195,13.65,20.35,13.85,8.05,7.365,12.5,7.42,6.235,12.35,6.75,16.75,19.35,9.6,15.1,6.59,16.75,15.2,13.0,5.035,11.15,8.39,5.675,15.7,13.5,8.895,10.895,16.2,15.1,7.475,14.3,10.1,17.85,20.75,7.67,20.6,5.46,9.395,10.0,7.445,19.85,11.5,10.5,19.7,20.85,13.35,12.1,20.1,6.655,13.65,13.6,15.5,10.895,19.7,21.0,13.15,19.35,20.7,9.5,11.65,21.1,7.865,12.35,16.25,12.15,10.5,12.8,7.0,10.0,6.405,9.3,11.6,16.75,14.7,20.0,7.39,10.195,8.895,16.0,19.2,20.75,13.5,19.7,6.095,8.21,18.1,5.695,20.25,8.185,19.25,14.5,9.5,19.85,8.655,10.195,14.0,11.65,14.5,18.2,10.85,13.65,13.1,20.1,16.35,6.235,12.6,16.85,20.2,14.1,15.15,13.65,13.5,17.5,7.85,9.695,17.5,9.195,21.1,17.85,15.6,16.1,13.3,11.5,16.25,14.65,13.15,10.3,8.05,18.6,20.75,13.5,8.18,17.25,20.0,16.5,9.8,17.25,15.85,18.0,16.0,4.59,11.85,18.2,7.825,18.5,14.85,7.51,15.6,8.02,11.0,17.5,7.235,18.0,7.475,11.35,16.1,18.7,8.645,17.1,9.8,15.25,10.5,5.82,10.0,5.5,6.71,10.3,18.35,13.8,10.5,20.75,11.1,10.1,9.395,6.13,8.5,9.1,13.5,10.8,15.2,19.35,11.5,9.8,7.475,5.5,17.2,19.2,18.25,7.855,10.1,10.395,16.25,17.6,15.5,11.1,16.1,5.155,6.365,11.65,18.25,11.8,18.2,13.65,8.365,20.7,17.75,9.695,10.6,7.825,17.7,8.235,11.6,17.2,11.0,19.6,8.02,5.365,11.35,16.35,17.25,13.8,8.485,11.8,15.35,10.0,19.2,18.6,18.5,20.25,12.35,14.5,14.8,10.8,14.65,6.65,9.395,19.75,20.25,20.6,6.575,19.7,6.28,18.25,9.3,16.6,16.35,10.0,7.535,4.92,6.385,18.5,11.6,17.35,16.7,10.895,18.35,18.75,8.26,12.8,10.895,16.85,16.0,16.0,8.93,9.6,9.8,7.945,7.475,10.5,8.63,21.0,15.5,14.7,13.15,17.7,9.21,12.1,9.31,14.85,6.92,13.65,16.0,16.35,6.965,16.0,18.85,20.7,9.3,9.695,17.25,19.6,14.3,12.6,13.1,8.905,18.5,20.25,10.3,17.85,7.21,17.35,18.6,16.75,17.75,6.42,16.75,7.39,19.2,5.46,17.5,12.3,17.0,19.7,19.6,19.35,9.195,11.8,11.8,19.1,15.5,9.5,12.85,11.65,18.85,6.865,11.65,20.35,10.895,7.3,11.1,7.06,9.8,9.5,17.6,11.8,9.695,9.0,12.6,14.35,13.6,13.85,16.1,12.15,15.35,15.35,18.25,11.8,9.27,15.0,12.5,17.35,14.35,12.35,18.5,10.695,14.15,17.6,6.215,18.1,11.65,7.42,20.0,17.75,14.0,15.35,6.13,9.695,20.25,15.85,19.85,4.61,7.365,18.85,11.3,7.405,15.7,7.72,6.65,10.6,15.85,12.15,11.35,20.1,15.7,16.7,6.115,20.7,9.8,20.35,6.85,20.35,9.195,9.695,11.65,6.035,6.385,18.35,19.6,14.15,17.6,19.0,8.42,9.3,19.75,6.78,17.25,15.3,15.7,17.85,16.25,15.0,13.85,13.8,18.7,15.85,5.82,13.1,10.1,16.75,17.1,7.42,7.51,19.2,18.6,4.92,11.0,13.15,8.895,4.805,8.975,9.3,10.895,16.7,8.02,19.35,20.7,4.59,12.85,16.75,14.85,8.235,6.425,6.59,6.36,17.35,8.6,7.6,19.6,9.3,20.2,11.35,16.5,17.1,4.88,10.195,5.465,14.5,20.7,6.055,5.655,6.865,12.6,20.2,14.15,16.5,13.3,9.195,9.0,15.7,18.1,15.7,9.195,13.85,13.65,15.0,6.655,16.5,9.6,6.55,16.25,15.25,9.695,16.0,18.85,6.215,11.8,10.5,15.7,13.0,13.5,7.785,17.7,7.855,6.36,17.0,5.78,11.5,18.25,12.6,8.575,12.65,8.775,5.94,18.85,9.8,12.65,14.65,17.25,16.0,6.32,6.525,6.695,14.85,17.1,10.3,19.7,10.695,7.285,18.25,5.635,18.25,17.7,8.88,11.15,20.0,7.935,20.1,13.65,18.25,11.15,19.5,6.48,11.15,5.985,7.27,6.78,19.5,7.51,12.5,12.65,12.5,11.0,7.35,10.895,17.2,15.5,7.905,9.8,5.825,14.7,11.6,16.75,12.5,12.35,13.35,6.63,19.6,13.6,19.25,20.0,7.235,6.78,12.3,14.65,15.6,16.0,11.5,5.695,15.2,9.1,16.85,11.15,17.0,7.47,20.7,15.6,17.7,13.0,14.0,18.85,15.7,15.85,6.175,16.0,13.15,16.5,14.65,13.5,10.1,11.85,9.285,12.8,6.235,12.15,12.35,7.285,7.05,14.5,13.35,11.5,12.1,18.75,19.25,16.2,13.1,13.5,11.15,6.78,16.0,7.535,15.1,15.1,20.85,16.7,16.75,12.5,6.8,7.3,15.85,12.1,9.195,7.59,12.15,18.85,12.15,13.1,7.895,16.75,16.35,8.21,15.85,16.2,17.5,13.65,11.35,10.8,7.47,19.85,8.39,10.8,15.0,17.35,19.2,15.6,20.5,10.6,15.1,16.0,13.65,18.85,6.115,19.6,8.97,9.3,17.7,7.27,16.1,20.75,20.2,5.51,20.2,20.0,16.2,16.1,12.8,5.985,19.35,11.5,11.6,9.8,9.395,12.3,16.1,8.43,8.27,7.02,20.0,7.81,13.1,15.2,10.8,12.6,12.15,7.42,6.885,20.25,15.3,9.21,15.35,12.15,11.395,17.1,18.85,19.6,11.3,5.785,5.82,7.895,13.8,5.44,16.7,19.85,10.395,15.1,15.6,16.75,16.2,5.785,15.2,13.1,6.32,17.85,13.85,6.885,8.42,7.63,10.5,13.5,12.15,5.405,7.435,4.635,8.96,11.65,10.5,14.0,13.65,14.15,10.1,13.85,13.1,18.75,14.0,16.1,12.35,20.7,12.1,14.65,20.75,11.15,12.1,11.6,17.6,10.65,7.35,18.2,8.39,14.3,10.195,16.2,5.735,17.85,5.82,10.0,17.6,10.1,17.6,8.645,19.5,7.68,15.7,5.405,20.85,7.39,18.25,10.195,15.1,5.985,11.15,18.0,16.2,13.15,20.6,11.395,6.78,8.84,16.7,13.3,12.6,7.6,12.6,6.67,10.695,16.6,10.0,19.1,19.5,10.1,19.7,15.35,5.26,9.8,16.5,10.5,9.3,14.3,10.8,6.78,9.195,7.905,17.6,15.7,19.2,9.195,11.65,21.1,8.695,7.27,8.85,18.6,9.1,7.975,10.0,6.865,16.7,8.43,8.75,9.695,7.75,19.75,11.8,9.8,7.42,12.6,10.895,6.765,13.1,6.155,10.65,20.25,20.5,11.8,15.0,13.15,11.6,14.35,13.15,10.895,10.1,18.7,12.15,10.195,8.575,16.6,11.85,12.85,9.0,5.655,8.93,15.2,15.5,18.7,13.65,19.5,8.71,19.6,11.8,6.715,19.1,20.7,20.2,10.8,19.35,15.25,8.895,18.75,20.1,12.35,17.0,17.6,18.0,16.35,14.0,5.78,13.65,12.35,11.8,19.7,10.1,17.85,20.7,8.89,14.5,9.0,6.675,10.3,17.1,10.8,6.215,17.5,20.7,8.975,13.1,4.615,12.3,19.2,20.1,12.65,11.1,19.2,19.75,6.135,12.5,7.235,15.85,9.895,20.75,10.8,8.76,16.1,7.1,19.35,9.5,8.43,14.15,7.35,20.1,12.0,21.25,8.3,10.1,14.15,9.0,20.0,6.71,7.365,7.935,12.6,17.6,19.0,7.5,13.35,8.6,9.0,4.61,17.6,11.65,19.1,17.2,16.5,15.6,9.0,15.0,6.195,20.2,20.7,7.655,5.92,18.75,9.395,13.35,19.0,14.15,20.85,8.63,7.895,7.72,5.615,7.05,8.52,7.645,14.8,10.8,20.5,8.895,16.7,16.2,6.65,13.35,17.35,5.46,18.25,8.185,7.5,12.65,14.3,6.825,20.25,19.2,9.695,7.75,19.75,6.71,14.35,15.2,5.82,18.5,14.0,9.6,17.7,13.65,14.6,15.6,20.25,18.35,16.6,10.0,16.1,16.1,19.0,17.6,6.32,9.3,11.1,6.15,20.85,17.1,16.5,11.65,13.15,19.35,19.35,16.5,21.35,16.0,20.5,19.75,17.6,4.615,11.8,17.35,12.35,9.0,6.235,9.6,16.75,17.1,6.78,15.0,17.6,12.65,17.85,11.15,15.7,18.25,20.7,15.85,6.575,17.75,16.7,10.85,10.0,9.6,12.0,5.925,13.0,8.18,12.8,19.2,14.5,5.19,13.3,19.6,17.75,12.35,14.35,6.365,14.75,12.15,6.59,12.6,7.325,15.1,8.51,20.35,17.6,10.895,15.15,14.6,10.1,10.5,12.6,18.7,12.1,13.0,19.2,5.78,7.17,20.85,18.75,7.5,10.395,12.8,11.65,20.2,11.35,8.31,7.5,6.525,6.985,11.3,15.7,16.0,16.85,18.2,11.0,21.1,9.06,11.5,11.15,13.5,15.1,8.3,14.15,8.365,11.85,19.6,19.0,18.25,19.85,12.85,15.7,13.3,10.5,19.35,14.1,8.6,17.1,20.5,15.1,6.69,7.905,18.0,7.84,15.15,19.85,7.325,5.88,10.695,20.25,8.05,11.65,19.35,7.235,12.15,8.615,6.765,10.3,13.15,8.84,8.26,9.695,18.85,18.25,5.32,8.115,15.1,8.42,9.0,15.35,20.6,9.3,19.6,11.3,15.3,8.235,15.2,9.0,9.0,15.35,20.1,12.35,8.88,20.25,16.5,13.6,7.275,19.7,6.96,17.1,10.195,5.78,6.385,9.3,9.195,9.17,12.6,14.85,19.35,18.7,5.46,8.785,12.6,12.3,19.6,7.97,11.1,9.6,13.35,11.3,19.0,12.3,6.425,5.19,12.15,15.25,11.8,15.7,16.75,10.8,11.8,7.81,11.1,12.85,10.5,6.135,16.6,8.51,8.645,8.6,14.5,6.65,20.1,15.25,17.7,7.075,11.5,5.82,8.785,5.465,15.7,7.39,6.8,11.5,17.6,7.75,18.6,5.73,12.15,5.44,17.7,12.1,8.355,15.75,5.905,16.0,20.25,5.175,9.0,15.6,18.7,17.6,18.2,13.15,20.35,7.39,19.6,6.28,9.395,7.72,12.65,16.75,15.5,8.88,18.25,8.935,16.0,20.6,19.25,14.15,6.63,11.8,12.85,11.6,12.15,4.635,20.2,9.395,11.395,18.35,11.3,19.6,14.0,19.7,12.5,12.3,7.435,6.48,17.6,8.155,16.1,15.5,4.785,14.6,4.88,8.1,8.395,10.0,12.35,11.3,19.5,19.7,7.75,11.1,7.075,7.97,12.15,16.35,19.1,11.8,11.35,15.2,11.5,20.25,10.1,13.1,12.0,19.0,18.6,11.5,16.75,6.135,20.7,17.6,16.0,8.92,17.75,15.6,5.73,20.2,12.15,21.35,6.57,19.35,8.6,8.51,14.3,15.0,14.3,6.825,12.65,11.15,19.1,19.6,15.1,6.425,8.88,12.3,11.35,19.0,10.195,8.27,14.85,18.0,8.355,9.8,18.2,14.65,13.85,7.75,11.8,16.0,11.5,7.36,7.64,17.75,17.75,7.27,20.2,16.0,9.5,19.1,15.0,7.035,19.75,11.8,13.6,5.34,18.2,12.15,14.35,17.35,7.22,19.1,8.26,14.0,14.15,11.8,19.2,18.85,12.5,9.3,7.27,11.8,16.35,20.0,5.82,18.75,9.5,10.5,20.5,12.3,11.395,8.93,18.2,19.7,14.1,7.67,11.6,18.85,15.6,6.635,20.75,6.63,5.15,15.1,15.35,12.85,7.475,12.85,8.365,8.985,19.6,20.2,10.3,18.2,9.395,12.65,16.5,17.35,5.88,12.1,7.93,8.43,14.15,17.75,12.35,7.84,6.76,9.895,8.315,11.6,7.285,16.1,11.0,17.7,17.35,7.825,19.35,7.475,10.5,12.3,6.035,20.75,13.85,15.5,11.6,6.635,6.785,16.2,5.94,13.35,17.1,8.355,16.5,20.85,7.565,8.905,9.195,12.3,6.135,17.25,11.3,17.85,16.5,17.25,12.3,6.235,12.15,7.47,8.155,16.2,14.5,15.7,6.865,8.21,11.6,12.6,13.35,4.61,13.8,16.7,6.98,12.15,19.25,9.3,11.0,6.67,6.48,14.1,15.35,7.05,11.1,6.445,7.5,17.25,20.35,4.59,12.6,5.98,20.7,6.17,11.35,15.75,8.395,8.06,16.75,13.0,11.3,20.2,8.02,18.25,5.51,15.7,9.6,15.85,7.3,6.15,15.2,14.8,18.35,9.0,17.85,17.75,6.615,20.1,9.195,20.2,8.26,7.52,17.0,19.6,5.095,17.0,15.35,8.42,6.985,6.3,12.35,10.5,18.5,11.6,14.3,18.2,18.25,12.1,13.35,19.5,11.1,8.42,15.5,11.65,12.3,13.65,9.5,8.8,20.7,11.5,5.19,9.395,9.695,6.695,20.35,6.615,7.36,8.355,19.85,18.25,15.75,7.63,10.195,11.8,10.395,7.235,15.85,9.395,13.5,14.1,14.15,9.695,10.195,15.35,6.695,10.0,8.63,15.0,9.1,16.0,19.1,6.59,14.3,20.2,16.75,11.1,9.195,12.8,6.325,6.98,12.15,9.3,18.0,12.15,13.5,19.35,8.485,6.3,20.85,17.0,10.5,9.3,5.615,18.0,13.35,14.65,7.825,17.35,15.2,18.7,15.2,17.85,14.8,15.85,18.85,20.35,16.5,10.6,5.15,12.85,20.25,17.6,15.0,6.63,15.5,9.895,16.25,13.5,17.7,13.85,11.65,17.75,5.695,16.2,17.6,7.31,14.15,7.97,9.895,10.695,13.15,18.35,15.7,5.785,19.1,12.6,14.7,20.2,14.15,18.2,12.6,16.2,13.15,7.51,13.85,19.85,11.6,20.35,10.5,11.1,15.0,14.15,12.5,8.85,18.7,9.395,7.21,11.3,11.85,12.15,17.75,8.785,15.15,10.5,16.7,11.0,11.8,9.105,16.2,18.75,13.3,6.425,16.35,19.6,18.2,19.0,11.395,6.635,17.85,14.15,8.895,7.09,12.15,7.75,5.03,9.8,17.7,12.65,6.85,7.09,6.55,7.035,7.72,8.51,9.8,19.85,15.5,8.155,19.6,20.6,9.695,8.85,8.93,17.5,16.1,13.65,13.15,6.26,19.7,14.35,20.7,7.64,19.6,18.5,12.3,12.1,7.21,17.6,6.135,19.6,12.1,14.5,8.96,20.7,7.145,9.6,14.5,18.85,13.8,20.35,20.75,8.185,9.395,7.39,9.8,15.0,11.65,5.51,7.72,16.35,13.8,4.905,16.35,21.25,15.85,9.13,10.895,9.3,17.7,4.555,19.2,17.35,8.0,17.7,15.1,12.6,16.75,10.8,20.2,15.2,7.315,17.75,7.52,12.15,12.85,7.31,18.25,9.6,10.3,11.15,11.85,12.6,7.855,18.35,17.25,12.1,16.0,5.94,8.88,7.855,8.85,13.6,8.27,9.895,18.5,6.65,13.0,15.0,13.1,7.655,10.5,15.7,14.5,17.7,7.36,18.75,5.46,15.5,12.85,15.25,8.6,7.39,9.035,11.65,15.7,18.0,17.1,18.2,20.35,15.6,15.0,9.105,11.8,10.3,19.6,6.89,16.7,13.0,10.1,15.6,7.97,5.945,13.5,17.7,20.5,19.1,12.3,8.905,14.5,8.365,8.51,6.38,16.7,10.0,14.5,14.65,11.85,19.0,6.36,18.85,5.94,13.5,15.15,5.15,20.35,8.895,4.905,10.895,17.75,6.8,10.395,16.0,17.85,18.7,18.0,5.26,6.175,5.86,10.5,11.8,12.5,20.2,20.2,6.8,8.43,9.3,11.35,20.1,9.8,20.35,18.2,18.35,12.1,10.695,11.8,13.8,5.63,7.55,18.85,7.22,17.85,8.895,19.25,11.3,10.85,5.0,20.0,10.0,8.63,9.1,6.92,20.0,14.1,17.6,8.6,6.935,6.69,12.35,15.6,13.1,9.195,11.15,16.1,6.465,20.75,7.655,20.25,18.75,11.5,7.5,17.0,6.03,15.0,18.75,18.35,18.35,19.6,14.65,9.6,17.6,14.0,6.59,11.5,20.35,18.7,5.46,9.31,12.3,18.2,18.25,10.195,5.34,11.15,9.8,15.5,18.35,5.51,13.35,18.35,10.5,9.6,7.285,11.1,11.35,12.3,11.6,12.3,18.85,7.445,11.1,21.0,20.2,18.2,11.8,9.8,18.6,13.0,20.7,9.8,9.5,21.1,8.975,4.92,17.5,9.695,9.6,17.0,14.0,12.1,19.85,17.2,8.71,18.75,14.5,20.75,17.6,16.85,20.6,5.175,17.85,8.93,7.655,18.35,14.0,11.6,10.5,16.7,17.6,9.1,14.35,5.885,16.1,19.7,11.5,16.5,15.15,12.15,15.7,11.6,12.85,15.0,11.0,5.88,7.825,13.6,8.06,18.6,9.5,16.85,17.85,13.1,11.3,15.2,11.35,19.85,8.18,12.15,6.03,15.85,12.0,10.5,17.5,16.1,19.25,9.3,14.5,8.365,12.85,13.5,7.365,21.1,9.5,12.85,18.35,7.155,5.82,18.0,7.06,15.6,12.3,15.0,18.2,20.5,8.27,8.93,6.215,20.25,19.35,9.695,8.21,7.3,20.0,7.865,16.0,18.0,10.6,5.655,6.46,13.5,16.2,5.48,6.055,9.6,8.43,8.27,10.195,8.01,16.25,13.35,17.75,13.5,5.78,17.75,8.395,8.5,14.0,9.3,15.85,10.8,8.895,11.1,14.7,12.6,13.35,9.195,12.85,11.15,9.8,10.195,12.0,16.7,17.1,16.7,19.35,18.25,16.75,13.0,7.17,4.615,8.39,5.175,16.0,17.2,11.65,12.85,17.7,9.1,15.5,16.35,16.6,11.5,5.63,6.695,15.75,12.5,20.1,11.395,9.3,6.8,15.0,19.85,7.85,11.85,6.135,9.0,12.15,11.0,17.5,17.5,10.6,7.145,20.7,17.5,17.7,8.6,9.5,12.3,14.5,18.25,12.85,17.1,7.575,9.21,11.3,13.6,9.195,15.75,20.5,10.1,18.2,8.975,9.6,20.5,14.65,19.2,5.945,17.5,10.895,20.5,15.7,18.7,16.0,6.965,11.395,7.5,6.115,14.8,8.71,19.35,16.25,19.85,13.65,7.535,5.59,11.0,19.85,17.6,13.35,9.5,11.8,17.6,13.35,18.85,17.5,20.2,5.88,15.85,5.985,18.85,18.85,7.51,16.2,8.97,7.22,8.71,15.85,6.055,19.25,16.5,13.5,7.865,10.6,16.2,14.5,7.235,16.75,14.0,19.85,10.895,10.65,16.5,13.35,12.15,13.65,20.75,19.1,17.25,10.195,16.6,17.6,8.185,13.65,10.6,10.8,15.2,8.895,11.8,6.55,16.85,7.235,19.25,18.1,18.6,18.85,7.235,7.825,19.7,12.6,10.65,16.75,9.6,13.1,14.6,15.7,17.75,20.2,10.85,20.25,5.86,6.115,19.7,9.8,12.5,16.75,19.1,19.5,6.575,6.67,12.3,16.1,17.35,8.975,13.15,19.5,15.1,5.465,17.75,6.96,5.73,7.5,7.855,5.655,18.85,20.2,19.6,16.0,6.425,6.825,17.25,9.1,19.2,17.75,7.145,8.985,16.35,5.655,9.5,5.78,8.05,16.6,6.095,19.35,10.8,19.7,7.655,20.6,19.35,9.8,9.6,13.0,14.3,10.3,6.03,7.68,20.0,15.85,12.15,19.35,8.85,19.85,19.1,17.0,11.15,12.35,20.85,9.3,17.25,17.85,9.8,18.85,9.695,10.0,16.6,18.25,9.31,18.25,19.7,6.865,11.35,17.7,20.85,17.25,15.35,13.65,6.38,15.7,15.2,8.355,12.15,17.0,17.35,9.1,6.13,19.2,19.75,10.3,19.1,4.555,16.2,21.1,17.75,6.905,5.785,7.96,8.3,5.46,13.35,5.46,20.75,6.59,7.55,20.85,18.85,10.1,10.0,8.985,11.5,21.1,4.555,20.85,7.905,6.78,15.0,17.6,5.11,8.71,7.235,12.3,6.96,18.0,6.28,10.5,14.15,15.85,10.3,17.6,10.3,9.195,10.0,17.25,20.2,7.5,7.895,13.65,20.1,12.3,21.35,7.72,14.85,8.395,7.365,20.5,7.475,12.15,15.25,11.1,11.8,14.3,13.65,16.75,16.25,18.0,15.0,13.0,14.65,5.88,12.35,9.0,10.195,9.695,19.35,5.985,15.7,12.5,7.72,17.2,20.2,20.5,17.6,11.15,19.6,10.895,13.85,15.1,15.0,15.5,15.85,21.2,13.35,6.11,13.0,6.425,12.0,7.535,7.68,14.7,10.3,13.8,10.1,7.785,13.8,10.5,19.7,16.2,11.3,19.7,20.6,9.5,13.5,13.65,7.27,6.86,14.7,9.195,14.15,12.3,11.8,13.6,11.6,15.0,7.0,13.1,11.3,12.3,10.0,19.0,17.0,15.15,8.355,12.15,17.25,6.46,5.78,18.7,19.2,20.35,17.85,4.615,15.0,11.65,9.195,5.095,12.1,10.65,18.25,19.6,17.0,9.6,8.51,8.85,5.765,5.035,8.355,6.13,10.5,20.75,13.35,7.96,8.92,6.635,15.5,6.13,7.315,15.0,19.1,19.0,13.5,16.75,9.195,19.35,11.8,10.6,13.65,14.85,13.5,5.635,7.405,11.35,16.1,13.1,14.3,8.6,8.195,13.65,17.35,20.25,16.1,18.0,9.065,16.85,16.0,9.3,6.215,20.1,8.77,16.25,15.15,13.15,12.15,20.85,18.2,6.195,15.1,11.5,19.0,8.8,17.75,17.75,20.75,13.85,15.35,12.1,16.35,13.8,20.25,9.3,14.15,8.115,11.1,12.5,9.8,14.3,19.75,18.5,12.35,5.365,20.5,8.71,16.0,17.6,20.7,13.0,20.2,20.35,18.6,13.35,16.35,14.85,21.25,14.15,17.2,10.85,20.35,9.3,15.75,14.85,18.6,9.695,15.15,14.3,8.39,18.35,15.2,20.2,8.71,12.15,8.06,14.85,14.7,18.75,7.235,19.6,7.27,15.1,7.81,6.465,9.5,20.7,8.895,9.0,19.35,19.7,12.85,17.5,17.0,7.05,5.78,15.2,11.35,17.5,16.25,12.85,17.75,6.38,10.65,13.1,10.195,6.67,5.32,16.35,18.35,12.1,12.1,19.25,8.71,10.5,6.865,10.395,8.05,5.785,10.3,7.63,13.5,17.5,18.5,5.88,6.85,7.52,13.65,6.985,12.1,9.0,19.0,7.855,19.5,8.71,18.85,13.65,6.135,14.85,20.75,10.3,5.675,17.75,8.365,10.0,18.2,19.35,7.39,7.945,16.0,20.1,8.575,15.25,18.25,15.6,13.0,7.02,19.7,9.1,19.5,7.685,15.6,12.65,14.5,9.695,19.6,20.7,12.6,8.275,19.85,17.7,8.39,9.195,8.93,15.7,16.7,20.5,11.65,20.75,10.195,13.3,6.215,12.6,12.15,16.6,20.85,11.0,15.6,10.195,12.6,20.2,6.75,7.59,14.8,5.11,6.38,8.3,16.7,9.695,8.235,10.195,10.695,8.38,9.195,8.1,18.6,17.6,5.98,18.75,5.82,8.52,16.7,9.13,10.5,17.0,9.195,10.1,8.18,8.655,17.85,10.65,13.65,17.25,9.5,16.7,11.0,9.895,14.0,20.85,7.64,17.7,7.97,12.35,8.42,6.305,5.92,15.1,7.405,6.405,19.7,17.6,15.85,17.5,9.6,11.0,12.5,7.02,19.1,5.785,11.65,5.19,14.15,7.72,18.6,8.35,19.0,8.895,18.0,15.1,20.5,15.85,20.6,10.3,11.35,10.195,11.0,5.92,13.3,18.2,9.395,6.75,15.7,9.6,11.1,12.85,13.65,7.935,7.645,10.65,7.64,7.325,8.97,10.195,6.935,8.88,9.3,9.0,21.25,12.35,16.85,14.7,19.85,5.765,17.75,8.235,6.13,18.7,15.5,10.695,16.0,5.59,11.35,17.75,16.7,19.35,15.7,18.7,7.06,11.35,6.96,13.15,15.2,11.6,19.35,20.2,5.365,21.2,11.15,19.35,13.5,9.6,12.5,15.85,10.195,20.2,20.0,6.425,9.395,17.2,18.25,17.6,7.405,15.6,10.195,19.1,10.3,16.0,6.385,13.0,20.1,5.175,11.5,17.25,5.88,7.3,7.075,6.365,9.3,5.92,9.6,14.15,11.8,6.765,18.7,13.3,9.42,17.6,8.235,13.15,12.65,20.7,13.0,16.1,16.0,12.35,20.5,8.3,19.2,9.1,14.15,7.93,17.1,16.2,6.465,20.6,9.0,18.7,20.85,18.35,18.6,9.8,15.1,7.09,9.5,20.5,19.85,21.1,15.1,19.7,16.2,18.1,6.55,15.85,16.5,11.35,9.195,18.85,8.0,19.1,6.36,19.6,17.1,8.76,6.775,16.25,19.85,19.75,6.96,6.71,8.945,12.65,15.0,15.35,14.35,5.765,8.315,6.13,14.5,15.1,13.0,12.85,7.975,10.895,9.17,14.65,17.7,16.1,14.75,12.15,18.5,12.15,16.1,17.6,5.98,13.5,12.85,13.6,9.8,15.0,7.05,20.1,16.35,13.15,14.5,17.75,14.0,9.895,5.88,6.895,17.75,12.5,19.0,9.06,5.945,13.35,12.65,11.3,17.6,21.25,20.2,9.8,7.035,7.93,15.5,12.35,8.235,6.675,6.55,6.86,9.8,19.35,9.3,14.5,15.35,21.1,19.5,6.03,20.7,16.5,5.26,14.0,7.575,16.75,9.3,8.6,18.6,9.5,15.0,6.465,6.715,14.15,19.85,7.855,8.615,7.405,21.25,8.655,16.5,12.6,15.5,17.25,17.5,19.5,18.25,8.395,9.8,7.27,17.6,13.0,8.75,12.15,10.3,10.65,19.6,16.0,8.89,20.25,5.175,4.61,17.7,18.0,5.925,10.65,14.8,15.1,13.5,16.7,15.7,13.15,12.1,12.8,4.805,18.75,7.6,9.5,15.6,13.65,12.85,12.6,17.75,18.25,10.5,15.35,14.1,8.895,14.0,18.2,17.85,17.1,9.6,17.5,7.945,5.765,14.1,9.3,12.6,8.6,19.85,9.0,10.0,20.25,15.6,12.5,4.785,6.92,15.0,8.365,7.785,10.8,6.57,8.38,11.6,11.3,8.96,6.67,18.7,17.85,7.725,19.6,18.7,13.35,5.26,20.6,14.6,5.94,6.75,13.5,8.42,17.75,8.27,20.7,11.6,19.35,20.25,11.3,5.88,20.85,8.27,17.6,18.2,20.6,15.5,15.35,9.8,11.65,16.35,18.7,16.5,5.48,9.6,15.6,16.75,11.8,9.5,9.0,10.195,15.1,13.0,16.75,5.88,18.85,16.0,11.5,7.31,16.7,9.895,8.895,7.93,7.645,14.6,8.02,5.945,6.98,10.1,19.1,11.6,15.7,11.85,17.5,8.38,12.5,12.85,15.5,11.1,14.35,17.35,12.15,10.695,7.825,18.35,17.85,16.75,10.395,9.065,7.945,13.15,10.5,6.615,15.0,6.11,14.65,10.1,18.7,6.035,8.35,15.5,17.75,18.25,6.4,17.7,15.6,6.57,11.8,6.89,8.51,21.25,7.235,17.0,8.18,10.8,19.35,16.1,9.0,14.3,6.3,7.575,11.8,18.75,12.15,9.285,5.405,18.2,19.6,6.11,13.8,11.8,13.5,8.695,7.85,5.75,13.0,16.0,12.35,11.395,12.8,18.5,11.6,15.7,10.695,19.6,9.195,7.72,8.77,13.6,21.25,9.035,11.65,9.6,10.85,7.52,12.5,20.75,15.35,10.5,20.75,20.5,13.6,13.8,8.195,14.0,13.35,7.21,19.0,13.6,18.35,6.305,15.2,15.2,15.35,7.405,18.7,13.15,20.6,16.5,12.35,10.8,7.71,9.0,13.15,7.5,7.93,12.6,15.6,14.85,12.0,17.75,18.6,12.65,16.25,20.2,7.785,17.6,15.1,9.395,9.27,18.85,11.0,13.15,5.46,6.865,17.75,13.8,17.0,20.2,14.0,9.195,8.39,5.735,8.155,16.7,17.25,13.5,18.0,20.75,13.0,6.055,12.85,18.7,6.235,15.25,19.2,11.65,8.895,15.85,19.0,10.85,5.095,5.34,17.2,10.5,10.5,8.43,7.785,11.35,11.6,6.365,5.11,10.1,12.85,7.725,20.1,16.75,8.905,6.78,16.85,14.65,20.7,12.1,15.2,15.15,15.3,19.25,9.3,17.25,21.25,20.1,17.6,19.25,18.85,17.5,10.5,16.75,8.935,15.35,15.85,6.215,9.5,17.7,8.05,11.5,19.85,20.0,8.96,5.615,17.0,5.82,20.6,9.195,10.695,15.75,19.6,17.35,6.71,17.1,5.175,16.5,7.0,12.1,17.75,20.25,6.76,20.75,7.84,19.6,12.5,10.195,6.135,9.1,20.7,19.0,9.195,6.425,17.0,9.0,19.7,18.75,11.6,7.285,18.6,6.615,10.1,17.7,10.5,18.85,7.485,10.6,13.65,13.65,6.445,8.895,16.7,6.115,9.3,7.725,18.0,17.0,12.8,15.85,6.11,9.5,17.6,20.0,13.15,19.0,8.1,7.725,7.26,10.5,19.5,21.25,14.15,19.7,13.8,18.35,11.3,8.35,12.65,16.7,5.365,6.52,14.0,6.575,15.35,6.985,10.8,14.85,14.85,9.395,13.5,18.0,20.35,8.785,7.1,14.85,20.25,11.0,14.1,6.61,5.94,7.975,12.65,11.15,8.18,17.6,15.75,12.15,9.695,20.5,14.85,13.0,7.075,17.85,17.5,7.39,11.8,11.8,17.25,11.35,19.25,19.7,14.0,8.355,15.1,12.1,8.185,15.5,14.0,18.0,9.6,9.6,16.7,9.3,8.1,19.1,6.825,11.5,7.075,20.7,7.895,9.6,12.1,11.1,9.5,21.0,5.46,17.6,20.35,7.39,9.195,17.1,15.5,7.5,9.8,11.395,20.7,16.2,13.15,21.25,13.15,19.6,12.6,12.8,7.285,13.1,8.63,10.195,16.85,9.3,5.485,18.25,12.6,12.85,6.13,5.655,11.1,16.0,12.15,9.6,14.0,14.85,4.92,13.5,15.7,8.97,15.35,17.7,6.36,8.235,12.35,18.0,20.25,8.6,19.5,5.095,11.0,18.25,7.5,12.0,12.15,11.6,8.315,12.15,5.905,8.575,17.35,18.6,15.1,7.825,12.1,13.65,8.38,8.67,15.6,17.7,20.2,13.15,10.85,14.35,20.0,12.3,15.6,11.8,7.72,19.6,6.425,20.85,7.05,16.25,20.7,5.44,20.5,12.35,4.61,8.275,7.905,16.2,13.6,9.395,15.35,14.5,10.8,18.85,12.15,11.6,15.3,20.35,6.89,8.93,8.31,5.19,17.0,11.65,20.25,11.1,13.65,17.75,19.35,6.905,13.5,16.85,20.6,6.175,13.35,8.115,16.35,16.6,20.6,20.1,13.3,15.0,8.27,13.1,12.5,19.1,11.3,13.65,5.59,18.6,6.17,5.175,12.85,16.25,6.13,17.25,19.85,9.5,9.395,4.59,5.98,6.46,7.02,8.52,16.25,10.695,5.88,19.5,8.68,15.7,15.1,7.31,12.35,16.6,14.35,7.075,18.25,19.7,8.52,5.785,5.945,18.25,8.68,11.65,13.0,17.75,12.15,6.32,17.25,18.85,19.7,14.5,17.7,15.7,11.8,15.2,8.77,19.7,10.5,5.405,20.35,5.785,12.5,6.11,7.105,8.5,16.7,17.1,8.325,15.85,12.15,15.85,17.1,15.5,14.15,6.865,16.5,14.5,7.39,10.895,8.63,7.75,12.15,19.85,5.98,7.02,7.72,5.925,9.695,12.6,15.6,16.7,18.7,18.85,11.65,16.5,12.3,10.65,16.2,7.55,13.35,16.0,16.85,8.185,19.7,10.8,12.6,14.85,13.0,12.1,11.3,10.0,20.6,11.5,11.8,9.3,17.85,6.445,13.15,15.0,11.65,17.35,18.1,14.1,11.8,6.035,20.85,14.0,17.25,11.5,6.675,5.8,8.895,7.67,10.895,8.21,8.575,12.35,17.7,18.2,16.0,8.63,10.8,5.78,13.8,17.75,11.8,15.1,8.85,12.6,13.8,6.115,6.26,11.5,14.65,18.7,7.405,5.98,15.2,12.1,9.285,9.3,13.85,16.7,11.15,16.7,7.365,16.5,7.905,13.65,17.6,6.89,10.3,4.635,6.61,5.15,18.0,8.21,12.15,7.365,9.5,15.1,6.765,14.85,6.11,20.1,5.73,6.785,8.645,15.6,7.76,9.195,9.8,7.235,20.25,7.02,15.1,8.68,12.15,16.25,11.5,13.15,5.465,14.15,12.8,8.655,9.3,20.6,19.7,14.5,10.0,7.945,20.35,15.85,16.85,11.1,6.635,7.81,7.0,6.71,19.85,9.5,15.6,13.35,11.1,15.0,19.1,6.825,17.35,9.8,19.35,18.6,7.27,12.65,17.5,8.06,17.2,5.94,16.7,7.39,20.7,17.75,8.71,18.85,20.75,12.5,5.325,16.75,16.0,11.8,12.1,9.395,19.6,14.1,16.5,7.51,17.25,13.65,6.26,19.7,13.65,12.6,20.85,15.6,5.98,14.15,12.1,9.895,8.51,17.0,9.0,5.11,19.5,9.195,16.7,19.0,12.3,14.15,15.85,10.195,8.43,7.39,16.0,13.1,13.5,20.6,15.2,5.88,18.85,7.68,15.35,13.1,12.65,14.6,8.63,9.6,19.35,14.0,8.195,8.325,6.385,18.5,11.5,13.65,12.35,14.0,9.6,14.0,8.89,7.05,17.1,19.7,11.3,6.035,6.675,15.5,9.395,16.1,15.0,9.6,14.1,11.5,12.1,7.42,15.1,9.285,12.85,13.8,10.8,14.3,9.8,11.5,9.21,10.0,18.5,20.6,9.3,11.395,8.01,10.5,21.25,17.0,9.3,15.7,15.75,14.5,7.1,14.5,17.35,6.615,11.5,19.1,7.05,18.35,7.63,7.55,5.5,7.59,9.5,6.11,5.655,7.285,10.65,17.7,12.8,15.6,9.8,19.5,16.2,17.6,13.6,18.85,15.1,20.7,13.5,13.1,12.15,15.1,16.7,14.65,13.3,20.1,7.42,9.5,7.96,6.135,14.3,8.315,9.895,11.5,18.25,4.635,18.5,16.75,21.25,12.1,8.6,17.6,15.35,8.26,6.57,20.35,12.15,17.35,7.0,8.5,14.5,17.75,8.775,16.7,15.2,20.5,5.21,10.3,18.25,21.25,8.6,10.3,9.5,9.3,9.195,7.68,12.1,11.6,12.0,19.0,6.38,20.5,20.35,17.85,14.6,10.195,7.5,6.59,10.895,14.6,10.3,17.0,8.645,16.0,13.85,13.1,11.8,15.5,20.7,11.5,21.25,14.1,9.395,14.0,5.365,16.35,15.75,14.8,7.07,20.5,18.0,15.0,20.1,11.0,18.7,14.1,8.27,9.8,13.65,6.385,20.5,16.85,7.785,10.8,5.175,11.6,6.775,9.31,15.0,13.3,6.48,12.5,8.39,17.7,15.6,10.65,6.035,6.155,16.75,16.75,9.395,17.6,13.15,5.035,5.48,9.195,5.26,6.235,11.8,20.7,5.82,7.76,18.35,7.285,15.1,18.35,13.8,18.35,8.895,15.5,14.5,5.655,18.6,15.0,20.5,8.785,18.75,19.85,14.6,11.8,13.65,16.6,18.0,7.17,10.3,7.855,17.35,9.0,10.195,15.7,15.7,8.88,10.195,6.67,16.35,6.11,7.785,18.85,6.65,7.5,5.985,6.78,6.195,18.6,7.075,8.395,14.6,11.65,20.7,8.77,20.25,13.65,17.7,8.315,7.81,11.1,18.1,8.88,12.15,15.25,12.15,16.35,12.85,7.905,7.21,5.175,16.2,14.0,8.42,9.395,17.85,6.13,16.5,5.615,7.52,17.6,20.5,11.8,20.25,15.85,17.7,6.035,12.35,14.65,15.75,11.15,8.985,13.15,9.195,19.6,20.2,8.575,20.2,19.35,7.365,7.5,8.3,16.75,5.88,12.6,10.695,17.85,15.7,15.1,8.6,13.0,5.98,6.03,16.1,20.1,9.17,10.895,5.325,12.85,15.35,13.3,6.67,20.5,15.1,17.0,8.42,15.2,17.6,18.0,5.8,14.3,11.1,17.0,18.6,8.895,19.25,12.6,10.3,13.1,11.35,9.065,11.65,18.2,7.035,18.2,10.5,17.6,19.75,16.5,13.15,7.89,12.6,8.775,7.42,8.67,8.77,19.35,16.25,11.5,11.1,5.59,6.55,21.25,8.31,12.1,20.25,16.75,7.075,11.1,8.935,7.935,7.485,18.35,6.365,11.1,11.395,7.68,13.65,15.75,10.195,17.7,17.25,18.6,13.8,10.195,5.88,11.15,12.1,4.635,8.51,9.6,17.25,15.0,16.75,6.615,5.75,13.1,10.1,11.65,19.6,5.44,14.65,12.35,12.85,17.1,11.6,7.445,18.5,14.3,15.35,17.7,15.2,9.8,17.6,7.55,19.7,13.0,11.8,20.35,16.85,7.63,15.75,18.2,13.85,10.895,11.3,20.0,19.35,15.6,9.5,10.65,7.35,13.8,9.195,9.3,15.1,11.6,7.27,19.35,20.2,10.5,12.5,17.75,9.0,17.85,8.75,7.155,12.3,7.93,8.01,16.5,12.6,14.1,6.38,20.25,12.3,15.6,15.0,11.6,17.85,14.8,7.905,11.8,14.0,14.85,15.0,19.7,10.695,21.1,16.2,15.7,17.2,12.15,8.975,12.15,6.895,8.325,8.785,19.35,16.75,8.895,7.71,15.7,16.7,20.35,12.5,15.1,8.365,10.695,5.21,13.65,8.01,5.88,19.7,18.25,10.3,13.65,8.615,5.8,8.3,16.0,5.155,8.895,15.5,9.3,15.5,9.195,5.695,6.36,4.805,14.85,14.5,10.3,12.15,11.5,19.1,7.31,18.7,7.0,12.5,9.395,10.5,16.7,5.845,9.395,6.15,20.35,5.765,12.65,10.5,18.25,19.2,15.7,10.3,13.65,16.6,9.6,11.85,8.6,20.7,11.8,20.7,6.36,9.3,20.7,18.85,16.6,12.5,7.02,12.85,19.35,17.5,17.75,13.15,5.365,13.1,7.075,9.3,16.2,18.85,17.35,12.8,6.65,6.675,7.6,7.51,11.0,6.36,11.15,18.0,7.825,20.5,10.395,13.3,19.35,16.5,5.63,9.8,18.5,10.695,6.525,12.35,7.935,5.615,10.5,8.85,13.1,15.1,17.7,14.65,16.35,19.85,6.715,20.85,17.1,17.85,19.6,12.5,15.85,6.78,19.6,17.5,20.75,17.75,17.0,4.555,20.7,8.785,5.465,16.2,20.35,8.185,8.42,10.0,10.6,20.25,8.21,6.935,15.0,7.825,10.695,18.85,12.1,8.945,8.975,20.2,9.0,20.2,19.0,15.1,14.1,20.2,20.25,5.15,12.6,10.1,15.25,10.5,14.65,6.885,11.1,10.5,20.75,11.85,14.0,20.2,19.0,16.0,20.85,19.0,13.0,17.5,19.5,8.6,20.25,9.6,11.1,7.5,11.6,6.44,12.5,7.5,9.8,19.0,8.27,17.85,11.8,20.7,15.25,12.35,12.5,15.2,18.25,6.71,12.35,6.42,14.65,13.65,12.5,12.1,16.7,16.85,7.365,9.195,14.3,5.32,12.6,10.6,8.6,19.85,9.3,10.895,9.195,19.6,15.7,18.85,14.7,15.0,21.1,16.7,8.6,6.76,8.77,5.845,16.7,14.3,8.355,13.15,19.25,5.035,15.85,15.35,12.5,20.5,13.85,4.59,10.0,20.0,9.5,5.425,16.75,19.2,10.5,6.36,14.5,7.02,7.42,17.25,18.75,20.25,12.65,12.5,6.655,10.3,14.6,13.65,7.935,20.75,15.1,10.1,16.75,9.13,16.85,17.35,14.5,14.5,9.395,7.905,8.5,8.3,7.975,13.5,5.785,9.5,16.75,17.6,7.275,18.2,13.5,9.0,19.1,17.85,6.38,15.1,19.7,12.3,8.1,15.85,14.85,19.0,5.485,19.0,16.1,6.135,11.6,16.2,15.6,10.395,15.25,10.1,12.1,7.315,15.6,16.2,17.5,16.25,12.35,15.7,20.35,12.1,20.35,18.1,7.5,20.5,16.75,13.5,12.85,10.1,11.0,14.15,20.6,5.765,10.8,15.7,8.6,5.32,7.435,6.615,11.3,10.895,11.5,7.55,5.325,6.675,16.5,10.195,19.2,18.7,6.11,6.85,7.475,15.1,11.35,15.0,6.44,14.8,8.18,15.2,8.76,5.305,12.85,15.0,9.3,19.25,19.35,11.35,18.7,6.055,8.395,9.195,21.1,20.35,10.1,9.0,20.25,5.765,9.195,8.655,11.5,17.6,19.35,17.85,19.35,13.0,13.65,15.25,15.5,7.145,10.5,16.25,10.0,19.75,13.1,9.6,9.395,18.85,19.1,5.03,17.6,13.85,6.98,7.725,17.6,15.85,18.6,16.7,10.195,6.965,19.2,6.78,16.35,7.155,13.5,9.195,6.825,16.2,20.85,7.785,9.8,10.5,16.0,16.2,16.2,7.72,10.695,16.1,13.6,20.6,11.65,9.285,8.84,16.35,8.575,20.5,9.695,8.38,13.5,14.3,6.055,20.7,15.85,12.3,19.1,9.1,13.15,18.35,16.5,12.1,12.5,8.06,6.055,14.3,20.2,6.69,19.35,17.75,16.1,12.5,7.75,18.6,16.7,13.35,21.1,7.97,14.15,9.8,8.21,20.25,15.6,13.15,10.6,15.25,7.39,10.3,17.5,10.3,7.85,10.0,7.22,10.0,11.6,18.0,16.75,13.65,11.5,17.75,9.0,13.65,12.65,17.35,11.0,5.175,9.895,15.2,11.3,15.1,6.215,8.235,10.1,6.92,16.7,5.485,13.6,10.3,6.765,10.5,12.5,17.35,8.85,8.85,12.5,6.865,5.885,16.5,7.52,10.895,7.935,7.6,11.0,13.15,10.195,16.85,8.195,11.8,19.2,12.15,7.405,7.315,7.435,12.65,8.365,19.75,19.5,19.7,11.8,12.65,12.85,13.65,9.3,16.5,17.2,17.25,20.35,7.905,7.905,21.25,10.5,18.0,7.725,5.8,10.85,19.35,13.15,5.785,10.195,16.0,10.695,9.8,7.72,5.86,5.4,19.75,18.6,12.5,13.1,6.195,8.395,16.0,8.26,6.865,9.3,7.42,15.2,9.695,7.42,13.65,11.6,20.35,5.34,8.42,20.5,5.88,11.35,13.8,20.7,12.0,15.0,20.75,6.865,8.38,10.6,14.8],\"xaxis\":\"x\",\"y\":[3735.138,2097.27,994.7052,343.5528,1076.5986,4710.535,1516.0266,2187.153,1589.2646,2145.2076,1977.426,1547.3192,718.3982,2748.4224,3775.086,1587.2672,4078.025,838.908,1065.28,308.9312,2174.5028,2085.2856,3791.0652,3435.528,2150.534,2527.3768,373.5138,2428.8384,5815.0972,2576.646,3134.5864,850.8924,810.9444,3121.2704,4815.0656,2117.244,796.9626,4910.275,1062.6168,4865.6664,1118.544,2302.3364,2027.361,3435.528,599.22,4604.6728,2285.0256,5580.7356,2290.352,1207.0954,1587.933,5305.0944,1697.79,1427.4752,2479.4392,2716.464,661.8052,1523.3504,690.4346,1381.535,622.523,1274.3412,1231.73,3755.112,1314.2892,1805.6496,3896.2616,667.7974,2247.7408,1794.331,2530.7058,812.276,699.09,2732.4432,3151.8972,5942.265,4843.695,2542.0244,2552.6772,680.4476,2085.9514,3036.048,866.8716,868.869,1137.1864,928.1252,762.341,707.0796,1438.128,1969.4364,1314.2892,535.3032,1402.1748,1693.7952,2143.876,2676.516,905.488,7370.406,6301.1312,1597.92,529.311,1969.4364,1034.6532,3169.208,1910.1802,1701.7848,2471.4496,1331.6,2618.5914,2769.728,5375.0034,2838.9712,2120.573,3823.0236,1360.2294,3969.4996,1010.6844,3010.7476,988.713,1374.2112,778.986,2336.958,2233.0932,1661.8368,4745.8224,3124.5994,540.6296,992.7078,6008.845,745.696,3275.736,1701.7848,4119.9704,780.9834,3630.6074,133.16,5650.6446,2636.568,1272.3438,3690.5294,1139.1838,1995.4026,1416.8224,265.6542,3552.7088,2406.867,2956.152,1649.8524,1133.8574,2603.278,605.878,1929.4884,6795.1548,639.168,3248.4382,7222.5984,3225.1352,3755.112,3440.8544,974.7312,535.969,5259.82,759.012,1877.556,3779.0808,259.662,193.082,1687.803,4655.9394,4950.8888,1418.154,1225.072,5359.69,1764.37,2553.343,1006.6896,1081.925,308.9312,2516.724,1428.141,2093.2752,1929.4884,5829.7448,2082.6224,7452.9652,450.0808,6088.0752,2277.036,2267.049,5559.43,1237.7222,569.259,1379.5376,925.462,583.2408,1418.154,942.7728,2364.9216,5895.659,7696.648,2775.7202,5317.0788,1039.9796,3038.0454,3848.324,527.3136,2390.8878,801.6232,1267.0174,886.8456,3877.6192,4950.8888,958.752,1956.1204,2404.2038,994.7052,1754.383,3918.8988,306.268,4425.5726,3339.6528,6410.3224,1992.0736,2870.9296,539.298,4377.635,2716.464,703.0848,1937.478,3307.6944,3142.576,5494.8474,6093.4016,2586.633,1255.6988,4093.3384,3163.8816,1137.1864,2756.412,878.856,659.142,3610.6334,5153.292,2588.6304,1230.3984,3969.4996,7763.228,809.6128,5715.2272,1464.76,3251.1014,4274.436,1176.4686,3523.4136,610.5386,1237.7222,2580.6408,2552.6772,3914.904,796.9626,3259.7568,1677.816,3707.1744,2954.1546,1037.3164,426.112,6911.004,3811.0392,5770.4886,690.4346,1890.2062,1504.708,521.3214,829.5868,1571.288,2403.538,844.2344,2940.1728,3259.7568,3415.554,6687.961,5642.655,796.9626,848.895,4997.4948,588.5672,3038.7112,1587.2672,687.1056,1929.4884,3600.6464,2181.1608,3428.2042,623.1888,2133.2232,1289.6546,790.9704,3147.9024,1139.8496,1816.3024,978.726,2683.174,2897.5616,1957.452,2528.7084,284.2966,759.012,1787.673,2431.5016,2048.6666,1940.807,2067.309,2663.2,3448.844,1665.8316,1713.7692,810.9444,1193.1136,856.8846,1057.9562,2205.1296,2940.1728,3046.7008,3327.6684,2999.429,942.7728,1581.9408,4262.4516,1398.8458,2336.958,2348.9424,1054.6272,1298.31,2330.3,4584.6988,1869.5664,1603.9122,2013.3792,2403.538,219.714,729.051,1393.5194,5262.4832,303.6048,721.0614,3467.4864,5416.9488,5206.556,2503.408,1960.781,3299.7048,2684.5056,2085.2856,2210.456,1049.9666,2719.793,231.6984,1398.18,1531.34,633.8416,2094.6068,2386.2272,780.9834,1693.7952,1342.2528,4916.2672,1757.712,2876.256,1966.7732,1238.388,4418.2488,2863.6058,1845.5976,1561.9668,3848.324,2097.27,639.168,2770.3938,353.5398,1118.544,4655.2736,1547.3192,1045.306,275.6412,347.5476,3817.0314,1905.5196,665.8,2324.9736,2101.9306,1821.6288,3643.2576,2942.836,587.2356,2886.243,2223.772,5770.4886,5502.837,2181.8266,1565.9616,1667.829,2812.3392,489.363,2865.6032,1665.8316,2694.4926,1555.9746,543.2928,1950.794,177.7686,1035.319,949.4308,1283.6624,484.7024,934.7832,534.6374,878.856,1332.9316,4993.5,1691.7978,4042.7376,1640.5312,2334.9606,2370.248,4697.8848,2406.867,5736.5328,3246.4408,4672.5844,3775.086,2478.7734,3067.3406,3281.7282,1086.5856,1528.011,868.869,1230.3984,1166.4816,5764.4964,113.8518,3057.3536,3579.3408,450.0808,607.2096,1325.6078,1270.3464,1308.297,1471.418,3896.2616,3460.8284,1259.6936,798.96,3185.853,1488.063,5159.2842,4500.808,4318.3788,3456.1678,1659.8394,759.012,1707.777,2816.334,2954.1546,593.2278,1150.5024,3072.667,3259.7568,2756.412,2930.1858,1544.656,3165.879,1619.2256,387.4956,415.4592,1267.6832,1593.9252,2358.2636,145.8102,1780.3492,1230.3984,744.3644,716.4008,5113.344,886.8456,1039.9796,4554.072,1807.647,2665.8632,1751.054,2626.581,1470.0864,4362.3216,2241.0828,4733.838,3174.5344,2924.8594,960.7494,2041.3428,996.0368,1757.712,1842.9344,3435.528,7833.8028,1221.0772,669.129,1061.951,2874.9244,5163.9448,323.5788,622.523,1125.202,5198.5664,379.506,2432.8332,1657.842,3006.087,3237.1196,2746.425,857.5504,4287.752,1773.6912,597.2226,1431.47,2860.2768,1757.712,966.7416,1958.1178,365.5242,1783.6782,2790.3678,2328.3026,2822.992,505.3422,5141.3076,2665.8632,2588.6304,1108.557,1304.968,331.5684,3089.312,1867.569,898.83,2848.2924,3617.9572,5243.8408,2109.2544,721.0614,1203.1006,322.2472,3942.8676,3195.84,3338.3212,4086.0146,1267.0174,5367.6796,5976.2208,5443.5808,1547.3192,3067.3406,2857.6136,1406.1696,1470.0864,948.0992,1178.466,2137.8838,2691.8294,978.726,2356.932,2696.49,1649.8524,2014.7108,1707.777,932.12,2157.192,4643.955,2366.919,886.8456,958.752,1150.5024,2641.8944,1547.985,2808.3444,1929.4884,1054.6272,1155.8288,1174.4712,4098.6648,452.744,2620.5888,1414.1592,1565.9616,729.051,2956.152,527.3136,1058.622,3047.3666,1725.7536,6331.758,1853.5872,2247.075,445.4202,727.0536,2665.8632,2311.6576,7017.532,4655.2736,451.4124,876.1928,2454.1388,4102.6596,2696.49,3099.9648,743.0328,1611.9018,1215.7508,2954.8204,643.1628,4940.236,735.709,1170.4764,1135.189,1549.9824,2133.2232,2892.2352,1323.6104,1547.3192,647.1576,1798.9916,1973.4312,1737.738,1516.0266,5060.08,2157.192,5400.9696,1278.336,1917.504,1017.3424,1998.7316,615.1992,314.2576,1020.6714,1222.4088,1506.0396,3547.3824,1478.076,1418.154,5061.4116,2888.2404,741.0354,1857.582,2836.308,2982.784,1150.5024,9275.9256,5038.1086,703.0848,713.0718,1691.7978,2157.192,2561.9984,2059.9852,1334.2632,692.432,6622.7126,3139.9128,585.904,703.0848,3131.9232,4027.4242,2418.1856,2061.3168,4207.856,1960.781,2929.52,2190.482,1693.7952,3661.9,862.8768,6048.793,2187.153,1451.444,958.752,1808.3128,1099.2358,2311.6576,1418.154,2874.9244,2345.6134,3912.2408,5712.564,5390.3168,1160.4894,5510.8266,2633.9048,6183.9504,2702.4822,4843.695,952.7598,1985.4156,2061.3168,1025.332,3013.4108,809.6128,623.1888,1088.583,2931.5174,490.6946,1584.604,782.9808,4420.912,1522.0188,1765.7016,2503.408,2684.5056,2163.1842,3383.5956,2241.0828,5259.82,1957.452,1450.1124,2934.8464,708.4112,2220.443,1606.5754,868.869,2237.088,705.748,1078.596,4029.4216,1018.674,3700.5164,2024.032,593.2278,1125.202,1570.6222,2141.2128,2157.192,3428.2042,1901.5248,2684.5056,1966.7732,1637.868,1350.2424,1593.9252,4889.6352,805.618,1438.128,1146.5076,3038.7112,2277.036,2008.0528,708.4112,3048.6982,1443.4544,3486.1288,4819.0604,759.012,659.142,1737.738,2519.3872,1537.998,2251.7356,2265.0516,990.7104,796.2968,303.6048,2190.482,2444.8176,366.19,792.302,1713.7692,1488.063,2336.958,1605.9096,3717.8272,1571.288,1166.4816,3661.9,3829.0158,1177.1344,519.324,1151.1682,3383.5956,2233.0932,2631.2416,571.2564,6040.1376,1358.232,1238.388,169.779,2832.979,2624.5836,3257.7594,1796.3284,1713.7692,2982.784,1303.6364,2897.5616,918.804,2884.2456,221.0456,296.9468,426.112,2647.2208,2812.3392,372.848,2612.5992,4845.0266,872.198,3235.788,841.5712,1379.5376,3559.3668,4244.475,3115.944,3769.7596,1186.4556,1540.6612,2552.6772,1619.2256,829.5868,1166.4816,1665.8316,2876.256,2956.152,8132.0812,4346.3424,466.06,5851.0504,2681.8424,3828.35,2373.577,1845.5976,3425.541,1853.5872,540.6296,2732.4432,1162.4868,1228.401,874.8612,1917.504,731.0484,4264.449,1480.0734,1581.275,3014.7424,438.0964,282.965,1834.9448,1065.28,3327.6684,2925.5252,5382.993,1571.288,1427.4752,2695.1584,314.2576,2960.1468,1158.492,3502.108,3008.0844,1151.1682,2768.3964,3364.9532,343.5528,2546.685,1127.8652,739.038,2993.4368,1721.093,2864.2716,3582.004,575.2512,3149.234,3374.2744,288.9572,3358.2952,3663.2316,5321.0736,1744.396,2536.698,1911.5118,4098.6648,2380.9008,1850.924,5909.6408,2207.127,2021.3688,5345.7082,2931.5174,2874.9244,6353.0636,4567.388,2356.932,2463.46,1921.4988,1066.6116,644.4944,2428.8384,2516.724,965.41,4563.3932,2700.4848,476.047,2450.144,1853.5872,4471.5128,1985.4156,5954.2494,2269.0464,5426.27,958.752,1151.1682,2432.8332,1647.855,792.302,639.168,2988.1104,1989.4104,2087.283,2501.4106,1034.6532,1964.11,1946.7992,5191.2426,1808.9786,3395.58,5201.2296,768.999,2348.9424,1597.92,2492.7552,796.2968,4500.808,3078.6592,679.116,928.791,3663.2316,1304.968,3844.995,2768.3964,4570.0512,3020.0688,958.752,2375.5744,852.224,270.3148,251.6724,1142.5128,1347.5792,5366.348,1661.8368,3415.554,1655.1788,843.5686,1347.5792,6018.1662,1885.5456,2246.4092,4436.8912,2181.1608,1491.392,141.1496,1346.2476,773.6596,3731.809,351.5424,2826.321,5954.9152,2332.9632,4247.804,3914.904,788.973,1923.4962,4074.696,2817.6656,2863.6058,2213.1192,1274.3412,1593.9252,4823.721,540.6296,1188.453,4138.6128,3579.3408,3848.324,5383.6588,2241.0828,671.1264,2380.235,201.0716,3968.168,4187.2162,3078.6592,2577.9776,2628.5784,1278.336,4013.4424,7646.0472,3078.6592,1713.7692,1492.7236,4006.7844,1245.046,2388.8904,575.2512,3755.112,1182.4608,262.3252,1342.2528,1644.526,1258.362,729.7168,3749.7856,236.359,1641.8628,1943.4702,4923.591,2554.0088,2320.9788,808.947,1330.2684,3410.2276,2050.664,1229.0668,2727.7826,2330.3,4153.9262,1462.0968,3554.7062,446.7518,3101.2964,1898.8616,6179.9556,1342.2528,3095.97,2173.1712,5285.1204,2804.3496,4660.6,1603.2464,2133.2232,4221.172,1031.99,1808.3128,1099.9016,1102.5648,2696.49,1235.059,4950.8888,3110.6176,4514.124,1288.9888,1893.5352,1225.072,1043.9744,6574.775,2404.2038,972.068,1904.188,419.454,4809.7392,1787.0072,2656.542,4288.4178,990.7104,3511.4292,571.2564,1537.998,3755.112,1581.9408,657.8104,5528.1374,718.3982,1052.6298,263.6568,628.5152,1975.4286,3861.64,2816.334,3131.9232,4122.6336,3056.022,1478.076,2626.581,793.6336,1198.44,1537.998,4257.1252,7130.718,498.0184,490.6946,5522.811,1657.842,3455.502,6771.186,988.713,918.804,3399.5748,1142.5128,3560.6984,2759.0752,3653.9104,5608.6992,6201.927,1322.2788,830.9184,577.9144,2203.798,545.2902,5536.7928,990.7104,1474.0812,2055.3246,792.302,1294.3152,1869.5664,992.7078,2972.797,2587.9646,3910.9092,2113.2492,5326.4,1845.5976,6524.84,982.055,6426.3016,3340.3186,1491.392,3795.06,563.9326,3129.26,3261.7542,2111.2518,2055.9904,1193.1136,1761.7068,2636.568,790.9704,2980.1208,3419.5488,834.9132,3779.0808,814.9392,1114.5492,866.8716,2396.88,1999.3974,468.7232,1342.2528,614.5334,1426.1436,1537.998,939.4438,3418.883,404.8064,974.0654,2406.867,5626.01,5956.9126,6404.996,1158.492,2976.7918,3131.9232,4448.2098,1442.1228,2841.6344,2876.256,3125.931,3142.576,1398.18,1956.1204,3078.6592,1018.674,2609.936,4516.7872,1557.972,2364.9216,4138.6128,2243.746,724.3904,4111.9808,1022.6688,194.4136,2808.3444,852.224,828.921,323.5788,2942.836,359.532,2360.9268,2735.1064,3677.2134,171.7764,628.5152,2946.165,1789.6704,468.7232,1597.92,3681.874,1977.426,1230.3984,4410.2592,1496.0526,1012.016,2862.94,6692.6216,1404.838,2812.3392,5191.2426,1148.505,2909.546,1468.089,1733.7432,1985.4156,4175.8976,6615.3888,569.259,2631.2416,1037.3164,3283.7256,1468.089,1138.518,339.558,6006.1818,2988.1104,1761.7068,3560.6984,2874.9244,503.3448,1853.5872,2885.5772,1017.3424,2530.7058,1328.271,1244.3802,1518.024,1685.8056,3078.6592,2866.269,2069.3064,4442.2176,1930.1542,1780.3492,7086.1094,3415.554,5241.1776,1025.332,473.3838,2912.875,5976.2208,2984.1156,3695.19,1068.609,1583.9382,958.752,2836.308,972.068,3002.0922,1198.44,4566.0564,4402.9354,6033.4796,1537.998,801.6232,1474.0812,3605.307,873.5296,575.2512,860.2136,2133.2232,2253.0672,746.3618,1272.3438,719.064,6114.7072,2167.8448,942.7728,1897.53,2978.1234,1989.4104,2372.9112,1607.2412,958.752,1198.44,2277.036,796.2968,3105.957,2826.9868,3153.2288,3448.844,1446.1176,1078.596,554.6114,731.0484,4250.4672,4054.722,3067.3406,2343.616,852.224,5350.3688,2133.2232,5145.3024,3547.3824,2274.3728,5033.448,1120.5414,2612.5992,4548.0798,5863.0348,447.4176,5331.7264,3563.3616,1603.2464,2709.806,4086.0146,1402.1748,1764.37,1701.7848,4357.661,3207.8244,732.38,306.268,193.082,1209.7586,3878.285,2693.8268,649.155,4777.7808,1416.8224,2422.1804,2380.9008,373.5138,539.298,763.0068,181.0976,3083.9856,2087.9488,2535.3664,1789.6704,4687.232,3425.541,1657.842,3101.2964,1347.5792,2270.378,2556.672,3779.0808,1505.3738,782.9808,1911.5118,642.497,1470.0864,6309.7866,633.8416,1637.868,805.618,3767.0964,529.311,645.1602,849.5608,4364.9848,792.302,4290.4152,5406.296,930.1226,1826.9552,1145.176,3150.5656,1779.0176,1414.1592,1518.024,3034.0506,666.4658,181.0976,210.3928,1662.5026,402.809,749.025,2516.724,5556.7668,1022.6688,1576.6144,5257.1568,3033.3848,780.9834,2474.7786,3929.5516,564.5984,1245.046,825.592,1231.73,2090.612,2801.6864,2343.616,1808.9786,5768.4912,970.7364,3568.688,3533.4006,6157.3184,1949.4624,4633.968,4211.185,1970.768,3372.9428,934.7832,3375.606,2388.2246,780.3176,1605.9096,1076.5986,2931.5174,4211.185,1830.95,939.4438,1856.2504,1431.47,490.0288,611.2044,2163.85,575.2512,661.8052,1208.427,838.908,660.4736,3928.22,782.315,2580.6408,1687.1372,2348.9424,3542.7218,4701.8796,1768.3648,519.324,1108.557,659.142,2648.5524,1065.28,798.96,3062.0142,4958.8784,2768.3964,2591.2936,755.0172,354.2056,1607.2412,1053.2956,1922.8304,1677.1502,1113.2176,2406.2012,2069.3064,4969.5312,5243.8408,521.9872,4578.0408,1062.6168,2579.975,1504.0422,5126.66,2616.594,1223.0746,755.683,2675.1844,755.0172,3635.268,1323.6104,2942.836,4379.6324,2936.178,600.5516,8851.1452,2428.8384,3813.7024,2556.672,1255.033,2769.728,1571.288,1022.6688,3744.4592,2749.754,969.4048,2720.4588,4527.44,3123.9336,2857.6136,1454.773,1992.0736,1728.4168,452.744,856.8846,2037.348,149.805,473.3838,293.6178,5105.3544,3010.7476,986.7156,458.0704,1935.4806,1569.9564,1717.764,1304.968,784.3124,1816.3024,2070.638,2184.4898,1922.8304,633.8416,1205.098,3338.987,227.7036,695.0952,1478.076,694.4294,703.0848,4514.124,3169.208,2490.092,1151.1682,3900.9222,1845.5976,934.7832,3202.498,2684.5056,2439.4912,596.5568,5159.2842,8604.7992,1061.951,609.207,3558.0352,2025.3636,1907.517,5660.6316,607.2096,3169.208,2740.4328,640.4996,1960.1152,2067.309,231.6984,2153.1972,1724.422,3615.294,2999.429,1134.5232,2696.49,1120.5414,719.064,437.4306,2050.664,2059.9852,3089.312,1278.336,1528.011,1301.639,1844.9318,5068.7354,1095.241,1295.6468,2607.2728,3455.502,2345.6134,1761.7068,1905.5196,3086.6488,1060.6194,4653.942,3339.6528,1379.5376,897.4984,1404.838,1069.2748,4101.328,4793.76,1138.518,2771.7254,1948.1308,5206.556,173.7738,73.238,3415.554,3803.0496,3961.51,1251.704,1821.6288,5141.3076,1720.4272,3418.883,4374.306,782.315,1685.8056,4101.328,1179.1318,419.454,3845.6608,2024.032,1956.1204,1168.479,3073.9986,1884.8798,1364.89,3193.1768,2336.958,3078.6592,2109.2544,3243.7776,2579.975,1486.0656,312.2602,4845.0266,171.7764,1834.279,2082.6224,2705.1454,3731.809,1592.5936,2125.2336,998.7,3673.8844,2099.9332,1225.072,4278.4308,631.1784,602.549,2797.6916,2006.7212,908.817,1379.5376,2045.3376,1278.336,1491.392,1186.4556,3621.952,1761.041,1325.6078,3942.8676,3506.7686,5099.3622,2570.6538,2563.33,2187.153,2348.9424,1682.4766,4274.436,3185.1872,4580.704,1800.3232,517.3266,5668.6212,2125.2336,1948.1308,367.5216,601.2174,4042.7376,1356.2346,1192.4478,1701.7848,633.8416,3142.576,1696.4584,639.168,4687.232,3036.048,2372.9112,770.3306,663.1368,2167.8448,2749.754,1904.188,512.666,605.878,2826.321,3846.9924,557.2746,3542.056,490.0288,3611.2992,3119.9388,2013.3792,4761.8016,7590.12,1326.2736,982.055,2119.9072,4234.488,5757.8384,1303.6364,599.22,3954.852,6503.5344,1641.8628,2087.9488,3339.6528,2535.3664,8760.5964,1018.674,1789.6704,1382.2008,5259.82,1512.6976,2090.612,1211.756,1230.3984,1657.842,739.038,2619.2572,2721.7904,6381.693,1120.5414,1869.5664,1411.496,1941.4728,4301.068,585.904,535.3032,1609.9044,649.155,2223.1062,4060.7142,3844.995,1832.2816,659.142,4402.2696,3643.2576,4247.804,2607.2728,1372.2138,2648.5524,1584.604,3629.2758,1611.236,2402.2064,1277.0044,1584.604,1685.8056,3574.0144,1186.4556,6474.2392,1853.5872,3006.087,736.3748,3956.8494,1807.647,467.3916,3542.056,1949.4624,3344.9792,592.562,736.3748,3103.9596,2101.9306,2972.1312,433.4358,4920.9278,1164.4842,846.8976,2812.3392,2946.165,3137.2496,1657.1762,3113.2808,1510.0344,1629.8784,690.4346,4447.544,2673.8528,3339.6528,502.0132,3038.7112,1288.9888,884.1824,3006.087,3282.394,1038.648,2693.8268,2524.0478,3643.2576,1438.128,4195.8716,1263.6884,2066.6432,1281.665,4016.1056,3672.5528,1258.362,4267.1122,291.6204,1540.6612,1724.422,645.1602,1611.236,1116.5466,1203.7664,2999.429,3425.541,4134.618,3384.2614,2097.27,6852.4136,1486.7314,3531.4032,1448.7808,1335.5948,2367.5848,1860.2452,3440.8544,1070.6064,1422.1488,3139.9128,3704.5112,2656.542,1395.5168,3621.952,778.986,2465.4574,966.7416,922.7988,1219.7456,747.0276,539.298,4460.1942,2816.334,101.8674,2553.343,343.5528,365.5242,4224.501,4063.3774,3411.5592,2698.4874,2588.6304,511.3344,2812.3392,3504.1054,2470.118,525.982,4544.085,743.0328,4848.3556,2656.542,2840.9686,2956.152,1861.5768,4364.319,2797.6916,2759.0752,2530.7058,4761.8016,647.1576,261.6594,1686.4714,2996.1,2239.7512,2712.4692,2163.85,3275.736,679.116,1540.6612,2588.6304,3020.0688,2858.9452,934.7832,1765.7016,4563.3932,1494.0552,1419.4856,1291.652,7931.6754,595.2252,2026.0294,2603.278,2117.244,2680.5108,3487.4604,2816.334,1288.9888,3688.532,1644.526,5298.4364,2117.244,327.5736,1837.608,1496.7184,3928.8858,2636.568,3644.5892,2316.984,3302.368,2127.231,2862.94,1022.6688,466.06,617.8624,3075.996,2067.309,4769.1254,243.6828,945.436,1306.2996,1230.3984,1887.543,1318.284,995.371,905.488,1874.8928,6231.888,1837.608,2133.2232,1480.7392,503.3448,1113.2176,4711.2008,2796.36,611.2044,3390.2536,1669.8264,927.4594,744.3644,466.06,4137.2812,207.7296,2463.46,1095.241,2258.3936,663.1368,2103.2622,4863.0032,6048.793,2239.0854,1629.8784,2840.3028,1407.5012,589.233,796.9626,1657.842,1518.024,885.514,3165.879,1847.595,1808.9786,1705.7796,3113.2808,1779.0176,1185.124,2167.179,6114.7072,1576.6144,373.5138,1384.1982,892.172,2376.906,2709.1402,1997.4,2566.659,596.5568,2297.01,340.2238,828.921,3731.809,905.488,1411.496,173.108,2390.222,5382.993,2536.698,2093.2752,2428.8384,3828.35,1733.7432,4604.6728,2820.9946,5715.2272,2471.4496,1261.691,2285.0256,798.96,2125.2336,1990.742,3103.9596,805.618,2548.6824,2406.867,1537.998,739.038,2063.98,1454.773,356.8688,3350.3056,3731.809,3068.0064,1366.2216,1198.44,1757.712,4767.128,870.8664,2025.3636,4902.9512,2543.356,479.376,3101.2964,1707.777,1257.0304,243.017,4314.384,843.5686,2073.3012,1230.3984,1693.7952,639.168,4745.8224,3079.9908,2651.2156,2103.928,1090.5804,2141.2128,2145.2076,591.8962,2501.4106,4762.4674,265.6542,735.709,1151.1682,2223.1062,1185.124,1697.79,2721.7904,4920.9278,856.8846,838.908,5920.2936,651.8182,2103.928,2458.1336,6411.654,1655.1788,894.8352,2852.2872,1987.413,2137.218,1569.9564,2224.4378,4578.0408,3761.77,2616.594,3709.8376,2736.438,1310.2944,1203.7664,1552.6456,3110.6176,1608.5728,1705.1138,3103.9596,982.7208,1736.4064,2293.0152,3691.1952,378.1744,6893.0274,279.636,6093.4016,792.302,2233.0932,497.3526,1239.7196,774.9912,7534.1928,607.2096,7843.124,2541.3586,2886.243,3315.0182,5681.2714,3896.2616,3427.5384,1618.5598,978.726,952.094,501.3474,1004.0264,3103.9596,886.8456,479.376,2746.425,4159.9184,1171.808,1829.6184,3415.554,3361.6242,663.1368,1437.4622,2603.278,2073.3012,3844.995,2147.205,1577.946,1966.7732,3292.381,2719.793,5496.8448,3858.9768,2306.997,1757.712,808.947,1845.5976,2863.6058,852.224,256.333,2034.019,1278.336,1366.2216,2940.1728,2847.6266,1725.7536,5800.4496,3448.844,2036.6822,683.1108,2348.9424,2090.612,3430.2016,2885.5772,2889.572,1498.05,3528.74,3861.64,353.5398,4756.4752,801.6232,4414.254,1142.5128,1035.9848,3280.3966,780.9834,2553.343,834.9132,2748.4224,1761.7068,4789.7652,2024.032,1603.9122,4146.6024,2040.0112,3554.7062,3901.588,2606.607,6757.87,642.497,5386.9878,4073.3644,2255.7304,1486.7314,2414.1908,2530.7058,852.224,4604.6728,1528.011,1813.6392,1416.8224,1274.3412,1388.8588,818.934,4950.8888,3693.8584,805.618,4349.0056,1597.92,777.6544,722.393,6291.81,3365.619,3974.826,671.1264,2745.0934,1231.73,2931.5174,7247.233,1105.228,942.7728,960.7494,3318.3472,3185.1872,1659.1736,5752.512,4586.0304,2646.555,1150.5024,4925.5884,759.012,2091.2778,3219.8088,3532.7348,3440.8544,3453.5046,428.7752,801.6232,1416.8224,715.0692,3206.4928,2770.3938,1780.3492,1794.331,308.9312,4097.3332,5396.9748,894.8352,3515.424,2306.997,1618.5598,2069.3064,4647.284,1917.504,284.9624,1346.2476,2252.4014,6033.4796,2336.958,1547.3192,291.6204,2797.6916,2614.5966,3495.45,4578.0408,998.7,3478.805,2013.3792,1398.18,632.51,1543.3244,1017.3424,2821.6604,1662.5026,1661.8368,527.9794,1651.184,1277.0044,1890.2062,1006.6896,3281.0624,3046.7008,1315.6208,2157.192,2460.7968,1583.9382,2241.0828,3048.6982,355.5372,1198.44,275.6412,199.74,3739.1328,2684.5056,1354.2372,1757.712,727.0536,527.3136,838.908,1164.4842,1312.2918,834.9132,3962.8416,4845.0266,1127.8652,1458.102,3403.5696,441.4254,2059.9852,1001.3632,7033.5112,2679.845,2878.2534,340.2238,2050.664,4207.856,1947.465,1717.764,1566.6274,3179.8608,562.601,2466.789,1174.4712,2684.5056,2535.3664,2918.8672,552.614,3418.883,1467.4232,679.116,427.4436,3778.415,5069.4012,1757.712,1238.388,2050.664,1150.5024,802.9548,3202.498,4619.9862,2153.1972,715.0692,1964.7758,1262.3568,2302.3364,1109.2228,2561.9984,4426.2384,2246.4092,4133.2864,3978.155,918.804,1965.4416,1022.6688,4492.8184,1523.3504,1414.1592,1518.024,506.008,1761.7068,3187.8504,2153.1972,824.9262,772.328,4633.968,2956.152,1964.11,3150.5656,645.1602,1821.6288,666.4658,1337.5922,1158.492,1789.6704,1687.1372,3894.93,6972.2576,2918.8672,6458.26,3205.1612,1042.6428,5145.3024,948.765,4122.6336,459.402,4579.3724,3983.4814,599.22,1071.938,2087.283,1208.427,4649.9472,1707.777,2388.8904,410.1328,473.3838,932.12,3872.9586,755.0172,2220.443,1090.5804,1877.556,5452.902,857.5504,1238.388,5522.811,5512.824,4414.9198,1054.6272,1780.3492,2352.9372,731.0484,1050.6324,2432.8332,3739.1328,1977.426,5728.5432,1398.8458,801.6232,1667.1632,3323.0078,3350.3056,540.6296,2006.0554,1298.31,2466.789,2407.5328,1518.024,1867.569,2725.7852,2528.7084,758.3462,1402.1748,1006.6896,6851.082,99.87,986.7156,6641.355,527.3136,2510.066,3678.545,1926.1594,5331.7264,2826.9868,2759.0752,1808.3128,2527.3768,1458.102,4456.1994,4673.916,1924.162,302.939,209.727,1904.188,2004.058,3149.234,1488.7288,460.7336,2897.5616,591.2304,1808.9786,2812.3392,1165.15,711.0744,1605.9096,1323.6104,2197.14,2105.2596,3068.0064,5400.9696,2956.152,1601.249,6338.416,1166.4816,4595.3516,2544.6876,4474.176,3289.052,2059.9852,4258.4568,1534.0032,3257.7594,1765.0358,2854.9504,1238.388,2749.754,2739.1012,972.068,3621.2862,774.9912,1318.284,918.804,1390.1904,1312.9576,6507.5292,2036.6822,3595.32,2460.7968,543.2928,2384.8956,3135.918,2695.1584,1007.3554,1518.024,2556.672,3528.74,163.7868,2712.4692,1058.622,4933.578,1454.1072,4757.8068,3529.4058,2390.8878,438.0964,439.428,2529.3742,209.727,3795.06,820.2656,1235.059,810.9444,683.1108,2451.4756,1619.2256,423.4488,1984.7498,5299.768,320.9156,2548.6824,1950.794,2492.7552,1038.648,1837.608,4580.704,4781.7756,1896.1984,2281.6966,1822.2946,515.3292,173.108,2878.2534,669.129,2326.971,4769.1254,964.0784,2277.036,2570.6538,1677.1502,4334.358,822.263,1569.9564,4233.1564,938.778,2490.092,2010.716,2886.243,3036.048,3006.087,1346.9134,2642.5602,5267.8096,3271.0754,5451.5704,4349.0056,1571.288,2988.1104,4074.696,3109.9518,2281.6966,3663.2316,3271.7412,1128.531,2109.2544,968.739,3091.9752,3133.2548,2037.348,1304.968,483.3708,2805.0154,1060.6194,1325.6078,4502.1396,2889.572,2476.776,2182.4924,1895.5326,3185.1872,2972.1312,2649.884,745.696,1436.7964,3558.0352,2807.0128,2776.386,1686.4714,1524.682,2969.468,1787.0072,1086.5856,3568.688,255.6672,1560.6352,5053.422,1158.492,2692.4952,1435.4648,671.1264,1559.9694,1773.6912,4364.319,2101.2648,1657.842,1525.3478,1464.76,1073.2696,2010.716,2189.1504,4540.756,2014.045,1230.3984,1454.1072,308.9312,639.168,2908.2144,1691.7978,6849.0846,2330.3,1386.1956,1545.9876,2556.672,2028.6926,2450.144,1906.8512,5033.448,3677.2134,3307.6944,1779.0176,343.5528,3302.368,4250.4672,759.012,1561.9668,2821.6604,6199.9296,6867.0612,2749.754,1472.7496,2446.815,569.259,4794.4258,1438.128,1304.968,2184.4898,5033.448,3036.048,1545.9876,1023.3346,4613.994,1505.3738,585.904,2900.2248,3415.554,1896.1984,2936.178,2450.144,1295.6468,2603.278,3159.8868,1154.4972,2278.3676,1901.5248,1133.8574,1330.2684,3705.177,1151.1682,4725.8484,3327.6684,3485.463,1749.7224,1895.5326,3994.8,2693.8268,1414.825,2085.9514,3203.1638,1182.4608,555.2772,785.644,755.0172,747.0276,3483.4656,1886.8772,1211.756,1895.5326,1201.769,892.8378,882.8508,6471.576,1609.9044,585.904,4602.0096,4250.4672,1342.2528,3020.0688,980.0576,3098.6332,529.311,703.0848,1315.6208,1947.465,1810.976,5070.7328,3353.6346,1640.5312,1749.7224,3374.2744,2269.0464,1406.1696,539.298,3392.9168,2563.33,4586.0304,635.1732,637.1706,4623.3152,579.246,4068.038,1794.331,700.4216,1239.7196,2150.534,2239.0854,3089.312,2090.612,3094.6384,5089.3752,1960.781,1310.9602,2708.4744,1097.9042,534.6374,1989.4104,1845.5976,2467.4548,1761.7068,2871.5954,2117.244,739.038,625.852,4207.856,1135.189,3950.1914,1123.2046,1686.4714,2543.356,2120.573,1038.648,3916.2356,2649.2182,7064.8038,986.7156,1263.0226,1445.4518,1182.4608,2071.3038,5141.3076,1104.5622,2912.2092,2775.7202,2297.01,2976.126,1115.215,309.597,2694.4926,476.047,1076.5986,633.8416,1549.9824,4082.6856,3448.844,1159.8236,2428.8384,3215.814,856.8846,3169.208,1406.1696,744.3644,3605.307,2966.139,383.5008,534.6374,2439.4912,5034.7796,2087.9488,2157.192,1725.7536,7028.1848,1970.768,5274.4676,5725.88,5238.5144,2141.2128,796.9626,1938.8096,1444.1202,2992.771,1150.5024,1491.392,1904.188,508.6712,4396.9432,1604.578,894.8352,3271.0754,764.3384,126.502,2628.5784,653.1498,2406.867,1976.0944,1368.219,355.5372,1644.526,1619.2256,1411.496,3238.4512,2316.984,1240.3854,639.168,2649.884,852.224,2303.668,1263.0226,2277.7018,322.913,1295.6468,2396.88,5487.5236,4637.9628,175.7712,1962.7784,2025.3636,1874.8928,2348.9424,3020.7346,4655.2736,1747.0592,2812.3392,1850.924,1571.288,2783.044,2316.984,491.3604,476.047,3173.8686,3369.6138,2348.9424,2002.0606,3379.6008,494.0236,5759.17,1404.1722,624.5204,1518.024,1379.5376,857.5504,982.7208,958.752,1693.7952,1874.8928,2016.7082,1358.232,1031.99,774.9912,1267.6832,323.5788,1837.608,2865.6032,1596.5884,2125.2336,1537.998,1255.033,1208.427,1022.6688,2666.529,718.3982,4266.4464,2360.9268,934.7832,1733.0774,1803.6522,1145.176,3723.8194,1895.5326,3630.6074,3560.6984,773.6596,878.856,2098.6016,9779.9362,3782.4098,425.4462,1947.465,2796.36,1765.0358,3295.71,3338.987,1166.4816,865.54,6855.0768,5153.292,4138.6128,2694.4926,1342.2528,4541.4218,5106.686,1853.5872,1090.5804,2892.2352,978.726,2992.771,1480.0734,681.7792,5690.5926,1416.8224,5580.0698,905.488,2856.282,3962.8416,6040.1376,1114.5492,1006.6896,690.4346,2516.724,1038.648,1208.427,522.653,2482.1024,1635.8706,3383.5956,4327.7,3579.3408,2693.8268,1957.452,2931.5174,5438.9202,1201.769,2564.6616,1411.496,1291.652,4042.7376,5201.2296,1078.596,1846.9292,476.047,2696.49,535.3032,605.878,2976.7918,1110.5544,2586.633,2586.633,1378.206,683.1108,1348.245,4514.124,2458.1336,2503.408,3089.9778,1342.2528,2021.3688,1927.491,873.5296,587.2356,878.856,1779.6834,492.692,3900.9222,3435.528,5219.872,4149.9314,2530.7058,1837.608,2131.2258,2916.204,2934.8464,3171.8712,998.7,1105.8938,3739.1328,2684.5056,2712.4692,4567.388,5480.8656,2581.9724,2456.802,2120.573,407.4696,230.3668,1286.3256,2189.1504,1859.5794,1744.396,2246.4092,4106.6544,181.0976,778.986,2947.4966,3705.177,1283.6624,1284.994,785.644,2245.0776,4427.57,1230.3984,2570.6538,980.0576,1395.5168,7028.8506,1402.1748,2085.9514,1091.2462,3395.58,1797.66,2804.3496,3797.7232,3235.788,1901.5248,4621.9836,782.9808,755.0172,1406.1696,1194.4452,402.809,2436.828,1246.3776,5233.188,3075.996,1332.2658,2526.711,1697.79,1743.0644,340.2238,508.6712,1617.894,5773.1518,1090.5804,1283.6624,3338.987,2302.3364,3111.9492,2011.3818,2013.3792,1895.5326,1853.5872,2693.8268,1384.1982,865.54,479.376,5469.547,3877.6192,624.5204,652.484,1406.1696,2105.2596,3835.008,5195.2374,194.4136,6079.4198,1669.8264,815.605,1328.271,679.116,3593.3226,1887.543,2162.5184,666.4658,2183.824,2065.3116,4697.8848,1846.9292,1665.8316,591.2304,6201.927,972.068,679.116,1104.5622,1777.686,2303.668,1965.4416,1955.4546,407.4696,1384.864,1504.0422,2570.6538,1245.046,3495.45,1376.2086,2053.3272,3159.8868,1029.9926,1800.3232,399.48,2916.204,5273.136,3354.3004,3428.2042,1787.0072,2285.0256,4660.6,679.116,1864.24,2406.867,1826.2894,3453.5046,3685.8688,1038.648,3551.3772,3149.234,4727.18,5000.8238,2554.0088,540.6296,4326.3684,2221.1088,1225.072,1438.128,890.8404,2696.49,4530.1032,2117.244,2048.6666,3215.814,1225.072,1378.206,543.2928,2586.633,952.7598,1211.756,2342.9502,1691.132,2432.8332,2890.9036,167.7816,1382.2008,2659.871,1599.9174,1797.66,1459.4336,708.4112,1186.4556,3225.801,2251.0698,1946.7992,2313.655,3355.632,1619.2256,2463.46,3815.034,4119.9704,2856.282,4262.4516,2534.0348,2371.5796,782.9808,6831.108,2759.0752,2220.443,2106.5912,1901.5248,1514.695,4306.3944,3486.1288,2892.2352,2830.3158,2782.3782,1905.5196,2508.7344,3182.524,4326.3684,2093.941,319.584,1725.7536,3044.7034,1917.504,5896.3248,4086.0146,968.739,1618.5598,1713.7692,1896.1984,2759.0752,1006.6896,2153.1972,4460.1942,1605.9096,3361.6242,3263.7516,908.1512,1198.44,756.3488,3793.7284,353.5398,1557.972,2553.343,2812.3392,1105.8938,2519.3872,2024.032,4207.856,2756.412,3167.8764,1765.7016,529.311,4206.5244,3057.3536,3131.9232,2283.0282,5896.3248,3375.606,3559.3668,1669.8264,2784.3756,306.268,2548.6824,2061.3168,3331.6632,3467.4864,3003.4238,4333.6922,2444.8176,4488.1578,1382.2008,3795.06,814.9392,454.0756,3237.1196,1059.9536,3523.4136,2105.2596,1874.8928,3440.8544,1687.1372,2063.98,4483.4972,419.454,4434.228,1965.4416,2109.2544,2290.352,2376.906,5683.2688,1544.656,2165.1816,1528.6768,858.882,279.636,902.8248,2410.8618,2098.6016,509.337,3036.048,2876.256,2078.6276,3266.4148,671.1264,3146.5708,3251.1014,1923.4962,2852.2872,4380.2982,3934.878,5313.084,1607.2412,1438.128,722.393,4029.4216,1640.5312,3924.891,2055.9904,2059.9852,2940.1728,2220.443,2914.8724,2752.4172,335.5632,2792.3652,1032.6558,5635.3312,1697.79,1018.674,10256.649,1829.6184,6608.065,2828.3184,830.9184,4570.0512,1413.4934,5727.2116,3439.5228,2290.352,1794.331,4673.916,735.0432,5267.1438,4853.682,2087.283,6595.4148,778.986,2524.0478,3175.866,341.5554,2326.971,3515.424,743.0328,1500.7132,1426.1436,5888.3352,828.921,2569.3222,529.311,3658.571,1265.02,2221.1088,2175.8344,1403.5064,2143.876,296.281,1981.4208,2906.217,452.744,2428.8384,4566.7222,5359.69,111.8544,9664.7528,5834.4054,1422.1488,2285.0256,1508.037,3146.5708,4096.6674,1444.786,5410.9566,1342.2528,2077.296,3630.6074,2446.815,1784.344,1569.9564,4811.7366,3367.6164,1464.76,667.1316,3475.476,2306.997,615.1992,1569.9564,453.4098,8508.924,331.5684,2292.3494,4870.327,914.8092,1810.976,1973.4312,1438.128,4221.8378,950.7624,1621.8888,1701.7848,2302.3364,3095.97,4146.6024,2596.62,3155.892,3579.3408,1342.2528,2864.9374,3813.7024,1589.2646,619.8598,1491.392,2546.685,1328.271,519.324,703.0848,2079.9592,1133.1916,4908.2776,1550.6482,3052.0272,3954.852,4094.67,721.0614,4795.0916,1843.6002,2659.871,593.2278,1414.825,1471.418,524.6504,502.0132,2946.165,3338.987,623.1888,1030.6584,1805.6496,3451.5072,2492.7552,402.809,2600.6148,2386.2272,4136.6154,3004.0896,2656.542,2631.2416,2557.3378,319.584,492.692,2796.36,669.129,980.0576,1342.2528,2782.3782,2916.204,3022.732,792.302,3225.1352,3155.892,894.8352,1174.4712,1864.24,1733.0774,1037.3164,1442.1228,1230.3984,1829.6184,2745.0934,4211.185,2916.204,984.7182,351.5424,631.8442,1752.3856,656.4788,3845.6608,732.38,539.298,2450.144,1845.5976,3427.5384,4837.7028,639.168,2587.9646,3745.125,2519.3872,1510.0344,337.5606,2909.546,761.6752,809.6128,1459.4336,2746.425,1506.0396,1800.3232,1325.6078,1534.0032,3263.7516,2954.1546,2106.5912,683.1108,282.2992,1701.7848,1358.232,607.2096,1685.8056,2302.3364,981.3892,1442.7886,4242.4776,2354.2688,2127.231,2799.689,2700.4848,1301.639,3652.5788,3621.2862,2804.3496,3894.93,388.1614,583.2408,3476.1418,388.1614,1298.31,3418.883,2153.1972,3251.7672,1150.5024,980.0576,1228.401,591.2304,133.8258,578.5802,3769.7596,1672.4896,490.0288,2106.5912,866.8716,2759.0752,1921.4988,703.0848,3751.783,1504.708,2648.5524,6358.39,4725.8484,3199.8348,1257.0304,531.3084,1038.648,850.8924,5355.0294,2924.1936,1245.046,1713.7692,3709.8376,3599.3148,3974.826,2334.9606,2299.6732,1202.4348,2900.2248,810.9444,6189.2768,1069.2748,1323.6104,183.095,2127.8968,1444.786,5424.9384,1859.5794,2055.3246,1332.9316,2514.0608,1428.141,1537.998,2376.906,768.999,3962.8416,6723.2484,701.7532,652.484,2884.2456,3520.0846,639.168,3162.55,2633.9048,1054.6272,3781.744,638.5022,1959.4494,1840.937,750.3566,750.3566,7685.9952,1768.3648,540.6296,1596.5884,1024.6662,205.0664,6096.0648,699.09,3950.1914,1331.6,3062.0142,4294.41,739.038,2764.4016,339.558,3089.9778,1231.73,892.172,5049.4272,1018.674,3215.814,3089.9778,2836.308,703.0848,2527.3768,282.2992,679.116,1091.912,1158.492,4288.4178,4119.9704,1750.3882,1006.6896,1435.4648,4685.9004,1999.3974,2707.1428,3819.0288,1444.786,5275.7992,1065.28,2841.6344,5797.7864,4012.7766,2848.9582,6145.334,367.5216,1821.6288,1737.738,3681.874,2802.3522,649.155,1390.1904,2929.52,1665.8316,1571.288,3904.917,2316.984,3705.8428,6474.2392,2045.3376,4729.8432,866.8716,2149.2024,4604.6728,2581.9724,2484.7656,2332.9632,1118.544,1576.6144,2852.2872,3372.9428,2127.231,767.0016,1038.648,1581.9408,3444.8492,545.2902,162.4552,4532.7664,447.4176,1134.5232,2189.1504,1603.9122,2181.1608,3247.7724,6723.2484,3972.8286,778.986,3815.034,1436.7964,3846.9924,7084.112,2085.2856,996.0368,3124.5994,4377.635,3567.3564,1048.635,2816.334,3946.8624,1366.2216,1090.5804,607.2096,1304.968,2328.9684,1221.0772,2950.8256,3961.51,758.3462,1644.526,3901.588,1617.894,711.0744,3335.658,2580.6408,1597.92,4656.6052,2885.5772,3880.2824,2024.032,3238.4512,4146.6024,3301.7022,3914.904,703.0848,663.1368,830.9184,2365.5874,2237.088,2609.936,2182.4924,690.4346,1300.3074,1406.1696,857.5504,2490.092,1065.28,4344.345,1794.331,1687.1372,7602.1044,2456.802,1347.5792,1557.972,2001.3948,6624.71,2237.088,2731.1116,1300.3074,1657.1762,361.5294,751.0224,3555.372,986.7156,946.7676,2492.7552,4165.2448,3844.995,2566.659,2330.9658,2759.0752,885.514,1677.1502,6002.8528,1340.2554,3691.1952,3831.0132,3520.0846,5077.3908,894.8352,1231.73,2854.9504,958.752,317.5866,3435.528,1123.8704,2708.4744,3001.4264,1882.2166,1565.9616,3113.2808,5179.924,3691.1952,1565.9616,2406.2012,605.878,4233.1564,3942.8676,1574.617,2375.5744,2780.3808,1379.5376,1065.28,5369.0112,2097.9358,1165.15,3645.255,1821.6288,589.233,3022.0662,5759.17,386.8298,441.4254,2852.2872,1225.7378,2440.8228,2153.1972,1860.2452,1612.5676,2077.296,1208.427,5193.24,1274.3412,1235.059,1340.2554,852.224,3769.7596,1230.3984,516.6608,818.934,1272.3438,5375.0034,1777.686,1062.6168,1174.4712,5086.712,2966.139,2530.04,2530.04,985.384,4027.4242,3243.7776,1288.9888,6088.0752,2025.3636,1257.0304,3781.744,4643.955,3463.4916,2226.4352,856.8846,2773.057,3910.9092,4869.6612,3254.4304,1340.2554,1435.4648,1436.7964,1281.665,1334.2632,4660.6,1128.531,1883.5482,1118.544,1282.3308,701.7532,2013.3792,1877.556,4247.804,533.3058,2703.148,2324.9736,3029.39,2664.5316,4351.6688,458.0704,1488.063,830.9184,1904.188,1342.2528,1108.557,2097.27,5321.0736,2668.5264,3419.5488,4807.076,3920.2304,4379.6324,2241.0828,1607.2412,490.6946,8479.6288,1662.5026,1944.136,1047.3034,3628.61,2519.3872,3315.0182,4180.5582,2049.3324,2708.4744,2388.2246,1895.5326,3346.3108,6543.4824,2516.724,335.5632,2559.3352,3355.632,1379.5376,2998.0974,2117.244,2708.4744,1584.604,3342.316,3866.9664,642.497,553.9456,2524.0478,1022.6688,3588.662,2636.568,1605.9096,2563.33,3179.8608,1388.193,259.662,1561.9668,2460.7968,1039.9796,3471.4812,1844.266,283.6308,4740.496,596.5568,2576.646,729.7168,1090.5804,1860.2452,1416.8224,3595.32,1577.946,1695.7926,3029.39,732.38,3112.615,2833.6448,1249.0408,3379.6008,1118.544,427.4436,1587.2672,3615.294,3554.7062,3488.1262,1369.5506,3364.9532,1201.769,878.856,6636.6944,439.428,2696.49,1794.331,2059.9852,2422.1804,1864.24,4915.6014,1637.868,1214.4192,5034.7796,2993.4368,1390.1904,1086.5856,1965.4416,1587.933,4933.578,4210.5192,2404.8696,4082.6856,948.0992,1372.2138,1751.054,3994.8,2277.036,1470.0864,517.9924,5608.6992,4028.09,647.1576,2285.0256,719.064,1890.872,2343.616,1264.3542,1709.1086,5369.0112,926.7936,3048.6982,2586.633,418.1224,3137.2496,1488.063,980.0576,2609.936,1737.738,1312.9576,2490.092,1549.3166,4040.7402,1029.9926,1211.756,2125.2336,1034.6532,1607.907,1384.864,1091.912,3954.852,3383.5956,305.6022,620.5256,679.116,3271.7412,4836.3712,1641.197,988.0472,4396.9432,4996.829,6897.688,2308.9944,808.947,1348.245,2646.555,447.4176,3970.8312,1727.751,1252.3698,1627.881,143.8128,2572.6512,2759.0752,2956.152,2217.114,4074.696,1314.2892,868.869,183.7608,4893.63,1416.8224,703.0848,1516.0266,1667.829,1693.7952,4195.8716,1278.336,1531.34,1264.3542,3078.6592,1438.128,1187.7872,798.96,1492.0578,1320.9472,615.1992,3325.0052,2390.8878,1511.366,709.077,1100.5674,3749.7856,1384.1982,442.0912,848.895,1488.063,2281.6966,6303.7944,4020.7662,2570.6538,579.246,3504.1054,4266.4464,759.012,1326.2736,419.454,3954.852,2197.14,1134.5232,1565.9616,1334.2632,1267.6832,2326.971,1583.9382,882.8508,5960.2416,1737.738,341.5554,713.7376,1874.8928,1787.0072,401.4774,2404.8696,1482.0708,5946.9256,6474.2392,1747.725,4022.7636,2804.3496,2999.429,3935.5438,1510.0344,1516.6924,555.2772,5033.448,1655.1788,1146.5076,1668.4948,858.882,2818.3314,5452.902,2612.5992,2093.941,2940.1728,2261.0568,4566.0564,4287.752,1258.362,1810.976,1062.6168,1225.072,2162.5184,3115.944,3277.0676,2731.1116,3635.268,1842.9344,2619.2572,4460.86,2579.975,787.6414,986.7156,709.077,2599.2832,2740.4328,5890.9984,4165.2448,3874.956,4996.829,2550.014,583.2408,1981.4208,1957.452,4866.998,406.138,2961.4784,679.116,3225.801,873.5296,2553.343,922.7988,3089.9778,495.3552,612.536,1182.4608,295.6152,4844.3608,3340.9844,3509.4318,5346.374,2404.8696,1011.3502,6371.706,1551.9798,922.7988,3475.476,2527.3768,604.5464,343.5528,3214.4824,3422.212,1057.9562,3025.3952,1549.9824,2022.7004,4727.18,154.4656,4267.1122,4492.8184,4807.7418,2143.876,1030.6584,4649.9472,4363.6532,2482.7682,2740.4328,1282.3308,551.2824,761.0094,1416.8224,5226.53,4961.5416,1414.1592,4174.566,2846.295,1685.8056,2572.6512,4860.34,1657.842,3397.5774,4181.224,656.4788,2021.3688,1895.5326,1303.6364,527.3136,719.064,1944.136,3178.5292,2246.4092,2976.126,1629.8784,3735.138,873.5296,1771.028,2397.5458,2631.2416,2808.3444,311.5944,1584.604,3463.4916,1707.777,552.614,3231.1274,1938.8096,3884.943,2614.5966,1091.2462,1743.0644,5175.9292,2902.888,2929.52,5747.1856,958.752,2247.075,2314.9866,1457.4362,1162.4868,2227.101,316.9208,2966.139,2013.3792,1789.6704,5163.9448,1017.3424,3010.7476,2117.244,1278.336,3433.5306,705.748,4466.1864,413.4618,3064.0116,623.1888,2988.1104,940.7754,1310.2944,1351.574,2143.876,3124.5994,589.233,1208.427,2616.594,1254.3672,976.7286,3123.9336,4587.362,1593.9252,292.952,629.181,1015.345,3332.329,2277.036,1800.3232,1845.5976,3579.3408,1737.738,1378.206,3010.7476,1651.184,4470.1812,1677.816,1970.768,2631.2416,2846.295,2669.1922,2651.2156,587.2356,1846.9292,2013.3792,3755.112,575.2512,5005.4844,3739.1328,1298.31,2586.633,1070.6064,2871.5954,1864.24,2766.399,2106.5912,1191.782,3085.3172,649.8208,3293.7126,9069.5276,447.4176,365.5242,1162.4868,2858.2794,6056.1168,1488.7288,1310.2944,1808.9786,4138.6128,1370.2164,852.224,1471.418,2354.2688,4374.306,3563.3616,3506.7686,1653.8472,1113.2176,1341.587,3994.8,1182.4608,3795.06,2535.3664,1098.57,910.8144,2014.7108,6024.1584,1458.102,2423.512,1767.699,1677.1502,1258.362,2195.8084,2659.871,689.7688,2603.278,4152.5946,1534.0032,3202.498,353.5398,1547.985,3475.476,2822.992,1216.4166,3570.6854,3263.0858,3558.0352,2664.5316,1724.422,1308.297,4740.496,2388.8904,1868.2348,4459.5284,253.004,1025.9978,592.562,675.1212,1970.768,2950.1598,568.5932,1255.6988,5834.4054,493.3578,1860.2452,2433.499,3251.1014,2841.6344,6385.022,2376.906,2259.0594,2504.7396,2069.3064,1701.7848,710.4086,703.0848,331.5684,1165.15,1324.2762,356.8688,3600.6464,243.6828,1821.6288,4165.2448,5742.525,263.6568,2237.088,932.12,3139.9128,447.4176,2063.98,2082.6224,3775.086,713.7376,2263.72,837.5764,1635.8706,5841.0634,1030.6584,3690.5294,898.83,1596.5884,6669.3186,7105.4176,1696.4584,1384.864,1390.1904,1788.3388,761.6752,1418.154,3803.0496,767.0016,1669.8264,1922.8304,1713.7692,1364.89,2002.7264,3691.1952,820.2656,4275.7676,1304.968,1705.1138,1480.7392,1338.258,6251.862,588.5672,319.584,1491.392,958.752,2966.139,691.1004,758.3462,1350.2424,1366.2216,406.138,2111.9176,1338.258,1677.816,1158.492,2681.8424,1609.9044,2626.581,1138.518,3605.307,2418.1856,3880.2824,552.614,2006.7212,547.2876,2354.2688,680.4476,3773.7544,4653.2762,1159.8236,3243.7776,1086.5856,1973.4312,715.0692,4527.44,5383.6588,3004.0896,4035.4138,3111.9492,4440.886,4695.2216,1670.4922,2993.4368,371.5164,4119.9704,1938.8096,2283.0282,1677.816,2057.9878,2247.075,1567.959,4813.734,1957.452,1105.228,2061.3168,5890.9984,999.3658,2572.6512,1298.31,1179.1318,1922.8304,1506.0396,4681.9056,3563.3616,2600.6148,2266.3832,645.1602,2863.6058,2649.884,1268.349,1573.9512,5865.0322,4984.1788,1454.1072,396.8168,1211.756,3338.987,2045.3376,437.4306,2446.815,2030.69,539.298,703.0848,2376.906,1744.396,871.5322,1171.808,4572.0486,2503.408,6050.7904,2441.4886,1797.66,1926.1594,3094.6384,882.8508,4229.1616,1318.284,1720.4272,2807.0128,1508.037,1366.2216,1393.5194,2213.1192,6930.978,1155.8288,3942.8676,3894.93,2290.352,892.8378,4566.7222,498.0184,3020.0688,4649.9472,610.5386,862.8768,4625.9784,3387.5904,1018.674,3124.5994,1704.448,2884.2456,1133.8574,1238.388,459.402,932.12,916.1408,1964.7758,3570.0196,4474.176,4731.1748,3589.9936,3516.7556,1765.7016,2395.5484,3338.3212,6041.4692,4262.4516,1258.362,3175.866,2773.057,1211.756,1238.388,5540.7876,2540.6928,458.7362,1624.552,996.0368,2217.114,1576.6144,2433.499,4725.8484,601.8832,583.2408,1689.8004,4804.4128,3537.3954,3016.7398,1278.336,2093.941,3098.6332,2526.711,1627.881,2241.7486,4293.0784,982.7208,3020.0688,647.8234,284.2966,3235.788,1765.7016,1540.6612,2591.2936,3313.6866,2588.6304,3956.8494,3277.0676,1315.6208,5816.4288,1556.6404,1587.933,952.094,1537.998,247.0118,1845.5976,2080.625,1158.492,4610.665,3261.7542,1151.834,3861.64,4314.384,2988.1104,4713.864,4011.445,2759.0752,5564.7564,2450.144,1406.1696,4005.4528,325.5762,1340.2554,1797.66,802.9548,1962.7784,3193.8426,777.6544,826.9236,2209.1244,1938.8096,3149.234,2002.0606,5634.6654,6308.455,2616.594,1211.756,2864.2716,886.8456,3504.7712,325.5762,4777.7808,4026.7584,1116.5466,1470.0864,2450.144,2125.2336,6231.888,466.06,1159.8236,1498.05,2356.932,3946.8624,923.4646,2799.689,2390.8878,755.0172,331.5684,1416.8224,597.2226,1944.136,2332.9632,5424.9384,2199.8032,533.3058,2005.3896,5073.396,5007.4818,1556.6404,1049.9666,1655.1788,2502.7422,7719.2852,1701.7848,3235.788,2094.6068,3799.0548,870.8664,3904.917,1731.08,1805.6496,1927.491,5591.3884,6424.97,1575.2828,1336.2606,2466.789,1315.6208,286.294,2073.3012,5020.132,6076.0908,4048.064,2848.2924,2024.032,882.8508,377.5086,1404.838,1436.7964,2826.321,3555.372,539.298,4402.9354,1717.764,1644.526,1398.18,992.7078,3966.1706,3523.4136,3715.164,871.5322,1619.2256,3628.61,503.3448,3219.8088,1967.439,4103.9912,3874.956,5842.395,2475.4444,2380.9008,2749.754,1948.1308,2410.196,3954.852,5070.7328,5313.084,8245.2672,736.3748,3583.3356,2936.178,2801.6864,2277.036,4482.1656,872.8638,2885.5772,1454.1072,1037.3164,255.6672,3635.268,2748.4224,1823.6262,1298.31,4777.115,1036.6506,768.999,948.0992,3020.0688,910.8144,2644.5576,1982.0866,3174.5344,7190.64,1398.18,713.0718,247.0118,539.298,2908.2144,1454.773,2449.4782,852.224,5688.5952,2496.75,822.263,652.484,1896.1984,2364.9216,885.514,1374.2112,1868.2348,4407.596,2466.789,5779.144,3835.008,1581.9408,2908.8802,878.856,1318.284,2061.3168,4781.7756,3079.325,810.9444,1166.4816,3155.892,1662.5026,2174.5028,2037.348,1697.79,2836.308,2042.6744,2384.8956,2116.5782,1669.8264,1225.072,4154.592,1211.756,1948.1308,1830.95,1701.7848,2247.7408,3981.484,1462.0968,1065.28,4225.1668,5287.7836,3004.0896,1274.3412,3199.8348,1208.427,3523.4136,3436.1938,745.696,886.8456,1720.4272,589.233,2544.6876,3415.554,4194.54,848.895,1573.9512,259.662,1174.4712,627.1836,1125.8678,2416.1882,916.1408,2591.2936,2050.664,1205.098,287.6256,1725.7536,1289.6546,2163.1842,1258.362,1844.266,517.3266,8323.8316,5536.7928,2358.2636,3483.4656,5375.6692,4380.964,952.094,1829.6184,1480.0734,2157.192,3325.671,965.41,2659.871,1627.881,1537.998,423.4488,2501.4106,1743.0644,958.752,3848.324,4697.8848,1102.5648,1651.184,1354.903,5492.85,1930.82,2544.6876,1969.4364,2787.0388,3352.303,2516.724,3728.48,1540.6612,717.7324,1062.6168,588.5672,1428.141,1494.0552,1183.7924,1788.3388,1018.0082,3316.3498,3535.398,1651.184,452.744,1188.453,796.9626,2816.334,2684.5056,423.4488,1034.6532,2285.0256,651.8182,3952.1888,1134.5232,5865.0322,1618.5598,1593.9252,271.6464,3545.385,4008.116,767.0016,485.3682,3950.1914,559.272,1644.526,974.0654,1549.9824,2856.282,3900.9222,2748.4224,3151.8972,1071.938,3894.93,2498.0816,950.7624,2693.8268,1711.106,1294.3152,759.012,2399.5432,1254.3672,4234.488,1169.8106,1494.0552,1713.7692,671.1264,1640.5312,4996.829,1398.18,3255.762,3545.385,2828.3184,2462.7942,4466.1864,2026.0294,4390.2852,994.7052,5015.4714,2444.8176,1551.9798,3575.346,868.869,1836.2764,1510.0344,1406.1696,1845.5976,1749.7224,3896.2616,3056.022,3384.2614,2816.334,1869.5664,1808.9786,1348.245,499.35,1215.7508,2693.8268,490.0288,4231.8248,2407.5328,511.3344,509.337,2496.75,2926.191,777.6544,6311.784,3705.8428,759.6778,3731.809,2922.1962,2302.3364,2302.3364,1798.9916,2004.058,1838.2738,1458.102,1685.8056,1494.0552,1186.4556,572.588,4303.0654,671.1264,503.3448,614.5334,3175.866,788.3072,695.0952,2271.0438,1860.2452,2868.2664,1956.1204,1318.284,1743.0644,1797.66,2736.438,2451.4756,352.874,3111.9492,2082.6224,3570.0196,391.4904,1382.2008,2577.9776,996.0368,1134.5232,1761.7068,4097.3332,2609.936,3295.71,3775.086,1565.9616,2908.2144,5509.495,2572.6512,3916.2356,587.2356,5097.3648,785.644,5976.2208,4847.024,4277.765,1970.768,1534.0032,832.9158,2773.057,1177.1344,2045.3376,2914.8724,952.094,7322.4684,388.1614,1098.57,802.9548,539.298,872.8638,1052.6298,2681.8424,3435.528,4291.7468,4364.319,2163.1842,5937.6044,1388.8588,4291.7468,1867.569,4567.388,1731.7458,1845.5976,1960.1152,4339.0186,1965.4416,937.4464,1086.5856,922.7988,2013.3792,2641.8944,2257.062,1619.2256,904.1564,1994.7368,974.7312,1853.5872,3137.2496,739.038,1772.3596,605.878,1120.5414,2163.85,772.328,2167.8448,495.3552,834.9132,2636.568,2848.9582,575.2512,1366.2216,412.796,697.7584,1977.426,396.8168,790.9704,2741.7644,1070.6064,834.9132,3610.6334,5944.2624,1062.6168,1717.764,2051.9956,788.3072,1693.7952,5410.9566,1118.544,2253.0672,4819.7262,2120.573,1278.336,1078.596,474.0496,1724.422,3185.853,2045.3376,2876.256,1438.128,419.454,575.2512,1072.6038,5343.045,942.7728,2069.3064,4687.232,849.5608,2251.0698,3119.9388,1035.9848,778.3202,3453.5046,239.688,1188.453,970.7364,4673.916,922.7988,709.077,2143.876,577.2486,2220.443,1151.1682,1241.0512,2985.4472,1797.66,2676.516,4942.8992,1414.825,885.514,1593.9252,2766.399,1491.392,854.8872,4637.9628,2432.1674,1944.136,2189.1504,1076.5986,5635.3312,826.9236,3765.099,2078.6276,952.7598,4431.5648,1901.5248,2972.797,1118.544,1480.0734,3103.9596,1414.1592,1403.5064,778.986,918.804,1707.777,1743.0644,1986.0814,2780.3808,3645.255,1869.5664,1631.8758,3757.1094,2366.919,2463.46,1258.362,4925.5884,2345.6134,2681.8424,3146.5708,837.5764,2652.5472,5829.7448,838.908,2906.217,1775.6886,1947.465,605.878,383.5008,633.8416,3197.1716,335.5632,2432.8332,1444.1202,5543.4508,1539.9954,1230.3984,2003.3922,4170.5712,1311.626,1174.4712,649.8208,820.2656,703.0848,838.908,671.1264,2406.2012,1133.8574,2255.7304,1844.266,5073.396,428.7752,3209.156,386.8298,3418.883,1704.448,1120.5414,4211.185,1120.5414,567.2616,3505.437,3528.74,1342.2528,3644.5892,2352.9372,5022.7952,2796.36,6471.576,2984.1156,461.3994,2542.0244,1480.0734,988.713,2732.4432,2137.8838,503.3448,4287.752,3962.8416,1869.5664,1438.128,1270.3464,2218.4456,1857.582,5193.9058,2554.0088,3066.6748,2556.672,1593.9252,3327.6684,4211.185,1498.05,995.371,4040.7402,1211.756,3169.208,2407.5328,2450.144,1958.1178,677.1186,2442.1544,1544.656,743.0328,1965.4416,2988.1104,2394.8826,276.9728,4477.505,7148.0288,4837.7028,1874.8928,552.614,1419.4856,307.5996,4074.696,2362.9242,985.384,2241.0828,3237.1196,961.4152,3795.06,1556.6404,2848.2924,4218.5088,1384.1982,3124.5994,6795.1548,894.8352,3307.6944,1393.5194,639.168,565.2642,2006.7212,1118.544,3103.9596,7266.5412,5432.928,1267.6832,1471.418,1830.95,922.7988,2504.7396,798.96,3350.3056,3782.4098,2059.9852,2552.6772,1245.046,2916.204,1587.933,732.38,2833.6448,2440.8228,5642.655,3593.3226,838.908,2878.2534,4454.202,4233.1564,5033.448,1342.2528,2446.1492,1910.846,2167.8448,2743.7618,4229.1616,3605.307,3146.5708,848.895,1693.7952,784.3124,765.67,3593.3226,1214.4192,5812.434,1772.3596,2218.4456,4921.5936,1584.604,751.0224,1194.4452,1831.6158,416.125,3499.4448,1977.426,432.77,8994.958,326.242,3515.424,392.822,1890.872,1098.57,731.0484,4175.8976,3006.087,2852.2872,3060.0168,2073.3012,5309.755,4136.6154,4171.9028,2261.0568,1989.4104,3592.6568,868.869,2376.906,4379.6324,1031.99,2416.854,316.9208,1696.4584,5145.3024,3617.9572,612.536,2920.1988,3528.74,6199.9296,1929.4884,2014.7108,1163.8184,1235.7248,3775.086,2189.1504,1789.6704,1470.0864,1155.8288,549.9508,1731.08,3153.2288,363.5268,1105.8938,6579.4356,223.7088,579.246,1225.072,735.709,2371.5796,2648.5524,3520.0846,6008.1792,2964.1416,659.142,2111.2518,1102.5648,1240.3854,1235.059,2006.7212,1182.4608,3568.0222,623.1888,2348.9424,1569.9564,1691.7978,3142.576,202.4032,958.752,2396.88,1719.7614,687.1056,2109.2544,1406.1696,4594.02,615.1992,679.116,1857.582,764.3384,1651.184,1653.8472,222.3772,2396.88,1686.4714,809.6128,1869.5664,4013.4424,3174.5344,1416.8224,4731.1748,1084.5882,864.2084,2423.512,865.54,1286.3256,2908.2144,2656.542,4422.2436,1186.4556,973.3996,4961.5416,1230.3984,3209.156,2410.196,3354.3004,6615.3888,3075.996,2741.0986,1981.4208,1917.504,3016.7398,3825.6868,605.878,2621.9204,3029.39,491.3604,3984.1472,366.19,341.5554,1813.6392,3466.1548,703.0848,2693.8268,2171.8396,1025.332,4637.9628,882.185,605.878,2362.9242,3964.839,7549.5062,4673.916,1577.946,423.4488,1823.6262,1985.4156,2696.49,3881.614,2336.958,410.1328,3271.7412,3705.177,4026.7584,269.649,2567.3248,1215.7508,772.328,958.752,314.2576,3430.2016,3185.853,2366.919,1845.5976,1604.578,3325.0052,341.5554,2358.2636,371.5164,850.8924,4028.09,1607.907,2889.572,3414.8882,1086.5856,5313.7498,1917.504,2093.941,1201.769,2117.244,3523.4136,2467.4548,5849.7188,1438.128,2363.59,1306.9654,4210.5192,4363.6532,3271.7412,2049.3324,771.6622,3099.9648,610.5386,2223.772,1684.474,1099.2358,708.4112,3914.904,5296.439,2423.512,2841.6344,2822.992,1596.5884,3072.667,822.263,7240.575,1539.9954,2795.6942,1528.011,645.1602,3635.268,1390.1904,3355.632,459.402,1800.3232,1054.6272,871.5322,1789.6704,3717.8272,810.9444,2372.9112,3635.268,4739.8302,3103.9596,633.8416,813.6076,533.3058,2155.1946,2402.2064,3219.8088,836.2448,772.328,309.597,5992.2,2972.1312,1367.5532,1395.5168,1679.1476,999.3658,575.2512,2563.33,4090.6752,788.973,4431.5648,2203.798,1691.132,2263.72,2490.092,925.462,2336.2922,942.107,1867.569,3739.1328,2756.412,4512.1266,1090.5804,2094.6068,2876.256,4042.7376,848.895,1813.6392,4332.3606,527.3136,2596.62,3034.0506,777.6544,2888.2404,510.6686,7588.1226,1844.9318,3254.4304,3791.0652,3387.5904,4206.5244,487.3656,1516.6924,741.0354,2852.2872,4165.2448,1494.0552,468.7232,2726.451,673.7896,3881.614,467.3916,1551.314,2302.3364,2153.1972,378.1744,1280.9992,1970.768,4820.392,2579.3092,695.0952,1612.5676,2324.9736,2419.5172,4727.18,1637.868,4314.384,3715.164,2247.075,2976.126,1907.517,1508.037,3020.0688,3392.9168,515.995,2587.9646,7182.6504,2479.4392,595.2252,468.7232,3608.636,2778.3834,549.285,1193.1136,765.67],\"yaxis\":\"y\",\"type\":\"scattergl\"},{\"hovertemplate\":\"Tipo de tienda=Supermarket Type2\\u003cbr\\u003ePeso=%{x}\\u003cbr\\u003eVentas=%{y}\\u003cextra\\u003e\\u003c\\u002fextra\\u003e\",\"legendgroup\":\"Supermarket Type2\",\"marker\":{\"color\":\"#EF553B\",\"symbol\":\"circle\"},\"mode\":\"markers\",\"name\":\"Supermarket Type2\",\"showlegend\":true,\"x\":[5.92,10.395,11.8,18.6,18.7,8.85,21.35,7.905,10.0,16.75,19.75,11.65,7.855,13.85,13.65,18.35,5.465,5.905,12.15,12.6,11.35,16.35,17.1,7.785,13.0,7.075,17.85,7.075,16.7,20.85,12.1,20.7,19.5,13.85,10.5,17.6,20.35,11.3,17.5,6.85,7.84,17.25,12.65,9.195,11.35,5.695,9.8,8.6,8.575,16.5,8.68,7.235,12.15,7.93,20.85,20.35,8.195,19.0,8.355,12.5,14.15,20.2,18.35,8.75,13.3,12.15,8.395,6.175,19.6,5.845,7.17,17.35,16.35,14.3,9.8,19.25,6.13,5.82,15.2,13.65,9.8,7.42,19.85,5.86,6.38,13.0,10.8,20.0,20.6,15.5,21.25,8.1,15.25,9.3,10.195,9.3,18.2,8.39,17.25,8.42,9.5,12.15,10.195,12.85,8.895,8.895,16.1,9.895,14.0,9.8,14.75,14.85,7.565,9.6,7.59,18.0,6.42,14.0,7.56,9.3,16.75,9.6,14.85,17.85,10.0,14.5,16.25,20.7,15.6,16.5,18.25,7.975,10.5,11.5,12.5,7.63,9.6,7.475,20.75,7.105,7.52,7.785,15.0,12.15,15.1,17.7,12.8,8.05,20.6,6.32,15.7,6.78,6.055,20.2,10.695,14.0,7.325,6.865,18.2,18.2,20.7,15.85,17.7,14.8,16.1,16.75,6.635,9.195,6.59,17.0,18.7,11.6,16.35,6.61,16.85,17.35,17.0,16.2,11.8,7.05,8.31,7.5,15.6,10.5,17.1,10.0,7.035,8.96,14.7,11.15,15.0,16.6,15.6,9.0,20.5,10.85,5.78,18.35,7.39,10.1,7.825,18.35,14.15,6.465,13.65,8.6,13.1,12.85,7.405,19.75,16.6,15.5,9.065,19.5,9.5,10.195,19.75,7.405,16.85,14.3,20.25,13.35,14.15,8.5,13.65,11.5,15.2,5.44,12.15,20.25,16.7,12.1,20.75,13.5,12.35,7.26,5.59,13.15,5.88,16.0,7.39,17.85,18.25,14.1,17.6,5.985,13.1,19.6,10.395,20.1,8.18,14.1,14.15,19.0,20.5,15.35,8.76,8.155,18.85,11.5,9.3,5.175,19.7,19.6,19.5,11.8,6.445,15.1,14.1,5.19,19.7,18.85,9.3,20.2,12.85,7.1,9.695,12.3,19.1,6.615,17.0,8.6,13.1,14.15,6.385,16.1,9.0,8.42,8.27,5.46,12.85,17.5,18.2,8.895,18.25,12.65,16.2,8.895,7.97,16.5,6.675,7.47,19.5,8.395,19.2,7.81,15.5,14.85,12.3,15.35,14.35,16.7,6.885,9.13,18.0,14.85,20.7,4.88,20.0,7.27,13.1,15.1,10.195,6.17,7.02,16.35,15.3,6.92,11.0,17.25,9.1,15.7,5.655,20.35,7.55,18.35,17.25,9.6,20.35,6.11,9.035,10.695,5.5,10.0,19.6,5.635,13.0,8.18,11.8,13.85,16.75,6.215,8.6,12.65,14.85,16.1,17.2,9.195,16.7,12.5,13.65,21.1,18.5,11.1,8.1,18.2,17.75,13.3,6.71,12.0,20.7,20.35,6.71,9.6,15.6,21.25,13.5,9.5,19.35,15.0,17.75,7.27,17.85,21.0,18.25,12.1,15.5,18.85,6.035,6.65,9.8,6.89,15.85,18.25,21.1,15.25,13.3,20.7,6.15,17.1,19.6,14.85,14.65,14.0,17.75,7.895,18.7,10.195,19.1,14.0,9.0,12.85,18.7,16.0,18.85,7.905,16.0,8.185,19.1,7.63,9.5,10.895,19.85,10.695,13.15,19.2,18.85,20.2,17.5,17.7,17.7,18.25,5.8,20.85,16.5,17.6,8.775,14.75,13.65,15.5,19.2,15.1,17.6,17.7,13.8,6.67,17.85,5.095,6.75,11.3,10.5,8.235,17.6,4.785,13.35,8.895,10.895,12.8,15.2,19.85,12.8,15.75,13.65,16.0,7.97,16.35,16.7,19.35,12.85,11.8,15.1,6.98,7.35,12.1,15.1,15.1,6.235,5.88,8.905,20.7,6.3,17.5,17.75,12.5,15.85,17.7,5.78,17.6,8.3,10.5,16.7,12.15,7.27,19.7,17.85,16.35,11.8,10.8,15.6,5.825,12.85,8.84,12.1,13.85,11.6,12.5,8.21,11.65,7.72,5.98,7.145,11.5,5.655,10.0,5.51,17.75,17.7,5.11,17.75,6.425,6.67,18.0,12.35,20.25,15.5,9.6,19.25,7.365,17.7,20.75,16.2,20.6,17.5,12.8,8.645,5.405,8.63,7.935,9.1,6.695,12.3,17.75,12.35,9.0,7.96,12.1,7.42,6.825,15.7,8.895,11.1,16.75,14.0,7.155,20.25,15.85,19.0,10.195,12.1,8.935,17.25,6.985,20.6,19.6,12.65,18.25,20.5,8.26,9.195,12.15,20.85,18.25,5.88,16.6,13.5,14.3,4.805,17.1,18.5,17.6,18.2,16.0,9.27,6.425,16.6,11.395,19.7,13.35,16.7,5.26,18.75,12.15,20.7,10.6,10.65,7.67,8.945,16.7,7.68,4.92,18.7,9.06,6.96,14.35,15.1,8.71,19.5,21.1,12.15,8.155,20.25,10.1,14.5,7.435,12.5,6.195,11.5,6.865,11.5,18.85,16.0,6.635,17.1,7.315,16.35,15.35,9.3,17.6,10.6,8.275,20.35,10.0,16.7,17.1,18.75,17.75,19.2,12.65,7.725,14.15,14.6,6.215,11.0,13.0,12.3,9.3,13.5,20.0,11.3,13.5,9.695,12.65,8.88,6.86,13.0,8.695,7.485,15.85,11.6,6.55,19.1,6.055,8.3,20.0,7.22,9.17,19.75,12.35,12.5,17.7,10.3,9.8,11.1,8.27,12.6,16.85,11.8,9.695,11.3,18.5,15.85,21.35,12.15,11.6,13.65,5.32,18.85,19.2,12.3,11.15,19.35,9.3,5.82,12.8,13.1,7.68,19.25,7.72,9.695,11.8,19.35,8.51,18.25,9.3,20.85,15.6,10.5,16.7,13.1,7.75,8.52,18.75,11.5,8.89,17.0,15.5,17.25,7.81,20.2,7.81,5.73,21.25,18.0,21.2,11.5,9.395,15.75,14.8,12.6,12.1,20.2,13.35,10.65,5.785,20.1,16.35,10.395,6.57,6.03,10.1,11.1,12.15,7.475,7.93,16.1,17.6,7.855,15.0,13.35,18.0,19.85,17.35,14.3,14.6,5.365,6.095,11.6,9.695,5.695,17.85,9.6,6.155,7.895,7.5,15.15,8.615,16.0,12.35,15.1,21.25,13.6,7.0,8.26,10.0,9.0,8.77,17.5,15.2,8.975,13.8,11.8,17.85,9.5,17.85,20.1,7.75,10.695,19.75,6.63,13.8,9.8,10.3,15.3,18.6,13.5,16.5,8.06,10.195,12.5,6.115,6.92,20.5,16.25,6.63,9.5,9.895,10.895,11.1,11.6,18.85,10.0,9.3,11.35,6.135,15.25,15.6,10.195,15.7,15.85,19.1,4.61,7.39,6.135,15.0,15.35,15.1,6.325,20.6,5.94,15.5,5.94,11.65,12.6,15.85,7.855,8.01,14.65,6.69,17.25,12.35,5.305,20.5,7.5,16.2,12.15,6.76,7.285,13.0,20.7,5.325,7.825,20.6,20.2,5.48,7.76,10.8,17.0,12.35,13.8,12.85,9.195,8.235,18.2,6.865,10.3,16.2,5.945,19.0,14.5,8.3,18.25,12.1,7.785,12.6,6.36,20.5,15.7,13.65,9.0,18.1,11.0,8.93,19.2,17.0,8.42,10.895,9.195,21.25,14.7,6.785,8.88,11.15,14.35,10.3,20.85,17.75,17.2,7.51,18.6,5.785,14.8,12.3,19.85,15.0,19.25,5.175,8.43,10.65,11.6,16.7,12.0,14.6,10.895,7.42,7.72,11.15,19.6,14.3,20.0,17.35,10.395,15.35,10.5,17.25,17.5,20.7,18.6,7.21],\"xaxis\":\"x\",\"y\":[443.4228,556.6088,1621.8888,2741.7644,3068.0064,1609.9044,6768.5228,6258.52,3185.1872,4693.89,3185.853,1141.847,952.094,1794.331,2768.3964,3589.9936,262.3252,3315.684,1743.0644,619.194,1012.016,467.3916,1779.0176,736.3748,559.272,1869.5664,1134.5232,874.8612,2554.0088,1869.5664,898.83,1286.3256,1253.7014,2251.7356,2652.5472,4311.055,5624.6784,4943.565,3135.2522,3401.5722,199.74,4466.1864,1146.5076,407.4696,2189.8162,4380.2982,372.848,283.6308,958.752,559.272,295.6152,1267.0174,2735.1064,487.3656,1054.6272,3560.6984,647.8234,1695.7926,2207.127,6611.394,1262.3568,1758.3778,1990.742,938.778,4194.54,1522.0188,3542.056,1534.0032,1239.7196,1496.0526,2870.9296,3745.125,1810.976,554.6114,1265.02,441.4254,808.947,2037.348,1856.2504,5182.5872,2896.23,996.0368,619.194,3412.8908,3211.8192,1043.9744,446.7518,585.904,223.7088,615.1992,3150.5656,3823.0236,1482.7366,1277.0044,1223.0746,2182.4924,2656.542,1488.7288,1012.6818,830.9184,1198.44,3611.2992,1330.2684,1274.3412,568.5932,1006.6896,5350.3688,1506.0396,1139.8496,649.155,1821.6288,3129.26,509.337,1341.587,2250.404,778.986,2328.3026,866.8716,2503.408,2702.4822,1541.9928,1884.214,673.7896,866.8716,1413.4934,1957.452,1653.8472,1981.4208,1454.1072,1581.9408,1867.569,1747.725,2410.8618,829.5868,1358.232,1323.6104,2647.2208,2625.9152,4492.8184,651.8182,4394.28,1707.777,1768.3648,5626.01,3874.956,2220.443,2475.4444,3091.9752,1605.9096,78.5644,829.5868,1304.968,1765.0358,126.502,372.848,319.584,1733.0774,1679.1476,2375.5744,549.285,2267.049,491.3604,3306.3628,3057.3536,360.8636,513.3318,75.9012,512.666,1426.1436,1231.73,1277.0044,649.8208,1384.1982,4677.245,2490.092,1230.3984,1197.7742,2342.9502,1001.3632,982.7208,4427.57,687.1056,2748.4224,3629.2758,2087.9488,3171.8712,5785.802,2759.0752,874.8612,2181.1608,644.4944,1617.894,661.1394,2181.1608,2181.1608,1482.0708,2332.9632,5369.0112,1567.2932,1514.695,1162.4868,1631.8758,1705.7796,2914.8724,1612.5676,3091.9752,1328.271,2659.871,1185.7898,2696.49,939.4438,4729.8432,1713.7692,1381.535,366.19,452.744,1537.998,3115.944,1677.816,1312.9576,2409.5302,1518.024,1245.046,934.7832,459.402,1953.4572,2976.7918,480.7076,2311.6576,4680.574,6439.6176,2227.101,1366.2216,711.0744,1004.0264,1864.24,1214.4192,615.1992,1384.1982,3453.5046,1004.0264,1332.9316,2848.9582,1133.8574,2836.308,3560.6984,3153.2288,2960.1468,1378.206,1105.228,343.5528,846.8976,4517.453,1573.9512,842.237,447.4176,2684.5056,1279.0018,1522.0188,865.54,5976.2208,2011.3818,1018.674,425.4462,2556.672,535.3032,1229.0668,988.713,3968.168,1651.184,247.6776,2050.664,525.982,6729.9064,186.424,2250.404,5851.0504,492.692,527.9794,4506.1344,6359.7216,2846.295,2886.9088,982.055,1941.4728,1448.115,1058.622,431.4384,3835.008,2423.512,3276.4018,1031.99,4910.275,5001.4896,850.8924,727.0536,1857.582,2956.152,1833.6132,1749.7224,1018.0082,4274.436,2336.958,1686.4714,3844.995,2365.5874,1146.5076,1139.8496,564.5984,3941.536,2316.984,1488.7288,663.1368,1821.6288,3199.8348,2283.0282,2828.3184,539.298,181.0976,814.9392,3677.2134,2873.5928,3605.307,774.9912,890.8404,1544.656,1025.332,1314.2892,1938.8096,1491.392,472.718,1528.011,2330.3,1470.0864,857.5504,2886.243,628.5152,1336.9264,463.3968,913.4776,2257.062,2277.036,1416.8224,2376.906,2580.6408,2546.685,1168.479,1843.6002,3571.3512,1701.7848,2816.334,186.424,1428.141,535.969,2366.919,1384.1982,2460.7968,1113.2176,545.956,1771.028,2994.7684,1284.994,1977.426,2101.2648,199.74,644.4944,3835.008,918.804,5660.6316,1733.7432,265.6542,3271.7412,856.8846,2972.1312,804.9522,1102.5648,778.986,2763.07,1928.1568,543.2928,415.4592,1970.768,3408.896,1162.4868,1984.084,5552.1062,1324.2762,770.3306,2050.664,3563.3616,1621.8888,2703.148,703.0848,249.0092,383.5008,2348.9424,1777.686,945.436,1675.1528,1358.232,958.752,1444.1202,615.1992,3020.0688,1201.1032,1145.176,1347.5792,237.6906,2931.5174,2077.296,552.614,3795.06,591.8962,4500.808,1278.336,3197.1716,2960.1468,591.2304,6331.758,918.804,2619.2572,1318.284,1771.028,517.3266,2233.0932,1861.5768,1749.7224,1725.7536,3815.034,1629.8784,3874.2902,647.1576,1605.9096,1505.3738,619.194,2621.9204,790.9704,3089.9778,299.61,394.1536,1667.829,1817.634,1629.8784,3516.7556,1018.674,1180.4634,1755.7146,561.9352,1246.3776,3099.9648,1794.331,1625.8836,2862.94,2048.6666,1906.8512,937.4464,4745.8224,421.4514,1528.6768,575.2512,3410.2276,1174.4712,2609.936,4607.336,5690.5926,1579.9434,2770.3938,383.5008,2706.477,966.7416,1854.9188,982.7208,377.5086,1049.9666,123.8388,3323.0078,2103.928,447.4176,1151.1682,3364.9532,3984.813,2187.153,3169.208,3235.788,1047.3034,487.3656,6327.7632,2025.3636,455.4072,602.549,592.562,1398.18,2277.036,2805.0154,2817.6656,515.3292,1148.505,1884.8798,2628.5784,1617.894,2323.642,1547.3192,1161.1552,6291.81,3585.333,722.393,1043.9744,335.5632,856.8846,2354.2688,2246.4092,1211.756,1749.7224,1181.795,1565.9616,1006.6896,729.051,3588.662,4579.3724,2460.7968,974.0654,355.5372,1104.5622,1177.1344,1239.7196,2324.9736,1201.1032,3848.324,978.726,5992.2,2940.1728,1314.2892,2376.906,1071.938,1061.951,2388.8904,4138.6128,2892.901,1635.8706,5084.0488,1470.0864,2516.724,1757.712,1518.024,2750.4198,1539.9954,2458.1336,2460.7968,4026.7584,529.311,3630.6074,1404.1722,1948.1308,670.4606,652.484,5645.984,614.5334,878.856,612.536,593.2278,3289.052,4042.7376,2540.6928,5327.0658,4566.7222,2596.62,1427.4752,985.384,926.7936,2929.52,2157.192,4965.5364,1960.781,2241.7486,1917.504,685.1082,3629.9416,4141.276,1695.1268,675.787,3094.6384,1791.6678,1797.66,524.6504,1178.466,777.6544,309.597,3265.749,2463.46,2293.0152,1704.448,3781.744,1659.8394,167.7816,559.272,69.2432,1840.937,1000.6974,5772.486,4761.8016,1607.907,3621.952,1094.5752,1278.336,4436.8912,910.8144,3412.8908,2103.2622,3249.104,2087.283,2731.1116,484.7024,545.2902,1656.5104,5339.0502,1807.647,804.2864,2687.8346,1627.2152,3271.7412,3105.2912,1446.1176,1014.6792,4287.752,1265.02,2387.5588,1114.5492,1102.5648,1193.1136,2404.2038,824.9262,3745.125,1549.3166,1326.2736,2500.7448,3398.2432,1298.31,962.7468,2241.0828,1218.414,5287.7836,677.1186,3237.1196,923.4646,1715.1008,4586.0304,3214.4824,894.8352,5438.9202,239.688,3705.177,1607.907,3145.905,2526.711,539.298,1428.141,1105.228,531.3084,1125.202,4399.6064,619.194,5592.72,959.4178,401.4774,1138.518,2576.646,2239.0854,788.3072,1133.8574,2013.3792,3448.844,253.004,2628.5784,4442.2176,1030.6584,745.696,1662.5026,2217.114,1258.362,2059.9852,303.6048,380.8376,4434.228,4277.765,4287.752,1222.4088,1557.972,1695.7926,569.259,131.8284,3301.7022,968.739,3844.995,1448.115,1504.0422,1278.336,282.2992,2277.036,2716.464,370.1848,1677.816,1937.478,4502.1396,2138.5496,1149.8366,2184.4898,527.3136,6275.165,1870.898,1418.154,1829.6184,2109.2544,2316.984,1012.016,1132.5258,173.108,199.74,1838.2738,3367.6164,2199.1374,1288.323,2822.992,644.4944,1911.5118,1442.7886,1342.2528,265.6542,1428.141,1470.0864,3453.5046,2356.932,5932.278,3225.1352,1406.1696,980.0576,1492.0578,1259.6936,4165.2448,1416.8224,2182.4924,1581.9408,251.6724,6042.135,1070.6064,203.7348,699.09,4600.0122,5024.1268,1102.5648,2441.4886,1877.556,966.7416,1406.1696,651.1524,2061.3168,1843.6002,1422.1488,3675.216,3083.9856,898.83,2856.282,2556.672,1332.9316,1416.8224,732.38,567.2616,753.0198,346.216,1270.3464,5592.72,2293.681,639.168,1267.0174,2037.348,1571.288,3448.844,3616.6256,579.246,1278.336,1228.401,1842.9344,1829.6184,3592.6568,2922.1962,1544.656,101.8674,4570.0512,2458.1336,1830.95,2408.8644,4068.7038,1557.972,1923.4962,1611.236,2173.1712,227.7036,3696.5216,4495.4816,2587.9646,1629.8784,183.7608,1733.7432,1120.5414,343.5528,755.0172,4165.2448,820.2656,1973.4312,850.8924,3530.0716,3467.4864,1249.0408,607.2096,644.4944,3056.022,2175.1686,1640.5312,1817.634,154.4656,1635.8706,2093.2752,2290.352,2263.72,1290.9862,2492.7552,1362.2268,2083.2882,4026.7584,938.778,2109.2544,1249.0408,1821.6288,4832.3764,255.6672,1155.8288,467.3916,2599.2832,1411.496,1263.6884,926.7936,2388.8904,719.064,2572.6512,1246.3776,493.3578,559.272,2626.581,5100.028,1880.885,377.5086,3805.047,4693.89,1398.8458,2247.075,1897.53,5243.8408,6208.585,1593.9252,1390.1904,4037.4112,1414.1592,2380.235,2988.1104,2350.9398,2175.8344,1731.7458,4391.6168,2117.244,1691.7978,1872.2296,2346.945,1171.808,1358.8978,105.8622,1071.938,431.4384,787.6414,452.744,4211.185,1571.288,904.8222,1225.072,1579.9434,2748.4224,3435.528,4857.6768,2726.451,1603.9122,2588.6304,340.8896,2896.8958,1358.232,552.614,694.4294,1937.478,4326.3684,1925.4936,2460.7968,3193.8426,4853.682,2926.191,1842.9344,5518.1504,575.2512,2160.521,635.1732,4138.6128,1973.4312,2678.5134,830.9184,3984.1472,443.4228,2340.9528,2600.6148,1296.3126,2960.1468,432.77,2093.941,763.0068,2109.2544,4809.7392,1601.249,2117.244,3944.865,4207.856,1571.288,858.882,1845.5976],\"yaxis\":\"y\",\"type\":\"scattergl\"},{\"hovertemplate\":\"Tipo de tienda=Grocery Store\\u003cbr\\u003ePeso=%{x}\\u003cbr\\u003eVentas=%{y}\\u003cextra\\u003e\\u003c\\u002fextra\\u003e\",\"legendgroup\":\"Grocery Store\",\"marker\":{\"color\":\"#00cc96\",\"symbol\":\"circle\"},\"mode\":\"markers\",\"name\":\"Grocery Store\",\"showlegend\":true,\"x\":[19.2,15.5,5.925,14.5,19.25,6.42,10.195,5.94,15.5,17.7,13.35,18.85,20.75,7.93,9.395,6.69,20.25,8.89,18.5,17.7,17.85,11.8,9.395,10.0,11.1,15.5,5.175,12.85,14.65,6.67,6.11,13.65,9.06,8.93,17.6,18.35,6.4,7.905,11.1,18.2,20.2,19.0,9.8,15.6,18.75,17.7,18.35,15.2,13.35,6.8,10.5,10.6,7.075,5.765,17.25,5.86,8.895,16.35,21.35,13.1,15.85,15.7,14.15,10.895,15.2,20.75,18.1,8.93,5.825,15.6,8.71,19.7,19.5,12.15,13.1,19.1,9.695,8.365,10.895,8.975,11.8,15.5,8.785,19.6,17.25,13.8,16.1,7.825,12.1,17.5,7.825,18.5,7.06,15.7,19.35,18.5,14.1,19.0,17.7,8.355,5.88,20.2,11.395,20.85,9.17,9.5,12.1,16.7,15.35,19.5,10.8,10.6,15.7,10.3,19.1,13.8,13.65,17.75,4.61,12.15,12.35,20.75,7.68,17.7,12.15,13.6,7.275,10.0,12.5,6.635,5.0,15.7,16.75,14.6,13.85,16.5,18.35,19.0,19.7,6.365,20.0,17.2,15.25,6.035,11.65,17.5,17.6,5.03,19.7,6.59,9.195,13.5,13.5,20.0,10.195,16.6,13.65,4.88,9.8,16.1,9.0,17.85,20.0,5.615,20.5,8.26,12.8,10.195,13.0,15.0,16.85,8.895,18.2,15.2,20.5,5.325,15.2,15.3,12.5,5.785,11.6,9.6,7.68,17.1,18.1,12.1,18.25,9.6,15.6,6.61,19.6,5.365,20.5,15.85,20.2,8.115,5.175,6.035,18.2,13.0,15.25,16.7,12.6,6.63,18.85,5.73,20.75,7.3,15.2,19.6,9.195,7.905,7.05,8.315,15.6,6.15,19.75,8.985,9.8,11.15,14.1,20.35,17.85,9.195,12.35,20.7,19.35,17.1,11.5,8.88,19.1,14.5,10.395,12.6,14.15,18.35,7.72,9.42,7.575,6.235,18.5,10.5,19.5,20.35,12.65,10.895,12.65,18.2,15.7,9.5,13.65,5.44,17.6,7.855,9.195,19.5,7.285,20.2,9.8,20.75,14.1,16.5,11.6,16.6,7.655,20.25,7.935,18.25,21.0,12.3,12.5,20.5,9.3,19.75,21.0,16.7,12.1,15.1,10.5,10.895,20.1,5.19,19.2,14.35,18.35,17.85,6.425,17.7,5.325,8.63,20.25,7.605,20.1,15.7,8.02,13.0,6.825,14.65,11.8,12.85,13.65,19.0,18.2,15.85,17.0,11.85,17.25,8.71,19.0,19.35,6.115,9.5,8.575,14.85,15.2,15.2,11.8,10.3,15.85,20.35,12.85,11.1,13.65,10.85,9.27,6.55,6.26,8.6,16.25,19.35,13.15,16.2,5.365,13.85,11.1,6.135,7.42,6.46,5.82,19.5,17.75,5.73,6.13,7.5,10.195,18.85,17.7,14.5,7.67,4.805,13.1,10.695,19.35,12.35,10.3,14.15,16.1,10.8,16.75,10.195,10.6,15.1,15.1,10.5,20.6,6.3,6.155,12.15,19.2,11.35,14.85,10.695,9.195,5.175,13.3,20.7,7.3,12.65,12.35,14.0,9.17,20.6,15.6,21.2,7.05,5.175,15.6,19.7,6.44,7.51,8.52,7.785,13.3,5.035,6.715,13.35,8.51,12.65,12.3,11.1,15.85,5.825,12.3,15.5,13.5,20.1,6.55,16.7,9.195,20.85,16.7,8.185,10.5,7.435,15.85,12.5,12.6,17.75,10.3,17.7,6.635,9.1,15.85,19.25,12.1,9.5,5.425,5.985,9.5,9.1,11.65,9.13,9.3,12.15,14.0,6.635,6.525,11.5,14.65,18.35,16.75,8.97,12.15,10.85,12.15,14.8,8.785,11.35,12.3,6.86,6.8,17.6,7.825,5.15,17.25,6.32,18.6,17.1,14.0,7.97,20.6,15.2,7.725,20.5,9.1,7.785,10.695,7.105,7.405,10.3,18.6,20.1,11.0,7.55,6.785,19.5,8.895,20.35,8.775,8.06,16.35,6.135,11.8,7.26,13.8,20.1,12.65,15.1,19.2,17.1,19.85,20.1,18.6,16.75,6.385,21.2,21.25,12.8,6.26,10.8,7.52,8.185,19.35,8.945,13.1,6.215,19.85,15.0,9.8,5.425,5.635,15.1,7.63,13.85,6.615,15.6,19.35,21.35,9.3,15.35,12.15,9.6,12.15,16.75,7.97,14.5,8.3,15.1,18.7,9.5,5.305,15.1,15.2,7.035,17.25,5.82,15.2,6.905,4.555,19.85,15.35,10.65,8.975,10.195,13.8,9.8,7.865,12.1,7.725,18.25,20.2,10.395,8.85,10.5,8.895,16.85,6.465,13.65,16.25,11.1,13.15,7.39,5.155,19.6,18.0,14.0,15.5,15.0,9.8,8.42,20.25,16.0,16.85,15.2,17.35,10.395,12.5,16.2,9.0,6.635,13.35,7.42,16.35,10.895,11.5,18.2,7.81,17.6,15.5,16.0,7.27,9.3,5.405,20.6,20.0,5.695,8.0,9.6,19.6,17.6,8.85,7.36,20.35,8.895,16.2,20.6,16.7,11.65,8.6,17.35,16.6,19.0,18.6,17.6,8.39,12.1,16.1,8.775,7.855,14.5,7.895,19.85,11.65,14.5,7.5,15.2,11.6,11.3,9.6,8.945,13.15,16.75,19.7,16.7,11.1,13.15,8.26,16.2,8.89,20.0,7.75,16.35,14.1,10.195,6.4,14.8,18.6,12.65,15.5,15.1,17.2,15.15,5.925,15.2,13.5,5.46,15.6,19.7,9.3,11.8,17.75,14.5,12.15,5.765,10.195,13.15,21.35,14.8,14.65,16.5,8.27,9.8,13.5,17.85,17.85,15.5,11.15,16.35,8.21,8.775,14.0,8.71,10.3,11.8,15.85,6.36,7.325,15.7,15.85,9.0,15.6,14.5,11.1,17.6,16.0,9.395,12.6,20.35,6.135,12.6,9.695,20.6,16.7,11.3,6.78,11.15,20.85,11.6,12.3,13.85,7.825,17.6,17.1,9.8,17.75,16.0,14.0,12.35,13.15,19.35,17.7,12.0,18.7,14.65,10.195,16.75,7.63,9.1,20.6,17.7,12.15,14.8,14.7,19.1,17.85,9.695,9.3,4.635,7.6,12.85,17.85,6.63,10.5,5.655,19.6,12.15,9.0,7.475,14.3,11.3,6.59,5.485,13.15,18.25,8.155,20.75,5.48,13.85,6.825,9.3,10.6,5.945,9.8,8.895,8.27,16.35,12.3,19.2,15.35,14.85,16.0,20.0,6.63,20.7,10.0,18.0,16.75,7.35,14.5,14.6,19.0,19.2,10.0,10.5,7.05,6.615,16.35,9.31,20.2,12.0,10.1,12.6,5.94,17.75,16.2,5.985,15.1,9.27,20.5,6.65,9.195,18.0,13.6,11.35,7.02,8.895,19.1,12.65,15.0,20.1,8.5,7.07,12.5,16.2,17.7,17.25,13.5,19.6,8.02,18.6,11.35,11.5,8.155,13.8,17.6,18.7,6.465,6.03,9.1,10.1,19.35,15.6,14.85,18.25,16.6,13.6,12.0,17.6,15.1,18.2,15.1,12.85,14.3,19.7,11.8,7.42,17.7,17.0,11.6,17.6,15.85,19.6,19.0,7.645,16.2,16.85,20.7,17.35,15.0,11.8,6.67,11.65,5.695,11.395,16.35,9.105,17.5,11.15,13.1,15.7,15.7,11.0,16.7,17.75,7.075,7.56,7.76,10.1,15.1,20.2,9.195,19.2,9.195,15.7,12.6,20.2,14.6,14.15,17.7,15.2,20.25,9.5,8.42,17.1,7.785,15.15,11.1,15.0,19.75,17.1,12.5,14.5,14.65,19.35,11.65,12.85,11.5,9.6,18.7,8.63,12.35,12.5,7.605,9.3,15.1,13.8,10.895,17.6,7.97,7.685,11.3,16.7,17.35,17.0,14.6,17.25,8.71,14.5,17.0,5.4,7.155,5.59,15.15,10.1,6.235,8.355,5.905,6.85,12.8,13.5,18.35,7.31,8.365,17.25,15.1,17.25,8.68,12.8,20.75,9.695,9.395,8.1,9.8,12.35,5.0,19.6,17.2,9.395,7.935,10.8,19.1,9.6,18.75,5.655,8.63,15.35,17.5,21.1,14.0,5.615,15.6,5.46,15.6,5.785,17.1,17.75,11.85,15.1,12.3,15.85,9.695,5.305,16.35,8.52,14.85,9.0,9.0,15.85,17.5,9.3,13.0,10.1,17.75,19.25,17.6,17.75,20.6,6.63,14.85,20.7,19.1,15.6,8.485,20.2,10.0,17.75,16.1,5.78,6.865,11.8,16.25,16.6,13.65,8.63,11.6,6.115,11.65,18.35,16.35,14.8,12.8,6.425,8.5,9.3,12.15,11.6,15.0,11.8,7.075,12.3,16.75,10.1,17.85,12.35,8.01,20.25,6.445,18.25,7.235,12.85,16.85,19.1,14.15,15.6,13.65,10.8,6.78,13.35,7.22,20.7,8.3,19.35,8.27,16.7,15.7,6.965,11.1,11.3,20.35,7.47,19.0,11.0,7.52,14.0,8.27,6.825,11.395,13.15,8.18,20.7,16.25,14.0,12.85,7.855,13.5,7.365,9.5,14.7,7.315,20.0,12.15,8.1],\"xaxis\":\"x\",\"y\":[732.38,214.3876,178.4344,125.8362,163.7868,358.2004,780.3176,892.172,147.8076,184.4266,643.1628,583.2408,369.519,487.3656,679.116,176.437,186.424,101.2016,263.6568,345.5502,585.2382,161.1236,42.6112,239.688,657.8104,327.5736,317.5866,231.6984,324.9104,131.1626,260.9936,260.9936,213.056,153.134,119.1782,306.268,41.2796,500.6816,573.2538,296.9468,254.3356,452.744,387.4956,229.701,383.5008,182.4292,384.8324,474.0496,916.1408,48.6034,711.0744,83.8908,291.6204,38.6164,372.848,155.1314,50.6008,165.7842,520.6556,75.2354,37.9506,151.8024,731.0484,527.3136,95.8752,774.9912,314.2576,276.307,323.5788,370.1848,95.8752,56.593,319.584,1014.6792,334.2316,81.2276,319.584,37.9506,437.4306,103.199,229.701,177.1028,121.8414,761.0094,97.2068,226.372,585.904,258.3304,539.298,419.454,129.1652,147.1418,58.5904,181.7634,145.8102,178.4344,87.2198,565.2642,547.2876,588.5672,461.3994,126.502,300.9416,387.4956,143.147,33.29,657.8104,218.3824,591.2304,895.501,198.4084,50.6008,251.6724,189.753,367.5216,89.2172,114.5176,745.696,174.4396,123.173,474.0496,762.341,384.8324,167.7816,258.3304,352.874,146.476,145.8102,87.2198,75.9012,759.012,179.766,143.8128,217.0508,932.12,360.8636,767.0016,1482.0708,174.4396,122.5072,211.7244,294.2836,261.6594,153.7998,339.558,347.5476,822.263,121.1756,165.1184,241.0196,202.4032,159.792,189.0872,169.1132,147.8076,172.4422,790.9704,161.7894,253.004,67.9116,503.3448,567.2616,146.476,369.519,89.883,345.5502,1575.2828,351.5424,145.8102,711.0744,146.476,833.5816,884.1824,436.7648,149.1392,107.8596,115.8492,205.0664,119.844,175.7712,177.7686,486.034,170.4448,222.3772,95.2094,716.4008,677.1186,660.4736,483.3708,187.0898,167.7816,171.7764,74.5696,435.4332,277.6386,311.5944,211.7244,153.7998,109.857,255.0014,1078.596,495.3552,254.3356,665.8,127.8336,85.8882,481.3734,886.8456,218.3824,216.385,202.4032,108.5254,109.1912,145.1444,175.1054,492.692,719.064,199.74,120.5098,317.5866,992.042,245.0144,122.5072,363.5268,355.5372,189.0872,314.2576,113.186,262.3252,209.727,294.2836,1046.6376,316.9208,687.1056,40.6138,515.3292,117.8466,123.8388,197.0768,525.982,291.6204,425.4462,165.7842,254.3356,962.7468,426.112,689.103,559.272,179.766,756.3488,113.186,480.7076,159.792,37.2848,253.6698,467.3916,525.3162,392.822,101.2016,151.8024,992.042,102.5332,717.0666,215.7192,115.8492,498.0184,262.991,164.4526,774.9912,697.7584,479.376,165.1184,288.9572,410.1328,387.4956,188.4214,593.8936,589.233,283.6308,437.4306,579.246,206.398,589.233,221.0456,378.1744,253.004,131.1626,168.4474,53.9298,113.8518,555.2772,815.605,61.2536,129.831,307.5996,197.7426,153.7998,55.2614,370.1848,175.7712,71.9064,189.0872,445.4202,352.874,171.1106,195.7452,93.212,555.2772,188.4214,361.5294,948.765,782.9808,213.056,312.926,109.1912,1050.6324,33.9558,259.662,529.311,117.8466,139.818,503.3448,745.696,211.7244,149.805,102.5332,453.4098,129.831,193.082,347.5476,169.1132,293.6178,171.7764,592.562,175.7712,452.744,185.7582,291.6204,256.333,934.7832,308.9312,171.7764,161.7894,237.6906,113.186,263.6568,289.623,152.4682,138.4864,250.3408,180.4318,467.3916,491.3604,473.3838,399.48,196.411,508.6712,575.2512,157.1288,196.411,697.0926,774.9912,397.4826,143.8128,149.1392,419.454,852.224,675.1212,155.1314,351.5424,284.9624,147.8076,135.8232,105.8622,118.5124,531.3084,295.6152,382.1692,34.6216,142.4812,572.588,187.7556,223.7088,529.311,109.1912,70.5748,250.3408,87.2198,199.74,459.402,457.4046,420.7856,63.251,455.4072,251.6724,1524.0162,387.4956,311.5944,189.753,219.0482,117.1808,323.5788,985.384,49.2692,519.324,567.2616,471.3864,119.1782,157.1288,207.7296,59.2562,234.3616,47.9376,621.1914,299.61,103.199,418.1224,223.7088,352.874,97.2068,120.5098,141.8154,285.6282,67.9116,296.9468,1102.5648,88.5514,127.1678,460.7336,755.0172,223.7088,303.6048,420.7856,225.0404,288.9572,348.8792,85.8882,542.627,110.5228,1106.5596,203.7348,218.3824,330.2368,351.5424,759.012,390.1588,852.8898,101.2016,146.476,229.701,48.6034,91.8804,761.0094,495.3552,196.411,78.5644,402.1432,207.0638,862.8768,177.1028,563.2668,916.1408,121.8414,215.7192,875.527,316.255,175.7712,296.281,182.4292,311.5944,245.6802,183.7608,622.523,122.5072,210.3928,551.2824,40.6138,467.3916,131.8284,693.0978,225.7062,322.2472,203.7348,466.06,529.9768,110.5228,480.7076,89.883,180.4318,596.5568,123.8388,238.3564,322.2472,221.7114,107.8596,347.5476,183.7608,428.7752,221.0456,575.2512,256.9988,234.3616,327.5736,262.991,374.1796,225.7062,264.9884,228.3694,1001.3632,265.6542,449.415,89.883,45.9402,233.03,790.9704,153.134,671.1264,190.4188,310.2628,36.619,37.9506,259.662,549.285,203.7348,517.3266,41.9454,591.2304,196.411,111.1886,170.4448,551.2824,185.7582,347.5476,525.982,39.948,509.337,194.4136,195.7452,111.8544,889.5088,89.883,111.8544,170.4448,280.9676,227.7036,186.424,493.3578,164.4526,365.5242,517.9924,127.1678,158.4604,210.3928,331.5684,1041.977,1162.4868,1324.942,400.8116,96.541,351.5424,181.0976,143.147,743.0328,191.7504,161.1236,307.5996,527.3136,243.6828,463.3968,215.7192,372.848,94.5436,439.428,97.2068,351.5424,687.1056,197.0768,41.9454,264.9884,37.9506,303.6048,945.436,253.004,585.2382,258.3304,663.1368,488.6972,91.8804,102.5332,405.4722,113.8518,498.0184,398.1484,93.8778,127.1678,1288.323,249.0092,376.8428,47.2718,163.7868,210.3928,229.0352,162.4552,352.874,83.8908,298.2784,432.77,455.4072,425.4462,527.3136,592.562,567.2616,114.5176,337.5606,327.5736,229.701,191.0846,331.5684,219.0482,159.1262,229.0352,123.8388,107.8596,205.0664,354.2056,458.0704,243.6828,359.532,44.6086,1314.955,549.285,1126.5336,392.822,222.3772,792.302,316.9208,115.1834,399.48,101.2016,109.857,135.8232,790.9704,272.978,111.1886,41.2796,191.0846,47.9376,191.0846,790.9704,61.9194,447.4176,150.4708,44.6086,1281.665,97.2068,1304.968,858.882,179.766,982.7208,711.0744,218.3824,316.9208,193.7478,120.5098,739.038,181.0976,190.4188,329.571,523.3188,1094.5752,719.064,751.0224,159.792,506.008,371.5164,429.441,169.779,213.056,447.4176,331.5684,53.264,469.389,312.926,444.7544,37.9506,822.263,91.2146,61.2536,435.4332,430.1068,683.1108,170.4448,474.0496,649.8208,311.5944,280.9676,122.5072,784.9782,452.744,243.6828,319.584,423.4488,724.3904,247.0118,93.212,150.4708,104.5306,595.2252,192.4162,141.8154,628.5152,543.2928,165.7842,115.8492,477.3786,1061.951,129.831,219.714,171.7764,191.7504,370.1848,198.4084,126.502,221.0456,234.3616,312.926,45.9402,47.2718,121.1756,96.541,549.285,229.701,194.4136,422.1172,152.4682,633.8416,182.4292,385.4982,852.224,394.1536,213.056,400.8116,171.1106,166.45,88.5514,179.766,110.5228,308.9312,422.1172,190.4188,83.8908,165.7842,316.9208,567.2616,379.506,296.9468,416.125,39.948,264.3226,595.2252,697.0926,645.826,176.437,468.7232,555.2772,677.1186,183.7608,451.4124,197.0768,160.4578,141.8154,89.2172,499.35,247.6776,691.1004,344.8844,256.9988,242.3512,307.5996,108.5254,524.6504,376.8428,874.8612,143.8128,223.7088,1001.3632,155.7972,126.502,185.0924,1041.3112,463.3968,249.0092,563.2668,280.9676,769.6648,555.2772,433.4358,449.415,153.134,296.9468,412.796,88.5514,466.06,202.4032,296.9468,176.437,1034.6532,415.4592,365.5242,151.1366,311.5944,575.917,170.4448,223.7088,460.7336,343.5528,173.108,442.757,1090.5804,604.5464,50.6008,386.164,379.506,245.6802,862.211,51.9324,264.9884,708.4112,125.8362,231.6984,157.1288,515.3292,753.6856,195.7452,356.8688,473.3838,123.8388,1148.505,564.5984,482.0392,123.8388,312.926,175.7712,882.185,75.9012,185.7582,254.3356,251.6724,111.8544,675.1212,135.8232,165.7842,47.2718,42.6112,311.5944,223.7088,150.4708,149.805,913.4776,370.1848,354.2056,344.8844,256.9988,145.8102,386.164,33.29,139.818,90.5488,379.506,223.7088,339.558,79.896,357.5346,173.108,143.8128,312.926,399.48,484.7024,484.7024,249.0092,215.7192,155.1314,105.8622,335.5632,418.1224,392.822,198.4084,392.822,185.0924,436.7648,975.397,230.3668,127.8336,253.6698,209.0612,131.8284,151.1366,117.1808,424.7804,280.9676,82.5592,815.605,162.4552,223.7088,111.8544,517.3266,375.5112,319.584,255.6672,517.3266,154.4656,412.796,326.242,194.4136,217.7166,178.4344,263.6568,193.082,431.4384,585.904,593.2278,127.8336,80.5618,369.519,595.2252,251.6724,555.2772,815.605,369.519,657.8104,35.2874,191.7504,300.9416,303.6048,258.9962,185.0924,884.1824,1046.6376,280.9676,788.973,277.6386,659.142,75.9012,788.973,433.4358,247.6776,98.5384,214.3876,160.4578,561.2694,83.225,79.896,432.77,395.4852,379.506,303.6048,495.3552,167.7816,49.935,99.2042,422.1172,334.2316,198.4084,291.6204,455.4072,36.619,291.6204,144.4786,41.9454,123.173,123.8388,288.9572,338.2264,786.9756,280.9676,617.8624,328.9052,316.9208,176.437,79.896,450.0808,1470.0864,196.411,457.4046,1775.6886,176.437,73.238,90.5488,516.6608,382.1692,65.2484,1342.2528,723.0588,109.1912,175.7712,499.35,892.172,57.2588,188.4214,151.1366,41.2796,385.4982,103.199,469.389,139.818,179.766,377.5086,790.9704,427.4436,888.843,1010.6844,647.1576,79.2302,185.7582,336.8948,271.6464,77.2328,171.7764,379.506,109.857,262.3252,117.1808,207.7296,364.8584,246.346,283.6308,503.3448,667.1316,143.8128,214.3876,161.7894,116.515,149.805,49.2692,71.9064,246.346,94.5436,469.389,195.7452,360.8636,387.4956,551.2824,510.0028,175.1054,67.9116,73.238,228.3694,621.1914,126.502,368.8532,197.0768,361.5294,451.4124,543.2928,122.5072,316.9208,164.4526,193.7478,467.3916,641.1654,1482.0708,121.1756,128.4994,215.7192,185.0924,528.6452,451.4124,284.9624,425.4462,153.134,124.5046,159.792,38.6164,571.2564,159.792,452.744,367.5216,431.4384,459.402,45.2744,487.3656,424.7804],\"yaxis\":\"y\",\"type\":\"scattergl\"},{\"hovertemplate\":\"Tipo de tienda=Supermarket Type3\\u003cbr\\u003ePeso=%{x}\\u003cbr\\u003eVentas=%{y}\\u003cextra\\u003e\\u003c\\u002fextra\\u003e\",\"legendgroup\":\"Supermarket Type3\",\"marker\":{\"color\":\"#ab63fa\",\"symbol\":\"circle\"},\"mode\":\"markers\",\"name\":\"Supermarket Type3\",\"showlegend\":true,\"x\":[19.0,8.26,8.315,20.2,6.385,15.25,6.215,17.5,12.6,20.2,12.15,20.6,6.195,12.0,12.15,18.25,9.5,21.35,14.6,14.0,6.215,17.6,15.6,4.615,10.3,16.7,6.36,5.365,9.3,7.05,11.8,19.35,17.85,9.0,10.695,20.2,17.35,13.0,5.98,9.3,18.0,15.1,13.8,21.1,17.2,19.35,8.985,15.1,20.35,18.2,14.65,10.895,15.6,18.85,19.5,20.35,16.75,16.85,13.35,8.0,15.5,10.895,20.7,9.895,17.7,13.0,17.75,9.395,12.6,20.35,20.5,9.0,15.85,19.0,17.7,11.5,6.785,19.2,9.195,8.96,11.1,18.7,18.5,11.6,8.1,16.75,6.52,16.1,15.6,14.5,9.8,7.975,16.6,6.67,10.6,8.975,19.7,15.6,10.3,6.675,20.35,11.6,11.0,13.3,12.65,19.2,13.6,12.15,17.75,15.7,4.59,10.0,12.5,15.25,9.3,18.5,18.6,10.195,12.15,21.25,7.52,11.65,12.65,20.7,19.35,17.75,7.825,15.7,19.7,20.2,15.85,8.89,4.61,12.1,7.435,13.0,17.6,20.2,5.785,14.15,17.7,16.1,7.475,6.825,11.35,20.2,19.25,11.8,12.3,10.3,17.7,10.895,8.63,18.0,8.05,14.0,19.1,12.5,16.35,17.85,11.65,19.2,14.8,19.35,6.78,12.15,15.1,6.59,15.35,12.15,11.3,7.81,9.035,6.71,16.1,14.5,12.8,17.6,19.35,10.8,6.235,16.85,12.6,12.6,13.0,20.6,8.895,10.395,7.3,18.25,12.8,18.85,20.75,13.6,17.6,6.695,8.935,7.93,15.85,12.6,20.25,9.5,15.2,13.5,19.85,10.5,13.8,10.195,7.68,11.15,19.6,14.65,12.15,5.095,16.1,9.195,5.86,19.5,5.03,6.69,13.8,11.3,9.0,18.25,11.0,11.8,10.8,5.34,6.13,21.25,17.1,9.6,19.6,16.2,6.3,12.15,15.15,6.635,8.63,20.0,8.6,10.8,13.65,17.85,12.6,20.7,16.5,21.35,18.85,18.7,6.67,8.88,9.5,19.25,14.0,5.78,20.25,9.395,17.6,8.18,10.5,20.5,20.7,11.65,8.365,15.2,19.0,11.8,7.535,12.65,12.3,15.85,7.855,11.5,16.7,9.395,19.2,20.35,5.985,12.8,16.35,15.85,12.15,12.85,8.18,14.0,13.65,8.235,19.2,7.5,14.5,15.0,14.35,10.5,8.775,12.35,9.395,10.1,14.15,14.35,12.8,11.8,15.15,10.195,16.1,16.25,7.235,7.35,8.895,10.1,5.92,6.325,18.25,10.3,16.0,18.85,11.8,12.85,13.3,16.75,9.895,14.8,8.27,15.5,20.25,5.325,19.1,8.395,13.85,8.945,12.6,17.6,6.765,12.3,6.36,21.0,17.35,11.35,6.44,17.1,18.0,15.35,20.2,19.2,10.5,7.26,9.3,12.6,13.85,20.35,6.15,8.785,17.6,15.7,18.6,14.3,5.615,18.1,16.7,13.1,17.85,7.475,16.7,13.15,18.0,11.6,18.25,6.75,15.6,20.85,6.57,12.6,14.5,13.35,12.1,20.25,12.3,5.175,19.6,7.63,11.3,16.25,16.2,15.2,7.07,18.7,9.3,16.2,15.6,8.895,6.865,6.86,6.035,12.85,10.5,7.39,7.71,12.5,9.0,5.94,19.1,7.275,20.2,9.6,19.6,19.7,16.25,14.3,19.75,17.0,19.2,9.42,19.6,10.0,11.6,15.2,18.35,8.5,7.72,18.35,8.71,10.695,11.0,7.59,9.0,17.75,7.855,13.5,6.78,14.8,15.75,18.35,11.5,8.77,20.7,18.5,11.6,21.2,17.5,21.1,16.7,7.97,13.3,17.6,19.35,6.135,8.85,11.8,16.25,7.285,16.5,17.35,13.1,20.25,6.175,16.0,10.395,16.75,18.7,5.32,20.2,7.565,17.7,6.985,5.75,7.325,9.8,15.2,19.35,20.1,11.65,8.1,10.6,6.885,16.0,7.55,16.85,14.15,14.5,15.6,9.0,11.0,6.59,11.5,15.1,12.15,18.75,8.325,6.03,13.35,18.2,12.3,14.1,6.575,10.5,15.35,5.695,9.195,6.305,5.26,20.75,9.6,5.785,7.36,6.055,5.4,6.635,18.0,7.27,7.97,15.0,13.15,19.5,12.1,19.1,18.2,9.6,5.735,19.35,18.85,6.825,8.67,5.465,17.35,9.6,10.8,6.895,9.695,8.355,19.35,15.2,12.1,7.56,15.1,6.55,19.75,17.0,10.8,6.96,9.0,7.27,18.25,18.6,5.98,8.185,5.655,18.35,17.7,4.805,8.39,16.0,11.35,10.0,12.3,13.6,17.6,17.5,11.15,19.7,15.5,20.25,17.35,10.895,14.0,15.1,6.55,14.1,16.35,7.35,7.035,5.825,17.85,6.8,6.61,15.3,13.5,19.7,19.0,14.5,7.445,8.93,15.85,15.15,7.17,18.6,7.235,11.6,9.695,13.6,8.895,9.065,8.02,9.8,18.85,17.25,9.8,20.35,9.5,8.71,14.0,16.6,8.195,13.65,8.51,9.6,15.25,12.85,19.85,7.105,16.75,10.1,8.68,8.43,7.685,6.905,13.5,6.32,19.5,8.75,15.7,10.3,7.75,5.155,15.5,12.15,17.6,7.02,11.65,6.76,8.155,13.15,13.8,16.7,6.655,15.35,12.6,15.35,20.25,19.0,10.895,11.35,19.85,13.65,10.695,6.965,16.7,6.78,7.09,11.8,7.02,9.5,8.905,11.15,15.2,15.1,7.475,8.06,12.3,21.1,7.06,11.395,5.46,8.27,14.85,6.055,10.3,7.895,8.6,17.1,12.8,17.25,6.135,12.35,5.175,20.25,8.63,17.35,6.155,6.425,7.905,11.5,14.5,16.75,18.25,11.1,20.1,6.11,19.25,7.435,11.1,16.5,15.6,10.5,12.15,16.6,19.7,19.7,9.195,15.1,14.15,9.21,17.6,11.15,9.1,18.25,16.85,7.935,13.65,18.75,6.65,19.35,12.65,5.88,8.42,16.85,7.0,16.2,15.7,16.1,15.5,17.0,14.3,19.6,19.6,5.59,17.5,9.3,9.695,9.3,15.85,10.1,5.73,11.1,7.575,11.0,20.2,18.25,15.6,6.525,8.895,14.0,14.15,5.695,11.5,6.38,12.35,7.725,18.35,8.645,15.1,16.75,18.75,18.6,9.6,19.6,12.0,9.8,8.43,20.0,16.0,8.6,12.35,20.85,4.785,12.5,17.1,8.985,8.42,17.85,17.75,12.65,13.35,18.35,7.42,20.5,20.6,17.75,17.7,17.5,21.1,9.3,16.1,5.78,11.85,17.35,18.0,8.92,11.0,6.63,17.85,11.3,12.65,13.35,9.0,18.25,13.15,5.82,15.0,5.925,14.8,19.25,16.5,13.65,6.28,18.6,14.85,13.5,14.0,11.1,18.25,14.3,19.7,14.1,14.3,18.6,5.985,18.7,12.35,19.6,20.0,15.3,7.365,5.88,5.305,17.2,5.26,5.94,16.2,6.635,19.2,5.82,20.5,16.85,17.25,15.85,13.0,17.7,6.135,20.75,5.8,19.2,7.05,10.3,17.25,12.15,14.5,8.975,17.2,9.8,9.5,18.1,12.85,16.75,9.695,6.42,7.51,18.25,11.5,11.395,7.365,19.7,11.35,19.85,13.5,7.42,17.7,19.35,6.63,15.2,14.75,7.67,8.97,10.5,10.195,10.5,8.71,16.75,14.6,16.35,7.825,15.85,7.71,16.35,20.25,21.25,5.405,13.35,13.65,17.6,13.65,4.905,7.075,10.1,6.46,14.35,19.35,20.6,13.65,16.7,11.8,5.44,9.195,15.35,14.5,10.395,7.39,10.8,20.6,12.3,16.75,10.695,9.0,17.75,8.395,12.35,13.0,17.5,12.5,19.35,17.0,15.0,9.3,17.7,8.3,4.92,5.765,15.85,12.85,5.0,17.25,19.1,8.895],\"xaxis\":\"x\",\"y\":[4022.7636,2303.668,4064.0432,2797.6916,388.1614,2180.495,484.7024,2543.356,3091.9752,3285.723,4363.6532,2854.9504,4097.3332,7968.2944,6976.2524,5262.4832,898.83,1808.9786,5555.4352,6024.1584,4739.8302,5070.7328,2105.2596,5359.69,6704.606,3101.2964,4769.1254,3435.528,2293.0152,2074.6328,241.6854,7298.4996,3668.558,2125.2336,3866.9664,5499.508,3251.7672,1677.816,4414.254,5448.9072,3340.9844,4278.4308,9267.936,2055.9904,2807.0128,5033.448,2696.49,1733.7432,5375.0034,1318.284,717.7324,717.7324,2277.036,3195.84,2486.763,9158.079,1296.3126,8114.7704,2113.2492,3486.1288,7094.7648,2876.256,3273.7386,5344.3766,2187.153,5734.5354,1637.868,1747.725,3205.1612,1414.1592,3836.3396,4763.799,1288.9888,5087.3778,7192.6374,7443.644,1107.8912,5954.2494,4974.1918,7488.9184,2488.7604,1298.31,3499.4448,2566.659,918.804,3079.9908,4476.1734,1402.1748,4592.0226,2287.023,1687.1372,1331.6,607.8754,3364.9532,2045.3376,3095.97,3235.788,3355.632,7759.899,2868.9322,1868.2348,1380.8692,1358.232,2251.7356,5063.409,6515.5188,3057.3536,3086.6488,1280.9992,2266.3832,2942.836,3115.944,1320.9472,7370.406,1033.3216,4561.3958,2416.854,984.7182,1864.24,5469.547,6042.135,5518.1504,9133.4444,2115.9124,1885.5456,10236.675,1614.565,5602.707,2253.0672,1850.924,6351.732,3542.056,7152.0236,1810.976,4555.4036,5778.4782,5173.266,7296.5022,3415.554,5353.6978,4832.3764,1544.656,6767.1912,6872.3876,1012.016,7472.2734,2399.5432,3747.1224,1171.808,4364.319,5704.5744,5404.9644,5351.0346,1618.5598,3415.554,3635.268,1096.5726,2167.8448,4965.5364,4189.2136,4402.2696,1901.5248,3511.4292,3374.2744,6165.9738,2518.7214,5816.4288,3691.1952,6897.688,1480.0734,5697.9164,3420.8804,3761.77,3701.1822,11445.102,5887.6694,6064.1064,2109.2544,4211.185,4960.21,5522.811,3368.948,5478.2024,4629.9732,2043.3402,3877.6192,6668.6528,1677.816,1773.6912,1867.569,2220.443,3889.6036,2463.46,6942.9624,419.454,7073.4592,1024.6662,2007.387,1078.596,1114.5492,7116.0704,3271.7412,6769.8544,1058.622,3547.3824,3787.0704,2319.6472,3842.9976,7504.2318,2328.9684,1255.033,5523.4768,4819.7262,4916.933,1263.0226,2631.2416,1396.1826,4119.3046,1211.756,4763.799,2713.135,7168.6686,1281.665,6751.212,8239.9408,1556.6404,6029.4848,2010.716,2804.3496,3791.0652,4447.544,5652.642,3364.9532,9371.8008,4613.994,5294.4416,4350.3372,910.8144,3621.2862,842.237,4933.578,7478.2656,984.7182,2269.0464,1209.7586,1024.6662,5383.6588,4165.2448,2888.2404,2287.023,3672.5528,2439.4912,3205.1612,2020.0372,3756.4436,3062.0142,4442.2176,2348.9424,1975.4286,1374.2112,6035.477,585.904,2332.2974,1042.6428,796.9626,3057.3536,2964.1416,713.0718,2396.88,5972.226,2787.0388,769.6648,3998.7948,2127.8968,1310.2944,809.6128,4225.1668,6796.4864,3146.5708,7201.2928,5470.8786,4354.332,3202.498,6306.4576,2127.231,2290.352,2139.2154,3990.8052,4579.3724,6729.9064,3408.896,5901.6512,2431.5016,4458.1968,1768.3648,1737.738,3231.1274,1821.6288,1380.8692,6024.1584,2251.0698,6196.6006,5273.136,5852.382,3020.0688,1737.738,4697.8848,755.0172,759.012,7142.7024,1034.6532,3174.5344,3119.9388,3868.9638,2143.2102,1358.232,3372.9428,1362.2268,2143.876,864.2084,5466.8838,2679.845,3611.2992,3439.5228,5695.2532,1348.245,701.7532,4301.068,2694.4926,9467.676,2695.1584,2947.4966,2090.612,5772.486,885.514,8912.3988,2175.1686,3981.484,3395.58,7247.233,1530.6742,3266.4148,7503.566,5892.33,1677.816,1631.21,5753.8436,8138.7392,759.012,3430.2016,2956.152,4386.2904,6391.68,5033.448,2109.2544,3494.1184,3572.017,3713.1666,4228.4958,2526.0452,6242.5408,7334.4528,1549.3166,1845.5976,5141.3076,3874.2902,5500.8396,2109.2544,4255.7936,3866.9664,4633.968,4202.5296,5546.114,4815.0656,3056.022,5195.2374,4554.072,1448.7808,3297.7074,918.804,5681.2714,2940.1728,5093.37,559.272,4952.8862,7350.432,4560.73,671.1264,4904.2828,4452.8704,8063.5038,7580.133,3383.5956,5000.8238,4821.7236,569.259,3998.7948,8958.339,3523.4136,3567.3564,2069.3064,3368.948,4604.6728,3797.7232,3050.6956,1754.383,5031.4506,1957.452,1743.0644,6705.2718,3837.0054,1733.7432,6072.096,7136.7102,7170.666,1621.8888,3078.6592,2492.7552,4124.631,3214.4824,5182.5872,1592.5936,2972.797,4327.7,4857.6768,4346.3424,3285.723,3675.216,2516.724,6114.7072,2596.62,5609.365,1722.4246,4828.3816,2450.144,1659.1736,5866.3638,1216.4166,5522.811,2237.088,958.752,5000.8238,1201.769,1737.738,1069.2748,2716.464,1981.4208,872.8638,3200.5006,2101.2648,3648.584,2833.6448,2741.0986,3075.996,3930.8832,1323.6104,5704.5744,9251.9568,10993.6896,1426.1436,2863.6058,2546.685,6478.234,5880.3456,3435.528,3466.1548,3938.8728,6636.6944,4913.604,918.804,5033.448,1918.8356,1518.024,3426.2068,4093.3384,4532.7664,4649.9472,4873.656,5229.1932,5351.0346,4379.6324,3237.1196,3374.2744,2844.2976,5303.097,2476.776,3419.5488,1543.3244,3719.1588,7150.692,4602.6754,3695.19,3139.9128,3773.7544,1235.7248,1534.0032,3083.9856,1041.3112,2363.59,3207.8244,7741.9224,8262.578,966.7416,1145.176,3048.6982,2302.3364,4012.1108,4278.4308,2660.5368,1833.6132,1304.968,4314.384,8413.0488,5475.5392,4432.2306,4199.8664,4538.0928,3175.866,3012.745,1125.8678,3998.7948,4026.7584,2492.0894,3691.1952,802.9548,4302.3996,4986.842,6704.606,2036.0164,3870.9612,2588.6304,1973.4312,1721.093,1687.803,4870.9928,4247.804,3422.212,3339.6528,2645.2234,4504.8028,2716.464,8028.8822,2748.4224,2597.2858,1576.6144,1895.5326,2406.2012,4567.388,3004.0896,1832.2816,847.5634,2428.8384,3185.1872,988.0472,6026.8216,768.999,4374.306,905.488,2267.7148,7646.0472,8388.4142,1797.66,5394.9774,3946.8624,1438.128,1948.1308,1310.2944,2783.044,12117.56,6574.775,2588.6304,4261.12,1992.7394,2057.9878,2768.3964,2073.967,1006.6896,3279.065,6021.4952,2783.7098,1071.938,767.0016,3159.8868,4828.3816,906.8196,4376.9692,3472.147,6207.9192,6528.169,2586.633,3903.5854,2768.3964,3020.0688,1078.596,2624.5836,6759.2016,3179.195,5329.0632,2910.2118,293.6178,6207.9192,1018.0082,2996.1,3448.844,3199.169,1565.9616,6970.926,9562.2196,2192.4794,1845.5976,1980.755,2956.152,8868.456,3661.9,978.726,5978.2182,1021.3372,3515.424,4693.89,3859.6426,2596.62,1701.7848,4705.8744,1211.756,3954.852,2404.8696,4157.2552,1078.596,1997.4,5313.084,5976.2208,3112.615,7425.0016,6964.9338,622.523,7317.142,5752.512,4566.7222,4753.812,4876.985,3515.424,3179.8608,2994.7684,2756.412,4595.3516,6191.94,6338.416,631.8442,2780.3808,1498.05,4474.176,1514.695,2306.997,8474.3024,1547.3192,3243.7776,7393.0432,4012.1108,5056.751,1757.712,2106.5912,5779.144,7033.5112,3704.5112,4474.176,2077.296,3691.1952,4963.539,3728.48,3823.0236,2259.0594,1813.6392,5522.811,1693.7952,8217.3036,3715.164,2067.309,6817.792,4921.5936,2387.5588,1410.8302,1342.2528,2512.7292,4288.4178,4436.8912,3757.7752,1565.9616,441.4254,4345.0108,4377.635,1024.6662,2526.711,2410.196,7883.072,2954.1546,1547.985,3705.177,3387.5904,2607.2728,4277.765,4508.1318,5672.616,2960.1468,2255.7304,4166.5764,3914.904,7100.757,1516.0266,1917.504,4454.202,2145.2076,8789.8916,3281.0624,10306.584,2609.936,2450.144,4587.362,1125.202,9554.23,2719.793,1324.942,5487.5236,607.8754,1006.6896,1597.92,4979.5182,3723.1536,5888.3352,6474.2392,3237.1196,2471.4496,1374.2112,3691.1952,5912.304,5289.1152,2150.534,3205.827,1545.9876,2061.3168,6881.043,1597.92,5892.33,3349.6398,3410.2276,1605.9096,3163.8816,8217.3036,6454.931,2510.066,3047.3666,970.7364,3751.1172,5238.5144,2836.308,814.9392,2777.7176,4976.855,5000.8238,4250.4672,8062.838,1030.6584,3199.8348,1973.4312,3735.8038,6170.6344,1924.162,5582.733,1278.336,2940.1728,3918.8988,2036.6822,1857.582,5944.2624,6474.2392,942.7728,6775.1808,3728.48,4013.4424,3649.2498,13086.9648,10072.8882,1120.5414,5685.932,3946.8624,3858.9768,2036.6822,7939.665,2787.0388,4161.25,2972.1312,2189.8162,1298.31,1290.3204,1713.1034,4537.427,7873.085,4923.591,3068.0064,1293.6494,2306.997,4910.275,8209.314,3225.1352,2529.3742,4751.8146,3552.7088,6157.3184,1544.656,3691.1952,5872.356,1004.0264,5499.508,1976.0944,1901.5248,4065.3748,2543.356,3415.554,4504.137,2631.2416,624.5204,4915.6014,7017.532,3229.7958,7717.9536,641.8312,5404.9644,6066.7696,6431.628,3735.8038,2261.0568,7433.657,1725.7536,2625.9152,6183.9504,721.0614,826.2578,4376.9692,2255.7304,7943.6598,3301.0364,4577.375,7158.6816,4068.038,2291.0178,9678.0688,2563.33,3494.1184,5592.72,2327.6368,4074.696,7158.6816,3036.048,7510.224,1584.604,8417.7094,5283.123,4482.1656,2510.066,3515.424,3635.268,978.726,6064.1064,1677.816,5522.811,6239.8776,1641.197,5257.1568,801.6232,9227.988,5704.5744,934.7832,2129.2284,2157.192,615.1992,6465.5838,1222.4088,1833.6132,4165.2448,5926.2858,2985.4472,986.7156,3002.758,1544.656,3825.6868,3307.6944,6171.3002,5219.872,1471.418,3150.5656,3757.1094,4729.8432,2430.17,3292.381,3207.8244,2716.464,1661.8368,4506.1344,973.3996,4327.7,1001.3632,3352.303,3221.1404,1304.968,3401.5722,9390.4432,3578.675,3675.216,4036.7454,2548.0166,4850.353,1640.5312,5806.4418,4354.9978,1884.8798,3012.0792,6630.0364,2936.178,4602.0096,4026.7584,2862.94,1054.6272,2051.9956,5221.8694,417.4566,793.6336,482.0392,810.9444,1653.8472,6261.849,4111.315,2756.412,4138.6128],\"yaxis\":\"y\",\"type\":\"scattergl\"}],                        {\"template\":{\"data\":{\"histogram2dcontour\":[{\"type\":\"histogram2dcontour\",\"colorbar\":{\"outlinewidth\":0,\"ticks\":\"\"},\"colorscale\":[[0.0,\"#0d0887\"],[0.1111111111111111,\"#46039f\"],[0.2222222222222222,\"#7201a8\"],[0.3333333333333333,\"#9c179e\"],[0.4444444444444444,\"#bd3786\"],[0.5555555555555556,\"#d8576b\"],[0.6666666666666666,\"#ed7953\"],[0.7777777777777778,\"#fb9f3a\"],[0.8888888888888888,\"#fdca26\"],[1.0,\"#f0f921\"]]}],\"choropleth\":[{\"type\":\"choropleth\",\"colorbar\":{\"outlinewidth\":0,\"ticks\":\"\"}}],\"histogram2d\":[{\"type\":\"histogram2d\",\"colorbar\":{\"outlinewidth\":0,\"ticks\":\"\"},\"colorscale\":[[0.0,\"#0d0887\"],[0.1111111111111111,\"#46039f\"],[0.2222222222222222,\"#7201a8\"],[0.3333333333333333,\"#9c179e\"],[0.4444444444444444,\"#bd3786\"],[0.5555555555555556,\"#d8576b\"],[0.6666666666666666,\"#ed7953\"],[0.7777777777777778,\"#fb9f3a\"],[0.8888888888888888,\"#fdca26\"],[1.0,\"#f0f921\"]]}],\"heatmap\":[{\"type\":\"heatmap\",\"colorbar\":{\"outlinewidth\":0,\"ticks\":\"\"},\"colorscale\":[[0.0,\"#0d0887\"],[0.1111111111111111,\"#46039f\"],[0.2222222222222222,\"#7201a8\"],[0.3333333333333333,\"#9c179e\"],[0.4444444444444444,\"#bd3786\"],[0.5555555555555556,\"#d8576b\"],[0.6666666666666666,\"#ed7953\"],[0.7777777777777778,\"#fb9f3a\"],[0.8888888888888888,\"#fdca26\"],[1.0,\"#f0f921\"]]}],\"heatmapgl\":[{\"type\":\"heatmapgl\",\"colorbar\":{\"outlinewidth\":0,\"ticks\":\"\"},\"colorscale\":[[0.0,\"#0d0887\"],[0.1111111111111111,\"#46039f\"],[0.2222222222222222,\"#7201a8\"],[0.3333333333333333,\"#9c179e\"],[0.4444444444444444,\"#bd3786\"],[0.5555555555555556,\"#d8576b\"],[0.6666666666666666,\"#ed7953\"],[0.7777777777777778,\"#fb9f3a\"],[0.8888888888888888,\"#fdca26\"],[1.0,\"#f0f921\"]]}],\"contourcarpet\":[{\"type\":\"contourcarpet\",\"colorbar\":{\"outlinewidth\":0,\"ticks\":\"\"}}],\"contour\":[{\"type\":\"contour\",\"colorbar\":{\"outlinewidth\":0,\"ticks\":\"\"},\"colorscale\":[[0.0,\"#0d0887\"],[0.1111111111111111,\"#46039f\"],[0.2222222222222222,\"#7201a8\"],[0.3333333333333333,\"#9c179e\"],[0.4444444444444444,\"#bd3786\"],[0.5555555555555556,\"#d8576b\"],[0.6666666666666666,\"#ed7953\"],[0.7777777777777778,\"#fb9f3a\"],[0.8888888888888888,\"#fdca26\"],[1.0,\"#f0f921\"]]}],\"surface\":[{\"type\":\"surface\",\"colorbar\":{\"outlinewidth\":0,\"ticks\":\"\"},\"colorscale\":[[0.0,\"#0d0887\"],[0.1111111111111111,\"#46039f\"],[0.2222222222222222,\"#7201a8\"],[0.3333333333333333,\"#9c179e\"],[0.4444444444444444,\"#bd3786\"],[0.5555555555555556,\"#d8576b\"],[0.6666666666666666,\"#ed7953\"],[0.7777777777777778,\"#fb9f3a\"],[0.8888888888888888,\"#fdca26\"],[1.0,\"#f0f921\"]]}],\"mesh3d\":[{\"type\":\"mesh3d\",\"colorbar\":{\"outlinewidth\":0,\"ticks\":\"\"}}],\"scatter\":[{\"fillpattern\":{\"fillmode\":\"overlay\",\"size\":10,\"solidity\":0.2},\"type\":\"scatter\"}],\"parcoords\":[{\"type\":\"parcoords\",\"line\":{\"colorbar\":{\"outlinewidth\":0,\"ticks\":\"\"}}}],\"scatterpolargl\":[{\"type\":\"scatterpolargl\",\"marker\":{\"colorbar\":{\"outlinewidth\":0,\"ticks\":\"\"}}}],\"bar\":[{\"error_x\":{\"color\":\"#2a3f5f\"},\"error_y\":{\"color\":\"#2a3f5f\"},\"marker\":{\"line\":{\"color\":\"#E5ECF6\",\"width\":0.5},\"pattern\":{\"fillmode\":\"overlay\",\"size\":10,\"solidity\":0.2}},\"type\":\"bar\"}],\"scattergeo\":[{\"type\":\"scattergeo\",\"marker\":{\"colorbar\":{\"outlinewidth\":0,\"ticks\":\"\"}}}],\"scatterpolar\":[{\"type\":\"scatterpolar\",\"marker\":{\"colorbar\":{\"outlinewidth\":0,\"ticks\":\"\"}}}],\"histogram\":[{\"marker\":{\"pattern\":{\"fillmode\":\"overlay\",\"size\":10,\"solidity\":0.2}},\"type\":\"histogram\"}],\"scattergl\":[{\"type\":\"scattergl\",\"marker\":{\"colorbar\":{\"outlinewidth\":0,\"ticks\":\"\"}}}],\"scatter3d\":[{\"type\":\"scatter3d\",\"line\":{\"colorbar\":{\"outlinewidth\":0,\"ticks\":\"\"}},\"marker\":{\"colorbar\":{\"outlinewidth\":0,\"ticks\":\"\"}}}],\"scattermapbox\":[{\"type\":\"scattermapbox\",\"marker\":{\"colorbar\":{\"outlinewidth\":0,\"ticks\":\"\"}}}],\"scatterternary\":[{\"type\":\"scatterternary\",\"marker\":{\"colorbar\":{\"outlinewidth\":0,\"ticks\":\"\"}}}],\"scattercarpet\":[{\"type\":\"scattercarpet\",\"marker\":{\"colorbar\":{\"outlinewidth\":0,\"ticks\":\"\"}}}],\"carpet\":[{\"aaxis\":{\"endlinecolor\":\"#2a3f5f\",\"gridcolor\":\"white\",\"linecolor\":\"white\",\"minorgridcolor\":\"white\",\"startlinecolor\":\"#2a3f5f\"},\"baxis\":{\"endlinecolor\":\"#2a3f5f\",\"gridcolor\":\"white\",\"linecolor\":\"white\",\"minorgridcolor\":\"white\",\"startlinecolor\":\"#2a3f5f\"},\"type\":\"carpet\"}],\"table\":[{\"cells\":{\"fill\":{\"color\":\"#EBF0F8\"},\"line\":{\"color\":\"white\"}},\"header\":{\"fill\":{\"color\":\"#C8D4E3\"},\"line\":{\"color\":\"white\"}},\"type\":\"table\"}],\"barpolar\":[{\"marker\":{\"line\":{\"color\":\"#E5ECF6\",\"width\":0.5},\"pattern\":{\"fillmode\":\"overlay\",\"size\":10,\"solidity\":0.2}},\"type\":\"barpolar\"}],\"pie\":[{\"automargin\":true,\"type\":\"pie\"}]},\"layout\":{\"autotypenumbers\":\"strict\",\"colorway\":[\"#636efa\",\"#EF553B\",\"#00cc96\",\"#ab63fa\",\"#FFA15A\",\"#19d3f3\",\"#FF6692\",\"#B6E880\",\"#FF97FF\",\"#FECB52\"],\"font\":{\"color\":\"#2a3f5f\"},\"hovermode\":\"closest\",\"hoverlabel\":{\"align\":\"left\"},\"paper_bgcolor\":\"white\",\"plot_bgcolor\":\"#E5ECF6\",\"polar\":{\"bgcolor\":\"#E5ECF6\",\"angularaxis\":{\"gridcolor\":\"white\",\"linecolor\":\"white\",\"ticks\":\"\"},\"radialaxis\":{\"gridcolor\":\"white\",\"linecolor\":\"white\",\"ticks\":\"\"}},\"ternary\":{\"bgcolor\":\"#E5ECF6\",\"aaxis\":{\"gridcolor\":\"white\",\"linecolor\":\"white\",\"ticks\":\"\"},\"baxis\":{\"gridcolor\":\"white\",\"linecolor\":\"white\",\"ticks\":\"\"},\"caxis\":{\"gridcolor\":\"white\",\"linecolor\":\"white\",\"ticks\":\"\"}},\"coloraxis\":{\"colorbar\":{\"outlinewidth\":0,\"ticks\":\"\"}},\"colorscale\":{\"sequential\":[[0.0,\"#0d0887\"],[0.1111111111111111,\"#46039f\"],[0.2222222222222222,\"#7201a8\"],[0.3333333333333333,\"#9c179e\"],[0.4444444444444444,\"#bd3786\"],[0.5555555555555556,\"#d8576b\"],[0.6666666666666666,\"#ed7953\"],[0.7777777777777778,\"#fb9f3a\"],[0.8888888888888888,\"#fdca26\"],[1.0,\"#f0f921\"]],\"sequentialminus\":[[0.0,\"#0d0887\"],[0.1111111111111111,\"#46039f\"],[0.2222222222222222,\"#7201a8\"],[0.3333333333333333,\"#9c179e\"],[0.4444444444444444,\"#bd3786\"],[0.5555555555555556,\"#d8576b\"],[0.6666666666666666,\"#ed7953\"],[0.7777777777777778,\"#fb9f3a\"],[0.8888888888888888,\"#fdca26\"],[1.0,\"#f0f921\"]],\"diverging\":[[0,\"#8e0152\"],[0.1,\"#c51b7d\"],[0.2,\"#de77ae\"],[0.3,\"#f1b6da\"],[0.4,\"#fde0ef\"],[0.5,\"#f7f7f7\"],[0.6,\"#e6f5d0\"],[0.7,\"#b8e186\"],[0.8,\"#7fbc41\"],[0.9,\"#4d9221\"],[1,\"#276419\"]]},\"xaxis\":{\"gridcolor\":\"white\",\"linecolor\":\"white\",\"ticks\":\"\",\"title\":{\"standoff\":15},\"zerolinecolor\":\"white\",\"automargin\":true,\"zerolinewidth\":2},\"yaxis\":{\"gridcolor\":\"white\",\"linecolor\":\"white\",\"ticks\":\"\",\"title\":{\"standoff\":15},\"zerolinecolor\":\"white\",\"automargin\":true,\"zerolinewidth\":2},\"scene\":{\"xaxis\":{\"backgroundcolor\":\"#E5ECF6\",\"gridcolor\":\"white\",\"linecolor\":\"white\",\"showbackground\":true,\"ticks\":\"\",\"zerolinecolor\":\"white\",\"gridwidth\":2},\"yaxis\":{\"backgroundcolor\":\"#E5ECF6\",\"gridcolor\":\"white\",\"linecolor\":\"white\",\"showbackground\":true,\"ticks\":\"\",\"zerolinecolor\":\"white\",\"gridwidth\":2},\"zaxis\":{\"backgroundcolor\":\"#E5ECF6\",\"gridcolor\":\"white\",\"linecolor\":\"white\",\"showbackground\":true,\"ticks\":\"\",\"zerolinecolor\":\"white\",\"gridwidth\":2}},\"shapedefaults\":{\"line\":{\"color\":\"#2a3f5f\"}},\"annotationdefaults\":{\"arrowcolor\":\"#2a3f5f\",\"arrowhead\":0,\"arrowwidth\":1},\"geo\":{\"bgcolor\":\"white\",\"landcolor\":\"#E5ECF6\",\"subunitcolor\":\"white\",\"showland\":true,\"showlakes\":true,\"lakecolor\":\"white\"},\"title\":{\"x\":0.05},\"mapbox\":{\"style\":\"light\"}}},\"xaxis\":{\"anchor\":\"y\",\"domain\":[0.0,1.0],\"title\":{\"text\":\"Peso\"}},\"yaxis\":{\"anchor\":\"x\",\"domain\":[0.0,1.0],\"title\":{\"text\":\"Ventas\"}},\"legend\":{\"title\":{\"text\":\"Tipo de tienda\"},\"tracegroupgap\":0},\"title\":{\"text\":\"Realaci\\u00f3n entre el peso de los productos y sus ventas\"}},                        {\"responsive\": true}                    ).then(function(){\n",
              "                            \n",
              "var gd = document.getElementById('8a97fbee-07ec-4aa6-ba28-9d51b41a9650');\n",
              "var x = new MutationObserver(function (mutations, observer) {{\n",
              "        var display = window.getComputedStyle(gd).display;\n",
              "        if (!display || display === 'none') {{\n",
              "            console.log([gd, 'removed!']);\n",
              "            Plotly.purge(gd);\n",
              "            observer.disconnect();\n",
              "        }}\n",
              "}});\n",
              "\n",
              "// Listen for the removal of the full notebook cells\n",
              "var notebookContainer = gd.closest('#notebook-container');\n",
              "if (notebookContainer) {{\n",
              "    x.observe(notebookContainer, {childList: true});\n",
              "}}\n",
              "\n",
              "// Listen for the clearing of the current output cell\n",
              "var outputEl = gd.closest('.output');\n",
              "if (outputEl) {{\n",
              "    x.observe(outputEl, {childList: true});\n",
              "}}\n",
              "\n",
              "                        })                };                            </script>        </div>\n",
              "</body>\n",
              "</html>"
            ]
          },
          "metadata": {}
        }
      ]
    }
  ]
}