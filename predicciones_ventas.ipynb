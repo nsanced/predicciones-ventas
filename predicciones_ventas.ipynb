{
  "nbformat": 4,
  "nbformat_minor": 0,
  "metadata": {
    "colab": {
      "provenance": [],
      "authorship_tag": "ABX9TyPHAM+V80935HwGRzlN+SzI",
      "include_colab_link": true
    },
    "kernelspec": {
      "name": "python3",
      "display_name": "Python 3"
    },
    "language_info": {
      "name": "python"
    }
  },
  "cells": [
    {
      "cell_type": "markdown",
      "metadata": {
        "id": "view-in-github",
        "colab_type": "text"
      },
      "source": [
        "<a href=\"https://colab.research.google.com/github/nsanced/predicciones-ventas/blob/main/predicciones_ventas.ipynb\" target=\"_parent\"><img src=\"https://colab.research.google.com/assets/colab-badge.svg\" alt=\"Open In Colab\"/></a>"
      ]
    },
    {
      "cell_type": "markdown",
      "source": [
        "# Montar Google Drive y cargar datos\n",
        "Se monta Google Drive utilizando la biblioteca google.colab y se carga un conjunto de datos de ventas desde un archivo CSV."
      ],
      "metadata": {
        "id": "XI7ju1PmySj4"
      }
    },
    {
      "cell_type": "code",
      "execution_count": 1,
      "metadata": {
        "id": "DtMmQJQNUsTK",
        "colab": {
          "base_uri": "https://localhost:8080/"
        },
        "outputId": "58f760b0-f7b2-4e01-b793-8703eec8b8c5"
      },
      "outputs": [
        {
          "output_type": "stream",
          "name": "stdout",
          "text": [
            "Mounted at /content/drive\n"
          ]
        }
      ],
      "source": [
        "from google.colab import drive\n",
        "drive.mount(\"/content/drive\")\n",
        "\n",
        "import pandas as pd\n",
        "filename = \"/content/drive/MyDrive/Fondo Talento Digital - Es Hoy/Proyeto 1 - Predicción de ventas/sales_predictions.csv\"\n",
        "df = pd.read_csv(filename)"
      ]
    },
    {
      "cell_type": "markdown",
      "source": [
        "# Exploración inicial de datos\n",
        "Se realizan 3 operaciones para obtener un visión inicial de los datos.\n",
        "1. Se utiliza **'df.head(10)'** para mostrar las primeras 10 filas del DataFrame.\n",
        "2. **'df.info()'** ofrece información sobre el DataFrame, incluyendo el tipo de datos de cada columna y la cantidad de valores no nulos.\n",
        "3. **'df.describe()'** genera estadísticas descriptivas como la media y los valores máximos y mínimos para cada columna numérica en el DataFrame."
      ],
      "metadata": {
        "id": "Zi2KzgcW0vrV"
      }
    },
    {
      "cell_type": "code",
      "source": [
        "df.head(10)"
      ],
      "metadata": {
        "colab": {
          "base_uri": "https://localhost:8080/",
          "height": 556
        },
        "id": "RAGy89O7yi4W",
        "outputId": "34c69bb3-bb21-47fb-e4a0-cfad81cbf8d3"
      },
      "execution_count": 2,
      "outputs": [
        {
          "output_type": "execute_result",
          "data": {
            "text/plain": [
              "  Item_Identifier  Item_Weight Item_Fat_Content  Item_Visibility  \\\n",
              "0           FDA15        9.300          Low Fat         0.016047   \n",
              "1           DRC01        5.920          Regular         0.019278   \n",
              "2           FDN15       17.500          Low Fat         0.016760   \n",
              "3           FDX07       19.200          Regular         0.000000   \n",
              "4           NCD19        8.930          Low Fat         0.000000   \n",
              "5           FDP36       10.395          Regular         0.000000   \n",
              "6           FDO10       13.650          Regular         0.012741   \n",
              "7           FDP10          NaN          Low Fat         0.127470   \n",
              "8           FDH17       16.200          Regular         0.016687   \n",
              "9           FDU28       19.200          Regular         0.094450   \n",
              "\n",
              "               Item_Type  Item_MRP Outlet_Identifier  \\\n",
              "0                  Dairy  249.8092            OUT049   \n",
              "1            Soft Drinks   48.2692            OUT018   \n",
              "2                   Meat  141.6180            OUT049   \n",
              "3  Fruits and Vegetables  182.0950            OUT010   \n",
              "4              Household   53.8614            OUT013   \n",
              "5           Baking Goods   51.4008            OUT018   \n",
              "6            Snack Foods   57.6588            OUT013   \n",
              "7            Snack Foods  107.7622            OUT027   \n",
              "8           Frozen Foods   96.9726            OUT045   \n",
              "9           Frozen Foods  187.8214            OUT017   \n",
              "\n",
              "   Outlet_Establishment_Year Outlet_Size Outlet_Location_Type  \\\n",
              "0                       1999      Medium               Tier 1   \n",
              "1                       2009      Medium               Tier 3   \n",
              "2                       1999      Medium               Tier 1   \n",
              "3                       1998         NaN               Tier 3   \n",
              "4                       1987        High               Tier 3   \n",
              "5                       2009      Medium               Tier 3   \n",
              "6                       1987        High               Tier 3   \n",
              "7                       1985      Medium               Tier 3   \n",
              "8                       2002         NaN               Tier 2   \n",
              "9                       2007         NaN               Tier 2   \n",
              "\n",
              "         Outlet_Type  Item_Outlet_Sales  \n",
              "0  Supermarket Type1          3735.1380  \n",
              "1  Supermarket Type2           443.4228  \n",
              "2  Supermarket Type1          2097.2700  \n",
              "3      Grocery Store           732.3800  \n",
              "4  Supermarket Type1           994.7052  \n",
              "5  Supermarket Type2           556.6088  \n",
              "6  Supermarket Type1           343.5528  \n",
              "7  Supermarket Type3          4022.7636  \n",
              "8  Supermarket Type1          1076.5986  \n",
              "9  Supermarket Type1          4710.5350  "
            ],
            "text/html": [
              "\n",
              "  <div id=\"df-190bac00-d8a7-4aba-944d-8895defafe8f\" class=\"colab-df-container\">\n",
              "    <div>\n",
              "<style scoped>\n",
              "    .dataframe tbody tr th:only-of-type {\n",
              "        vertical-align: middle;\n",
              "    }\n",
              "\n",
              "    .dataframe tbody tr th {\n",
              "        vertical-align: top;\n",
              "    }\n",
              "\n",
              "    .dataframe thead th {\n",
              "        text-align: right;\n",
              "    }\n",
              "</style>\n",
              "<table border=\"1\" class=\"dataframe\">\n",
              "  <thead>\n",
              "    <tr style=\"text-align: right;\">\n",
              "      <th></th>\n",
              "      <th>Item_Identifier</th>\n",
              "      <th>Item_Weight</th>\n",
              "      <th>Item_Fat_Content</th>\n",
              "      <th>Item_Visibility</th>\n",
              "      <th>Item_Type</th>\n",
              "      <th>Item_MRP</th>\n",
              "      <th>Outlet_Identifier</th>\n",
              "      <th>Outlet_Establishment_Year</th>\n",
              "      <th>Outlet_Size</th>\n",
              "      <th>Outlet_Location_Type</th>\n",
              "      <th>Outlet_Type</th>\n",
              "      <th>Item_Outlet_Sales</th>\n",
              "    </tr>\n",
              "  </thead>\n",
              "  <tbody>\n",
              "    <tr>\n",
              "      <th>0</th>\n",
              "      <td>FDA15</td>\n",
              "      <td>9.300</td>\n",
              "      <td>Low Fat</td>\n",
              "      <td>0.016047</td>\n",
              "      <td>Dairy</td>\n",
              "      <td>249.8092</td>\n",
              "      <td>OUT049</td>\n",
              "      <td>1999</td>\n",
              "      <td>Medium</td>\n",
              "      <td>Tier 1</td>\n",
              "      <td>Supermarket Type1</td>\n",
              "      <td>3735.1380</td>\n",
              "    </tr>\n",
              "    <tr>\n",
              "      <th>1</th>\n",
              "      <td>DRC01</td>\n",
              "      <td>5.920</td>\n",
              "      <td>Regular</td>\n",
              "      <td>0.019278</td>\n",
              "      <td>Soft Drinks</td>\n",
              "      <td>48.2692</td>\n",
              "      <td>OUT018</td>\n",
              "      <td>2009</td>\n",
              "      <td>Medium</td>\n",
              "      <td>Tier 3</td>\n",
              "      <td>Supermarket Type2</td>\n",
              "      <td>443.4228</td>\n",
              "    </tr>\n",
              "    <tr>\n",
              "      <th>2</th>\n",
              "      <td>FDN15</td>\n",
              "      <td>17.500</td>\n",
              "      <td>Low Fat</td>\n",
              "      <td>0.016760</td>\n",
              "      <td>Meat</td>\n",
              "      <td>141.6180</td>\n",
              "      <td>OUT049</td>\n",
              "      <td>1999</td>\n",
              "      <td>Medium</td>\n",
              "      <td>Tier 1</td>\n",
              "      <td>Supermarket Type1</td>\n",
              "      <td>2097.2700</td>\n",
              "    </tr>\n",
              "    <tr>\n",
              "      <th>3</th>\n",
              "      <td>FDX07</td>\n",
              "      <td>19.200</td>\n",
              "      <td>Regular</td>\n",
              "      <td>0.000000</td>\n",
              "      <td>Fruits and Vegetables</td>\n",
              "      <td>182.0950</td>\n",
              "      <td>OUT010</td>\n",
              "      <td>1998</td>\n",
              "      <td>NaN</td>\n",
              "      <td>Tier 3</td>\n",
              "      <td>Grocery Store</td>\n",
              "      <td>732.3800</td>\n",
              "    </tr>\n",
              "    <tr>\n",
              "      <th>4</th>\n",
              "      <td>NCD19</td>\n",
              "      <td>8.930</td>\n",
              "      <td>Low Fat</td>\n",
              "      <td>0.000000</td>\n",
              "      <td>Household</td>\n",
              "      <td>53.8614</td>\n",
              "      <td>OUT013</td>\n",
              "      <td>1987</td>\n",
              "      <td>High</td>\n",
              "      <td>Tier 3</td>\n",
              "      <td>Supermarket Type1</td>\n",
              "      <td>994.7052</td>\n",
              "    </tr>\n",
              "    <tr>\n",
              "      <th>5</th>\n",
              "      <td>FDP36</td>\n",
              "      <td>10.395</td>\n",
              "      <td>Regular</td>\n",
              "      <td>0.000000</td>\n",
              "      <td>Baking Goods</td>\n",
              "      <td>51.4008</td>\n",
              "      <td>OUT018</td>\n",
              "      <td>2009</td>\n",
              "      <td>Medium</td>\n",
              "      <td>Tier 3</td>\n",
              "      <td>Supermarket Type2</td>\n",
              "      <td>556.6088</td>\n",
              "    </tr>\n",
              "    <tr>\n",
              "      <th>6</th>\n",
              "      <td>FDO10</td>\n",
              "      <td>13.650</td>\n",
              "      <td>Regular</td>\n",
              "      <td>0.012741</td>\n",
              "      <td>Snack Foods</td>\n",
              "      <td>57.6588</td>\n",
              "      <td>OUT013</td>\n",
              "      <td>1987</td>\n",
              "      <td>High</td>\n",
              "      <td>Tier 3</td>\n",
              "      <td>Supermarket Type1</td>\n",
              "      <td>343.5528</td>\n",
              "    </tr>\n",
              "    <tr>\n",
              "      <th>7</th>\n",
              "      <td>FDP10</td>\n",
              "      <td>NaN</td>\n",
              "      <td>Low Fat</td>\n",
              "      <td>0.127470</td>\n",
              "      <td>Snack Foods</td>\n",
              "      <td>107.7622</td>\n",
              "      <td>OUT027</td>\n",
              "      <td>1985</td>\n",
              "      <td>Medium</td>\n",
              "      <td>Tier 3</td>\n",
              "      <td>Supermarket Type3</td>\n",
              "      <td>4022.7636</td>\n",
              "    </tr>\n",
              "    <tr>\n",
              "      <th>8</th>\n",
              "      <td>FDH17</td>\n",
              "      <td>16.200</td>\n",
              "      <td>Regular</td>\n",
              "      <td>0.016687</td>\n",
              "      <td>Frozen Foods</td>\n",
              "      <td>96.9726</td>\n",
              "      <td>OUT045</td>\n",
              "      <td>2002</td>\n",
              "      <td>NaN</td>\n",
              "      <td>Tier 2</td>\n",
              "      <td>Supermarket Type1</td>\n",
              "      <td>1076.5986</td>\n",
              "    </tr>\n",
              "    <tr>\n",
              "      <th>9</th>\n",
              "      <td>FDU28</td>\n",
              "      <td>19.200</td>\n",
              "      <td>Regular</td>\n",
              "      <td>0.094450</td>\n",
              "      <td>Frozen Foods</td>\n",
              "      <td>187.8214</td>\n",
              "      <td>OUT017</td>\n",
              "      <td>2007</td>\n",
              "      <td>NaN</td>\n",
              "      <td>Tier 2</td>\n",
              "      <td>Supermarket Type1</td>\n",
              "      <td>4710.5350</td>\n",
              "    </tr>\n",
              "  </tbody>\n",
              "</table>\n",
              "</div>\n",
              "    <div class=\"colab-df-buttons\">\n",
              "\n",
              "  <div class=\"colab-df-container\">\n",
              "    <button class=\"colab-df-convert\" onclick=\"convertToInteractive('df-190bac00-d8a7-4aba-944d-8895defafe8f')\"\n",
              "            title=\"Convert this dataframe to an interactive table.\"\n",
              "            style=\"display:none;\">\n",
              "\n",
              "  <svg xmlns=\"http://www.w3.org/2000/svg\" height=\"24px\" viewBox=\"0 -960 960 960\">\n",
              "    <path d=\"M120-120v-720h720v720H120Zm60-500h600v-160H180v160Zm220 220h160v-160H400v160Zm0 220h160v-160H400v160ZM180-400h160v-160H180v160Zm440 0h160v-160H620v160ZM180-180h160v-160H180v160Zm440 0h160v-160H620v160Z\"/>\n",
              "  </svg>\n",
              "    </button>\n",
              "\n",
              "  <style>\n",
              "    .colab-df-container {\n",
              "      display:flex;\n",
              "      gap: 12px;\n",
              "    }\n",
              "\n",
              "    .colab-df-convert {\n",
              "      background-color: #E8F0FE;\n",
              "      border: none;\n",
              "      border-radius: 50%;\n",
              "      cursor: pointer;\n",
              "      display: none;\n",
              "      fill: #1967D2;\n",
              "      height: 32px;\n",
              "      padding: 0 0 0 0;\n",
              "      width: 32px;\n",
              "    }\n",
              "\n",
              "    .colab-df-convert:hover {\n",
              "      background-color: #E2EBFA;\n",
              "      box-shadow: 0px 1px 2px rgba(60, 64, 67, 0.3), 0px 1px 3px 1px rgba(60, 64, 67, 0.15);\n",
              "      fill: #174EA6;\n",
              "    }\n",
              "\n",
              "    .colab-df-buttons div {\n",
              "      margin-bottom: 4px;\n",
              "    }\n",
              "\n",
              "    [theme=dark] .colab-df-convert {\n",
              "      background-color: #3B4455;\n",
              "      fill: #D2E3FC;\n",
              "    }\n",
              "\n",
              "    [theme=dark] .colab-df-convert:hover {\n",
              "      background-color: #434B5C;\n",
              "      box-shadow: 0px 1px 3px 1px rgba(0, 0, 0, 0.15);\n",
              "      filter: drop-shadow(0px 1px 2px rgba(0, 0, 0, 0.3));\n",
              "      fill: #FFFFFF;\n",
              "    }\n",
              "  </style>\n",
              "\n",
              "    <script>\n",
              "      const buttonEl =\n",
              "        document.querySelector('#df-190bac00-d8a7-4aba-944d-8895defafe8f button.colab-df-convert');\n",
              "      buttonEl.style.display =\n",
              "        google.colab.kernel.accessAllowed ? 'block' : 'none';\n",
              "\n",
              "      async function convertToInteractive(key) {\n",
              "        const element = document.querySelector('#df-190bac00-d8a7-4aba-944d-8895defafe8f');\n",
              "        const dataTable =\n",
              "          await google.colab.kernel.invokeFunction('convertToInteractive',\n",
              "                                                    [key], {});\n",
              "        if (!dataTable) return;\n",
              "\n",
              "        const docLinkHtml = 'Like what you see? Visit the ' +\n",
              "          '<a target=\"_blank\" href=https://colab.research.google.com/notebooks/data_table.ipynb>data table notebook</a>'\n",
              "          + ' to learn more about interactive tables.';\n",
              "        element.innerHTML = '';\n",
              "        dataTable['output_type'] = 'display_data';\n",
              "        await google.colab.output.renderOutput(dataTable, element);\n",
              "        const docLink = document.createElement('div');\n",
              "        docLink.innerHTML = docLinkHtml;\n",
              "        element.appendChild(docLink);\n",
              "      }\n",
              "    </script>\n",
              "  </div>\n",
              "\n",
              "\n",
              "<div id=\"df-63374be3-fe67-46d2-b334-20c626557083\">\n",
              "  <button class=\"colab-df-quickchart\" onclick=\"quickchart('df-63374be3-fe67-46d2-b334-20c626557083')\"\n",
              "            title=\"Suggest charts\"\n",
              "            style=\"display:none;\">\n",
              "\n",
              "<svg xmlns=\"http://www.w3.org/2000/svg\" height=\"24px\"viewBox=\"0 0 24 24\"\n",
              "     width=\"24px\">\n",
              "    <g>\n",
              "        <path d=\"M19 3H5c-1.1 0-2 .9-2 2v14c0 1.1.9 2 2 2h14c1.1 0 2-.9 2-2V5c0-1.1-.9-2-2-2zM9 17H7v-7h2v7zm4 0h-2V7h2v10zm4 0h-2v-4h2v4z\"/>\n",
              "    </g>\n",
              "</svg>\n",
              "  </button>\n",
              "\n",
              "<style>\n",
              "  .colab-df-quickchart {\n",
              "      --bg-color: #E8F0FE;\n",
              "      --fill-color: #1967D2;\n",
              "      --hover-bg-color: #E2EBFA;\n",
              "      --hover-fill-color: #174EA6;\n",
              "      --disabled-fill-color: #AAA;\n",
              "      --disabled-bg-color: #DDD;\n",
              "  }\n",
              "\n",
              "  [theme=dark] .colab-df-quickchart {\n",
              "      --bg-color: #3B4455;\n",
              "      --fill-color: #D2E3FC;\n",
              "      --hover-bg-color: #434B5C;\n",
              "      --hover-fill-color: #FFFFFF;\n",
              "      --disabled-bg-color: #3B4455;\n",
              "      --disabled-fill-color: #666;\n",
              "  }\n",
              "\n",
              "  .colab-df-quickchart {\n",
              "    background-color: var(--bg-color);\n",
              "    border: none;\n",
              "    border-radius: 50%;\n",
              "    cursor: pointer;\n",
              "    display: none;\n",
              "    fill: var(--fill-color);\n",
              "    height: 32px;\n",
              "    padding: 0;\n",
              "    width: 32px;\n",
              "  }\n",
              "\n",
              "  .colab-df-quickchart:hover {\n",
              "    background-color: var(--hover-bg-color);\n",
              "    box-shadow: 0 1px 2px rgba(60, 64, 67, 0.3), 0 1px 3px 1px rgba(60, 64, 67, 0.15);\n",
              "    fill: var(--button-hover-fill-color);\n",
              "  }\n",
              "\n",
              "  .colab-df-quickchart-complete:disabled,\n",
              "  .colab-df-quickchart-complete:disabled:hover {\n",
              "    background-color: var(--disabled-bg-color);\n",
              "    fill: var(--disabled-fill-color);\n",
              "    box-shadow: none;\n",
              "  }\n",
              "\n",
              "  .colab-df-spinner {\n",
              "    border: 2px solid var(--fill-color);\n",
              "    border-color: transparent;\n",
              "    border-bottom-color: var(--fill-color);\n",
              "    animation:\n",
              "      spin 1s steps(1) infinite;\n",
              "  }\n",
              "\n",
              "  @keyframes spin {\n",
              "    0% {\n",
              "      border-color: transparent;\n",
              "      border-bottom-color: var(--fill-color);\n",
              "      border-left-color: var(--fill-color);\n",
              "    }\n",
              "    20% {\n",
              "      border-color: transparent;\n",
              "      border-left-color: var(--fill-color);\n",
              "      border-top-color: var(--fill-color);\n",
              "    }\n",
              "    30% {\n",
              "      border-color: transparent;\n",
              "      border-left-color: var(--fill-color);\n",
              "      border-top-color: var(--fill-color);\n",
              "      border-right-color: var(--fill-color);\n",
              "    }\n",
              "    40% {\n",
              "      border-color: transparent;\n",
              "      border-right-color: var(--fill-color);\n",
              "      border-top-color: var(--fill-color);\n",
              "    }\n",
              "    60% {\n",
              "      border-color: transparent;\n",
              "      border-right-color: var(--fill-color);\n",
              "    }\n",
              "    80% {\n",
              "      border-color: transparent;\n",
              "      border-right-color: var(--fill-color);\n",
              "      border-bottom-color: var(--fill-color);\n",
              "    }\n",
              "    90% {\n",
              "      border-color: transparent;\n",
              "      border-bottom-color: var(--fill-color);\n",
              "    }\n",
              "  }\n",
              "</style>\n",
              "\n",
              "  <script>\n",
              "    async function quickchart(key) {\n",
              "      const quickchartButtonEl =\n",
              "        document.querySelector('#' + key + ' button');\n",
              "      quickchartButtonEl.disabled = true;  // To prevent multiple clicks.\n",
              "      quickchartButtonEl.classList.add('colab-df-spinner');\n",
              "      try {\n",
              "        const charts = await google.colab.kernel.invokeFunction(\n",
              "            'suggestCharts', [key], {});\n",
              "      } catch (error) {\n",
              "        console.error('Error during call to suggestCharts:', error);\n",
              "      }\n",
              "      quickchartButtonEl.classList.remove('colab-df-spinner');\n",
              "      quickchartButtonEl.classList.add('colab-df-quickchart-complete');\n",
              "    }\n",
              "    (() => {\n",
              "      let quickchartButtonEl =\n",
              "        document.querySelector('#df-63374be3-fe67-46d2-b334-20c626557083 button');\n",
              "      quickchartButtonEl.style.display =\n",
              "        google.colab.kernel.accessAllowed ? 'block' : 'none';\n",
              "    })();\n",
              "  </script>\n",
              "</div>\n",
              "\n",
              "    </div>\n",
              "  </div>\n"
            ],
            "application/vnd.google.colaboratory.intrinsic+json": {
              "type": "dataframe",
              "variable_name": "df",
              "summary": "{\n  \"name\": \"df\",\n  \"rows\": 8523,\n  \"fields\": [\n    {\n      \"column\": \"Item_Identifier\",\n      \"properties\": {\n        \"dtype\": \"category\",\n        \"num_unique_values\": 1559,\n        \"samples\": [\n          \"FDY01\",\n          \"FDG05\",\n          \"NCJ29\"\n        ],\n        \"semantic_type\": \"\",\n        \"description\": \"\"\n      }\n    },\n    {\n      \"column\": \"Item_Weight\",\n      \"properties\": {\n        \"dtype\": \"number\",\n        \"std\": 4.643456499186415,\n        \"min\": 4.555,\n        \"max\": 21.35,\n        \"num_unique_values\": 415,\n        \"samples\": [\n          16.75,\n          8.695,\n          7.605\n        ],\n        \"semantic_type\": \"\",\n        \"description\": \"\"\n      }\n    },\n    {\n      \"column\": \"Item_Fat_Content\",\n      \"properties\": {\n        \"dtype\": \"category\",\n        \"num_unique_values\": 5,\n        \"samples\": [\n          \"Regular\",\n          \"reg\",\n          \"low fat\"\n        ],\n        \"semantic_type\": \"\",\n        \"description\": \"\"\n      }\n    },\n    {\n      \"column\": \"Item_Visibility\",\n      \"properties\": {\n        \"dtype\": \"number\",\n        \"std\": 0.05159782232113512,\n        \"min\": 0.0,\n        \"max\": 0.328390948,\n        \"num_unique_values\": 7880,\n        \"samples\": [\n          0.224837308,\n          0.046088273,\n          0.0204702\n        ],\n        \"semantic_type\": \"\",\n        \"description\": \"\"\n      }\n    },\n    {\n      \"column\": \"Item_Type\",\n      \"properties\": {\n        \"dtype\": \"category\",\n        \"num_unique_values\": 16,\n        \"samples\": [\n          \"Dairy\",\n          \"Soft Drinks\",\n          \"Baking Goods\"\n        ],\n        \"semantic_type\": \"\",\n        \"description\": \"\"\n      }\n    },\n    {\n      \"column\": \"Item_MRP\",\n      \"properties\": {\n        \"dtype\": \"number\",\n        \"std\": 62.27506651219046,\n        \"min\": 31.29,\n        \"max\": 266.8884,\n        \"num_unique_values\": 5938,\n        \"samples\": [\n          255.9672,\n          93.512,\n          208.3954\n        ],\n        \"semantic_type\": \"\",\n        \"description\": \"\"\n      }\n    },\n    {\n      \"column\": \"Outlet_Identifier\",\n      \"properties\": {\n        \"dtype\": \"category\",\n        \"num_unique_values\": 10,\n        \"samples\": [\n          \"OUT035\",\n          \"OUT018\",\n          \"OUT045\"\n        ],\n        \"semantic_type\": \"\",\n        \"description\": \"\"\n      }\n    },\n    {\n      \"column\": \"Outlet_Establishment_Year\",\n      \"properties\": {\n        \"dtype\": \"number\",\n        \"std\": 8,\n        \"min\": 1985,\n        \"max\": 2009,\n        \"num_unique_values\": 9,\n        \"samples\": [\n          1997,\n          2009,\n          2002\n        ],\n        \"semantic_type\": \"\",\n        \"description\": \"\"\n      }\n    },\n    {\n      \"column\": \"Outlet_Size\",\n      \"properties\": {\n        \"dtype\": \"category\",\n        \"num_unique_values\": 3,\n        \"samples\": [\n          \"Medium\",\n          \"High\",\n          \"Small\"\n        ],\n        \"semantic_type\": \"\",\n        \"description\": \"\"\n      }\n    },\n    {\n      \"column\": \"Outlet_Location_Type\",\n      \"properties\": {\n        \"dtype\": \"category\",\n        \"num_unique_values\": 3,\n        \"samples\": [\n          \"Tier 1\",\n          \"Tier 3\",\n          \"Tier 2\"\n        ],\n        \"semantic_type\": \"\",\n        \"description\": \"\"\n      }\n    },\n    {\n      \"column\": \"Outlet_Type\",\n      \"properties\": {\n        \"dtype\": \"category\",\n        \"num_unique_values\": 4,\n        \"samples\": [\n          \"Supermarket Type2\",\n          \"Supermarket Type3\",\n          \"Supermarket Type1\"\n        ],\n        \"semantic_type\": \"\",\n        \"description\": \"\"\n      }\n    },\n    {\n      \"column\": \"Item_Outlet_Sales\",\n      \"properties\": {\n        \"dtype\": \"number\",\n        \"std\": 1706.499615733833,\n        \"min\": 33.29,\n        \"max\": 13086.9648,\n        \"num_unique_values\": 3493,\n        \"samples\": [\n          5466.8838,\n          8417.7094,\n          5888.3352\n        ],\n        \"semantic_type\": \"\",\n        \"description\": \"\"\n      }\n    }\n  ]\n}"
            }
          },
          "metadata": {},
          "execution_count": 2
        }
      ]
    },
    {
      "cell_type": "markdown",
      "source": [
        "Basándonos en la salida de **'df.info()'**, podemos resaltar lo siguiente:\n",
        "\n",
        "\n",
        "1.   El DataFrame tiene 8523 registros y 12 columnas.\n",
        "2.   Las columnas \"Item_Weight\" y \"Outlet_Size\" contienen valores faltantes que pueden requerir tratamiento.\n",
        "3. Existen vatriables categóricas y numéricas. Puede necesitarse hacer transformaciones en los tipos de datos.\n",
        "4. Puede ser útil verificar los valores únicos en cada columna para comprender la diversidad de categorías en cada una."
      ],
      "metadata": {
        "id": "m4YZ4Qzx_HSl"
      }
    },
    {
      "cell_type": "code",
      "source": [
        "df.info()"
      ],
      "metadata": {
        "colab": {
          "base_uri": "https://localhost:8080/"
        },
        "id": "DYjngUckzSGr",
        "outputId": "ec935001-1838-4339-d89b-9848a1bead64"
      },
      "execution_count": 3,
      "outputs": [
        {
          "output_type": "stream",
          "name": "stdout",
          "text": [
            "<class 'pandas.core.frame.DataFrame'>\n",
            "RangeIndex: 8523 entries, 0 to 8522\n",
            "Data columns (total 12 columns):\n",
            " #   Column                     Non-Null Count  Dtype  \n",
            "---  ------                     --------------  -----  \n",
            " 0   Item_Identifier            8523 non-null   object \n",
            " 1   Item_Weight                7060 non-null   float64\n",
            " 2   Item_Fat_Content           8523 non-null   object \n",
            " 3   Item_Visibility            8523 non-null   float64\n",
            " 4   Item_Type                  8523 non-null   object \n",
            " 5   Item_MRP                   8523 non-null   float64\n",
            " 6   Outlet_Identifier          8523 non-null   object \n",
            " 7   Outlet_Establishment_Year  8523 non-null   int64  \n",
            " 8   Outlet_Size                6113 non-null   object \n",
            " 9   Outlet_Location_Type       8523 non-null   object \n",
            " 10  Outlet_Type                8523 non-null   object \n",
            " 11  Item_Outlet_Sales          8523 non-null   float64\n",
            "dtypes: float64(4), int64(1), object(7)\n",
            "memory usage: 799.2+ KB\n"
          ]
        }
      ]
    },
    {
      "cell_type": "code",
      "source": [
        "df.describe()"
      ],
      "metadata": {
        "colab": {
          "base_uri": "https://localhost:8080/",
          "height": 300
        },
        "id": "-QALPZwnzuRs",
        "outputId": "728e2125-56c6-4aa9-e037-b6fa39a809e0"
      },
      "execution_count": 4,
      "outputs": [
        {
          "output_type": "execute_result",
          "data": {
            "text/plain": [
              "       Item_Weight  Item_Visibility     Item_MRP  Outlet_Establishment_Year  \\\n",
              "count  7060.000000      8523.000000  8523.000000                8523.000000   \n",
              "mean     12.857645         0.066132   140.992782                1997.831867   \n",
              "std       4.643456         0.051598    62.275067                   8.371760   \n",
              "min       4.555000         0.000000    31.290000                1985.000000   \n",
              "25%       8.773750         0.026989    93.826500                1987.000000   \n",
              "50%      12.600000         0.053931   143.012800                1999.000000   \n",
              "75%      16.850000         0.094585   185.643700                2004.000000   \n",
              "max      21.350000         0.328391   266.888400                2009.000000   \n",
              "\n",
              "       Item_Outlet_Sales  \n",
              "count        8523.000000  \n",
              "mean         2181.288914  \n",
              "std          1706.499616  \n",
              "min            33.290000  \n",
              "25%           834.247400  \n",
              "50%          1794.331000  \n",
              "75%          3101.296400  \n",
              "max         13086.964800  "
            ],
            "text/html": [
              "\n",
              "  <div id=\"df-d4e684af-5b4d-44f7-8f39-07c215c0cdf9\" class=\"colab-df-container\">\n",
              "    <div>\n",
              "<style scoped>\n",
              "    .dataframe tbody tr th:only-of-type {\n",
              "        vertical-align: middle;\n",
              "    }\n",
              "\n",
              "    .dataframe tbody tr th {\n",
              "        vertical-align: top;\n",
              "    }\n",
              "\n",
              "    .dataframe thead th {\n",
              "        text-align: right;\n",
              "    }\n",
              "</style>\n",
              "<table border=\"1\" class=\"dataframe\">\n",
              "  <thead>\n",
              "    <tr style=\"text-align: right;\">\n",
              "      <th></th>\n",
              "      <th>Item_Weight</th>\n",
              "      <th>Item_Visibility</th>\n",
              "      <th>Item_MRP</th>\n",
              "      <th>Outlet_Establishment_Year</th>\n",
              "      <th>Item_Outlet_Sales</th>\n",
              "    </tr>\n",
              "  </thead>\n",
              "  <tbody>\n",
              "    <tr>\n",
              "      <th>count</th>\n",
              "      <td>7060.000000</td>\n",
              "      <td>8523.000000</td>\n",
              "      <td>8523.000000</td>\n",
              "      <td>8523.000000</td>\n",
              "      <td>8523.000000</td>\n",
              "    </tr>\n",
              "    <tr>\n",
              "      <th>mean</th>\n",
              "      <td>12.857645</td>\n",
              "      <td>0.066132</td>\n",
              "      <td>140.992782</td>\n",
              "      <td>1997.831867</td>\n",
              "      <td>2181.288914</td>\n",
              "    </tr>\n",
              "    <tr>\n",
              "      <th>std</th>\n",
              "      <td>4.643456</td>\n",
              "      <td>0.051598</td>\n",
              "      <td>62.275067</td>\n",
              "      <td>8.371760</td>\n",
              "      <td>1706.499616</td>\n",
              "    </tr>\n",
              "    <tr>\n",
              "      <th>min</th>\n",
              "      <td>4.555000</td>\n",
              "      <td>0.000000</td>\n",
              "      <td>31.290000</td>\n",
              "      <td>1985.000000</td>\n",
              "      <td>33.290000</td>\n",
              "    </tr>\n",
              "    <tr>\n",
              "      <th>25%</th>\n",
              "      <td>8.773750</td>\n",
              "      <td>0.026989</td>\n",
              "      <td>93.826500</td>\n",
              "      <td>1987.000000</td>\n",
              "      <td>834.247400</td>\n",
              "    </tr>\n",
              "    <tr>\n",
              "      <th>50%</th>\n",
              "      <td>12.600000</td>\n",
              "      <td>0.053931</td>\n",
              "      <td>143.012800</td>\n",
              "      <td>1999.000000</td>\n",
              "      <td>1794.331000</td>\n",
              "    </tr>\n",
              "    <tr>\n",
              "      <th>75%</th>\n",
              "      <td>16.850000</td>\n",
              "      <td>0.094585</td>\n",
              "      <td>185.643700</td>\n",
              "      <td>2004.000000</td>\n",
              "      <td>3101.296400</td>\n",
              "    </tr>\n",
              "    <tr>\n",
              "      <th>max</th>\n",
              "      <td>21.350000</td>\n",
              "      <td>0.328391</td>\n",
              "      <td>266.888400</td>\n",
              "      <td>2009.000000</td>\n",
              "      <td>13086.964800</td>\n",
              "    </tr>\n",
              "  </tbody>\n",
              "</table>\n",
              "</div>\n",
              "    <div class=\"colab-df-buttons\">\n",
              "\n",
              "  <div class=\"colab-df-container\">\n",
              "    <button class=\"colab-df-convert\" onclick=\"convertToInteractive('df-d4e684af-5b4d-44f7-8f39-07c215c0cdf9')\"\n",
              "            title=\"Convert this dataframe to an interactive table.\"\n",
              "            style=\"display:none;\">\n",
              "\n",
              "  <svg xmlns=\"http://www.w3.org/2000/svg\" height=\"24px\" viewBox=\"0 -960 960 960\">\n",
              "    <path d=\"M120-120v-720h720v720H120Zm60-500h600v-160H180v160Zm220 220h160v-160H400v160Zm0 220h160v-160H400v160ZM180-400h160v-160H180v160Zm440 0h160v-160H620v160ZM180-180h160v-160H180v160Zm440 0h160v-160H620v160Z\"/>\n",
              "  </svg>\n",
              "    </button>\n",
              "\n",
              "  <style>\n",
              "    .colab-df-container {\n",
              "      display:flex;\n",
              "      gap: 12px;\n",
              "    }\n",
              "\n",
              "    .colab-df-convert {\n",
              "      background-color: #E8F0FE;\n",
              "      border: none;\n",
              "      border-radius: 50%;\n",
              "      cursor: pointer;\n",
              "      display: none;\n",
              "      fill: #1967D2;\n",
              "      height: 32px;\n",
              "      padding: 0 0 0 0;\n",
              "      width: 32px;\n",
              "    }\n",
              "\n",
              "    .colab-df-convert:hover {\n",
              "      background-color: #E2EBFA;\n",
              "      box-shadow: 0px 1px 2px rgba(60, 64, 67, 0.3), 0px 1px 3px 1px rgba(60, 64, 67, 0.15);\n",
              "      fill: #174EA6;\n",
              "    }\n",
              "\n",
              "    .colab-df-buttons div {\n",
              "      margin-bottom: 4px;\n",
              "    }\n",
              "\n",
              "    [theme=dark] .colab-df-convert {\n",
              "      background-color: #3B4455;\n",
              "      fill: #D2E3FC;\n",
              "    }\n",
              "\n",
              "    [theme=dark] .colab-df-convert:hover {\n",
              "      background-color: #434B5C;\n",
              "      box-shadow: 0px 1px 3px 1px rgba(0, 0, 0, 0.15);\n",
              "      filter: drop-shadow(0px 1px 2px rgba(0, 0, 0, 0.3));\n",
              "      fill: #FFFFFF;\n",
              "    }\n",
              "  </style>\n",
              "\n",
              "    <script>\n",
              "      const buttonEl =\n",
              "        document.querySelector('#df-d4e684af-5b4d-44f7-8f39-07c215c0cdf9 button.colab-df-convert');\n",
              "      buttonEl.style.display =\n",
              "        google.colab.kernel.accessAllowed ? 'block' : 'none';\n",
              "\n",
              "      async function convertToInteractive(key) {\n",
              "        const element = document.querySelector('#df-d4e684af-5b4d-44f7-8f39-07c215c0cdf9');\n",
              "        const dataTable =\n",
              "          await google.colab.kernel.invokeFunction('convertToInteractive',\n",
              "                                                    [key], {});\n",
              "        if (!dataTable) return;\n",
              "\n",
              "        const docLinkHtml = 'Like what you see? Visit the ' +\n",
              "          '<a target=\"_blank\" href=https://colab.research.google.com/notebooks/data_table.ipynb>data table notebook</a>'\n",
              "          + ' to learn more about interactive tables.';\n",
              "        element.innerHTML = '';\n",
              "        dataTable['output_type'] = 'display_data';\n",
              "        await google.colab.output.renderOutput(dataTable, element);\n",
              "        const docLink = document.createElement('div');\n",
              "        docLink.innerHTML = docLinkHtml;\n",
              "        element.appendChild(docLink);\n",
              "      }\n",
              "    </script>\n",
              "  </div>\n",
              "\n",
              "\n",
              "<div id=\"df-e406184b-edfe-4809-a4ef-054f224afafc\">\n",
              "  <button class=\"colab-df-quickchart\" onclick=\"quickchart('df-e406184b-edfe-4809-a4ef-054f224afafc')\"\n",
              "            title=\"Suggest charts\"\n",
              "            style=\"display:none;\">\n",
              "\n",
              "<svg xmlns=\"http://www.w3.org/2000/svg\" height=\"24px\"viewBox=\"0 0 24 24\"\n",
              "     width=\"24px\">\n",
              "    <g>\n",
              "        <path d=\"M19 3H5c-1.1 0-2 .9-2 2v14c0 1.1.9 2 2 2h14c1.1 0 2-.9 2-2V5c0-1.1-.9-2-2-2zM9 17H7v-7h2v7zm4 0h-2V7h2v10zm4 0h-2v-4h2v4z\"/>\n",
              "    </g>\n",
              "</svg>\n",
              "  </button>\n",
              "\n",
              "<style>\n",
              "  .colab-df-quickchart {\n",
              "      --bg-color: #E8F0FE;\n",
              "      --fill-color: #1967D2;\n",
              "      --hover-bg-color: #E2EBFA;\n",
              "      --hover-fill-color: #174EA6;\n",
              "      --disabled-fill-color: #AAA;\n",
              "      --disabled-bg-color: #DDD;\n",
              "  }\n",
              "\n",
              "  [theme=dark] .colab-df-quickchart {\n",
              "      --bg-color: #3B4455;\n",
              "      --fill-color: #D2E3FC;\n",
              "      --hover-bg-color: #434B5C;\n",
              "      --hover-fill-color: #FFFFFF;\n",
              "      --disabled-bg-color: #3B4455;\n",
              "      --disabled-fill-color: #666;\n",
              "  }\n",
              "\n",
              "  .colab-df-quickchart {\n",
              "    background-color: var(--bg-color);\n",
              "    border: none;\n",
              "    border-radius: 50%;\n",
              "    cursor: pointer;\n",
              "    display: none;\n",
              "    fill: var(--fill-color);\n",
              "    height: 32px;\n",
              "    padding: 0;\n",
              "    width: 32px;\n",
              "  }\n",
              "\n",
              "  .colab-df-quickchart:hover {\n",
              "    background-color: var(--hover-bg-color);\n",
              "    box-shadow: 0 1px 2px rgba(60, 64, 67, 0.3), 0 1px 3px 1px rgba(60, 64, 67, 0.15);\n",
              "    fill: var(--button-hover-fill-color);\n",
              "  }\n",
              "\n",
              "  .colab-df-quickchart-complete:disabled,\n",
              "  .colab-df-quickchart-complete:disabled:hover {\n",
              "    background-color: var(--disabled-bg-color);\n",
              "    fill: var(--disabled-fill-color);\n",
              "    box-shadow: none;\n",
              "  }\n",
              "\n",
              "  .colab-df-spinner {\n",
              "    border: 2px solid var(--fill-color);\n",
              "    border-color: transparent;\n",
              "    border-bottom-color: var(--fill-color);\n",
              "    animation:\n",
              "      spin 1s steps(1) infinite;\n",
              "  }\n",
              "\n",
              "  @keyframes spin {\n",
              "    0% {\n",
              "      border-color: transparent;\n",
              "      border-bottom-color: var(--fill-color);\n",
              "      border-left-color: var(--fill-color);\n",
              "    }\n",
              "    20% {\n",
              "      border-color: transparent;\n",
              "      border-left-color: var(--fill-color);\n",
              "      border-top-color: var(--fill-color);\n",
              "    }\n",
              "    30% {\n",
              "      border-color: transparent;\n",
              "      border-left-color: var(--fill-color);\n",
              "      border-top-color: var(--fill-color);\n",
              "      border-right-color: var(--fill-color);\n",
              "    }\n",
              "    40% {\n",
              "      border-color: transparent;\n",
              "      border-right-color: var(--fill-color);\n",
              "      border-top-color: var(--fill-color);\n",
              "    }\n",
              "    60% {\n",
              "      border-color: transparent;\n",
              "      border-right-color: var(--fill-color);\n",
              "    }\n",
              "    80% {\n",
              "      border-color: transparent;\n",
              "      border-right-color: var(--fill-color);\n",
              "      border-bottom-color: var(--fill-color);\n",
              "    }\n",
              "    90% {\n",
              "      border-color: transparent;\n",
              "      border-bottom-color: var(--fill-color);\n",
              "    }\n",
              "  }\n",
              "</style>\n",
              "\n",
              "  <script>\n",
              "    async function quickchart(key) {\n",
              "      const quickchartButtonEl =\n",
              "        document.querySelector('#' + key + ' button');\n",
              "      quickchartButtonEl.disabled = true;  // To prevent multiple clicks.\n",
              "      quickchartButtonEl.classList.add('colab-df-spinner');\n",
              "      try {\n",
              "        const charts = await google.colab.kernel.invokeFunction(\n",
              "            'suggestCharts', [key], {});\n",
              "      } catch (error) {\n",
              "        console.error('Error during call to suggestCharts:', error);\n",
              "      }\n",
              "      quickchartButtonEl.classList.remove('colab-df-spinner');\n",
              "      quickchartButtonEl.classList.add('colab-df-quickchart-complete');\n",
              "    }\n",
              "    (() => {\n",
              "      let quickchartButtonEl =\n",
              "        document.querySelector('#df-e406184b-edfe-4809-a4ef-054f224afafc button');\n",
              "      quickchartButtonEl.style.display =\n",
              "        google.colab.kernel.accessAllowed ? 'block' : 'none';\n",
              "    })();\n",
              "  </script>\n",
              "</div>\n",
              "\n",
              "    </div>\n",
              "  </div>\n"
            ],
            "application/vnd.google.colaboratory.intrinsic+json": {
              "type": "dataframe",
              "summary": "{\n  \"name\": \"df\",\n  \"rows\": 8,\n  \"fields\": [\n    {\n      \"column\": \"Item_Weight\",\n      \"properties\": {\n        \"dtype\": \"number\",\n        \"std\": 2491.9706342896925,\n        \"min\": 4.555,\n        \"max\": 7060.0,\n        \"num_unique_values\": 8,\n        \"samples\": [\n          12.857645184135976,\n          12.6,\n          7060.0\n        ],\n        \"semantic_type\": \"\",\n        \"description\": \"\"\n      }\n    },\n    {\n      \"column\": \"Item_Visibility\",\n      \"properties\": {\n        \"dtype\": \"number\",\n        \"std\": 3013.304152859587,\n        \"min\": 0.0,\n        \"max\": 8523.0,\n        \"num_unique_values\": 8,\n        \"samples\": [\n          0.06613202877895108,\n          0.053930934,\n          8523.0\n        ],\n        \"semantic_type\": \"\",\n        \"description\": \"\"\n      }\n    },\n    {\n      \"column\": \"Item_MRP\",\n      \"properties\": {\n        \"dtype\": \"number\",\n        \"std\": 2967.5785044087356,\n        \"min\": 31.29,\n        \"max\": 8523.0,\n        \"num_unique_values\": 8,\n        \"samples\": [\n          140.9927819781767,\n          143.0128,\n          8523.0\n        ],\n        \"semantic_type\": \"\",\n        \"description\": \"\"\n      }\n    },\n    {\n      \"column\": \"Outlet_Establishment_Year\",\n      \"properties\": {\n        \"dtype\": \"number\",\n        \"std\": 2506.291593828245,\n        \"min\": 8.371760408092655,\n        \"max\": 8523.0,\n        \"num_unique_values\": 8,\n        \"samples\": [\n          1997.8318667135984,\n          1999.0,\n          8523.0\n        ],\n        \"semantic_type\": \"\",\n        \"description\": \"\"\n      }\n    },\n    {\n      \"column\": \"Item_Outlet_Sales\",\n      \"properties\": {\n        \"dtype\": \"number\",\n        \"std\": 4519.156901462071,\n        \"min\": 33.29,\n        \"max\": 13086.9648,\n        \"num_unique_values\": 8,\n        \"samples\": [\n          2181.288913575032,\n          1794.331,\n          8523.0\n        ],\n        \"semantic_type\": \"\",\n        \"description\": \"\"\n      }\n    }\n  ]\n}"
            }
          },
          "metadata": {},
          "execution_count": 4
        }
      ]
    },
    {
      "cell_type": "markdown",
      "source": [
        "# Tratamiento de datos faltantes de la columna \"Outlet_Size\""
      ],
      "metadata": {
        "id": "-xvGwRUCaLv6"
      }
    },
    {
      "cell_type": "markdown",
      "source": [
        "**Opción 1: Imputación con el valor más común**\n",
        "\n",
        "Rellenar los valores faltantes con el valor más común de esa columna.\n",
        "Esta opción no es tan buena porque las cantidades de las categorías \"Medium\" y \"Small\" no son tan distintas."
      ],
      "metadata": {
        "id": "cAVdBizIahB_"
      }
    },
    {
      "cell_type": "code",
      "source": [
        "df[\"Outlet_Size\"].value_counts()"
      ],
      "metadata": {
        "colab": {
          "base_uri": "https://localhost:8080/"
        },
        "id": "2sB-0Qkna23Y",
        "outputId": "5d63287f-346d-4a44-f69f-d32639121e35"
      },
      "execution_count": 5,
      "outputs": [
        {
          "output_type": "execute_result",
          "data": {
            "text/plain": [
              "Medium    2793\n",
              "Small     2388\n",
              "High       932\n",
              "Name: Outlet_Size, dtype: int64"
            ]
          },
          "metadata": {},
          "execution_count": 5
        }
      ]
    },
    {
      "cell_type": "markdown",
      "source": [
        "**Opción 2: Utilizar información de otras columnas relacionadas a la tienda**\n",
        "\n",
        "Utilizaremos el tipo de tienda para relacionarlo con el su tamaño."
      ],
      "metadata": {
        "id": "bkYQ8m3Hbvyb"
      }
    },
    {
      "cell_type": "code",
      "source": [
        "df[\"Outlet_Type\"].value_counts()"
      ],
      "metadata": {
        "colab": {
          "base_uri": "https://localhost:8080/"
        },
        "id": "jnvsuyjI4NA8",
        "outputId": "708b9776-87a2-44f3-eea5-98ed1a341d6c"
      },
      "execution_count": 6,
      "outputs": [
        {
          "output_type": "execute_result",
          "data": {
            "text/plain": [
              "Supermarket Type1    5577\n",
              "Grocery Store        1083\n",
              "Supermarket Type3     935\n",
              "Supermarket Type2     928\n",
              "Name: Outlet_Type, dtype: int64"
            ]
          },
          "metadata": {},
          "execution_count": 6
        }
      ]
    },
    {
      "cell_type": "code",
      "source": [
        "df.groupby(\"Outlet_Type\")[\"Outlet_Size\"].value_counts()"
      ],
      "metadata": {
        "colab": {
          "base_uri": "https://localhost:8080/"
        },
        "id": "87obPmdG4YN4",
        "outputId": "6d12611b-d92b-4fd9-d5af-500ae5b1dca1"
      },
      "execution_count": 7,
      "outputs": [
        {
          "output_type": "execute_result",
          "data": {
            "text/plain": [
              "Outlet_Type        Outlet_Size\n",
              "Grocery Store      Small           528\n",
              "Supermarket Type1  Small          1860\n",
              "                   High            932\n",
              "                   Medium          930\n",
              "Supermarket Type2  Medium          928\n",
              "Supermarket Type3  Medium          935\n",
              "Name: Outlet_Size, dtype: int64"
            ]
          },
          "metadata": {},
          "execution_count": 7
        }
      ]
    },
    {
      "cell_type": "markdown",
      "source": [
        "Podemos recuperar 555 datos al indicar que todos los Grocery Stores son de tamaño Small."
      ],
      "metadata": {
        "id": "C3wa7cBD6g_4"
      }
    },
    {
      "cell_type": "code",
      "source": [
        "df1 = df\n",
        "null_filter = df1[\"Outlet_Size\"].isna()\n",
        "grocery_filter = df1[\"Outlet_Type\"] == \"Grocery Store\"\n",
        "df1.loc[null_filter & grocery_filter, \"Outlet_Size\"] = \"Small\""
      ],
      "metadata": {
        "id": "n-yFerCg5Blm"
      },
      "execution_count": 8,
      "outputs": []
    },
    {
      "cell_type": "markdown",
      "source": [
        "Utilizaremos el tipo de ubicación para relacionarlo con el tamaño de una tienda."
      ],
      "metadata": {
        "id": "if7oIZfu-VNf"
      }
    },
    {
      "cell_type": "code",
      "source": [
        "df[\"Outlet_Location_Type\"].value_counts()"
      ],
      "metadata": {
        "colab": {
          "base_uri": "https://localhost:8080/"
        },
        "id": "9YsQRzMr8MI6",
        "outputId": "56d76d6a-e430-4a00-fdb3-728c45a809bc"
      },
      "execution_count": 9,
      "outputs": [
        {
          "output_type": "execute_result",
          "data": {
            "text/plain": [
              "Tier 3    3350\n",
              "Tier 2    2785\n",
              "Tier 1    2388\n",
              "Name: Outlet_Location_Type, dtype: int64"
            ]
          },
          "metadata": {},
          "execution_count": 9
        }
      ]
    },
    {
      "cell_type": "code",
      "source": [
        "df1.groupby(\"Outlet_Location_Type\")[\"Outlet_Size\"].value_counts()"
      ],
      "metadata": {
        "colab": {
          "base_uri": "https://localhost:8080/"
        },
        "id": "5UR4pIEL8dKI",
        "outputId": "506ba8b2-37e1-4c4a-8a1b-30ee16de0613"
      },
      "execution_count": 10,
      "outputs": [
        {
          "output_type": "execute_result",
          "data": {
            "text/plain": [
              "Outlet_Location_Type  Outlet_Size\n",
              "Tier 1                Small          1458\n",
              "                      Medium          930\n",
              "Tier 2                Small           930\n",
              "Tier 3                Medium         1863\n",
              "                      High            932\n",
              "                      Small           555\n",
              "Name: Outlet_Size, dtype: int64"
            ]
          },
          "metadata": {},
          "execution_count": 10
        }
      ]
    },
    {
      "cell_type": "markdown",
      "source": [
        "Recuperamos los datos faltantes en la columna \"Outlet_Size\". Así, hemos completado toda la columna."
      ],
      "metadata": {
        "id": "27fXT46t-RvD"
      }
    },
    {
      "cell_type": "code",
      "source": [
        "tier2_filter = df1[\"Outlet_Location_Type\"] == \"Tier 2\"\n",
        "df1.loc[null_filter & tier2_filter, \"Outlet_Size\"] = \"Small\""
      ],
      "metadata": {
        "id": "vpPD88Wa9HAf"
      },
      "execution_count": 11,
      "outputs": []
    },
    {
      "cell_type": "markdown",
      "source": [
        "# Tratamiento de datos faltantes de la columna \"Item_Weight\""
      ],
      "metadata": {
        "id": "p8hN8Jhy_X-X"
      }
    },
    {
      "cell_type": "markdown",
      "source": [
        "Creamos un diccionario con los 1559 items únicos que existen y sus respectivos pesos. Luego asignaremos esos pesos en donde falte."
      ],
      "metadata": {
        "id": "Wzj6qbdXp2NR"
      }
    },
    {
      "cell_type": "code",
      "source": [
        "item_peso = df1.groupby([\"Item_Identifier\"])[[\"Item_Weight\"]].mean().round(3)\n",
        "item_peso = item_peso.to_dict()['Item_Weight']\n",
        "print(item_peso)"
      ],
      "metadata": {
        "colab": {
          "base_uri": "https://localhost:8080/"
        },
        "id": "cEsrswVf_fzJ",
        "outputId": "c0d6db51-f4a0-45c2-867d-cb13e5f33add"
      },
      "execution_count": 25,
      "outputs": [
        {
          "output_type": "stream",
          "name": "stdout",
          "text": [
            "{'DRA12': 11.6, 'DRA24': 19.35, 'DRA59': 8.27, 'DRB01': 7.39, 'DRB13': 6.115, 'DRB24': 8.785, 'DRB25': 12.3, 'DRB48': 16.75, 'DRC01': 5.92, 'DRC12': 17.85, 'DRC13': 8.26, 'DRC24': 17.85, 'DRC25': 5.73, 'DRC27': 13.8, 'DRC36': 13.0, 'DRC49': 8.67, 'DRD01': 12.1, 'DRD12': 6.96, 'DRD13': 15.0, 'DRD15': 10.6, 'DRD24': 13.85, 'DRD25': 6.135, 'DRD27': 18.75, 'DRD37': 9.8, 'DRD49': 9.895, 'DRD60': 15.7, 'DRE01': 10.1, 'DRE03': 19.6, 'DRE12': 4.59, 'DRE13': 6.28, 'DRE15': 13.35, 'DRE25': 15.35, 'DRE27': 11.85, 'DRE37': 13.5, 'DRE48': 8.43, 'DRE49': 20.75, 'DRE60': 9.395, 'DRF01': 5.655, 'DRF03': 19.1, 'DRF13': 12.1, 'DRF15': 18.35, 'DRF23': 4.61, 'DRF25': 9.0, 'DRF27': 8.93, 'DRF36': 16.1, 'DRF37': 17.25, 'DRF48': 5.73, 'DRF49': 7.27, 'DRF51': 15.75, 'DRF60': 10.8, 'DRG01': 14.8, 'DRG03': 14.5, 'DRG11': 6.385, 'DRG13': 17.25, 'DRG15': 6.13, 'DRG23': 8.88, 'DRG25': 10.5, 'DRG27': 8.895, 'DRG36': 14.15, 'DRG37': 16.2, 'DRG39': 14.15, 'DRG48': 5.78, 'DRG49': 7.81, 'DRG51': 12.1, 'DRH01': 17.5, 'DRH03': 17.25, 'DRH11': 5.98, 'DRH13': 8.575, 'DRH15': 8.775, 'DRH23': 14.65, 'DRH25': 18.7, 'DRH36': 16.2, 'DRH37': 17.6, 'DRH39': 20.7, 'DRH49': 19.7, 'DRH51': 17.6, 'DRH59': 10.8, 'DRI01': 7.97, 'DRI03': 6.03, 'DRI11': 8.26, 'DRI13': 15.35, 'DRI23': 18.85, 'DRI25': 19.6, 'DRI37': 15.85, 'DRI39': 13.8, 'DRI47': 14.7, 'DRI49': 14.15, 'DRI51': 17.25, 'DRI59': 9.5, 'DRJ01': 6.135, 'DRJ11': 9.5, 'DRJ13': 12.65, 'DRJ23': 18.35, 'DRJ24': 11.8, 'DRJ25': 14.6, 'DRJ35': 10.1, 'DRJ37': 10.8, 'DRJ39': 20.25, 'DRJ47': 18.25, 'DRJ49': 6.865, 'DRJ51': 14.1, 'DRJ59': 11.65, 'DRK01': 7.63, 'DRK11': 8.21, 'DRK12': 9.5, 'DRK13': 11.8, 'DRK23': 8.395, 'DRK35': 8.365, 'DRK37': 5.0, 'DRK39': 7.02, 'DRK47': 7.905, 'DRK49': 14.15, 'DRK59': 8.895, 'DRL01': 19.5, 'DRL11': 10.5, 'DRL23': 18.35, 'DRL35': 15.7, 'DRL37': 15.5, 'DRL47': 19.7, 'DRL49': 13.15, 'DRL59': 16.75, 'DRL60': 8.52, 'DRM11': 6.57, 'DRM23': 16.6, 'DRM35': 9.695, 'DRM37': 15.35, 'DRM47': 9.3, 'DRM48': 15.2, 'DRM49': 6.11, 'DRM59': 5.88, 'DRN11': 7.85, 'DRN35': 8.01, 'DRN36': 15.2, 'DRN37': 9.6, 'DRN47': 12.1, 'DRN59': 15.0, 'DRO35': 13.85, 'DRO47': 10.195, 'DRO59': 11.8, 'DRP35': 18.85, 'DRP47': 15.75, 'DRQ35': 9.3, 'DRY23': 9.395, 'DRZ11': 8.85, 'DRZ24': 7.535, 'FDA01': 15.0, 'FDA02': 14.0, 'FDA03': 18.5, 'FDA04': 11.3, 'FDA07': 7.55, 'FDA08': 11.85, 'FDA09': 13.35, 'FDA10': 20.35, 'FDA11': 7.75, 'FDA13': 15.85, 'FDA14': 16.1, 'FDA15': 9.3, 'FDA16': 6.695, 'FDA19': 7.52, 'FDA20': 6.78, 'FDA21': 13.65, 'FDA22': 7.435, 'FDA23': 9.8, 'FDA25': 16.5, 'FDA26': 7.855, 'FDA27': 20.35, 'FDA28': 16.1, 'FDA31': 7.1, 'FDA32': 14.0, 'FDA33': 6.48, 'FDA34': 11.5, 'FDA35': 14.85, 'FDA36': 5.985, 'FDA37': 7.81, 'FDA38': 5.44, 'FDA39': 6.32, 'FDA40': 16.0, 'FDA43': 10.895, 'FDA44': 19.7, 'FDA45': 21.25, 'FDA46': 13.6, 'FDA47': 10.5, 'FDA48': 12.1, 'FDA49': 19.7, 'FDA50': 16.25, 'FDA51': 8.05, 'FDA52': 16.2, 'FDA55': 17.2, 'FDA56': 9.21, 'FDA57': 18.85, 'FDA58': 9.395, 'FDB02': 9.695, 'FDB03': 17.75, 'FDB04': 11.35, 'FDB05': 5.155, 'FDB08': 6.055, 'FDB09': 16.25, 'FDB10': 10.0, 'FDB11': 16.0, 'FDB12': 11.15, 'FDB14': 20.25, 'FDB15': 10.895, 'FDB16': 8.21, 'FDB17': 13.15, 'FDB20': 7.72, 'FDB21': 7.475, 'FDB22': 8.02, 'FDB23': 19.2, 'FDB26': 14.0, 'FDB27': 7.575, 'FDB28': 6.615, 'FDB29': 16.7, 'FDB32': 20.6, 'FDB33': 17.75, 'FDB34': 15.25, 'FDB35': 12.3, 'FDB36': 5.465, 'FDB37': 20.25, 'FDB38': 19.5, 'FDB39': 11.6, 'FDB40': 17.5, 'FDB41': 19.0, 'FDB44': 6.655, 'FDB45': 20.85, 'FDB46': 10.5, 'FDB47': 8.8, 'FDB49': 8.3, 'FDB50': 13.0, 'FDB51': 6.92, 'FDB52': 17.75, 'FDB53': 13.35, 'FDB56': 8.75, 'FDB57': 20.25, 'FDB58': 10.5, 'FDB59': 18.25, 'FDB60': 9.3, 'FDC02': 21.35, 'FDC03': 8.575, 'FDC04': 15.6, 'FDC05': 13.1, 'FDC08': 19.0, 'FDC09': 15.5, 'FDC10': 9.8, 'FDC11': 20.5, 'FDC14': 14.5, 'FDC15': 18.1, 'FDC16': 11.5, 'FDC17': 12.15, 'FDC20': 10.65, 'FDC21': 14.6, 'FDC22': 6.89, 'FDC23': 18.0, 'FDC26': 10.195, 'FDC28': 7.905, 'FDC29': 8.39, 'FDC32': 18.35, 'FDC33': 8.96, 'FDC34': 16.0, 'FDC35': 7.435, 'FDC37': 15.5, 'FDC38': 15.7, 'FDC39': 7.405, 'FDC40': 16.0, 'FDC41': 15.6, 'FDC44': 15.6, 'FDC45': 17.0, 'FDC46': 17.7, 'FDC47': 15.0, 'FDC48': 9.195, 'FDC50': 15.85, 'FDC51': 10.895, 'FDC52': 11.15, 'FDC53': 8.68, 'FDC56': 7.72, 'FDC57': 20.1, 'FDC58': 10.195, 'FDC59': 16.7, 'FDC60': 5.425, 'FDD02': 16.6, 'FDD03': 13.3, 'FDD04': 16.0, 'FDD05': 19.35, 'FDD08': 8.3, 'FDD09': 13.5, 'FDD10': 20.6, 'FDD11': 12.85, 'FDD14': 20.7, 'FDD16': 20.5, 'FDD17': 7.5, 'FDD20': 14.15, 'FDD21': 10.3, 'FDD22': 10.0, 'FDD23': 9.5, 'FDD26': 8.71, 'FDD28': 10.695, 'FDD29': 12.15, 'FDD32': 17.7, 'FDD33': 12.85, 'FDD34': 7.945, 'FDD35': 12.15, 'FDD36': 13.3, 'FDD38': 16.75, 'FDD39': 16.7, 'FDD40': 20.25, 'FDD41': 6.765, 'FDD44': 8.05, 'FDD45': 8.615, 'FDD46': 6.035, 'FDD47': 7.6, 'FDD48': 10.395, 'FDD50': 18.85, 'FDD51': 11.15, 'FDD52': 18.25, 'FDD53': 16.2, 'FDD56': 15.2, 'FDD57': 18.1, 'FDD58': 7.76, 'FDD59': 10.5, 'FDE02': 8.71, 'FDE04': 19.75, 'FDE05': 10.895, 'FDE08': 18.2, 'FDE09': 8.775, 'FDE10': 6.67, 'FDE11': 17.7, 'FDE14': 13.65, 'FDE16': 8.895, 'FDE17': 20.1, 'FDE20': 11.35, 'FDE21': 12.8, 'FDE22': 9.695, 'FDE23': 17.6, 'FDE24': 14.85, 'FDE26': 9.3, 'FDE28': 9.5, 'FDE29': 8.905, 'FDE32': 20.7, 'FDE33': 19.35, 'FDE34': 9.195, 'FDE35': 7.06, 'FDE36': 5.26, 'FDE38': 6.52, 'FDE39': 7.89, 'FDE40': 15.6, 'FDE41': 9.195, 'FDE44': 14.65, 'FDE45': 12.1, 'FDE46': 18.6, 'FDE47': 14.15, 'FDE50': 19.7, 'FDE51': 5.925, 'FDE53': 10.895, 'FDE56': 17.25, 'FDE57': 9.6, 'FDE58': 18.5, 'FDE59': 12.15, 'FDF02': 16.2, 'FDF04': 17.5, 'FDF05': 17.5, 'FDF08': 14.3, 'FDF09': 6.215, 'FDF10': 15.5, 'FDF11': 10.195, 'FDF12': 8.235, 'FDF14': 7.55, 'FDF16': 7.3, 'FDF17': 5.19, 'FDF20': 12.85, 'FDF21': 10.3, 'FDF22': 6.865, 'FDF24': 15.5, 'FDF26': 6.825, 'FDF28': 15.7, 'FDF29': 15.1, 'FDF32': 16.35, 'FDF33': 7.97, 'FDF34': 9.3, 'FDF35': 15.0, 'FDF38': 11.8, 'FDF39': 14.85, 'FDF40': 20.25, 'FDF41': 12.15, 'FDF44': 7.17, 'FDF45': 18.2, 'FDF46': 7.07, 'FDF47': 20.85, 'FDF50': 4.905, 'FDF52': 9.3, 'FDF53': 20.75, 'FDF56': 16.7, 'FDF57': 14.5, 'FDF58': 13.3, 'FDF59': 12.5, 'FDG02': 7.855, 'FDG04': 13.1, 'FDG05': 11.0, 'FDG08': 13.15, 'FDG09': 20.6, 'FDG10': 6.63, 'FDG12': 6.635, 'FDG14': 9.0, 'FDG16': 15.25, 'FDG17': 6.865, 'FDG20': 15.5, 'FDG21': 17.35, 'FDG22': 17.6, 'FDG24': 7.975, 'FDG26': 18.85, 'FDG28': 9.285, 'FDG29': 17.6, 'FDG31': 12.15, 'FDG32': 19.85, 'FDG33': 5.365, 'FDG34': 11.5, 'FDG35': 21.2, 'FDG38': 8.975, 'FDG40': 13.65, 'FDG41': 8.84, 'FDG44': 6.13, 'FDG45': 8.1, 'FDG46': 8.63, 'FDG47': 12.8, 'FDG50': 7.405, 'FDG52': 13.65, 'FDG53': 10.0, 'FDG56': 13.3, 'FDG57': 14.7, 'FDG58': 10.695, 'FDG59': 15.85, 'FDG60': 20.35, 'FDH02': 7.27, 'FDH04': 6.115, 'FDH05': 14.35, 'FDH08': 7.51, 'FDH09': 12.6, 'FDH10': 21.0, 'FDH12': 9.6, 'FDH14': 17.1, 'FDH16': 10.5, 'FDH17': 16.2, 'FDH19': 19.35, 'FDH20': 16.1, 'FDH21': 10.395, 'FDH22': 6.405, 'FDH24': 20.7, 'FDH26': 19.25, 'FDH27': 7.075, 'FDH28': 15.85, 'FDH31': 12.0, 'FDH32': 12.8, 'FDH33': 12.85, 'FDH34': 8.63, 'FDH35': 18.25, 'FDH38': 6.425, 'FDH40': 11.6, 'FDH41': 9.0, 'FDH44': 19.1, 'FDH45': 15.1, 'FDH46': 6.935, 'FDH47': 13.5, 'FDH48': 13.5, 'FDH50': 15.0, 'FDH52': 9.42, 'FDH53': 20.5, 'FDH56': 9.8, 'FDH57': 10.895, 'FDH58': 12.3, 'FDH60': 19.7, 'FDI02': 15.7, 'FDI04': 13.65, 'FDI05': 8.35, 'FDI07': 12.35, 'FDI08': 18.2, 'FDI09': 20.75, 'FDI10': 8.51, 'FDI12': 9.395, 'FDI14': 14.1, 'FDI15': 13.8, 'FDI16': 14.0, 'FDI19': 15.1, 'FDI20': 19.1, 'FDI21': 5.59, 'FDI22': 12.6, 'FDI24': 10.3, 'FDI26': 5.94, 'FDI27': 8.71, 'FDI28': 14.3, 'FDI32': 17.7, 'FDI33': 16.5, 'FDI34': 10.65, 'FDI35': 14.0, 'FDI36': 12.5, 'FDI38': 13.35, 'FDI40': 11.5, 'FDI41': 18.5, 'FDI44': 16.1, 'FDI45': 13.1, 'FDI46': 9.5, 'FDI48': 11.85, 'FDI50': 8.42, 'FDI52': 18.7, 'FDI53': 8.895, 'FDI56': 7.325, 'FDI57': 19.85, 'FDI58': 7.64, 'FDI60': 7.22, 'FDJ02': 17.2, 'FDJ03': 12.35, 'FDJ04': 18.0, 'FDJ07': 7.26, 'FDJ08': 11.1, 'FDJ09': 15.0, 'FDJ10': 5.095, 'FDJ12': 8.895, 'FDJ14': 10.3, 'FDJ15': 11.35, 'FDJ16': 9.195, 'FDJ20': 20.7, 'FDJ21': 16.7, 'FDJ22': 18.75, 'FDJ26': 15.3, 'FDJ27': 17.7, 'FDJ28': 12.3, 'FDJ32': 10.695, 'FDJ33': 8.895, 'FDJ34': 11.8, 'FDJ36': 14.5, 'FDJ38': 8.6, 'FDJ40': 13.6, 'FDJ41': 6.85, 'FDJ44': 12.3, 'FDJ45': 17.75, 'FDJ46': 11.1, 'FDJ48': 11.3, 'FDJ50': 8.645, 'FDJ52': 7.145, 'FDJ53': 10.5, 'FDJ55': 12.8, 'FDJ56': 8.985, 'FDJ57': 7.42, 'FDJ58': 15.6, 'FDJ60': 19.35, 'FDK02': 12.5, 'FDK03': 12.6, 'FDK04': 7.36, 'FDK08': 9.195, 'FDK09': 15.2, 'FDK10': 5.785, 'FDK14': 6.98, 'FDK15': 10.8, 'FDK16': 9.065, 'FDK20': 12.6, 'FDK21': 7.905, 'FDK22': 9.8, 'FDK24': 9.195, 'FDK25': 11.6, 'FDK26': 5.46, 'FDK27': 11.0, 'FDK28': 5.695, 'FDK32': 16.25, 'FDK33': 17.85, 'FDK34': 13.35, 'FDK36': 7.09, 'FDK38': 6.65, 'FDK40': 7.035, 'FDK41': 14.3, 'FDK43': 9.8, 'FDK44': 16.6, 'FDK45': 11.65, 'FDK46': 9.6, 'FDK48': 7.445, 'FDK50': 7.96, 'FDK51': 19.85, 'FDK52': 18.25, 'FDK55': 18.5, 'FDK56': 9.695, 'FDK58': 11.35, 'FDK60': 16.5, 'FDL02': 20.0, 'FDL03': 19.25, 'FDL04': 19.0, 'FDL08': 10.8, 'FDL09': 19.6, 'FDL10': 8.395, 'FDL12': 15.85, 'FDL13': 13.85, 'FDL14': 8.115, 'FDL15': 17.85, 'FDL16': 12.85, 'FDL20': 17.1, 'FDL21': 15.85, 'FDL22': 16.85, 'FDL24': 10.3, 'FDL25': 6.92, 'FDL26': 18.0, 'FDL27': 6.17, 'FDL28': 10.0, 'FDL32': 15.7, 'FDL33': 7.235, 'FDL34': 16.0, 'FDL36': 15.1, 'FDL38': 13.8, 'FDL39': 16.1, 'FDL40': 17.7, 'FDL43': 10.1, 'FDL44': 18.25, 'FDL45': 15.6, 'FDL46': 20.35, 'FDL48': 19.35, 'FDL50': 12.15, 'FDL51': 20.7, 'FDL52': 6.635, 'FDL56': 14.1, 'FDL57': 15.1, 'FDL58': 5.78, 'FDM01': 7.895, 'FDM02': 12.5, 'FDM03': 12.65, 'FDM04': 9.195, 'FDM08': 10.1, 'FDM09': 11.15, 'FDM10': 18.25, 'FDM12': 16.7, 'FDM13': 6.425, 'FDM14': 13.8, 'FDM15': 11.8, 'FDM16': 8.155, 'FDM20': 10.0, 'FDM21': 20.2, 'FDM22': 14.0, 'FDM24': 6.135, 'FDM25': 10.695, 'FDM27': 12.35, 'FDM28': 15.7, 'FDM32': 20.5, 'FDM33': 15.6, 'FDM34': 19.0, 'FDM36': 11.65, 'FDM38': 5.885, 'FDM39': 6.42, 'FDM40': 10.195, 'FDM44': 12.5, 'FDM45': 8.655, 'FDM46': 7.365, 'FDM50': 13.0, 'FDM51': 11.8, 'FDM52': 15.1, 'FDM56': 16.7, 'FDM57': 11.65, 'FDM58': 16.85, 'FDM60': 10.8, 'FDN01': 8.895, 'FDN02': 16.5, 'FDN03': 9.8, 'FDN04': 11.8, 'FDN08': 7.72, 'FDN09': 14.15, 'FDN10': 11.5, 'FDN12': 15.6, 'FDN13': 18.6, 'FDN15': 17.5, 'FDN16': 12.6, 'FDN20': 19.35, 'FDN21': 18.6, 'FDN22': 18.85, 'FDN23': 6.575, 'FDN24': 14.1, 'FDN25': 7.895, 'FDN27': 20.85, 'FDN28': 5.88, 'FDN31': 11.5, 'FDN32': 17.5, 'FDN33': 6.305, 'FDN34': 15.6, 'FDN38': 6.615, 'FDN39': 19.35, 'FDN40': 5.88, 'FDN44': 13.15, 'FDN45': 19.35, 'FDN46': 7.21, 'FDN48': 13.35, 'FDN49': 17.25, 'FDN50': 16.85, 'FDN51': 17.85, 'FDN56': 5.46, 'FDN57': 18.25, 'FDN58': 13.8, 'FDN60': 15.1, 'FDO01': 21.1, 'FDO03': 10.395, 'FDO04': 16.6, 'FDO08': 11.1, 'FDO09': 13.5, 'FDO10': 13.65, 'FDO11': 8.0, 'FDO12': 15.75, 'FDO13': 7.865, 'FDO15': 16.75, 'FDO16': 5.48, 'FDO19': 17.7, 'FDO20': 12.85, 'FDO21': 11.6, 'FDO22': 13.5, 'FDO23': 17.85, 'FDO24': 11.1, 'FDO25': 6.3, 'FDO27': 6.175, 'FDO28': 5.765, 'FDO31': 6.76, 'FDO32': 6.36, 'FDO33': 14.75, 'FDO34': 17.7, 'FDO36': 19.7, 'FDO37': 8.06, 'FDO38': 17.25, 'FDO39': 6.985, 'FDO40': 17.1, 'FDO44': 12.6, 'FDO45': 13.15, 'FDO46': 9.6, 'FDO48': 15.0, 'FDO49': 10.6, 'FDO50': 16.25, 'FDO51': 6.785, 'FDO52': 11.6, 'FDO56': 10.195, 'FDO57': 20.75, 'FDO58': 19.6, 'FDO60': 20.0, 'FDP01': 20.75, 'FDP03': 5.15, 'FDP04': 15.35, 'FDP07': 18.2, 'FDP08': 20.5, 'FDP09': 19.75, 'FDP10': 19.0, 'FDP11': 15.85, 'FDP12': 9.8, 'FDP13': 8.1, 'FDP15': 15.2, 'FDP16': 18.6, 'FDP19': 11.5, 'FDP20': 19.85, 'FDP21': 7.42, 'FDP22': 14.65, 'FDP23': 6.71, 'FDP24': 20.6, 'FDP25': 15.2, 'FDP26': 7.785, 'FDP27': 8.155, 'FDP28': 13.65, 'FDP31': 21.1, 'FDP32': 6.65, 'FDP33': 18.7, 'FDP34': 12.85, 'FDP36': 10.395, 'FDP37': 15.6, 'FDP38': 10.1, 'FDP39': 12.65, 'FDP40': 4.555, 'FDP44': 16.5, 'FDP45': 15.7, 'FDP46': 15.35, 'FDP48': 7.52, 'FDP49': 9.0, 'FDP51': 13.85, 'FDP52': 18.7, 'FDP56': 8.185, 'FDP57': 17.5, 'FDP58': 11.1, 'FDP59': 20.85, 'FDP60': 17.35, 'FDQ01': 19.7, 'FDQ03': 15.0, 'FDQ04': 6.4, 'FDQ07': 15.1, 'FDQ08': 15.7, 'FDQ09': 7.235, 'FDQ10': 12.85, 'FDQ11': 5.695, 'FDQ12': 12.65, 'FDQ13': 11.1, 'FDQ14': 9.27, 'FDQ15': 20.35, 'FDQ16': 19.7, 'FDQ19': 7.35, 'FDQ20': 8.325, 'FDQ21': 21.25, 'FDQ22': 16.75, 'FDQ23': 6.55, 'FDQ24': 15.7, 'FDQ25': 8.63, 'FDQ26': 13.5, 'FDQ27': 5.19, 'FDQ28': 14.0, 'FDQ31': 5.785, 'FDQ32': 17.85, 'FDQ33': 13.35, 'FDQ34': 10.85, 'FDQ36': 7.855, 'FDQ37': 20.75, 'FDQ39': 14.8, 'FDQ40': 11.1, 'FDQ44': 20.5, 'FDQ45': 9.5, 'FDQ46': 7.51, 'FDQ47': 7.155, 'FDQ48': 14.3, 'FDQ49': 20.2, 'FDQ51': 16.0, 'FDQ52': 17.0, 'FDQ55': 13.65, 'FDQ56': 6.59, 'FDQ57': 7.275, 'FDQ58': 7.315, 'FDQ59': 9.8, 'FDR01': 5.405, 'FDR02': 16.7, 'FDR03': 15.7, 'FDR04': 7.075, 'FDR07': 21.35, 'FDR08': 18.7, 'FDR09': 18.25, 'FDR10': 17.6, 'FDR11': 10.5, 'FDR12': 12.6, 'FDR13': 9.895, 'FDR14': 11.65, 'FDR15': 9.3, 'FDR16': 5.845, 'FDR19': 13.5, 'FDR20': 20.0, 'FDR21': 19.7, 'FDR22': 19.35, 'FDR23': 15.85, 'FDR24': 17.35, 'FDR25': 17.0, 'FDR26': 20.7, 'FDR27': 15.1, 'FDR28': 13.85, 'FDR31': 6.46, 'FDR32': 6.78, 'FDR33': 7.31, 'FDR34': 17.0, 'FDR35': 12.5, 'FDR36': 6.715, 'FDR37': 16.5, 'FDR39': 20.35, 'FDR40': 9.1, 'FDR43': 18.2, 'FDR44': 6.11, 'FDR45': 10.8, 'FDR46': 16.85, 'FDR47': 17.85, 'FDR48': 11.65, 'FDR49': 8.71, 'FDR51': 9.035, 'FDR52': 12.65, 'FDR55': 12.15, 'FDR56': 15.5, 'FDR57': 5.675, 'FDR58': 6.675, 'FDR59': 14.5, 'FDR60': 14.3, 'FDS01': 11.6, 'FDS02': 10.195, 'FDS03': 7.825, 'FDS04': 10.195, 'FDS07': 12.35, 'FDS08': 5.735, 'FDS09': 8.895, 'FDS10': 19.2, 'FDS11': 7.05, 'FDS12': 9.1, 'FDS13': 6.465, 'FDS14': 7.285, 'FDS15': 9.195, 'FDS16': 15.15, 'FDS19': 13.8, 'FDS20': 8.85, 'FDS21': 19.85, 'FDS22': 16.85, 'FDS23': 4.635, 'FDS24': 20.85, 'FDS25': 6.885, 'FDS26': 20.35, 'FDS27': 10.195, 'FDS28': 8.18, 'FDS31': 13.1, 'FDS32': 17.75, 'FDS33': 6.67, 'FDS34': 19.35, 'FDS35': 9.3, 'FDS36': 8.38, 'FDS37': 7.655, 'FDS39': 6.895, 'FDS40': 15.35, 'FDS43': 11.65, 'FDS44': 12.65, 'FDS45': 5.175, 'FDS46': 17.6, 'FDS47': 16.75, 'FDS48': 15.15, 'FDS49': 9.0, 'FDS50': 17.0, 'FDS51': 13.35, 'FDS52': 8.89, 'FDS55': 7.02, 'FDS56': 5.785, 'FDS57': 15.5, 'FDS58': 9.285, 'FDS59': 14.8, 'FDS60': 20.85, 'FDT01': 13.65, 'FDT02': 12.6, 'FDT03': 21.25, 'FDT04': 17.25, 'FDT07': 5.82, 'FDT08': 13.65, 'FDT09': 15.15, 'FDT10': 16.7, 'FDT11': 5.94, 'FDT12': 6.215, 'FDT13': 14.85, 'FDT14': 10.695, 'FDT15': 12.15, 'FDT16': 9.895, 'FDT19': 7.59, 'FDT20': 10.5, 'FDT21': 7.42, 'FDT22': 10.395, 'FDT23': 7.72, 'FDT24': 12.35, 'FDT25': 7.5, 'FDT26': 18.85, 'FDT27': 11.395, 'FDT28': 13.3, 'FDT31': 19.75, 'FDT32': 19.0, 'FDT33': 7.81, 'FDT34': 9.3, 'FDT35': 19.85, 'FDT36': 12.3, 'FDT37': 14.15, 'FDT38': 18.7, 'FDT39': 6.26, 'FDT40': 5.985, 'FDT43': 16.35, 'FDT44': 16.6, 'FDT45': 15.85, 'FDT46': 11.35, 'FDT47': 5.26, 'FDT48': 4.92, 'FDT49': 7.0, 'FDT50': 6.75, 'FDT51': 11.65, 'FDT52': 9.695, 'FDT55': 13.6, 'FDT56': 16.0, 'FDT57': 15.2, 'FDT58': 9.0, 'FDT59': 13.65, 'FDT60': 12.0, 'FDU01': 20.25, 'FDU02': 13.35, 'FDU03': 18.7, 'FDU04': 7.93, 'FDU07': 11.1, 'FDU08': 10.3, 'FDU09': 7.71, 'FDU10': 10.1, 'FDU11': 4.785, 'FDU12': 15.5, 'FDU13': 8.355, 'FDU14': 17.75, 'FDU15': 13.65, 'FDU16': 19.25, 'FDU19': 8.77, 'FDU20': 19.35, 'FDU21': 11.8, 'FDU22': 12.35, 'FDU23': 12.15, 'FDU24': 6.78, 'FDU25': 12.35, 'FDU26': 16.7, 'FDU27': 18.6, 'FDU28': 19.2, 'FDU31': 10.5, 'FDU32': 8.785, 'FDU33': 7.63, 'FDU34': 18.25, 'FDU35': 6.44, 'FDU36': 6.15, 'FDU37': 9.5, 'FDU38': 10.8, 'FDU39': 18.85, 'FDU40': 20.85, 'FDU43': 19.35, 'FDU44': 12.15, 'FDU45': 15.6, 'FDU46': 10.3, 'FDU47': 12.8, 'FDU48': 18.85, 'FDU49': 19.5, 'FDU50': 5.75, 'FDU51': 20.2, 'FDU52': 7.56, 'FDU55': 16.2, 'FDU56': 16.85, 'FDU57': 8.27, 'FDU58': 6.61, 'FDU59': 5.78, 'FDU60': 20.0, 'FDV01': 19.2, 'FDV02': 16.75, 'FDV03': 17.6, 'FDV04': 7.825, 'FDV07': 9.5, 'FDV08': 7.35, 'FDV09': 12.1, 'FDV10': 7.645, 'FDV11': 9.1, 'FDV12': 16.7, 'FDV13': 17.35, 'FDV14': 19.85, 'FDV15': 10.3, 'FDV16': 7.75, 'FDV19': 14.85, 'FDV20': 20.2, 'FDV21': 11.5, 'FDV22': 14.85, 'FDV23': 11.0, 'FDV24': 5.635, 'FDV25': 5.905, 'FDV26': 20.25, 'FDV27': 7.97, 'FDV28': 16.1, 'FDV31': 9.8, 'FDV32': 7.785, 'FDV33': 9.6, 'FDV34': 10.695, 'FDV35': 19.5, 'FDV36': 18.7, 'FDV37': 13.0, 'FDV38': 19.25, 'FDV39': 11.3, 'FDV40': 17.35, 'FDV43': 16.0, 'FDV44': 8.365, 'FDV45': 16.75, 'FDV46': 18.2, 'FDV47': 17.1, 'FDV48': 9.195, 'FDV49': 10.0, 'FDV50': 14.3, 'FDV51': 16.35, 'FDV52': 20.7, 'FDV55': 17.75, 'FDV56': 16.1, 'FDV57': 15.25, 'FDV58': 20.85, 'FDV59': 13.35, 'FDV60': 20.2, 'FDW01': 14.5, 'FDW02': 4.805, 'FDW03': 5.63, 'FDW04': 8.985, 'FDW07': 18.0, 'FDW08': 12.1, 'FDW09': 13.65, 'FDW10': 21.2, 'FDW11': 12.6, 'FDW12': 8.315, 'FDW13': 8.5, 'FDW14': 8.3, 'FDW15': 15.35, 'FDW16': 17.35, 'FDW19': 12.35, 'FDW20': 20.75, 'FDW21': 5.34, 'FDW22': 9.695, 'FDW23': 5.765, 'FDW24': 6.8, 'FDW25': 5.175, 'FDW26': 11.8, 'FDW27': 5.86, 'FDW28': 18.25, 'FDW31': 11.35, 'FDW32': 18.35, 'FDW33': 9.395, 'FDW34': 9.6, 'FDW35': 10.6, 'FDW36': 11.15, 'FDW37': 19.2, 'FDW38': 5.325, 'FDW39': 6.69, 'FDW40': 14.0, 'FDW43': 20.1, 'FDW44': 9.5, 'FDW45': 18.0, 'FDW46': 13.0, 'FDW47': 15.0, 'FDW48': 18.0, 'FDW49': 19.5, 'FDW50': 13.1, 'FDW51': 6.155, 'FDW52': 14.0, 'FDW55': 12.6, 'FDW56': 7.68, 'FDW57': 8.31, 'FDW58': 20.75, 'FDW59': 13.15, 'FDW60': 5.44, 'FDX01': 10.1, 'FDX02': 16.0, 'FDX03': 15.85, 'FDX04': 19.6, 'FDX07': 19.2, 'FDX08': 12.85, 'FDX09': 9.0, 'FDX10': 6.385, 'FDX11': 16.0, 'FDX12': 18.2, 'FDX13': 7.725, 'FDX14': 13.1, 'FDX15': 17.2, 'FDX16': 17.85, 'FDX19': 19.1, 'FDX20': 7.365, 'FDX21': 7.05, 'FDX22': 6.785, 'FDX23': 6.445, 'FDX24': 8.355, 'FDX25': 16.7, 'FDX26': 17.7, 'FDX27': 20.7, 'FDX28': 6.325, 'FDX31': 20.35, 'FDX32': 15.1, 'FDX33': 9.195, 'FDX34': 6.195, 'FDX35': 5.035, 'FDX36': 9.695, 'FDX37': 16.2, 'FDX38': 10.5, 'FDX39': 14.3, 'FDX40': 12.85, 'FDX43': 5.655, 'FDX44': 9.3, 'FDX45': 16.75, 'FDX46': 12.3, 'FDX47': 6.55, 'FDX48': 17.75, 'FDX49': 4.615, 'FDX50': 20.1, 'FDX51': 9.5, 'FDX52': 11.5, 'FDX55': 15.1, 'FDX56': 17.1, 'FDX57': 17.25, 'FDX58': 13.15, 'FDX59': 10.195, 'FDX60': 14.35, 'FDY01': 11.8, 'FDY02': 8.945, 'FDY03': 17.6, 'FDY04': 17.7, 'FDY07': 11.8, 'FDY08': 9.395, 'FDY09': 15.6, 'FDY10': 17.6, 'FDY11': 6.71, 'FDY12': 9.8, 'FDY13': 12.1, 'FDY14': 10.3, 'FDY15': 18.25, 'FDY16': 18.35, 'FDY19': 19.75, 'FDY20': 12.5, 'FDY21': 15.1, 'FDY22': 16.5, 'FDY24': 4.88, 'FDY25': 12.0, 'FDY26': 20.6, 'FDY27': 6.38, 'FDY28': 7.47, 'FDY31': 5.98, 'FDY32': 7.605, 'FDY33': 14.5, 'FDY34': 10.5, 'FDY35': 17.6, 'FDY36': 12.3, 'FDY37': 17.0, 'FDY38': 13.6, 'FDY39': 5.305, 'FDY40': 15.5, 'FDY43': 14.85, 'FDY44': 14.15, 'FDY45': 17.5, 'FDY46': 18.6, 'FDY47': 8.6, 'FDY48': 14.0, 'FDY49': 17.2, 'FDY50': 5.8, 'FDY51': 12.5, 'FDY52': 6.365, 'FDY55': 16.75, 'FDY56': 16.35, 'FDY57': 20.2, 'FDY58': 11.65, 'FDY59': 8.195, 'FDY60': 10.5, 'FDZ01': 8.975, 'FDZ02': 6.905, 'FDZ03': 13.65, 'FDZ04': 9.31, 'FDZ07': 15.1, 'FDZ08': 12.5, 'FDZ09': 17.6, 'FDZ10': 17.85, 'FDZ12': 9.17, 'FDZ13': 7.84, 'FDZ14': 7.71, 'FDZ15': 13.1, 'FDZ16': 16.85, 'FDZ19': 6.425, 'FDZ20': 16.1, 'FDZ21': 17.6, 'FDZ22': 9.395, 'FDZ23': 17.75, 'FDZ25': 15.7, 'FDZ26': 11.6, 'FDZ27': 7.935, 'FDZ28': 20.0, 'FDZ31': 15.35, 'FDZ32': 7.785, 'FDZ33': 10.195, 'FDZ34': 6.695, 'FDZ35': 9.6, 'FDZ36': 6.035, 'FDZ37': 8.1, 'FDZ38': 17.6, 'FDZ39': 19.7, 'FDZ40': 8.935, 'FDZ43': 11.0, 'FDZ44': 8.185, 'FDZ45': 14.1, 'FDZ46': 7.485, 'FDZ47': 20.7, 'FDZ48': 17.75, 'FDZ49': 11.0, 'FDZ50': 12.8, 'FDZ51': 11.3, 'FDZ52': 19.2, 'FDZ55': 6.055, 'FDZ56': 16.25, 'FDZ57': 10.0, 'FDZ58': 17.85, 'FDZ59': 6.63, 'FDZ60': 20.5, 'NCA05': 20.75, 'NCA06': 20.5, 'NCA17': 20.6, 'NCA18': 10.1, 'NCA29': 10.5, 'NCA30': 19.0, 'NCA41': 16.75, 'NCA42': 6.965, 'NCA53': 11.395, 'NCA54': 16.5, 'NCB06': 17.6, 'NCB07': 19.2, 'NCB18': 19.6, 'NCB19': 6.525, 'NCB30': 14.6, 'NCB31': 6.235, 'NCB42': 11.8, 'NCB43': 20.2, 'NCB54': 8.76, 'NCB55': 15.7, 'NCC06': 19.0, 'NCC07': 19.6, 'NCC18': 19.1, 'NCC19': 6.57, 'NCC30': 16.6, 'NCC31': 8.02, 'NCC42': 15.0, 'NCC43': 7.39, 'NCC54': 17.75, 'NCC55': 10.695, 'NCD06': 13.0, 'NCD07': 9.1, 'NCD18': 16.0, 'NCD19': 8.93, 'NCD30': 19.7, 'NCD31': 12.1, 'NCD42': 16.5, 'NCD43': 8.85, 'NCD54': 21.1, 'NCD55': 14.0, 'NCE06': 5.825, 'NCE07': 8.18, 'NCE18': 10.0, 'NCE19': 8.97, 'NCE30': 16.0, 'NCE31': 7.67, 'NCE42': 21.1, 'NCE43': 12.5, 'NCE54': 20.7, 'NCE55': 8.92, 'NCF06': 6.235, 'NCF07': 9.0, 'NCF18': 18.35, 'NCF19': 13.0, 'NCF30': 17.0, 'NCF31': 9.13, 'NCF42': 17.35, 'NCF43': 8.51, 'NCF54': 18.0, 'NCF55': 6.675, 'NCG06': 16.35, 'NCG07': 12.3, 'NCG18': 15.3, 'NCG19': 20.25, 'NCG30': 20.2, 'NCG42': 19.2, 'NCG43': 20.2, 'NCG54': 12.1, 'NCG55': 16.25, 'NCH06': 12.3, 'NCH07': 13.15, 'NCH18': 9.3, 'NCH29': 5.51, 'NCH30': 17.1, 'NCH42': 6.86, 'NCH43': 8.42, 'NCH54': 13.5, 'NCH55': 16.35, 'NCI06': 11.3, 'NCI17': 8.645, 'NCI18': 18.35, 'NCI29': 8.6, 'NCI30': 20.25, 'NCI31': 20.0, 'NCI42': 18.75, 'NCI43': 19.85, 'NCI54': 15.2, 'NCI55': 18.6, 'NCJ05': 18.7, 'NCJ06': 20.1, 'NCJ17': 7.68, 'NCJ18': 12.35, 'NCJ19': 18.6, 'NCJ29': 10.6, 'NCJ30': 5.82, 'NCJ31': 19.2, 'NCJ42': 19.75, 'NCJ43': 6.635, 'NCJ54': 9.895, 'NCK05': 20.1, 'NCK06': 5.03, 'NCK07': 10.65, 'NCK17': 11.0, 'NCK18': 9.6, 'NCK19': 9.8, 'NCK29': 5.615, 'NCK30': 14.85, 'NCK31': 10.895, 'NCK42': 7.475, 'NCK53': 11.6, 'NCK54': 12.15, 'NCL05': 19.6, 'NCL06': 14.65, 'NCL07': 13.85, 'NCL17': 7.39, 'NCL18': 18.85, 'NCL19': 15.35, 'NCL29': 9.695, 'NCL30': 18.1, 'NCL31': 7.39, 'NCL41': 12.35, 'NCL42': 18.85, 'NCL53': 7.5, 'NCL54': 12.6, 'NCL55': 12.15, 'NCM05': 6.825, 'NCM06': 7.475, 'NCM07': 9.395, 'NCM17': 7.93, 'NCM18': 13.0, 'NCM19': 12.65, 'NCM26': 20.5, 'NCM29': 11.5, 'NCM30': 19.1, 'NCM31': 6.095, 'NCM41': 16.5, 'NCM42': 6.13, 'NCM43': 14.5, 'NCM53': 18.75, 'NCM54': 17.7, 'NCM55': 15.6, 'NCN05': 8.235, 'NCN06': 8.39, 'NCN07': 18.5, 'NCN14': 19.1, 'NCN17': 11.0, 'NCN18': 8.895, 'NCN19': 13.1, 'NCN26': 10.85, 'NCN29': 15.2, 'NCN30': 16.35, 'NCN41': 17.0, 'NCN42': 20.25, 'NCN43': 12.15, 'NCN53': 5.175, 'NCN54': 20.35, 'NCN55': 14.6, 'NCO02': 11.15, 'NCO05': 7.27, 'NCO06': 19.25, 'NCO07': 9.06, 'NCO14': 9.6, 'NCO17': 10.0, 'NCO18': 13.15, 'NCO26': 7.235, 'NCO29': 11.15, 'NCO30': 19.5, 'NCO41': 12.5, 'NCO42': 21.25, 'NCO43': 5.5, 'NCO53': 16.2, 'NCO54': 19.5, 'NCO55': 12.8, 'NCP02': 7.105, 'NCP05': 19.6, 'NCP06': 20.7, 'NCP14': 8.275, 'NCP17': 19.35, 'NCP18': 12.15, 'NCP29': 8.42, 'NCP30': 20.5, 'NCP41': 16.6, 'NCP42': 8.51, 'NCP43': 17.75, 'NCP50': 17.35, 'NCP53': 14.75, 'NCP54': 15.35, 'NCP55': 14.65, 'NCQ02': 12.6, 'NCQ05': 11.395, 'NCQ06': 13.0, 'NCQ17': 10.3, 'NCQ18': 15.75, 'NCQ29': 12.0, 'NCQ30': 7.725, 'NCQ38': 16.35, 'NCQ41': 14.8, 'NCQ42': 20.35, 'NCQ43': 17.75, 'NCQ50': 18.75, 'NCQ53': 17.6, 'NCQ54': 17.7, 'NCR05': 10.1, 'NCR06': 12.5, 'NCR17': 9.8, 'NCR18': 15.85, 'NCR29': 7.565, 'NCR30': 20.6, 'NCR38': 17.25, 'NCR41': 17.85, 'NCR42': 9.105, 'NCR50': 20.2, 'NCR53': 12.15, 'NCR54': 16.35, 'NCS05': 11.5, 'NCS06': 7.935, 'NCS17': 18.6, 'NCS18': 12.65, 'NCS29': 9.0, 'NCS30': 5.945, 'NCS38': 8.6, 'NCS41': 12.85, 'NCS42': 8.6, 'NCS53': 14.5, 'NCS54': 13.6, 'NCT05': 10.895, 'NCT06': 17.1, 'NCT17': 10.8, 'NCT18': 14.6, 'NCT29': 12.6, 'NCT30': 9.1, 'NCT41': 15.7, 'NCT42': 5.88, 'NCT53': 5.4, 'NCT54': 8.695, 'NCU05': 11.8, 'NCU06': 17.6, 'NCU17': 5.32, 'NCU18': 15.1, 'NCU29': 7.685, 'NCU30': 5.11, 'NCU41': 18.85, 'NCU42': 9.0, 'NCU53': 5.485, 'NCU54': 8.88, 'NCV05': 10.1, 'NCV06': 11.3, 'NCV17': 18.85, 'NCV18': 6.775, 'NCV29': 11.8, 'NCV30': 20.2, 'NCV41': 14.35, 'NCV42': 6.26, 'NCV53': 8.27, 'NCV54': 11.1, 'NCW05': 20.25, 'NCW06': 16.2, 'NCW17': 18.0, 'NCW18': 15.1, 'NCW29': 14.0, 'NCW30': 5.21, 'NCW41': 18.0, 'NCW42': 18.2, 'NCW53': 18.35, 'NCW54': 7.5, 'NCX05': 15.2, 'NCX06': 17.6, 'NCX17': 21.25, 'NCX18': 14.15, 'NCX29': 10.0, 'NCX30': 16.7, 'NCX41': 19.0, 'NCX42': 6.36, 'NCX53': 20.1, 'NCX54': 9.195, 'NCY05': 13.5, 'NCY06': 15.25, 'NCY17': 18.2, 'NCY18': 7.285, 'NCY29': 13.65, 'NCY30': 20.25, 'NCY41': 16.75, 'NCY42': 6.38, 'NCY53': 20.0, 'NCY54': 8.43, 'NCZ05': 8.485, 'NCZ06': 19.6, 'NCZ17': 12.15, 'NCZ18': 7.825, 'NCZ29': 15.0, 'NCZ30': 6.59, 'NCZ41': 19.85, 'NCZ42': 10.5, 'NCZ53': 9.6, 'NCZ54': 14.65}\n"
          ]
        }
      ]
    },
    {
      "cell_type": "markdown",
      "source": [
        "Con el Item_Identifier se logra recuperar casi todos los pesos. No hay manera de recuperar esos 4 pesos faltantes de una manera confiable, así que se proece a borrar esas 4 filas."
      ],
      "metadata": {
        "id": "Q-d_jKPIv2aA"
      }
    },
    {
      "cell_type": "code",
      "source": [
        "def fill_weight(row):\n",
        "  return item_peso[row[\"Item_Identifier\"]]\n",
        "\n",
        "df2 = df1\n",
        "df2[\"Item_Weight\"] = df2.apply(fill_weight, axis=1)\n",
        "df2.info()"
      ],
      "metadata": {
        "colab": {
          "base_uri": "https://localhost:8080/"
        },
        "id": "QLEdcAsErEXI",
        "outputId": "387380a7-159e-4c05-ae2f-1275dbed5aa0"
      },
      "execution_count": 13,
      "outputs": [
        {
          "output_type": "stream",
          "name": "stdout",
          "text": [
            "<class 'pandas.core.frame.DataFrame'>\n",
            "RangeIndex: 8523 entries, 0 to 8522\n",
            "Data columns (total 12 columns):\n",
            " #   Column                     Non-Null Count  Dtype  \n",
            "---  ------                     --------------  -----  \n",
            " 0   Item_Identifier            8523 non-null   object \n",
            " 1   Item_Weight                8519 non-null   float64\n",
            " 2   Item_Fat_Content           8523 non-null   object \n",
            " 3   Item_Visibility            8523 non-null   float64\n",
            " 4   Item_Type                  8523 non-null   object \n",
            " 5   Item_MRP                   8523 non-null   float64\n",
            " 6   Outlet_Identifier          8523 non-null   object \n",
            " 7   Outlet_Establishment_Year  8523 non-null   int64  \n",
            " 8   Outlet_Size                8523 non-null   object \n",
            " 9   Outlet_Location_Type       8523 non-null   object \n",
            " 10  Outlet_Type                8523 non-null   object \n",
            " 11  Item_Outlet_Sales          8523 non-null   float64\n",
            "dtypes: float64(4), int64(1), object(7)\n",
            "memory usage: 799.2+ KB\n"
          ]
        }
      ]
    },
    {
      "cell_type": "markdown",
      "source": [
        "Finalmente nos quedamos con 8519 registros."
      ],
      "metadata": {
        "id": "ANsAtwsh1d8V"
      }
    },
    {
      "cell_type": "code",
      "source": [
        "df2.dropna(how = 'any', inplace=True)\n",
        "df2.info()"
      ],
      "metadata": {
        "colab": {
          "base_uri": "https://localhost:8080/"
        },
        "id": "XkPLc2lzw7Vj",
        "outputId": "9a874b52-4eaa-45c1-bd9d-9ad8a83ea4d1"
      },
      "execution_count": 14,
      "outputs": [
        {
          "output_type": "stream",
          "name": "stdout",
          "text": [
            "<class 'pandas.core.frame.DataFrame'>\n",
            "Int64Index: 8519 entries, 0 to 8522\n",
            "Data columns (total 12 columns):\n",
            " #   Column                     Non-Null Count  Dtype  \n",
            "---  ------                     --------------  -----  \n",
            " 0   Item_Identifier            8519 non-null   object \n",
            " 1   Item_Weight                8519 non-null   float64\n",
            " 2   Item_Fat_Content           8519 non-null   object \n",
            " 3   Item_Visibility            8519 non-null   float64\n",
            " 4   Item_Type                  8519 non-null   object \n",
            " 5   Item_MRP                   8519 non-null   float64\n",
            " 6   Outlet_Identifier          8519 non-null   object \n",
            " 7   Outlet_Establishment_Year  8519 non-null   int64  \n",
            " 8   Outlet_Size                8519 non-null   object \n",
            " 9   Outlet_Location_Type       8519 non-null   object \n",
            " 10  Outlet_Type                8519 non-null   object \n",
            " 11  Item_Outlet_Sales          8519 non-null   float64\n",
            "dtypes: float64(4), int64(1), object(7)\n",
            "memory usage: 865.2+ KB\n"
          ]
        }
      ]
    },
    {
      "cell_type": "markdown",
      "source": [
        "# Verificamos que las columnas que son categóricas tengan valores coherentes"
      ],
      "metadata": {
        "id": "UVjPkbut1xlR"
      }
    },
    {
      "cell_type": "markdown",
      "source": [
        "Nos podemos dar cuenta de que podemos estandarizar los valores de la columna \"Item_Fat_Content\""
      ],
      "metadata": {
        "id": "AdYbPhlK_U8p"
      }
    },
    {
      "cell_type": "code",
      "source": [
        "df2[\"Item_Fat_Content\"].value_counts()"
      ],
      "metadata": {
        "colab": {
          "base_uri": "https://localhost:8080/"
        },
        "id": "JNYd97aj2l2Z",
        "outputId": "ba8aff0f-681e-48e4-a600-d37a621dc3f2"
      },
      "execution_count": 15,
      "outputs": [
        {
          "output_type": "execute_result",
          "data": {
            "text/plain": [
              "Low Fat    5088\n",
              "Regular    2886\n",
              "LF          316\n",
              "reg         117\n",
              "low fat     112\n",
              "Name: Item_Fat_Content, dtype: int64"
            ]
          },
          "metadata": {},
          "execution_count": 15
        }
      ]
    },
    {
      "cell_type": "code",
      "source": [
        "lowfat_filter1 = df2[\"Item_Fat_Content\"] == \"LF\"\n",
        "lowfat_filter2 = df2[\"Item_Fat_Content\"] == \"low fat\"\n",
        "regular_filter = df2[\"Item_Fat_Content\"] == \"reg\"\n",
        "df2.loc[lowfat_filter1 | lowfat_filter2, \"Item_Fat_Content\"] = \"Low Fat\"\n",
        "df2.loc[regular_filter, \"Item_Fat_Content\"] = \"Regular\"\n",
        "df2[\"Item_Fat_Content\"].value_counts()"
      ],
      "metadata": {
        "colab": {
          "base_uri": "https://localhost:8080/"
        },
        "id": "t9iRDANh_eU_",
        "outputId": "4e839a94-a575-4779-cfed-40e31a8910d6"
      },
      "execution_count": 16,
      "outputs": [
        {
          "output_type": "execute_result",
          "data": {
            "text/plain": [
              "Low Fat    5516\n",
              "Regular    3003\n",
              "Name: Item_Fat_Content, dtype: int64"
            ]
          },
          "metadata": {},
          "execution_count": 16
        }
      ]
    },
    {
      "cell_type": "markdown",
      "source": [
        "En la columna \"Item_Type\" todo se ve bien."
      ],
      "metadata": {
        "id": "KZZTX_gjA9pT"
      }
    },
    {
      "cell_type": "code",
      "source": [
        "df2[\"Item_Type\"].value_counts()"
      ],
      "metadata": {
        "colab": {
          "base_uri": "https://localhost:8080/"
        },
        "id": "LY19yIRG2vw5",
        "outputId": "31877523-cd06-4d93-c67b-bdfc48bbe3df"
      },
      "execution_count": 17,
      "outputs": [
        {
          "output_type": "execute_result",
          "data": {
            "text/plain": [
              "Fruits and Vegetables    1232\n",
              "Snack Foods              1199\n",
              "Household                 910\n",
              "Frozen Foods              855\n",
              "Dairy                     681\n",
              "Canned                    649\n",
              "Baking Goods              647\n",
              "Health and Hygiene        520\n",
              "Soft Drinks               445\n",
              "Meat                      425\n",
              "Breads                    251\n",
              "Hard Drinks               214\n",
              "Others                    169\n",
              "Starchy Foods             148\n",
              "Breakfast                 110\n",
              "Seafood                    64\n",
              "Name: Item_Type, dtype: int64"
            ]
          },
          "metadata": {},
          "execution_count": 17
        }
      ]
    },
    {
      "cell_type": "markdown",
      "source": [
        "# Buscaremos duplicados"
      ],
      "metadata": {
        "id": "F95KAhjcB05A"
      }
    },
    {
      "cell_type": "markdown",
      "source": [
        "No hay filas duplicadas."
      ],
      "metadata": {
        "id": "vmJYBKDsDH_f"
      }
    },
    {
      "cell_type": "code",
      "source": [
        "df2.duplicated().value_counts()"
      ],
      "metadata": {
        "colab": {
          "base_uri": "https://localhost:8080/"
        },
        "id": "mCZTus9OC7FC",
        "outputId": "9ed2cbb2-4f3e-4800-8704-b220a535a46a"
      },
      "execution_count": 18,
      "outputs": [
        {
          "output_type": "execute_result",
          "data": {
            "text/plain": [
              "False    8519\n",
              "dtype: int64"
            ]
          },
          "metadata": {},
          "execution_count": 18
        }
      ]
    },
    {
      "cell_type": "markdown",
      "source": [
        "# Resumen estadístico y tendencias"
      ],
      "metadata": {
        "id": "3qEMRhIVEqtH"
      }
    },
    {
      "cell_type": "markdown",
      "source": [
        "Estadística básica"
      ],
      "metadata": {
        "id": "kxp6wp9zE8w0"
      }
    },
    {
      "cell_type": "code",
      "source": [
        "df2.describe()"
      ],
      "metadata": {
        "colab": {
          "base_uri": "https://localhost:8080/",
          "height": 300
        },
        "id": "Qi2CXGX2EOQT",
        "outputId": "877acf21-aaf0-402b-c282-a7e6ce5c9175"
      },
      "execution_count": 19,
      "outputs": [
        {
          "output_type": "execute_result",
          "data": {
            "text/plain": [
              "       Item_Weight  Item_Visibility     Item_MRP  Outlet_Establishment_Year  \\\n",
              "count  8519.000000      8519.000000  8519.000000                8519.000000   \n",
              "mean     12.875420         0.066112   141.010019                1997.837892   \n",
              "std       4.646098         0.051586    62.283594                   8.369105   \n",
              "min       4.555000         0.000000    31.290000                1985.000000   \n",
              "25%       8.785000         0.026983    93.844900                1987.000000   \n",
              "50%      12.650000         0.053925   143.047000                1999.000000   \n",
              "75%      16.850000         0.094558   185.676600                2004.000000   \n",
              "max      21.350000         0.328391   266.888400                2009.000000   \n",
              "\n",
              "       Item_Outlet_Sales  \n",
              "count        8519.000000  \n",
              "mean         2181.188779  \n",
              "std          1706.511093  \n",
              "min            33.290000  \n",
              "25%           834.247400  \n",
              "50%          1794.331000  \n",
              "75%          3100.630600  \n",
              "max         13086.964800  "
            ],
            "text/html": [
              "\n",
              "  <div id=\"df-8512542f-396f-4d84-ba02-7580d0624ad9\" class=\"colab-df-container\">\n",
              "    <div>\n",
              "<style scoped>\n",
              "    .dataframe tbody tr th:only-of-type {\n",
              "        vertical-align: middle;\n",
              "    }\n",
              "\n",
              "    .dataframe tbody tr th {\n",
              "        vertical-align: top;\n",
              "    }\n",
              "\n",
              "    .dataframe thead th {\n",
              "        text-align: right;\n",
              "    }\n",
              "</style>\n",
              "<table border=\"1\" class=\"dataframe\">\n",
              "  <thead>\n",
              "    <tr style=\"text-align: right;\">\n",
              "      <th></th>\n",
              "      <th>Item_Weight</th>\n",
              "      <th>Item_Visibility</th>\n",
              "      <th>Item_MRP</th>\n",
              "      <th>Outlet_Establishment_Year</th>\n",
              "      <th>Item_Outlet_Sales</th>\n",
              "    </tr>\n",
              "  </thead>\n",
              "  <tbody>\n",
              "    <tr>\n",
              "      <th>count</th>\n",
              "      <td>8519.000000</td>\n",
              "      <td>8519.000000</td>\n",
              "      <td>8519.000000</td>\n",
              "      <td>8519.000000</td>\n",
              "      <td>8519.000000</td>\n",
              "    </tr>\n",
              "    <tr>\n",
              "      <th>mean</th>\n",
              "      <td>12.875420</td>\n",
              "      <td>0.066112</td>\n",
              "      <td>141.010019</td>\n",
              "      <td>1997.837892</td>\n",
              "      <td>2181.188779</td>\n",
              "    </tr>\n",
              "    <tr>\n",
              "      <th>std</th>\n",
              "      <td>4.646098</td>\n",
              "      <td>0.051586</td>\n",
              "      <td>62.283594</td>\n",
              "      <td>8.369105</td>\n",
              "      <td>1706.511093</td>\n",
              "    </tr>\n",
              "    <tr>\n",
              "      <th>min</th>\n",
              "      <td>4.555000</td>\n",
              "      <td>0.000000</td>\n",
              "      <td>31.290000</td>\n",
              "      <td>1985.000000</td>\n",
              "      <td>33.290000</td>\n",
              "    </tr>\n",
              "    <tr>\n",
              "      <th>25%</th>\n",
              "      <td>8.785000</td>\n",
              "      <td>0.026983</td>\n",
              "      <td>93.844900</td>\n",
              "      <td>1987.000000</td>\n",
              "      <td>834.247400</td>\n",
              "    </tr>\n",
              "    <tr>\n",
              "      <th>50%</th>\n",
              "      <td>12.650000</td>\n",
              "      <td>0.053925</td>\n",
              "      <td>143.047000</td>\n",
              "      <td>1999.000000</td>\n",
              "      <td>1794.331000</td>\n",
              "    </tr>\n",
              "    <tr>\n",
              "      <th>75%</th>\n",
              "      <td>16.850000</td>\n",
              "      <td>0.094558</td>\n",
              "      <td>185.676600</td>\n",
              "      <td>2004.000000</td>\n",
              "      <td>3100.630600</td>\n",
              "    </tr>\n",
              "    <tr>\n",
              "      <th>max</th>\n",
              "      <td>21.350000</td>\n",
              "      <td>0.328391</td>\n",
              "      <td>266.888400</td>\n",
              "      <td>2009.000000</td>\n",
              "      <td>13086.964800</td>\n",
              "    </tr>\n",
              "  </tbody>\n",
              "</table>\n",
              "</div>\n",
              "    <div class=\"colab-df-buttons\">\n",
              "\n",
              "  <div class=\"colab-df-container\">\n",
              "    <button class=\"colab-df-convert\" onclick=\"convertToInteractive('df-8512542f-396f-4d84-ba02-7580d0624ad9')\"\n",
              "            title=\"Convert this dataframe to an interactive table.\"\n",
              "            style=\"display:none;\">\n",
              "\n",
              "  <svg xmlns=\"http://www.w3.org/2000/svg\" height=\"24px\" viewBox=\"0 -960 960 960\">\n",
              "    <path d=\"M120-120v-720h720v720H120Zm60-500h600v-160H180v160Zm220 220h160v-160H400v160Zm0 220h160v-160H400v160ZM180-400h160v-160H180v160Zm440 0h160v-160H620v160ZM180-180h160v-160H180v160Zm440 0h160v-160H620v160Z\"/>\n",
              "  </svg>\n",
              "    </button>\n",
              "\n",
              "  <style>\n",
              "    .colab-df-container {\n",
              "      display:flex;\n",
              "      gap: 12px;\n",
              "    }\n",
              "\n",
              "    .colab-df-convert {\n",
              "      background-color: #E8F0FE;\n",
              "      border: none;\n",
              "      border-radius: 50%;\n",
              "      cursor: pointer;\n",
              "      display: none;\n",
              "      fill: #1967D2;\n",
              "      height: 32px;\n",
              "      padding: 0 0 0 0;\n",
              "      width: 32px;\n",
              "    }\n",
              "\n",
              "    .colab-df-convert:hover {\n",
              "      background-color: #E2EBFA;\n",
              "      box-shadow: 0px 1px 2px rgba(60, 64, 67, 0.3), 0px 1px 3px 1px rgba(60, 64, 67, 0.15);\n",
              "      fill: #174EA6;\n",
              "    }\n",
              "\n",
              "    .colab-df-buttons div {\n",
              "      margin-bottom: 4px;\n",
              "    }\n",
              "\n",
              "    [theme=dark] .colab-df-convert {\n",
              "      background-color: #3B4455;\n",
              "      fill: #D2E3FC;\n",
              "    }\n",
              "\n",
              "    [theme=dark] .colab-df-convert:hover {\n",
              "      background-color: #434B5C;\n",
              "      box-shadow: 0px 1px 3px 1px rgba(0, 0, 0, 0.15);\n",
              "      filter: drop-shadow(0px 1px 2px rgba(0, 0, 0, 0.3));\n",
              "      fill: #FFFFFF;\n",
              "    }\n",
              "  </style>\n",
              "\n",
              "    <script>\n",
              "      const buttonEl =\n",
              "        document.querySelector('#df-8512542f-396f-4d84-ba02-7580d0624ad9 button.colab-df-convert');\n",
              "      buttonEl.style.display =\n",
              "        google.colab.kernel.accessAllowed ? 'block' : 'none';\n",
              "\n",
              "      async function convertToInteractive(key) {\n",
              "        const element = document.querySelector('#df-8512542f-396f-4d84-ba02-7580d0624ad9');\n",
              "        const dataTable =\n",
              "          await google.colab.kernel.invokeFunction('convertToInteractive',\n",
              "                                                    [key], {});\n",
              "        if (!dataTable) return;\n",
              "\n",
              "        const docLinkHtml = 'Like what you see? Visit the ' +\n",
              "          '<a target=\"_blank\" href=https://colab.research.google.com/notebooks/data_table.ipynb>data table notebook</a>'\n",
              "          + ' to learn more about interactive tables.';\n",
              "        element.innerHTML = '';\n",
              "        dataTable['output_type'] = 'display_data';\n",
              "        await google.colab.output.renderOutput(dataTable, element);\n",
              "        const docLink = document.createElement('div');\n",
              "        docLink.innerHTML = docLinkHtml;\n",
              "        element.appendChild(docLink);\n",
              "      }\n",
              "    </script>\n",
              "  </div>\n",
              "\n",
              "\n",
              "<div id=\"df-d68148c0-2b35-46d7-941c-add82e8777d7\">\n",
              "  <button class=\"colab-df-quickchart\" onclick=\"quickchart('df-d68148c0-2b35-46d7-941c-add82e8777d7')\"\n",
              "            title=\"Suggest charts\"\n",
              "            style=\"display:none;\">\n",
              "\n",
              "<svg xmlns=\"http://www.w3.org/2000/svg\" height=\"24px\"viewBox=\"0 0 24 24\"\n",
              "     width=\"24px\">\n",
              "    <g>\n",
              "        <path d=\"M19 3H5c-1.1 0-2 .9-2 2v14c0 1.1.9 2 2 2h14c1.1 0 2-.9 2-2V5c0-1.1-.9-2-2-2zM9 17H7v-7h2v7zm4 0h-2V7h2v10zm4 0h-2v-4h2v4z\"/>\n",
              "    </g>\n",
              "</svg>\n",
              "  </button>\n",
              "\n",
              "<style>\n",
              "  .colab-df-quickchart {\n",
              "      --bg-color: #E8F0FE;\n",
              "      --fill-color: #1967D2;\n",
              "      --hover-bg-color: #E2EBFA;\n",
              "      --hover-fill-color: #174EA6;\n",
              "      --disabled-fill-color: #AAA;\n",
              "      --disabled-bg-color: #DDD;\n",
              "  }\n",
              "\n",
              "  [theme=dark] .colab-df-quickchart {\n",
              "      --bg-color: #3B4455;\n",
              "      --fill-color: #D2E3FC;\n",
              "      --hover-bg-color: #434B5C;\n",
              "      --hover-fill-color: #FFFFFF;\n",
              "      --disabled-bg-color: #3B4455;\n",
              "      --disabled-fill-color: #666;\n",
              "  }\n",
              "\n",
              "  .colab-df-quickchart {\n",
              "    background-color: var(--bg-color);\n",
              "    border: none;\n",
              "    border-radius: 50%;\n",
              "    cursor: pointer;\n",
              "    display: none;\n",
              "    fill: var(--fill-color);\n",
              "    height: 32px;\n",
              "    padding: 0;\n",
              "    width: 32px;\n",
              "  }\n",
              "\n",
              "  .colab-df-quickchart:hover {\n",
              "    background-color: var(--hover-bg-color);\n",
              "    box-shadow: 0 1px 2px rgba(60, 64, 67, 0.3), 0 1px 3px 1px rgba(60, 64, 67, 0.15);\n",
              "    fill: var(--button-hover-fill-color);\n",
              "  }\n",
              "\n",
              "  .colab-df-quickchart-complete:disabled,\n",
              "  .colab-df-quickchart-complete:disabled:hover {\n",
              "    background-color: var(--disabled-bg-color);\n",
              "    fill: var(--disabled-fill-color);\n",
              "    box-shadow: none;\n",
              "  }\n",
              "\n",
              "  .colab-df-spinner {\n",
              "    border: 2px solid var(--fill-color);\n",
              "    border-color: transparent;\n",
              "    border-bottom-color: var(--fill-color);\n",
              "    animation:\n",
              "      spin 1s steps(1) infinite;\n",
              "  }\n",
              "\n",
              "  @keyframes spin {\n",
              "    0% {\n",
              "      border-color: transparent;\n",
              "      border-bottom-color: var(--fill-color);\n",
              "      border-left-color: var(--fill-color);\n",
              "    }\n",
              "    20% {\n",
              "      border-color: transparent;\n",
              "      border-left-color: var(--fill-color);\n",
              "      border-top-color: var(--fill-color);\n",
              "    }\n",
              "    30% {\n",
              "      border-color: transparent;\n",
              "      border-left-color: var(--fill-color);\n",
              "      border-top-color: var(--fill-color);\n",
              "      border-right-color: var(--fill-color);\n",
              "    }\n",
              "    40% {\n",
              "      border-color: transparent;\n",
              "      border-right-color: var(--fill-color);\n",
              "      border-top-color: var(--fill-color);\n",
              "    }\n",
              "    60% {\n",
              "      border-color: transparent;\n",
              "      border-right-color: var(--fill-color);\n",
              "    }\n",
              "    80% {\n",
              "      border-color: transparent;\n",
              "      border-right-color: var(--fill-color);\n",
              "      border-bottom-color: var(--fill-color);\n",
              "    }\n",
              "    90% {\n",
              "      border-color: transparent;\n",
              "      border-bottom-color: var(--fill-color);\n",
              "    }\n",
              "  }\n",
              "</style>\n",
              "\n",
              "  <script>\n",
              "    async function quickchart(key) {\n",
              "      const quickchartButtonEl =\n",
              "        document.querySelector('#' + key + ' button');\n",
              "      quickchartButtonEl.disabled = true;  // To prevent multiple clicks.\n",
              "      quickchartButtonEl.classList.add('colab-df-spinner');\n",
              "      try {\n",
              "        const charts = await google.colab.kernel.invokeFunction(\n",
              "            'suggestCharts', [key], {});\n",
              "      } catch (error) {\n",
              "        console.error('Error during call to suggestCharts:', error);\n",
              "      }\n",
              "      quickchartButtonEl.classList.remove('colab-df-spinner');\n",
              "      quickchartButtonEl.classList.add('colab-df-quickchart-complete');\n",
              "    }\n",
              "    (() => {\n",
              "      let quickchartButtonEl =\n",
              "        document.querySelector('#df-d68148c0-2b35-46d7-941c-add82e8777d7 button');\n",
              "      quickchartButtonEl.style.display =\n",
              "        google.colab.kernel.accessAllowed ? 'block' : 'none';\n",
              "    })();\n",
              "  </script>\n",
              "</div>\n",
              "\n",
              "    </div>\n",
              "  </div>\n"
            ],
            "application/vnd.google.colaboratory.intrinsic+json": {
              "type": "dataframe",
              "summary": "{\n  \"name\": \"df2\",\n  \"rows\": 8,\n  \"fields\": [\n    {\n      \"column\": \"Item_Weight\",\n      \"properties\": {\n        \"dtype\": \"number\",\n        \"std\": 3007.7997707408636,\n        \"min\": 4.555,\n        \"max\": 8519.0,\n        \"num_unique_values\": 8,\n        \"samples\": [\n          12.875420237117032,\n          12.65,\n          8519.0\n        ],\n        \"semantic_type\": \"\",\n        \"description\": \"\"\n      }\n    },\n    {\n      \"column\": \"Item_Visibility\",\n      \"properties\": {\n        \"dtype\": \"number\",\n        \"std\": 3011.8899429071244,\n        \"min\": 0.0,\n        \"max\": 8519.0,\n        \"num_unique_values\": 8,\n        \"samples\": [\n          0.06611236082486209,\n          0.053924587,\n          8519.0\n        ],\n        \"semantic_type\": \"\",\n        \"description\": \"\"\n      }\n    },\n    {\n      \"column\": \"Item_MRP\",\n      \"properties\": {\n        \"dtype\": \"number\",\n        \"std\": 2966.1591541750736,\n        \"min\": 31.29,\n        \"max\": 8519.0,\n        \"num_unique_values\": 8,\n        \"samples\": [\n          141.0100194623782,\n          143.047,\n          8519.0\n        ],\n        \"semantic_type\": \"\",\n        \"description\": \"\"\n      }\n    },\n    {\n      \"column\": \"Outlet_Establishment_Year\",\n      \"properties\": {\n        \"dtype\": \"number\",\n        \"std\": 2504.9332134459232,\n        \"min\": 8.369105468132409,\n        \"max\": 8519.0,\n        \"num_unique_values\": 8,\n        \"samples\": [\n          1997.8378917713346,\n          1999.0,\n          8519.0\n        ],\n        \"semantic_type\": \"\",\n        \"description\": \"\"\n      }\n    },\n    {\n      \"column\": \"Item_Outlet_Sales\",\n      \"properties\": {\n        \"dtype\": \"number\",\n        \"std\": 4518.595122092337,\n        \"min\": 33.29,\n        \"max\": 13086.9648,\n        \"num_unique_values\": 8,\n        \"samples\": [\n          2181.188779387252,\n          1794.331,\n          8519.0\n        ],\n        \"semantic_type\": \"\",\n        \"description\": \"\"\n      }\n    }\n  ]\n}"
            }
          },
          "metadata": {},
          "execution_count": 19
        }
      ]
    },
    {
      "cell_type": "markdown",
      "source": [
        "Distribución de categorías"
      ],
      "metadata": {
        "id": "q37hYrdqFAbS"
      }
    },
    {
      "cell_type": "code",
      "source": [
        "df2[\"Item_Fat_Content\"].value_counts()"
      ],
      "metadata": {
        "colab": {
          "base_uri": "https://localhost:8080/"
        },
        "id": "ppsCg4BoFDls",
        "outputId": "aa6f473d-5d54-4f1e-f117-f4f2a4803592"
      },
      "execution_count": 20,
      "outputs": [
        {
          "output_type": "execute_result",
          "data": {
            "text/plain": [
              "Low Fat    5516\n",
              "Regular    3003\n",
              "Name: Item_Fat_Content, dtype: int64"
            ]
          },
          "metadata": {},
          "execution_count": 20
        }
      ]
    },
    {
      "cell_type": "code",
      "source": [
        "df2[\"Item_Type\"].value_counts()"
      ],
      "metadata": {
        "colab": {
          "base_uri": "https://localhost:8080/"
        },
        "id": "Iwx0HrcpFUwo",
        "outputId": "1f75247a-367d-4c6d-b444-fb1a99e543e3"
      },
      "execution_count": 21,
      "outputs": [
        {
          "output_type": "execute_result",
          "data": {
            "text/plain": [
              "Fruits and Vegetables    1232\n",
              "Snack Foods              1199\n",
              "Household                 910\n",
              "Frozen Foods              855\n",
              "Dairy                     681\n",
              "Canned                    649\n",
              "Baking Goods              647\n",
              "Health and Hygiene        520\n",
              "Soft Drinks               445\n",
              "Meat                      425\n",
              "Breads                    251\n",
              "Hard Drinks               214\n",
              "Others                    169\n",
              "Starchy Foods             148\n",
              "Breakfast                 110\n",
              "Seafood                    64\n",
              "Name: Item_Type, dtype: int64"
            ]
          },
          "metadata": {},
          "execution_count": 21
        }
      ]
    },
    {
      "cell_type": "code",
      "source": [
        "df2[\"Outlet_Size\"].value_counts()"
      ],
      "metadata": {
        "colab": {
          "base_uri": "https://localhost:8080/"
        },
        "id": "RY9R_R6pFb08",
        "outputId": "81956b9e-a8b9-4fe9-e1ce-3c8fac5384dc"
      },
      "execution_count": 22,
      "outputs": [
        {
          "output_type": "execute_result",
          "data": {
            "text/plain": [
              "Small     4797\n",
              "Medium    2790\n",
              "High       932\n",
              "Name: Outlet_Size, dtype: int64"
            ]
          },
          "metadata": {},
          "execution_count": 22
        }
      ]
    },
    {
      "cell_type": "markdown",
      "source": [
        "Frecuencia de establecimiento de tiendas en diferentes años"
      ],
      "metadata": {
        "id": "i_RmnQLCFpFN"
      }
    },
    {
      "cell_type": "code",
      "source": [
        "df2[\"Outlet_Establishment_Year\"].value_counts()"
      ],
      "metadata": {
        "colab": {
          "base_uri": "https://localhost:8080/"
        },
        "id": "mpjjyN_5FxYE",
        "outputId": "05904a3d-5634-4674-d4a2-9f3fef880f84"
      },
      "execution_count": 23,
      "outputs": [
        {
          "output_type": "execute_result",
          "data": {
            "text/plain": [
              "1985    1459\n",
              "1987     932\n",
              "1999     930\n",
              "1997     930\n",
              "2004     930\n",
              "2002     929\n",
              "2009     928\n",
              "2007     926\n",
              "1998     555\n",
              "Name: Outlet_Establishment_Year, dtype: int64"
            ]
          },
          "metadata": {},
          "execution_count": 23
        }
      ]
    }
  ]
}